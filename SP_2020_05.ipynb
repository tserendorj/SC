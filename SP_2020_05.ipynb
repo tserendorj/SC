{
 "cells": [
  {
   "cell_type": "markdown",
   "metadata": {},
   "source": [
    "# DNDS6013 Scientific Python: 5th Class\n",
    "## Central European University, Winter 2019/2020\n",
    "\n",
    "Instructor: Márton Pósfai, TA: Luis Natera Orozco\n",
    "\n",
    "Emails: posfaim@ceu.edu, natera_luis@phd.ceu.edu\n",
    "\n"
   ]
  },
  {
   "cell_type": "markdown",
   "metadata": {},
   "source": [
    "## Today's plan\n",
    "* Numpy\n",
    "* Plotting with matplotlib\n",
    "\n",
    "#### Reminders\n",
    "\n",
    "Don't forget about our [slack channel](http://sp2020winter.slack.com).\n",
    "\n",
    "Solutions cannot be hidden:\n",
    "\n",
    "<details><summary><u>Solution.</u></summary>\n",
    "<p>\n",
    "    \n",
    "```python\n",
    "    print('please, hide me!')\n",
    "```\n",
    "    \n",
    "</p>\n",
    "</details>\n",
    "\n",
    "Problem: Microsoft's web browser does not support the html tag.<br>\n",
    "Solution: Set default browser to Firefox"
   ]
  },
  {
   "cell_type": "markdown",
   "metadata": {},
   "source": [
    "## Recap -- Dictionaries"
   ]
  },
  {
   "cell_type": "markdown",
   "metadata": {},
   "source": [
    "Dictionaries are similar to lists, except that each element is a key-value pair. The syntax for dictionaries is `{key1 : value1, key2 : value2, ...}`:"
   ]
  },
  {
   "cell_type": "code",
   "execution_count": null,
   "metadata": {},
   "outputs": [],
   "source": [
    "fruits = {\"bananas\" : 1,\n",
    "          \"oranges\" : 2,\n",
    "          \"apples\" : 3}\n",
    "\n",
    "#access element\n",
    "print(fruits['bananas'])"
   ]
  },
  {
   "cell_type": "code",
   "execution_count": null,
   "metadata": {},
   "outputs": [],
   "source": [
    "# change value\n",
    "fruits[\"bananas\"] = \"no bananas\"\n",
    "fruits[\"oranges\"] = 100\n",
    "\n",
    "# add a new entry\n",
    "fruits[\"pineapples\"] = \"D\"\n",
    "\n",
    "# iterate through keys\n",
    "for key in fruits:\n",
    "    print(key, \"=\", fruits[key])"
   ]
  },
  {
   "cell_type": "markdown",
   "metadata": {},
   "source": [
    "Iterate through values"
   ]
  },
  {
   "cell_type": "code",
   "execution_count": null,
   "metadata": {},
   "outputs": [],
   "source": [
    "for value in fruits.values():\n",
    "    print(value)"
   ]
  },
  {
   "cell_type": "markdown",
   "metadata": {},
   "source": [
    "Check if key exists"
   ]
  },
  {
   "cell_type": "code",
   "execution_count": null,
   "metadata": {},
   "outputs": [],
   "source": [
    "if 'bananas' in fruits: print(fruits['bananas']) ## Yes, you can also write an if in this way \n",
    "\n",
    "if 'strawberries' in fruits: print (fruits['strawberries']) ## and an if-else in this way \n",
    "else: print(\"I don\\'t know what a strawberry is\")\n",
    "    \n",
    "#or use get() method\n",
    "print(fruits.get('bananas'))\n",
    "print(fruits.get('strawberries'))"
   ]
  },
  {
   "cell_type": "markdown",
   "metadata": {},
   "source": [
    "Dictionary comprehensions:"
   ]
  },
  {
   "cell_type": "code",
   "execution_count": null,
   "metadata": {},
   "outputs": [],
   "source": [
    "{k:k**2. for k in range(2,10,2)}"
   ]
  },
  {
   "cell_type": "markdown",
   "metadata": {},
   "source": [
    "### Exercise -- dictionary\n",
    "\n",
    "Create a dictionary that has the name of guests as keys and the length of their name as values.\n",
    "\n",
    "<details><summary><u>Hint.</u></summary>\n",
    "<p>\n",
    "    \n",
    "Use `len(str)` to get the length of a string.\n",
    "    \n",
    "</p>\n",
    "</details>\n"
   ]
  },
  {
   "cell_type": "code",
   "execution_count": null,
   "metadata": {},
   "outputs": [],
   "source": [
    "guests = [\"Kate\",\"Peter\", \"Adam\", \"Jenny\", \"Zack\", \"Eva\"]\n"
   ]
  },
  {
   "cell_type": "markdown",
   "metadata": {},
   "source": [
    "<details><summary><u>Solution.</u></summary>\n",
    "<p>\n",
    "    \n",
    "```python\n",
    "#solution with populating empty dictionary\n",
    "D = {}\n",
    "for g in guests:\n",
    "    D[g] = len(g)\n",
    "\n",
    "#solution with dictionary comprehension\n",
    "D = {g:len(g) for g in guests}\n",
    "```\n",
    "    \n",
    "</p>\n",
    "</details>"
   ]
  },
  {
   "cell_type": "markdown",
   "metadata": {},
   "source": [
    "## NumPy\n",
    "\n",
    "From numpy's documentation:\n",
    "\n",
    "NumPy is the fundamental package for scientific computing with Python. It contains among other things:\n",
    "\n",
    " * a powerful N-dimensional array object\n",
    " * sophisticated (broadcasting) functions\n",
    " * tools for integrating C/C++ and Fortran code\n",
    " * useful linear algebra, Fourier transform, and random number capabilities\n",
    "\n",
    "Besides its obvious scientific uses, NumPy can also be used as an efficient multi-dimensional container of generic data. Arbitrary data-types can be defined. This allows NumPy to seamlessly and speedily integrate with a wide variety of databases.\n"
   ]
  },
  {
   "cell_type": "markdown",
   "metadata": {},
   "source": [
    "The central object of numpy is the N-dimensional array:"
   ]
  },
  {
   "cell_type": "code",
   "execution_count": null,
   "metadata": {},
   "outputs": [],
   "source": [
    "import numpy as np\n",
    "\n",
    "a = np.arange(10)\n",
    "print(a)\n",
    "print(type(a))"
   ]
  },
  {
   "cell_type": "code",
   "execution_count": null,
   "metadata": {},
   "outputs": [],
   "source": [
    "b = [1,2,3]\n",
    "print(type(b),b,b[0])\n",
    "a = np.array(b)\n",
    "print(type(a),a,a[0])"
   ]
  },
  {
   "cell_type": "markdown",
   "metadata": {},
   "source": [
    "### Shape and dimension"
   ]
  },
  {
   "cell_type": "code",
   "execution_count": null,
   "metadata": {},
   "outputs": [],
   "source": [
    "a = np.array([1,2,3,4,5,6])\n",
    "b = np.array([[1,2,3],[4,5,6]])\n",
    "print(np.ndim(a),np.ndim(b))\n",
    "print(a.shape, b.shape)\n",
    "c = a.reshape(2,3)\n",
    "print(c)\n",
    "print(np.ndim(c), c.shape)"
   ]
  },
  {
   "cell_type": "code",
   "execution_count": null,
   "metadata": {
    "scrolled": true
   },
   "outputs": [],
   "source": [
    "# The shape of arrays can change, but the total number of items cannot!\n",
    "\n",
    "print(a.reshape(3, 2))\n",
    "print(a.reshape(2,1,3))\n",
    "print(a.reshape(2, 4))"
   ]
  },
  {
   "cell_type": "markdown",
   "metadata": {},
   "source": [
    "### Data type"
   ]
  },
  {
   "cell_type": "code",
   "execution_count": null,
   "metadata": {},
   "outputs": [],
   "source": [
    "a = np.zeros((2,3),dtype=int)\n",
    "a[1,2]=3.7\n",
    "b = np.zeros((2,3),dtype=float)\n",
    "b[1,2]=3.7\n",
    "print(\"a =\",a)\n",
    "print(\"b =\",b)"
   ]
  },
  {
   "cell_type": "markdown",
   "metadata": {},
   "source": [
    "### Arrays are mutable"
   ]
  },
  {
   "cell_type": "code",
   "execution_count": null,
   "metadata": {
    "scrolled": true
   },
   "outputs": [],
   "source": [
    "a = np.ones(5)\n",
    "c = a\n",
    "c[0] = 9 #changing c changes a, just like in the case of lists\n",
    "print(\"a=\", a)\n",
    "print()\n",
    "\n",
    "d = np.copy(a) #makes a new copy of the array in the memory \n",
    "d[0] = 0 #changing d does not change a\n",
    "print(\"a=\",a,\"\\nd=\",d)\n",
    "print()\n",
    "\n",
    "# array operations create new arrays\n",
    "e = 2*a\n",
    "e[0] = 10\n",
    "print(\"a=\",a,\"\\ne=\",e)\n"
   ]
  },
  {
   "cell_type": "markdown",
   "metadata": {},
   "source": [
    "Sidenote:\n",
    "   * Slicing a list makes a new copy\n",
    "   * Slicing a numpy array makes a new view "
   ]
  },
  {
   "cell_type": "code",
   "execution_count": null,
   "metadata": {},
   "outputs": [],
   "source": [
    "#lists (remeber the quiz question from two weeks ago?)\n",
    "L  = [1,2,3]\n",
    "L2 = L[:]\n",
    "L2[0]=12\n",
    "print(\"L=\",L,\"  L2=\",L2)\n",
    "\n",
    "#np arrays\n",
    "A = np.array([1,2,3])\n",
    "A2= A[:]\n",
    "A2[0]=12\n",
    "print(\"A=\",A,\" A2=\",A2)\n"
   ]
  },
  {
   "cell_type": "markdown",
   "metadata": {},
   "source": [
    "### Broadcasting: array operations if two arrays have different shape?"
   ]
  },
  {
   "cell_type": "code",
   "execution_count": null,
   "metadata": {},
   "outputs": [],
   "source": [
    "a = np.ones((3,3))\n",
    "b = np.array([1.,0.,1.])\n",
    "print(\"a=\",a,a.shape,\"b=\", b, b.shape)\n",
    "print(\"2 * a =\\n\", 2 * a)\n",
    "print(\"a + 1 =\\n\", a + 1)\n",
    "print(\"a + b =\\n\", a + b)"
   ]
  },
  {
   "cell_type": "markdown",
   "metadata": {},
   "source": [
    "### Exercise -- broadcasting\n",
    "Play around with the previous example by changing the size of the arrays to see what is allowed"
   ]
  },
  {
   "cell_type": "code",
   "execution_count": null,
   "metadata": {},
   "outputs": [],
   "source": [
    "a = np.ones((3,3))\n",
    "b = np.array([1.,0.,1.])\n"
   ]
  },
  {
   "cell_type": "markdown",
   "metadata": {},
   "source": [
    "<details><summary><u>Possible things to try</u></summary>\n",
    "<p>\n",
    "    \n",
    "```python\n",
    "c = b.reshape(3,1)\n",
    "print(c)\n",
    "print(a+c)\n",
    "\n",
    "d = np.ones((2,2))\n",
    "print(a+d)\n",
    "```\n",
    "\n",
    "Rule: two dimensions are compatible if\n",
    "* they are equal\n",
    "* or one of them is 1\n",
    "  \n",
    "</p>\n",
    "</details>"
   ]
  },
  {
   "cell_type": "code",
   "execution_count": null,
   "metadata": {},
   "outputs": [],
   "source": [
    "a = np.arange(9).reshape((3,3))\n",
    "\n",
    "print(a)\n",
    "print(a.transpose())\n",
    "print(\"a * a=\", a * a)            # element-wise; not a dot product!\n",
    "print(\"a.dot(a) = \", a.dot(a))    # dot product\n",
    "print(\"a @ a\", a @ a)             # dot product (since Python 3)"
   ]
  },
  {
   "cell_type": "code",
   "execution_count": null,
   "metadata": {
    "scrolled": true
   },
   "outputs": [],
   "source": [
    "a = np.arange(9).reshape((3,3))\n",
    "print(\"a =\", a)\n",
    "print(\"sin =\", np.sin(a))\n",
    "print(\"x**3 =\", np.power(a,3))\n",
    "print(\"sum =\", np.sum(a))\n",
    "print(\"mean =\", np.mean(a))\n",
    "print(\"std =\", np.std(a))\n",
    "print(\"size =\", np.size(a))\n",
    "print(\"min =\", np.min(a))"
   ]
  },
  {
   "cell_type": "markdown",
   "metadata": {},
   "source": [
    "\n",
    "### Loops and array operations (important!)\n",
    "\n",
    "Array operations off-load Python loops to compiled C code, leading to large performance improvements.\n",
    "\n",
    "Consider:\n"
   ]
  },
  {
   "cell_type": "code",
   "execution_count": null,
   "metadata": {},
   "outputs": [],
   "source": [
    "import timeit\n",
    "import math\n",
    "\n",
    "x = np.arange(1000000)\n",
    "\n",
    "def f(x):\n",
    "    y = np.zeros(x.shape)\n",
    "    for i in range(len(x)):\n",
    "        y[i] = math.cos(x[i]) + x[i] ** 2\n",
    "    return y\n",
    "\n",
    "print(f(x))\n",
    "print(np.cos(x) + x ** 2)  # array expression  \n",
    "\n",
    "print(timeit.timeit(\"f(x)\", number=1, globals=globals()))\n",
    "print(timeit.timeit(\"np.cos(x) + x ** 2\", number=1, globals=globals()))"
   ]
  },
  {
   "cell_type": "markdown",
   "metadata": {},
   "source": [
    "### Exercise -- array operations\n",
    "\n",
    "Write a function using numpy arrays and without `for` loops that does the same calculation as the `f(n)` defined below.\n",
    "\n",
    "Bonus: compare their runtime.\n",
    "\n",
    "<details><summary><u>Hint.</u></summary>\n",
    "<p>\n",
    "    \n",
    "Use `np.arange()` and `np.sum()` functions.\n",
    "    \n",
    "</p>\n",
    "</details>"
   ]
  },
  {
   "cell_type": "code",
   "execution_count": null,
   "metadata": {},
   "outputs": [],
   "source": [
    "import timeit\n",
    "import math\n",
    "\n",
    "def f(n):\n",
    "    x = 0.0\n",
    "    for k in range(1,n):\n",
    "        x += math.log(k)\n",
    "    print(x)\n",
    "    return"
   ]
  },
  {
   "cell_type": "markdown",
   "metadata": {},
   "source": [
    "<details><summary><u>Solution.</u></summary>\n",
    "<p>\n",
    "    \n",
    "```python\n",
    "def g(n):\n",
    "    a = np.arange(1,n)\n",
    "    x = np.sum(np.log(a))\n",
    "    print(x)\n",
    "    return\n",
    "\n",
    "print(\"runtime without numpy=\", timeit.timeit(\"f(10000000)\", number=1,globals=globals()))\n",
    "print(\"runtime with    numpy=\", timeit.timeit(\"g(10000000)\", number=1,globals=globals()))\n",
    "```\n",
    "    \n",
    "</p>\n",
    "</details>"
   ]
  },
  {
   "cell_type": "markdown",
   "metadata": {},
   "source": [
    "### Exercise -- array operations\n",
    "\n",
    "Average city distance from Budapest?\n",
    "\n",
    "This requires some setup from last week. Read the file in a list again:"
   ]
  },
  {
   "cell_type": "code",
   "execution_count": null,
   "metadata": {},
   "outputs": [],
   "source": [
    "cities = []\n",
    "with open(\"Hun_cities.csv\",\"r\",encoding=\"utf-8\") as f:\n",
    "    for line in f:\n",
    "        cities.append(line.rstrip().split(','))\n",
    "\n",
    "#put latitude and longitude in separate lists\n",
    "lat = []\n",
    "long = []\n",
    "for c in cities[1:]:\n",
    "    lat.append(float(c[5]))\n",
    "    long.append(float(c[6]))\n",
    "print(cities[1])\n",
    "print(lat[0],long[0])"
   ]
  },
  {
   "cell_type": "code",
   "execution_count": null,
   "metadata": {},
   "outputs": [],
   "source": [
    "#haversine formula\n",
    "import math\n",
    "def latlongdist(lat1,long1,lat2,long2):\n",
    "    rlat1 = math.radians(lat1)\n",
    "    rlat2 = math.radians(lat2)\n",
    "    rlong1 = math.radians(long1)\n",
    "    rlong2 = math.radians(long2)\n",
    "    dlat = rlat2 - rlat1\n",
    "    dlong = rlong2 - rlong1\n",
    "    a = math.sin(dlat / 2)**2 + math.cos(rlat1) * math.cos(rlat2) * math.sin(dlong / 2)**2\n",
    "    c = 2 * math.atan2(math.sqrt(a), math.sqrt(1 - a))\n",
    "    return 6371.0 * c"
   ]
  },
  {
   "cell_type": "markdown",
   "metadata": {},
   "source": [
    "Average distance of towns from Budapest?\n",
    "\n",
    "The old way of doing this:"
   ]
  },
  {
   "cell_type": "code",
   "execution_count": null,
   "metadata": {},
   "outputs": [],
   "source": [
    "dists_from_bp = [latlongdist(lat[0],long[0],lat[i],long[i]) for i in range(1,len(lat))]\n",
    "old_avgdist = sum(dists_from_bp)/(len(dists_from_bp))\n",
    "print(old_avgdist)"
   ]
  },
  {
   "cell_type": "markdown",
   "metadata": {},
   "source": [
    "Now calculate the average distance using numpy arrays!\n",
    "\n",
    "To get you stared:"
   ]
  },
  {
   "cell_type": "code",
   "execution_count": null,
   "metadata": {},
   "outputs": [],
   "source": [
    "def np_latlongdist(lat1,long1,lat2,long2):\n",
    "    rlat1 = np.radians(lat1)\n",
    "    rlat2 = np.radians(lat2)\n",
    "    rlong1 = np.radians(long1)\n",
    "    rlong2 = np.radians(long2)\n",
    "    dlat = rlat2 - rlat1\n",
    "    dlong = rlong2 - rlong1\n",
    "    a = np.sin(dlat / 2)**2 + np.cos(rlat1) * np.cos(rlat2) * np.sin(dlong / 2)**2\n",
    "    c = 2 * np.arctan2(np.sqrt(a), np.sqrt(1 - a))\n",
    "    return 6371.0 * c\n",
    "\n",
    "np_lat = np.array(lat)\n",
    "np_long  = np.array(long)"
   ]
  },
  {
   "cell_type": "markdown",
   "metadata": {},
   "source": [
    "<details><summary><u>Hint.</u></summary>\n",
    "<p>\n",
    "    \n",
    "When calling the `np_latlongdist(lat1,long1,lat2,long2)` function `lat1` and `long1` should be the coordinates of Budapest; `lat2` and `long2` should be an array of the coordinates of the rest of the cities. This returns an array containing the distances from Budapest.\n",
    "    \n",
    "</p>\n",
    "</details>"
   ]
  },
  {
   "cell_type": "code",
   "execution_count": null,
   "metadata": {},
   "outputs": [],
   "source": []
  },
  {
   "cell_type": "markdown",
   "metadata": {},
   "source": [
    "<details><summary><u>Solution.</u></summary>\n",
    "<p>\n",
    "    \n",
    "```python\n",
    "avgdist = np.mean(np_latlongdist(np_lat[0],np_long[0],np_lat[1:],np_long[1:]))\n",
    "print(avgdist)\n",
    "\n",
    "```\n",
    "    \n",
    "</p>\n",
    "</details>"
   ]
  },
  {
   "cell_type": "markdown",
   "metadata": {},
   "source": [
    "Let's measure their runtime again!"
   ]
  },
  {
   "cell_type": "code",
   "execution_count": null,
   "metadata": {},
   "outputs": [],
   "source": [
    "%timeit sum([latlongdist(lat[0],long[0],lat[i],long[i]) for i in range(1,len(lat))])/(len(lat)-1)"
   ]
  },
  {
   "cell_type": "code",
   "execution_count": null,
   "metadata": {},
   "outputs": [],
   "source": [
    "%timeit np.mean(np_latlongdist(np_lat[0],np_long[0],np_lat[1:],np_long[1:]))"
   ]
  },
  {
   "cell_type": "markdown",
   "metadata": {},
   "source": [
    "### (Pseudo-)Random numbers\n",
    "\n",
    "Pseudo-random number generators (PRNG) are deterministic sequences of numbers, that behave very closely to random numbers.\n",
    "\n",
    "* seed: PRNG with the same seed map to exactly same sequence\n",
    "* np.random.random -> uniform random number from 0 to 1"
   ]
  },
  {
   "cell_type": "code",
   "execution_count": null,
   "metadata": {},
   "outputs": [],
   "source": [
    "np.random.seed(42)\n",
    "a = np.random.random()\n",
    "print(a)"
   ]
  },
  {
   "cell_type": "code",
   "execution_count": null,
   "metadata": {},
   "outputs": [],
   "source": [
    "a = np.random.random()\n",
    "print(a)"
   ]
  },
  {
   "cell_type": "code",
   "execution_count": null,
   "metadata": {},
   "outputs": [],
   "source": [
    "a = np.random.random(10)\n",
    "print(a)\n",
    "b = np.random.random((3,3))\n",
    "print(b)"
   ]
  },
  {
   "cell_type": "markdown",
   "metadata": {},
   "source": [
    "### Flip a coin with probability p"
   ]
  },
  {
   "cell_type": "code",
   "execution_count": null,
   "metadata": {},
   "outputs": [],
   "source": [
    "N = 10\n",
    "p = 0.2\n",
    "a = np.random.random(N)\n",
    "for i in range(N):\n",
    "    if a[i] < p:\n",
    "        print(\"Head\")\n",
    "    else:\n",
    "        print(\"Tails\")\n",
    "        \n",
    "# or better:\n",
    "print(a < p)"
   ]
  },
  {
   "cell_type": "markdown",
   "metadata": {},
   "source": [
    "### Other random distributions"
   ]
  },
  {
   "cell_type": "code",
   "execution_count": null,
   "metadata": {},
   "outputs": [],
   "source": [
    "print(np.random.randint(0, 10, size=10))\n",
    "print(np.random.normal(1, 2, size=(2,2)))\n",
    "print(np.random.normal(loc=1, scale=2, size=(2,2)))"
   ]
  },
  {
   "cell_type": "markdown",
   "metadata": {},
   "source": [
    "### Choose values"
   ]
  },
  {
   "cell_type": "code",
   "execution_count": null,
   "metadata": {},
   "outputs": [],
   "source": [
    "print(np.random.choice(5, 10))\n",
    "print(np.random.choice(5, 3, replace=False))\n",
    "print(np.random.choice(5, 10, p=[0.1, 0, 0.3, 0.6, 0]))\n",
    "c = [\"Budapest\", \"Pécs\", \"Debrecen\", \"Miskolc\"]\n",
    "print(np.random.choice(c,1))"
   ]
  },
  {
   "cell_type": "markdown",
   "metadata": {},
   "source": [
    "### Mask out elements: Indexing via boolean arrays"
   ]
  },
  {
   "cell_type": "code",
   "execution_count": null,
   "metadata": {},
   "outputs": [],
   "source": [
    "a = np.random.random(6)\n",
    "mask = np.zeros(6,dtype=bool)\n",
    "mask[0:2] = True\n",
    "print(\"a =\", a)\n",
    "print(\"mask =\", mask)\n",
    "print(\"a[mask] =\", a[mask])\n",
    "print(\"a[a > .3] =\", a[a > .3])\n",
    "a[a > .3] = -1\n",
    "print(a)"
   ]
  },
  {
   "cell_type": "markdown",
   "metadata": {},
   "source": [
    "### Exercise -- masking\n",
    "* Generate a sample `a` of 10 random numbers.\n",
    "* Count the number of elements which are less than 0.5\n",
    "* Replace all elements which are less than 0.5 with new random number\n",
    "\n",
    "<details><summary><u>Hint.</u></summary>\n",
    "<p>\n",
    "    \n",
    "Use <code>a < 0.5</code> as a mask to get the random numbers less than 0.5.\n",
    "    \n",
    "</p>\n",
    "</details>"
   ]
  },
  {
   "cell_type": "code",
   "execution_count": null,
   "metadata": {},
   "outputs": [],
   "source": []
  },
  {
   "cell_type": "markdown",
   "metadata": {},
   "source": [
    "<details><summary><u>Solution.</u></summary>\n",
    "<p>\n",
    "    \n",
    "```python\n",
    "a = np.random.random(6)\n",
    "print(a)\n",
    "print(len(a[a<.5]))\n",
    "a[a<.5] = np.random.random(len(a[a<.5]))\n",
    "print(a)\n",
    "```\n",
    "    \n",
    "</p>\n",
    "</details>"
   ]
  },
  {
   "cell_type": "markdown",
   "metadata": {},
   "source": [
    "### Exercise -- masking\n",
    "\n",
    "Write a function using numpy arrays and without a `for` loop that does the same calculation as the following `f(n)` function.\n",
    "\n",
    "<details><summary><u>Hint 1.</u></summary>\n",
    "<p>\n",
    "    Use <code>a=np.arange(n)</code> to get an array of numbers from <code>0</code> to <code>n-1</code>.     \n",
    "</p><br>\n",
    "</details>\n",
    "\n",
    "<details><summary><u>Hint 2.</u></summary>\n",
    "<p>\n",
    "    Use <code>a%2==1</code> as a mask to select only the even numbers.     \n",
    "</p>\n",
    "</details>\n"
   ]
  },
  {
   "cell_type": "code",
   "execution_count": null,
   "metadata": {},
   "outputs": [],
   "source": [
    "import timeit\n",
    "def f(n):\n",
    "    x = 0\n",
    "    for i in range(n):\n",
    "        if i%2==1:\n",
    "            x-= i*i\n",
    "        else:\n",
    "            x+= i*i\n",
    "    print(x)\n",
    "    return\n",
    "\n",
    "print(timeit.timeit(lambda :f(10000000), number=1))\n",
    "\n"
   ]
  },
  {
   "cell_type": "markdown",
   "metadata": {},
   "source": [
    "<details><summary><u>Solution.</u></summary>\n",
    "<p>\n",
    "    \n",
    "```python\n",
    "def g(n):\n",
    "    a = np.arange(n)\n",
    "    b = a*a\n",
    "    b[a%2==1]*=-1\n",
    "    print(np.sum(b))\n",
    "    return\n",
    "\n",
    "print(timeit.timeit(lambda :g(10000000), number=1))\n",
    "```\n",
    "    \n",
    "</p>\n",
    "</details>"
   ]
  },
  {
   "cell_type": "markdown",
   "metadata": {},
   "source": [
    "### Ranges"
   ]
  },
  {
   "cell_type": "code",
   "execution_count": null,
   "metadata": {},
   "outputs": [],
   "source": [
    "print(np.arange(10))\n",
    "print(np.arange(5, 7, 0.1))\n",
    "print(np.linspace(5, 7, 9))\n",
    "print(np.logspace(0, 2, 10))\n",
    "print(np.logspace(np.log10(0.3), np.log10(28), 10))"
   ]
  },
  {
   "cell_type": "markdown",
   "metadata": {},
   "source": [
    "### Histogram"
   ]
  },
  {
   "cell_type": "code",
   "execution_count": null,
   "metadata": {},
   "outputs": [],
   "source": [
    "a = np.random.random(10)\n",
    "h = np.histogram(a, bins=3)\n",
    "print(a)\n",
    "print(h)"
   ]
  },
  {
   "cell_type": "code",
   "execution_count": null,
   "metadata": {},
   "outputs": [],
   "source": [
    "a = np.random.random(10000)\n",
    "h = np.histogram(a, bins=[0, 0.5, 1.0])\n",
    "print(h[0])"
   ]
  },
  {
   "cell_type": "markdown",
   "metadata": {},
   "source": [
    "### Exercise -- histogram\n",
    "\n",
    "Create a histogram of normally distributed random numbers with 20 bins, use `np.linspace()` to define the bins. \n",
    "\n",
    "<details><summary><u>Hint.</u></summary>\n",
    "<p>\n",
    "\n",
    "Check for the smallest and the largest value for the leftmost and rightmost edge of the bins.\n",
    "    \n",
    "</p>\n",
    "</details>"
   ]
  },
  {
   "cell_type": "code",
   "execution_count": null,
   "metadata": {},
   "outputs": [],
   "source": []
  },
  {
   "cell_type": "markdown",
   "metadata": {},
   "source": [
    "<details><summary><u>Solution.</u></summary>\n",
    "<p>\n",
    "    \n",
    "```python\n",
    "a = np.random.random(10000)\n",
    "h = np.histogram(a, bins=np.linspace(a.min(),a.max(),21))\n",
    "print(len(h[0]))\n",
    "print(h[0])\n",
    "```\n",
    "    \n",
    "</p>\n",
    "</details>"
   ]
  },
  {
   "cell_type": "markdown",
   "metadata": {},
   "source": [
    "## Plotting with `matplotlib`\n",
    "\n",
    "The plotting tool most people default to. Very flexible, but documentation can be daunting. Good strategy to familiarize yourself with plotting is [tutorials](https://matplotlib.org/tutorials/introductory/pyplot.html) and [examples](https://matplotlib.org/gallery/)."
   ]
  },
  {
   "cell_type": "code",
   "execution_count": null,
   "metadata": {},
   "outputs": [],
   "source": [
    "import matplotlib.pyplot as plt\n",
    "\n",
    "x = np.arange(10)\n",
    "y = x**2\n",
    "\n",
    "plt.figure()\n",
    "\n",
    "plt.plot(x, y, '-')\n",
    "\n",
    "plt.xlabel('x')\n",
    "plt.ylabel('y')\n",
    "plt.title('title')\n",
    "\n",
    "plt.show()"
   ]
  },
  {
   "cell_type": "code",
   "execution_count": null,
   "metadata": {},
   "outputs": [],
   "source": [
    "plt.figure()\n",
    "plt.plot(x, y, '*-', color=\"r\")\n",
    "y2 = x\n",
    "plt.plot(x,y2,'o-b')\n",
    "plt.xlabel('x')\n",
    "plt.ylabel('y')\n",
    "plt.title('title')\n",
    "plt.show()"
   ]
  },
  {
   "cell_type": "markdown",
   "metadata": {},
   "source": [
    "### Format and other options\n",
    "use: <a href=\"https://matplotlib.org/2.1.1/api/_as_gen/matplotlib.pyplot.plot.html\">Mathplotlib plot help</a>"
   ]
  },
  {
   "cell_type": "markdown",
   "metadata": {},
   "source": [
    "### Exercise -- plotting\n",
    "* Plot a sin function from -6 to +6\n",
    "* Plot a sin and a cos function together\n",
    "\n",
    "<details><summary><u>Hint.</u></summary>\n",
    "<p>\n",
    "\n",
    "Use `x=np.arange(-6,6,.1)` to get an array containing numbers from -6 to 6.\n",
    "    \n",
    "</p>\n",
    "</details>"
   ]
  },
  {
   "cell_type": "code",
   "execution_count": null,
   "metadata": {},
   "outputs": [],
   "source": []
  },
  {
   "cell_type": "markdown",
   "metadata": {},
   "source": [
    "<details><summary><u>Solution.</u></summary>\n",
    "<p>\n",
    "    \n",
    "```python\n",
    "plt.figure()\n",
    "x=np.arange(-6,6,.1)\n",
    "plt.plot(x, np.sin(x), '-', color=\"r\")\n",
    "plt.plot(x, np.cos(x), '-', color=\"b\")\n",
    "plt.xlabel('x')\n",
    "plt.ylabel('y')\n",
    "plt.title('title')\n",
    "plt.show()\n",
    "```\n",
    "    \n",
    "</p>\n",
    "</details>"
   ]
  },
  {
   "cell_type": "markdown",
   "metadata": {},
   "source": [
    "### Plotting histograms"
   ]
  },
  {
   "cell_type": "code",
   "execution_count": null,
   "metadata": {
    "scrolled": true
   },
   "outputs": [],
   "source": [
    "x = np.random.normal(2,1,10000)\n",
    "plt.hist(x, 50, density=True, facecolor='g', alpha=.3)\n",
    "y = np.random.normal(3,1,10000)\n",
    "plt.hist(y, 50, density=True, facecolor='b', alpha=.3)\n",
    "plt.show()"
   ]
  },
  {
   "cell_type": "markdown",
   "metadata": {},
   "source": [
    "### Subplots"
   ]
  },
  {
   "cell_type": "code",
   "execution_count": null,
   "metadata": {},
   "outputs": [],
   "source": [
    "fig, axes = plt.subplots(nrows=1, ncols=2, figsize=(12,4))\n",
    "x = np.random.normal(2,1,10000)\n",
    "true_or_false = True\n",
    "for ax in axes:\n",
    "    ax.hist(x, 50, density=true_or_false, facecolor='g')\n",
    "    ax.set_xlabel('x')\n",
    "    ax.set_ylabel('y')\n",
    "    ax.set_title('title')\n",
    "    true_or_false = not true_or_false\n",
    "\n"
   ]
  },
  {
   "cell_type": "code",
   "execution_count": null,
   "metadata": {
    "scrolled": true
   },
   "outputs": [],
   "source": [
    "x = np.random.normal(2,1,10000)\n",
    "plt.hist(x, 50, density=1, histtype='step')\n",
    "plt.yscale('log')\n",
    "plt.show()"
   ]
  },
  {
   "cell_type": "markdown",
   "metadata": {},
   "source": [
    "### Exercise -- histogram\n",
    "* Create a random number series of 0s and 1s\n",
    "* Count the length of the successive 1s (e.g. 0111010 the first sequence has a length of 3 the second has a length of 1). For this use a `for` loop and not array operations.\n",
    "* Plot a histogram from these values\n",
    "\n",
    "<details><summary><u>Hint 1.</u></summary>\n",
    "<p>\n",
    "\n",
    "You can use the function `np.random.randint()` to generate the series of 0s and 1s.\n",
    "    \n",
    "</p>\n",
    "</details>\n",
    "\n",
    "<details><summary><u>Hint 2.</u></summary>\n",
    "<p>\n",
    "\n",
    "* Start from an empty list `counts=[]`\n",
    "* Count 1s.\n",
    "* If you find a 0, append `counts`\n",
    "    \n",
    "</p>\n",
    "</details>"
   ]
  },
  {
   "cell_type": "code",
   "execution_count": null,
   "metadata": {
    "scrolled": true
   },
   "outputs": [],
   "source": []
  },
  {
   "cell_type": "markdown",
   "metadata": {},
   "source": [
    "<details><summary><u>Solution.</u></summary>\n",
    "<p>\n",
    "    \n",
    "```python\n",
    "a=np.random.randint(0,2,10000)\n",
    "#print(a)\n",
    "counts = []\n",
    "count = 0\n",
    "for x in a:\n",
    "    if x==1:\n",
    "        count+=1\n",
    "    elif count>0:\n",
    "        counts.append(count)\n",
    "        count=0\n",
    "        \n",
    "plt.hist(counts, max(counts), density=True, facecolor='g', alpha=.8)\n",
    "x=np.arange(1,max(counts))\n",
    "plt.show()\n",
    "```\n",
    "    \n",
    "</p>\n",
    "</details>"
   ]
  },
  {
   "cell_type": "markdown",
   "metadata": {},
   "source": [
    "**Advanced**: do the same thing with creative use of numpy array operations such as functions `np.cumsum()` and `np.diff()`."
   ]
  },
  {
   "cell_type": "code",
   "execution_count": null,
   "metadata": {},
   "outputs": [],
   "source": [
    "# generate a random series of 0s and 1s\n",
    "n = 10\n",
    "a = np.random.randint(0,2,n)\n",
    "print('a=',a)\n",
    "\n",
    "padded_a = np.concatenate(([0],a,[0])) #we pad a with zeros, this will be useful later\n",
    "print('padded_a=',padded_a)\n",
    "b = padded_a.cumsum() #b[i] = sum of elements left of i+1\n",
    "print('b=',b)\n",
    "\n",
    "#mask to select end of series of 1s (this is where it is useful that we padded a)\n",
    "c = b[1:-1][(b[1:-1]==b[2:]) & (b[1:-1]>b[:-2]) ]\n",
    "print('c=',c)\n",
    "\n",
    "#the count of 1s is equal to the jump between c[i] and c[i+1]\n",
    "#we can calculate this with np.diff()\n",
    "counts=np.diff(c,prepend=0)\n",
    "\n",
    "print('counts=',counts)"
   ]
  },
  {
   "cell_type": "markdown",
   "metadata": {},
   "source": [
    "### Curve fitting"
   ]
  },
  {
   "cell_type": "code",
   "execution_count": null,
   "metadata": {},
   "outputs": [],
   "source": [
    "import numpy as np\n",
    "import matplotlib.pyplot as plt\n",
    "\n",
    "# Seed the random number generator for reproducibility\n",
    "np.random.seed(42)\n",
    "\n",
    "x_data = np.linspace(-6, 6, num=50)\n",
    "y_data = 2.5 * np.sin(1.5 * x_data) + np.random.normal(size=50) / 2\n",
    "\n",
    "# And plot it\n",
    "plt.figure(figsize=(6, 4))\n",
    "plt.scatter(x_data, y_data)\n",
    "plt.show()"
   ]
  },
  {
   "cell_type": "code",
   "execution_count": null,
   "metadata": {},
   "outputs": [],
   "source": [
    "from scipy import optimize\n",
    "\n",
    "def test_func(x, a, b):\n",
    "    return a * np.sin(b * x)\n",
    "\n",
    "params, params_covariance = optimize.curve_fit(test_func, x_data, y_data,\n",
    "                                               p0=[2, 2])\n",
    "\n",
    "print(params)"
   ]
  },
  {
   "cell_type": "code",
   "execution_count": null,
   "metadata": {},
   "outputs": [],
   "source": [
    "plt.figure()\n",
    "plt.scatter(x_data, y_data, label='Data')\n",
    "plt.plot(x_data, test_func(x_data, params[0], params[1]),\n",
    "         label='Fitted function')\n",
    "\n",
    "plt.legend(loc='upper left')\n",
    "axes = plt.gca()\n",
    "axes.set_ylim([-3.2,4.5])\n",
    "plt.show()"
   ]
  },
  {
   "cell_type": "markdown",
   "metadata": {},
   "source": [
    "### Exercise -- curve fitting\n",
    "* Generate a series of points from a noisy parabola model\n",
    "$$ y = a x^2 + bx + \\eta $$\n",
    "where $\\eta$ is random, normal-distributed variable with mean zero and variance one.\n",
    "* From the data you generate, use the `curve_fit` function to obtain an estimate of the $a$ and $b$ parameters.\n",
    "* Plot the function you fitted over the data.\n"
   ]
  },
  {
   "cell_type": "code",
   "execution_count": null,
   "metadata": {},
   "outputs": [],
   "source": []
  },
  {
   "cell_type": "markdown",
   "metadata": {},
   "source": [
    "<details><summary><u>Solution.</u></summary>\n",
    "<p>\n",
    "    \n",
    "```python\n",
    "# Seed the random number generator for reproducibility\n",
    "np.random.seed(42)\n",
    "\n",
    "x_data = np.linspace(-6, 6, num=50)\n",
    "a=1\n",
    "b=-2\n",
    "y_data = a * x_data**2. + b*x_data + np.random.normal(size=50)\n",
    "\n",
    "def test_func(x, a, b):\n",
    "    return a * x**2. + b*x_data\n",
    "\n",
    "params, params_covariance = optimize.curve_fit(test_func, x_data, y_data,\n",
    "                                               p0=[2, 2])\n",
    "\n",
    "print(params)\n",
    "\n",
    "plt.figure()\n",
    "plt.scatter(x_data, y_data, label='Data')\n",
    "plt.plot(x_data, test_func(x_data, params[0], params[1]),\n",
    "         label='Fitted function')\n",
    "\n",
    "plt.legend(loc='upper left')\n",
    "axes = plt.gca()\n",
    "axes.set_ylim([-3.2,4.5])\n",
    "plt.show()\n",
    "```\n",
    "    \n",
    "</p>\n",
    "</details>"
   ]
  },
  {
   "cell_type": "markdown",
   "metadata": {},
   "source": [
    "## Additional exercises"
   ]
  },
  {
   "cell_type": "markdown",
   "metadata": {},
   "source": [
    "### 1. Dictionaries\n",
    "\n",
    "Create a dictionary where the keys are integer numbers `i=0...10` and the values of are the sum of integers from `0` to `i`:\n",
    "$$S_i = \\sum_{j=0}^i j$$\n",
    "\n",
    "<details><summary><u>Hint.</u></summary>\n",
    "<p>\n",
    "    \n",
    "You can calculate $S_i$ with `sum(range(i))`.\n",
    "    \n",
    "</p>\n",
    "</details>"
   ]
  },
  {
   "cell_type": "code",
   "execution_count": null,
   "metadata": {},
   "outputs": [],
   "source": []
  },
  {
   "cell_type": "markdown",
   "metadata": {},
   "source": [
    "<details><summary><u>Solution.</u></summary>\n",
    "<p>\n",
    "    \n",
    "```python\n",
    "D = {i:sum(range(i)) for i in range(10)}\n",
    "print(D)\n",
    "```\n",
    "    \n",
    "</p>\n",
    "</details>"
   ]
  },
  {
   "cell_type": "markdown",
   "metadata": {},
   "source": [
    "### 2. Dictionaries\n",
    "\n",
    "Create a dictionary where the keys are the characters in the string `s` and their value is equal to the number of times the character appears in `s`.\n",
    "<details><summary><u>Hint.</u></summary>\n",
    "<p>\n",
    "    \n",
    "You can count the occurences of a character `c` in a string `s` using the method `s.count(c)`.\n",
    "    \n",
    "</p>\n",
    "</details>"
   ]
  },
  {
   "cell_type": "code",
   "execution_count": null,
   "metadata": {},
   "outputs": [],
   "source": [
    "s=\"Now is the winter of our discontent\\nMade glorious summer by this sun of York\"\n"
   ]
  },
  {
   "cell_type": "markdown",
   "metadata": {},
   "source": [
    "<details><summary><u>Solution.</u></summary>\n",
    "<p>\n",
    "    \n",
    "```python\n",
    "D = {}\n",
    "for c in s:\n",
    "    if c not in D: #in fact, this line is not important, in its absence we overwrite D[c] several times.\n",
    "        D[c]=s.count(c)\n",
    "print(D)\n",
    "```\n",
    "    \n",
    "</p>\n",
    "</details>"
   ]
  },
  {
   "cell_type": "markdown",
   "metadata": {},
   "source": [
    "### 3. Plotting\n",
    "Plot the histogram of the distance of Hungarian towns from Budapest and from Szeged.\n",
    "\n",
    "<details><summary><u>Hint.</u></summary>\n",
    "<p>\n",
    "To get a list of distances:\n",
    "\n",
    "```python\n",
    "dists_from_bp     = [latlongdist(lat[0],long[0],lat[i],long[i]) for i in range(len(lat)) if i!=0]\n",
    "dists_from_szeged = [latlongdist(lat[3],long[3],lat[i],long[i]) for i in range(len(lat)) if i!=3]\n",
    "```\n",
    "    \n",
    "(This code is from a few cells above, if it doesn't run without errors, go back and run the appropriate cells.)\n",
    "</p>\n",
    "</details>\n"
   ]
  },
  {
   "cell_type": "code",
   "execution_count": null,
   "metadata": {},
   "outputs": [],
   "source": [
    "\n",
    "\n"
   ]
  },
  {
   "cell_type": "markdown",
   "metadata": {},
   "source": [
    "<details><summary><u>Solution.</u></summary>\n",
    "<p>\n",
    "    \n",
    "```python\n",
    "plt.hist(dists_from_bp, 20, density=False, facecolor='g', alpha=.5, label=\"Budapest\")\n",
    "plt.hist(dists_from_szeged, 20, density=False, facecolor='b', alpha=.5, label=\"Szeged\")\n",
    "plt.xlabel('distance[km]')\n",
    "plt.ylabel('count')\n",
    "plt.legend()\n",
    "plt.show()\n",
    "```\n",
    "    \n",
    "</p>\n",
    "</details>"
   ]
  },
  {
   "cell_type": "markdown",
   "metadata": {},
   "source": [
    "### 4. Numpy array operations + plotting\n",
    "* Using numpy array operations and without `for` loops, write a function that computes the same value as the function `f(n)`.\n",
    "* Compare the runtime of the two implementations as a function of `n`.\n",
    "* Plot the runtimes as a function of `n`, in a separate figure plot the ratio of the runtimes.\n",
    "\n",
    "<details><summary><u>Hint.</u></summary>\n",
    "<p>\n",
    "\n",
    "You can measure runtime of a function `f()` with the `timeit.timeit(f)` function. To pass an argument is to use a lambda function as `timeit.timeit(lambda :f(n))`.\n",
    "    \n",
    "</p>\n",
    "</details>"
   ]
  },
  {
   "cell_type": "code",
   "execution_count": null,
   "metadata": {},
   "outputs": [],
   "source": [
    "import timeit\n",
    "import math\n",
    "\n",
    "def f(n):\n",
    "    x = 0\n",
    "    for i in range(n):\n",
    "            x+=math.cos(i)    \n",
    "    return x\n"
   ]
  },
  {
   "cell_type": "markdown",
   "metadata": {},
   "source": [
    "<details><summary><u>Solution part 1.</u></summary>\n",
    "<p>\n",
    "    \n",
    "```python\n",
    "def np_f(n):\n",
    "    a = np.arange(n)\n",
    "    x = np.sum(np.cos(a))\n",
    "\n",
    "    return x\n",
    "\n",
    "print(f(10))\n",
    "print(np_f(10))\n",
    "```\n",
    "    \n",
    "</p>\n",
    "</details>\n",
    "\n",
    "<details><summary><u>Solution part 2.</u></summary>\n",
    "<p>\n",
    "    \n",
    "```python\n",
    "x  = np.arange(10,10000,500)\n",
    "rt = np.array([timeit.timeit(lambda :f(n),number=10) for n in x])\n",
    "np_rt = np.array([timeit.timeit(lambda :np_f(n),number=10) for n in x])\n",
    "    \n",
    "```\n",
    "    \n",
    "</p>\n",
    "</details>\n",
    "\n",
    "<details><summary><u>Solution part 3.</u></summary>\n",
    "<p>\n",
    "    \n",
    "```python  \n",
    "fig, axes = plt.subplots(1,2,figsize=(12,4))\n",
    "axes[0].plot(x, rt, '-r')\n",
    "axes[0].plot(x,np_rt,'-b')\n",
    "axes[0].set_xlabel('n')\n",
    "axes[0].set_ylabel('runtime')\n",
    "\n",
    "axes[1].plot(x,rt/np_rt,'-b')\n",
    "axes[1].set_xlabel('n')\n",
    "axes[1].set_ylabel('runtime ratio')\n",
    "\n",
    "plt.show()\n",
    "```\n",
    "    \n",
    "</p>\n",
    "</details>"
   ]
  },
  {
   "cell_type": "markdown",
   "metadata": {},
   "source": [
    "### 5. Advanced: Numpy array operations\n",
    "Using numpy array operations and without `for` loops, write a function that computes the same value as the function `f(n)`.\n",
    "\n",
    "<details><summary><u>Hint.</u></summary>\n",
    "<p>\n",
    "\n",
    "Use `a=np.arange(n)` to get an array of integers from `0` to `n-1`. Reshape `a` to get an array `b` and use the broadcasting property of numpy multiplication `a*b` to obtain a two dimensional array with elements equal to `ij`.\n",
    "    \n",
    "</p>\n",
    "</details>"
   ]
  },
  {
   "cell_type": "code",
   "execution_count": null,
   "metadata": {},
   "outputs": [],
   "source": [
    "import timeit\n",
    "def f(n):\n",
    "    x = 0\n",
    "    for i in range(n):\n",
    "        for j in range(n):\n",
    "            x+=math.cos(i*j)    \n",
    "    return x"
   ]
  },
  {
   "cell_type": "markdown",
   "metadata": {},
   "source": [
    "<details><summary><u>Solution.</u></summary>\n",
    "<p>\n",
    "    \n",
    "```python\n",
    "def np_f(n):\n",
    "    a = np.arange(n)\n",
    "    b = a.reshape(n,1)\n",
    "    grid = a*b\n",
    "    x = np.sum(np.cos(grid))\n",
    "\n",
    "    return x\n",
    "\n",
    "print(f(10))\n",
    "print(np_f(10))\n",
    "```\n",
    "    \n",
    "</p>\n",
    "</details>"
   ]
  }
 ],
 "metadata": {
  "kernelspec": {
   "display_name": "Python 3 (ipykernel)",
   "language": "python",
   "name": "python3"
  },
  "language_info": {
   "codemirror_mode": {
    "name": "ipython",
    "version": 3
   },
   "file_extension": ".py",
   "mimetype": "text/x-python",
   "name": "python",
   "nbconvert_exporter": "python",
   "pygments_lexer": "ipython3",
   "version": "3.9.0"
  }
 },
 "nbformat": 4,
 "nbformat_minor": 2
}
