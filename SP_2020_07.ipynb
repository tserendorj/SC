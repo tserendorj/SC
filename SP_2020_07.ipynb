{
 "cells": [
  {
   "cell_type": "markdown",
   "metadata": {},
   "source": [
    "# DNDS6013 Scientific Python: 6th Class\n",
    "## Central European University, Winter 2019/2020\n",
    "\n",
    "Instructor: Márton Pósfai, TA: Luis Natera Orozco\n",
    "\n",
    "Emails: posfaim@ceu.edu, natera_luis@phd.ceu.edu\n",
    "\n"
   ]
  },
  {
   "cell_type": "markdown",
   "metadata": {},
   "source": [
    "## Today's plan\n",
    "* Network analysis with Networkx\n",
    "* Plotting\n",
    "\n",
    "Submit your solutions to the [slack channel](http://sp2020winter.slack.com).\n",
    "\n",
    "\n",
    "## Final project\n",
    "* 40% of the final grade\n",
    "* Your project should perform a self-contained analysis of some empirical dataset, making use of the Python tools we have learned in this course.\n",
    "* You are free to choose the origin and nature of the data you will use\n",
    "* Instructions in notebook on Moodle\n",
    "* The final deadline April 15th\n"
   ]
  },
  {
   "cell_type": "markdown",
   "metadata": {},
   "source": [
    "## Crash course on Networks (mainly Jargon :-( )\n",
    "\n",
    "Networks/graphs are (1) a set of objects (called nodes or vertices), (2) relationships between those objects (called links or edges)\n",
    "\n",
    "<img src=\"http://connectedthebook.com/images/links/social_networks2.gif\" alt=\"a Network\" style=\"width:304px;height:228px;\">\n",
    "\n",
    "\n",
    "Types of graphs:\n",
    "* **Undirected** or **directed** networks. The friendship network in Facebook is an example of an undirected graph, twitter is a directed graph.\n",
    "* **Unweighted** or **weighted**: the friendship network in Facebook is unweighted, the airport network (nodes: airports, links: number of airplanes flying between two airports) is weighted. \n",
    "\n",
    "Jargon:\n",
    "* Node $j$ is a **neighbor** of node $i$ if the edge $(i,j)$ exists. The **neighborhood** of $i$ is the set of all $i$'s neighbors.\n",
    "* The **degree** of $i$ is the number of its neighbors. The **degree distribution** $P(k)$ is the probability that a randomly chosen node in the network has degree $k$.\n",
    "* **Hubs** are nodes with very high degree. In many networks (the Internet, social networks, etc.) they are rare but much more common than you may expect.\n",
    "* **Sparse**: Most pairs of nodes do not have a link. Real-world networks are of this kind.\n",
    "* A **path** between two nodes, say $i$ and $j$, is the series of nodes that you need to traverse in order to get from $i$ to $j$ (and from $j$ to $i$ in case of undirected graphs).\n",
    "* The **distance** between nodes $i$ and $j$ is the length of the *shortest path* between them. The **diameter** of a network is the *longest* shortest path.\n",
    "* **Clustering coefficient** $c_i$ of node $i$ is the fraction of neighbors of $i$ that are linked: \n",
    "\n",
    "$$c_i = \\frac{T_i}{\\binom{k_i}{2}} = \\frac{2T_i}{k_i(k_i-1)}$$\n",
    "\n",
    "where $T_i$ is the number of triangles through node $i$. In simple words it quantifies how many of $i$'s friends also know each other.\n",
    "\n",
    "Specific graphs:\n",
    "* **Complete graphs**: every link exists $\\binom{n}{2}$ links for $n$ nodes.\n",
    "* **Lattices**\n",
    "* **Erdős-Rényi** graphs\n",
    "* Many more\n",
    "\n"
   ]
  },
  {
   "cell_type": "markdown",
   "metadata": {},
   "source": [
    "# Networkx\n",
    "[NetworkX](http://networkx.github.io/) is a very thorough and very mature network science package for python.\n",
    "\n",
    "* It's not the fastest code on the planet, but it's very well documented and fairly easy to use!"
   ]
  },
  {
   "cell_type": "code",
   "execution_count": null,
   "metadata": {},
   "outputs": [],
   "source": [
    "import numpy as np\n",
    "import matplotlib.pyplot as plt\n",
    "import matplotlib\n",
    "%matplotlib inline\n",
    "nicered = \"#E6072A\"\n",
    "niceblu = \"#424FA4\"\n",
    "nicegrn = \"#6DC048\""
   ]
  },
  {
   "cell_type": "code",
   "execution_count": null,
   "metadata": {},
   "outputs": [],
   "source": [
    "import networkx as nx"
   ]
  },
  {
   "cell_type": "markdown",
   "metadata": {},
   "source": [
    "Networkx defines a **graph object** that we can work with. Internally it's very similar to a dictionary of dictionaries to store nodes and their attributes, and to a dictionaries of lists to store links. It provides a number of methods for making changes to the graph."
   ]
  },
  {
   "cell_type": "code",
   "execution_count": null,
   "metadata": {},
   "outputs": [],
   "source": [
    "G = nx.Graph()            # create an empty graph with no nodes and no edges\n",
    "print(G.nodes(), G.edges())"
   ]
  },
  {
   "cell_type": "markdown",
   "metadata": {},
   "source": [
    "### Nodes\n",
    "Adding node and nodes using add_node and add_nodes_from."
   ]
  },
  {
   "cell_type": "code",
   "execution_count": null,
   "metadata": {},
   "outputs": [],
   "source": [
    "G.add_node(11)    # add a single node\n",
    "print(G.nodes())"
   ]
  },
  {
   "cell_type": "code",
   "execution_count": null,
   "metadata": {},
   "outputs": [],
   "source": [
    "G.add_nodes_from([12,13])    # add a list of nodes\n",
    "print(G.nodes())\n",
    "print('number of nodes in the graph:', G.number_of_nodes())"
   ]
  },
  {
   "cell_type": "markdown",
   "metadata": {},
   "source": [
    "### Edges"
   ]
  },
  {
   "cell_type": "code",
   "execution_count": null,
   "metadata": {},
   "outputs": [],
   "source": [
    "G.clear()\n",
    "G.add_nodes_from([51,52,55,\"a\",\"funny node\"])\n",
    "G.add_edge(51,52)\n",
    "print(G.nodes(), G.edges())\n",
    "print(nx.info(G))"
   ]
  },
  {
   "cell_type": "code",
   "execution_count": null,
   "metadata": {},
   "outputs": [],
   "source": [
    "G.clear()\n",
    "G.add_edges_from([(1,2), (1,3)]) # add edges from a edge list\n",
    "print(G.edges())\n",
    "G.add_edges_from([(2,1)]) # adding an edge that is already present\n",
    "print(G.edges()) # No difference!\n",
    "print(G.nodes())"
   ]
  },
  {
   "cell_type": "code",
   "execution_count": null,
   "metadata": {},
   "outputs": [],
   "source": [
    "G = nx.DiGraph()\n",
    "G.add_edges_from([(1,2), (1,3)])\n",
    "print(G.edges())\n",
    "G.add_edges_from([(2,1)]) # add reverse edge\n",
    "print(G.edges()) # it is there\n",
    "print(\"Neigbors\",list(G.neighbors(1)))\n",
    "print(\"Successors\",list(G.successors(1)))\n",
    "print(\"Predecessors\",list(G.predecessors(1)))"
   ]
  },
  {
   "cell_type": "code",
   "execution_count": null,
   "metadata": {},
   "outputs": [],
   "source": [
    "G = nx.Graph()\n",
    "G.add_edges_from([(1,2), (1,3)])\n",
    "G.add_node(0)\n",
    "print(G.edges())\n",
    "print(G.nodes())\n",
    "print(list(G.neighbors(1)))"
   ]
  },
  {
   "cell_type": "markdown",
   "metadata": {},
   "source": [
    "### Testing to see whether nodes or edges exist"
   ]
  },
  {
   "cell_type": "code",
   "execution_count": null,
   "metadata": {},
   "outputs": [],
   "source": [
    "print(G.has_node(\"Johannes\"))"
   ]
  },
  {
   "cell_type": "markdown",
   "metadata": {},
   "source": [
    "### Finding neighbors of a node"
   ]
  },
  {
   "cell_type": "code",
   "execution_count": null,
   "metadata": {},
   "outputs": [],
   "source": [
    "print(G.neighbors(1))"
   ]
  },
  {
   "cell_type": "code",
   "execution_count": null,
   "metadata": {},
   "outputs": [],
   "source": [
    "print(list(G.neighbors(1)))"
   ]
  },
  {
   "cell_type": "markdown",
   "metadata": {},
   "source": [
    "### Iterating over nodes and edges\n",
    "Nodes and edges can be iterated over with `G.nodes()` and `G.edges()` respectively. These functions return iterators as opposed to lists, and so it's best form to use them for large networks, they can be converted to lists with `list(G.nodes())` and `list(G.edges())` "
   ]
  },
  {
   "cell_type": "code",
   "execution_count": null,
   "metadata": {},
   "outputs": [],
   "source": [
    "for node, data in G.nodes(data=True): # data=True includes node attributes as dictionaries\n",
    "    print(node, data) "
   ]
  },
  {
   "cell_type": "code",
   "execution_count": null,
   "metadata": {},
   "outputs": [],
   "source": [
    "for n1, n2, data in G.edges(data=True):\n",
    "    print(n1, \" <----> \", n2, data)"
   ]
  },
  {
   "cell_type": "markdown",
   "metadata": {},
   "source": [
    "### Drawing Graphs\n",
    "You can draw basic graphs using Matplotlib (which is included in Anaconda already) or use Graphviz instead.\n",
    "\n",
    "See https://networkx.github.io/documentation/latest/reference/drawing.html for more details."
   ]
  },
  {
   "cell_type": "code",
   "execution_count": null,
   "metadata": {},
   "outputs": [],
   "source": [
    "nx.draw_networkx(G, with_labels=True)\n",
    "plt.show()"
   ]
  },
  {
   "cell_type": "code",
   "execution_count": null,
   "metadata": {},
   "outputs": [],
   "source": [
    "G = nx.DiGraph()\n",
    "G.add_edges_from([(1,2), (1,3)])\n",
    "print(G.edges())\n",
    "G.add_edge(2,1)\n",
    "nx.draw_networkx(G, with_labels=True)\n",
    "plt.axis('off')\n",
    "plt.show()"
   ]
  },
  {
   "cell_type": "markdown",
   "metadata": {},
   "source": [
    "### Adjacency matrix\n",
    "$A_{ij}=1$ if nodes $i$ and $j$ are connected, $A_{ij}=0$ otherwise."
   ]
  },
  {
   "cell_type": "code",
   "execution_count": null,
   "metadata": {},
   "outputs": [],
   "source": [
    "adj = np.array([[0, 1, 0],\n",
    "              [1, 0, 1],\n",
    "              [1, 1, 0]])\n",
    "G = nx.from_numpy_matrix(adj)\n",
    "nx.draw_networkx(G, with_labels=True)\n",
    "plt.axis('off')\n",
    "plt.show()"
   ]
  },
  {
   "cell_type": "code",
   "execution_count": null,
   "metadata": {},
   "outputs": [],
   "source": [
    "adj = np.array([[0, 1, 0],\n",
    "              [1, 0, 1],\n",
    "              [1, 1, 0]])\n",
    "G = nx.from_numpy_matrix(adj,create_using=nx.DiGraph)\n",
    "nx.draw_networkx(G, with_labels=True)\n",
    "plt.axis('off')\n",
    "plt.show()"
   ]
  },
  {
   "cell_type": "markdown",
   "metadata": {},
   "source": [
    "### Calculating topological properties"
   ]
  },
  {
   "cell_type": "code",
   "execution_count": null,
   "metadata": {},
   "outputs": [],
   "source": [
    "# one node\n",
    "print(G.degree(0)) # returns an integer\n",
    "\n",
    "# all nodes (returns a DegreeView that can be converted to a dictionary with node : degree pairs for all nodes)\n",
    "print(dict(G.degree()))\n",
    "\n",
    "# just the degree values\n",
    "print(dict(G.degree()).values())\n"
   ]
  },
  {
   "cell_type": "code",
   "execution_count": null,
   "metadata": {},
   "outputs": [],
   "source": [
    "G.add_edge('Alice','Johannes')\n",
    "nx.clustering(G)"
   ]
  },
  {
   "cell_type": "markdown",
   "metadata": {},
   "source": [
    "## Other operations\n",
    "There are a lot of operations included in networkx. If you work with networks, or you plan to, make sure you explore the documentation. Below there is a selection of useful operations. Take note of G.copy() (this is the way to create the deep copy of a graph!) \n",
    "\n",
    "* ***`subgraph(G, nbunch)` or `G.subgraph(nbunch)`***       \n",
    "subgraph of G induced by nodes in nbunch    \n",
    "\n",
    "* ***`reverse(G)`***       \n",
    "DiGraph with edges reversed \n",
    "\n",
    "* ***`union(G1, G2)`***      \n",
    "graph union    \n",
    "\n",
    "* ***`disjoint_union(G1, G2)`***     \n",
    "same, but treats nodes of G1, G2 as different \n",
    "\n",
    "* ***`intersection(G1, G2)`***      \n",
    "graph with only the edges in common between G1, G2\n",
    "\n",
    "* ***`difference(G1, G2)`***      \n",
    "graph with only the edges G1 that aren't in G2\n",
    "\n",
    "* ***`copy(G)` or `G.copy()`***     \n",
    "copy of G\n",
    "\n",
    "* ***`complement(G)` or `G.complement()`***     \n",
    "the complement graph of G \n",
    "\n",
    "* ***`convert_to_undirected(G)` or `G.to_undirected()`***     \n",
    "undirected version of G (a Graph or MultiGraph)  \n",
    "\n",
    "* ***`convert_to_directed(G)` or `G.to_directed()`***      \n",
    "directed version of G (a DiGraph of MultiDiGraph)\n",
    "\n",
    "* ***`adjacency_matrix(G)`***      \n",
    "adjacency matrix A of G (in sparse matrix format; to get full matrix, use A.toarray() )"
   ]
  },
  {
   "cell_type": "markdown",
   "metadata": {},
   "source": [
    "### Wighted networks and properties"
   ]
  },
  {
   "cell_type": "code",
   "execution_count": null,
   "metadata": {},
   "outputs": [],
   "source": [
    "G = nx.Graph()\n",
    "G.add_edge(1,2,weight=10,transport=\"bus\")\n",
    "G.add_edge(2,3,weight=5,transport=\"train\")\n",
    "print(G[1][2])"
   ]
  },
  {
   "cell_type": "code",
   "execution_count": null,
   "metadata": {},
   "outputs": [],
   "source": [
    "G = nx.Graph()\n",
    "G.add_edge(1,2,weight=10,transport=\"bus\")\n",
    "G.add_edge(2,3,weight=5,transport=\"train\")\n",
    "for e in G.edges():\n",
    "    print(e)"
   ]
  },
  {
   "cell_type": "code",
   "execution_count": null,
   "metadata": {},
   "outputs": [],
   "source": [
    "G = nx.Graph()\n",
    "G.add_edge(1,2,weight=10,transport=\"bus\")\n",
    "G.add_edge(2,3,weight=5,transport=\"train\")\n",
    "for e in G.edges(data=True):\n",
    "    print(e)"
   ]
  },
  {
   "cell_type": "code",
   "execution_count": null,
   "metadata": {},
   "outputs": [],
   "source": [
    "G = nx.Graph()\n",
    "G.add_edge(1,2,weight=10,transport=\"bus\")\n",
    "G.add_edge(2,3,weight=5,transport=\"train\")\n",
    "for [e1, e2, w] in G.edges(data=True):\n",
    "    print(\"%d -- %d [weight=%g];\" % (e1,e2,w['weight']))"
   ]
  },
  {
   "cell_type": "code",
   "execution_count": null,
   "metadata": {},
   "outputs": [],
   "source": [
    "G = nx.Graph()\n",
    "\n",
    "G.add_edge('a', 'b', weight=0.6)\n",
    "G.add_edge('a', 'c', weight=0.2)\n",
    "G.add_edge('c', 'd', weight=0.1)\n",
    "G.add_edge('c', 'e', weight=0.7)\n",
    "G.add_edge('c', 'f', weight=0.9)\n",
    "G.add_edge('a', 'd', weight=0.9)\n",
    "\n",
    "edges = [(u, v) for (u, v) in G.edges()]\n",
    "weight = [d['weight']*5.0 for (u, v, d) in G.edges(data=True)]\n",
    "\n",
    "pos = nx.spring_layout(G) #dynamical model for node positions\n",
    "nx.draw_networkx_nodes(G, pos, node_size=700) #draw nodes\n",
    "nx.draw_networkx_edges(G, pos, edgelist=edges, width=weight) #draw edges\n",
    "nx.draw_networkx_labels(G, pos, font_size=20) #draw labels\n",
    "\n",
    "plt.axis('off')\n",
    "plt.show()\n"
   ]
  },
  {
   "cell_type": "code",
   "execution_count": null,
   "metadata": {},
   "outputs": [],
   "source": [
    "nx.shortest_path(G,\"b\",\"e\",weight='weight')"
   ]
  },
  {
   "cell_type": "markdown",
   "metadata": {},
   "source": [
    "### Exercise\n",
    "Modify the weights that the shortest path will be through 'd'\n",
    "<details><summary><u>Hint.</u></summary>\n",
    "<p>\n",
    "\n",
    "You can directly modify the weight or any other attribute of a link as if you were modifying a dictionary.\n",
    "    \n",
    "\n",
    "    \n",
    "</p>\n",
    "</details>"
   ]
  },
  {
   "cell_type": "code",
   "execution_count": null,
   "metadata": {},
   "outputs": [],
   "source": [
    "#Your code:\n",
    "\n",
    "\n",
    "\n",
    "#Test the code with the following line:\n",
    "print(nx.shortest_path(G,\"b\",\"e\",weight='weight'))"
   ]
  },
  {
   "cell_type": "markdown",
   "metadata": {},
   "source": [
    "<details><summary><u>Solution.</u></summary>\n",
    "<p>\n",
    "\n",
    "\n",
    "```python\n",
    "    G['a']['d']['weight'] = 0.1\n",
    "```\n",
    "\n",
    "    \n",
    "</p>\n",
    "</details>"
   ]
  },
  {
   "cell_type": "code",
   "execution_count": null,
   "metadata": {},
   "outputs": [],
   "source": [
    "edges = [(u, v) for (u, v) in G.edges()]\n",
    "weight = [d['weight']*5.0 for (u, v, d) in G.edges(data=True)]\n",
    "nx.draw_networkx_nodes(G, pos, node_size=700) #draw nodes\n",
    "nx.draw_networkx_edges(G, pos, edgelist=edges, width=weight) #draw edges\n",
    "nx.draw_networkx_labels(G, pos, font_size=20) #draw labels\n",
    "\n",
    "plt.axis('off')\n",
    "plt.show()"
   ]
  },
  {
   "cell_type": "code",
   "execution_count": null,
   "metadata": {},
   "outputs": [],
   "source": [
    "G = nx.Graph()\n",
    "\n",
    "G.add_edge('a', 'b', weight=0.6)\n",
    "G.add_edge('a', 'c', weight=0.2)\n",
    "G.add_edge('c', 'd', weight=0.1)\n",
    "G.add_edge('c', 'e', weight=0.7)\n",
    "G.add_edge('c', 'f', weight=0.9)\n",
    "G.add_edge('a', 'd', weight=0.3)\n",
    "\n",
    "elarge = [(u, v) for (u, v, d) in G.edges(data=True) if d['weight'] > 0.5]\n",
    "esmall = [(u, v) for (u, v, d) in G.edges(data=True) if d['weight'] <= 0.5]\n",
    "\n",
    "pos = nx.spring_layout(G)\n",
    "\n",
    "# nodes\n",
    "nx.draw_networkx_nodes(G, pos, node_size=700)\n",
    "\n",
    "# edges\n",
    "nx.draw_networkx_edges(G, pos, edgelist=elarge,\n",
    "                       width=6)\n",
    "nx.draw_networkx_edges(G, pos, edgelist=esmall,\n",
    "                       width=6, alpha=0.5, edge_color='b', style='dashed')\n",
    "\n",
    "# labels\n",
    "nx.draw_networkx_labels(G, pos, font_size=20, font_family='sans-serif')\n",
    "\n",
    "plt.axis('off')\n",
    "plt.show()\n"
   ]
  },
  {
   "cell_type": "markdown",
   "metadata": {},
   "source": [
    "### Exercise\n",
    "* Create a graph with 50 nodes, and randomly ad 50 edges.\n",
    "* Assign a random weight (between 0.1 to 1 to the edges.\n",
    "* Plot the resulting graph assigning different colors to nodes/edges and line type for edges between 1 - 0.5 and 0.5 - 0.1"
   ]
  },
  {
   "cell_type": "code",
   "execution_count": null,
   "metadata": {},
   "outputs": [],
   "source": []
  },
  {
   "cell_type": "markdown",
   "metadata": {},
   "source": [
    "<details><summary><u>Solution.</u></summary>\n",
    "<p>\n",
    "\n",
    "\n",
    "```python\n",
    "    G = nx.Graph()\n",
    "    G.add_nodes_from([i for i in range(25)])\n",
    "    for i in range(25):\n",
    "        node1, node2 = np.random.choice(list(G.nodes()),2)\n",
    "        G.add_edge(node1,node2)\n",
    "\n",
    "    for i,j, data in G.edges(data=True):\n",
    "        data['weight'] = np.random.random()\n",
    "\n",
    "    elarge = [(u, v) for (u, v, d) in G.edges(data=True) if d['weight'] > 0.5]\n",
    "    esmall = [(u, v) for (u, v, d) in G.edges(data=True) if d['weight'] <= 0.5]\n",
    "\n",
    "    pos = nx.spring_layout(G)\n",
    "\n",
    "    # nodes\n",
    "    nx.draw_networkx_nodes(G, pos, node_size=10)\n",
    "\n",
    "    # edges\n",
    "    nx.draw_networkx_edges(G, pos, edgelist=elarge,\n",
    "                           width=3)\n",
    "    nx.draw_networkx_edges(G, pos, edgelist=esmall,\n",
    "                           width=2, alpha=0.5, edge_color='b', style='dashed')\n",
    "\n",
    "    nx.draw_spring(G)\n",
    "```\n",
    "\n",
    "    \n",
    "</p>\n",
    "</details>\n"
   ]
  },
  {
   "cell_type": "markdown",
   "metadata": {},
   "source": [
    "## Random graphs (from models)\n",
    "Banchmarking, testbeds"
   ]
  },
  {
   "cell_type": "markdown",
   "metadata": {},
   "source": [
    "The **Erdős–Rényi (ER) model** is a model to generate random graphs. In one of the variants of the model, a graph is constructed by connecting nodes randomly. That is, given $N$ nodes, each possible pair of nodes is connected with probability $p$ (indipendent of all other existing edges)."
   ]
  },
  {
   "cell_type": "markdown",
   "metadata": {},
   "source": [
    "### Exercise\n",
    "* Create a function ```myERgraph``` which takes as input the number of nodes ```N``` and a probability ```p```, and returns an Erdős–Rényi graph (You may want to use [itertools](https://docs.python.org/3/library/itertools.html) to iterate over combinations\n",
    "* Create a Graph using your function and plot it"
   ]
  },
  {
   "cell_type": "code",
   "execution_count": null,
   "metadata": {},
   "outputs": [],
   "source": [
    "#Write your function:\n",
    "\n"
   ]
  },
  {
   "cell_type": "code",
   "execution_count": null,
   "metadata": {},
   "outputs": [],
   "source": [
    "# Call the function and plot the graph\n"
   ]
  },
  {
   "cell_type": "markdown",
   "metadata": {},
   "source": [
    "<details><summary><u>Solution.</u></summary>\n",
    "<p>\n",
    "\n",
    "\n",
    "```python\n",
    "    import itertools\n",
    "\n",
    "    def ERgraph(n,p):\n",
    "        G = nx.Graph()\n",
    "        G.add_nodes_from(range(n))\n",
    "        for e in itertools.combinations(range(n),2):\n",
    "            if np.random.random() <= p:\n",
    "                G.add_edge(*e)\n",
    "        return G\n",
    "```\n",
    "\n",
    "    \n",
    "</p>\n",
    "</details>"
   ]
  },
  {
   "cell_type": "markdown",
   "metadata": {},
   "source": [
    "It's a good exercise to be able to write the code for an ER network. However, in networkx there are also functions to generate networks automatically. "
   ]
  },
  {
   "cell_type": "markdown",
   "metadata": {},
   "source": [
    "### Exercise\n",
    "Plot the degree distribution (histogram) of the Erdős-Rényi graph with parameters:\n",
    "<pre>\n",
    "G = nx.erdos_renyi_graph(10000, 0.01)\n",
    "</pre>\n",
    "You can look at [Networkx](https://networkx.github.io/documentation/stable/) documentation "
   ]
  },
  {
   "cell_type": "markdown",
   "metadata": {},
   "source": [
    "<details><summary><u>Hint.</u></summary>\n",
    "<p>\n",
    "\n",
    "G.degree() gives back an object with the node names (here numbers) and the degrees. Convert it to a list or to an array to be able to work with it.\n",
    "\n",
    "    \n",
    "</p>\n",
    "</details>\n"
   ]
  },
  {
   "cell_type": "code",
   "execution_count": null,
   "metadata": {},
   "outputs": [],
   "source": []
  },
  {
   "cell_type": "markdown",
   "metadata": {},
   "source": [
    "<details><summary><u>Solution.</u></summary>\n",
    "<p>\n",
    "\n",
    "\n",
    "```python\n",
    "    \n",
    "    G = nx.erdos_renyi_graph(10000, 0.01)\n",
    "    d = np.array((G.degree()))[:,1]\n",
    "    plt.hist(d, np.arange(int(d.min()),int(d.max())), density=1, facecolor=niceblu)\n",
    "\n",
    "    plt.xlabel(r'$k$', fontsize=20)\n",
    "    plt.ylabel(r'$P(k)$', fontsize=20)\n",
    "    Gr_degrees=dict(nx.degree(G))\n",
    "    GR_degrees=np.array(list(Gr_degrees.values()))\n",
    "    print(np.mean(GR_degrees))\n",
    "```\n",
    "\n",
    "    \n",
    "</p>\n",
    "</details>\n"
   ]
  },
  {
   "cell_type": "markdown",
   "metadata": {},
   "source": [
    "From the theory, the degree distribution of an ER graph is binomial, or for very large graphs, poissonian."
   ]
  },
  {
   "cell_type": "markdown",
   "metadata": {},
   "source": [
    "Another famous network model is the ```Barabási-Albert (BA)```. This is a network growth model, that starts with a small core of all-connected nodes and adds one node at a time. The new node comes in with $m$ links, which it attaches preferentially to nodes with high degree. If you want to know more, look it up [ here](https://en.wikipedia.org/wiki/Barab%C3%A1si%E2%80%93Albert_model)."
   ]
  },
  {
   "cell_type": "code",
   "execution_count": null,
   "metadata": {},
   "outputs": [],
   "source": [
    "BA_graph = nx.barabasi_albert_graph(100,2)\n",
    "nx.draw_networkx(BA_graph, with_labels=False,node_size=40, node_color=nicegrn, edge_color='grey')\n",
    "plt.axis('off')\n",
    "plt.show()"
   ]
  },
  {
   "cell_type": "markdown",
   "metadata": {},
   "source": [
    "### Exercise\n",
    "Plot the degree distribution (histogram) of the Barabási-Albert graph with parameters:\n",
    "<pre>\n",
    "G = nx.barabasi_albert_graph(10000, 2)\n",
    "</pre>\n"
   ]
  },
  {
   "cell_type": "code",
   "execution_count": null,
   "metadata": {},
   "outputs": [],
   "source": []
  },
  {
   "cell_type": "markdown",
   "metadata": {},
   "source": [
    "<details><summary><u>Solution.</u></summary>\n",
    "<p>\n",
    "\n",
    "\n",
    "```python\n",
    "    \n",
    "    BA_graph = nx.barabasi_albert_graph(10000,2)\n",
    "    d = np.array((BA_graph.degree()))[:,1]\n",
    "    BA_hist, bin_edges= np.histogram(d, bins=max(d)-min(d), density=True)\n",
    "    plt.loglog(bin_edges[:-1],BA_hist,'o-')\n",
    "    plt.xlabel(r'$k$', fontsize=20)\n",
    "    plt.ylabel(r'$P(k)$', fontsize=20)\n",
    "    \n",
    "```\n",
    "\n",
    "    \n",
    "</p>\n",
    "</details>"
   ]
  },
  {
   "cell_type": "markdown",
   "metadata": {},
   "source": [
    "### Exercise\n",
    "* Create a Barabási-Albert graph with 100 Nodes and $m=2$\n",
    "* Plot the graph assigning the size of the nodes proportional to its degree"
   ]
  },
  {
   "cell_type": "code",
   "execution_count": null,
   "metadata": {},
   "outputs": [],
   "source": []
  },
  {
   "cell_type": "markdown",
   "metadata": {},
   "source": [
    "<details><summary><u>Solution.</u></summary>\n",
    "<p>\n",
    "\n",
    "\n",
    "```python\n",
    "    \n",
    "    BA_graph = nx.barabasi_albert_graph(100,2)\n",
    "    nx.draw_networkx(BA_graph, with_labels=False,node_size=\\\n",
    "                     [BA_graph.degree[n]*20 for n in BA_graph.nodes],node_color=niceblu, edge_color='grey')\n",
    "    plt.axis('off')\n",
    "    plt.show()\n",
    "```\n",
    "\n",
    "    \n",
    "</p>\n",
    "</details>\n"
   ]
  },
  {
   "cell_type": "markdown",
   "metadata": {},
   "source": [
    "## Connected Components"
   ]
  },
  {
   "cell_type": "code",
   "execution_count": null,
   "metadata": {},
   "outputs": [],
   "source": [
    "ER_graph=nx.erdos_renyi_graph(100, 0.02)\n",
    "nx.draw_networkx(ER_graph, with_labels=False,node_size=30, node_color=niceblu)\n",
    "plt.axis('off')\n",
    "plt.show()"
   ]
  },
  {
   "cell_type": "code",
   "execution_count": null,
   "metadata": {},
   "outputs": [],
   "source": [
    "for c in nx.connected_components(ER_graph):\n",
    "    print(c)"
   ]
  },
  {
   "cell_type": "markdown",
   "metadata": {},
   "source": [
    "### Exercise\n",
    "* Create Erdős-Rényi graphs with p=0.00001 - 0.003 with steps 0.0002\n",
    "* plot the size of the largest component normalized by the total number of nodes versus the average degree\n"
   ]
  },
  {
   "cell_type": "markdown",
   "metadata": {},
   "source": [
    "<details><summary><u>Hint.</u></summary>\n",
    "<p>\n",
    "Create a loop and in each pass save the size of the largest component nomalized by the total number of nodes and the average degree. You might use lists to save the values\n",
    "    \n",
    "</p>\n",
    "</details>\n"
   ]
  },
  {
   "cell_type": "code",
   "execution_count": null,
   "metadata": {},
   "outputs": [],
   "source": []
  },
  {
   "cell_type": "markdown",
   "metadata": {},
   "source": [
    "<details><summary><u>Solution.</u></summary>\n",
    "<p>\n",
    "\n",
    "\n",
    "```python\n",
    "    \n",
    "    data = []\n",
    "    degrees = []\n",
    "    for p in np.arange(.0001,0.006,0.0001):\n",
    "        ER_graph = nx.erdos_renyi_graph(1000,p)\n",
    "        data.append(len(sorted(nx.connected_components(ER_graph), key = len, reverse=True)[0])/1000)\n",
    "        degree = np.mean(list(dict(ER_graph.degree).values()))\n",
    "        degrees.append(degree)\n",
    "    fig = plt.figure(figsize=(10,5))\n",
    "    plt.plot(degrees,data,\"r-\")\n",
    "    plt.xlabel('$<k>$')\n",
    "    plt.ylabel('$N_G/N$')\n",
    "    \n",
    "```\n",
    "\n",
    "    \n",
    "</p>\n",
    "</details>"
   ]
  },
  {
   "cell_type": "markdown",
   "metadata": {},
   "source": [
    "## Exercise\n",
    "Print out the size of the largest component"
   ]
  },
  {
   "cell_type": "markdown",
   "metadata": {},
   "source": [
    "<details><summary><u>Hint.</u></summary>\n",
    "<p>\n",
    "You can use the function sorted()\n",
    "\n",
    "    \n",
    "</p>\n",
    "</details>\n"
   ]
  },
  {
   "cell_type": "code",
   "execution_count": null,
   "metadata": {},
   "outputs": [],
   "source": []
  },
  {
   "cell_type": "markdown",
   "metadata": {},
   "source": [
    "<details><summary><u>Solution.</u></summary>\n",
    "<p>\n",
    "\n",
    "\n",
    "```python\n",
    "    \n",
    "   print('Size of largest connected component: %d' % len(sorted(nx.connected_components(ER_graph),key = len, reverse=True)[0]))\n",
    "```\n",
    "\n",
    "    \n",
    "</p>\n",
    "</details>\n"
   ]
  },
  {
   "cell_type": "markdown",
   "metadata": {},
   "source": [
    "### Exercise\n",
    "* Read the edge_list <pre>G=nx.read_edgelist(\"Network.txt\",nodetype=int)</pre>\n",
    "* plot the network\n",
    "* remove the node 53\n",
    "* detect the connected components, how many are there?\n",
    "* Keep only the largest components (delete the rest)\n",
    "* plot the degree distribution"
   ]
  },
  {
   "cell_type": "code",
   "execution_count": null,
   "metadata": {},
   "outputs": [],
   "source": []
  },
  {
   "cell_type": "markdown",
   "metadata": {},
   "source": [
    "## Exercise\n",
    "Simulate random failure and attack in networks:\n",
    "* Create a function ```failure(G)``` that takes a graph and do the following: \n",
    "    * Record into a list the initial size of the Largest Connected Component\n",
    "    * Iterate over the range of $N-1$, and in each iteration:\n",
    "        * Remove a randomly selected node\n",
    "        * Save the size of the Largest Connected Component\n",
    " \n",
    "\n",
    "* Create a function ```attack(G)``` that takes a graph and do the following: \n",
    "    * Record into a list the initial size of the Largest Connected Component\n",
    "    * Iterate over the range of $N-1$, and in each iteration:\n",
    "        * Pick the node with the largest degree\n",
    "        * Remove the selected node from the network\n",
    "        * Save the size of the Largest Connected Component\n",
    "\n",
    "\n",
    "* Create two Barabási-Albert graphs with $N=1000$ and $m=2$, and random seed = 123 (to get the same network every time we run it\n",
    "* Use your functions on your graphs\n",
    "* Plot the normalized size of the Largest Connected Component for each function vs the fraction of removed nodes\n",
    "\n",
    "* What happens if you modify $m$ does it behaive simmilarly or not?"
   ]
  },
  {
   "cell_type": "code",
   "execution_count": null,
   "metadata": {},
   "outputs": [],
   "source": []
  },
  {
   "cell_type": "markdown",
   "metadata": {},
   "source": [
    "<details><summary><u>Solution.</u></summary>\n",
    "<p>\n",
    "\n",
    "\n",
    "```python\n",
    "    def failure(G):\n",
    "        size = []\n",
    "        size.append(len(sorted(nx.connected_components(G),key = len, reverse=True)[0]))\n",
    "        for i in range(1000-1):\n",
    "            G.remove_node(np.random.choice(list(G.nodes())))\n",
    "            size.append(len(sorted(nx.connected_components(G),key = len, reverse=True)[0]))\n",
    "        return size\n",
    "\n",
    "    def attack(G):\n",
    "        size = []\n",
    "        size.append(len(sorted(nx.connected_components(G),key = len, reverse=True)[0]))\n",
    "        for i in range(1000-1):\n",
    "            j = sorted(G.degree, key=lambda x: x[1], reverse=True)[0][0]\n",
    "            G.remove_node(j)\n",
    "            size.append(len(sorted(nx.connected_components(G),key = len, reverse=True)[0]))\n",
    "        return size\n",
    "\n",
    "    G_BA = nx.barabasi_albert_graph(1000,2,123)\n",
    "    G_BA2 = nx.barabasi_albert_graph(1000,2,123)\n",
    "\n",
    "    fig = plt.figure(figsize=(5,5))\n",
    "    plt.plot([i/1000 for i in range(1000)],[i/1000 for i in failure(G_BA)], label='Failure')\n",
    "    plt.plot([i/1000 for i in range(1000)],[i/1000 for i in attack(G_BA2)], label='Attack')\n",
    "    plt.legend()\n",
    "    \n",
    "```\n",
    "\n",
    "    \n",
    "</p>\n",
    "</details>"
   ]
  },
  {
   "cell_type": "code",
   "execution_count": null,
   "metadata": {},
   "outputs": [],
   "source": []
  }
 ],
 "metadata": {
  "kernelspec": {
   "display_name": "Python 3",
   "language": "python",
   "name": "python3"
  },
  "language_info": {
   "codemirror_mode": {
    "name": "ipython",
    "version": 3
   },
   "file_extension": ".py",
   "mimetype": "text/x-python",
   "name": "python",
   "nbconvert_exporter": "python",
   "pygments_lexer": "ipython3",
   "version": "3.9.0 (tags/v3.9.0:9cf6752, Oct  5 2020, 15:34:40) [MSC v.1927 64 bit (AMD64)]"
  },
  "vscode": {
   "interpreter": {
    "hash": "81794d4967e6c3204c66dcd87b604927b115b27c00565d3d43f05ba2f3a2cb0d"
   }
  }
 },
 "nbformat": 4,
 "nbformat_minor": 4
}
