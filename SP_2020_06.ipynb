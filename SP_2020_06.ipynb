{
 "cells": [
  {
   "cell_type": "markdown",
   "metadata": {},
   "source": [
    "# DNDS6013 Scientific Python: 6th Class\n",
    "## Central European University, Winter 2019/2020\n",
    "\n",
    "Instructor: Márton Pósfai, TA: Luis Natera Orozco\n",
    "\n",
    "Emails: posfaim@ceu.edu, natera_luis@phd.ceu.edu\n",
    "\n"
   ]
  },
  {
   "cell_type": "markdown",
   "metadata": {},
   "source": [
    "## Today's plan\n",
    "* More plotting w `matplotlib`\n",
    "* Date and time\n",
    "\n",
    "Submit your solutions to the [slack channel](http://sp2020winter.slack.com).\n",
    "\n",
    "## Final project\n",
    "* 40% of the final grade\n",
    "* Your project should perform a self-contained analysis of some empirical dataset, making use of the Python tools we have learned in this course.\n",
    "* You are free to choose the origin and nature of the data you will use\n",
    "* Instructions in notebook on Moodle\n",
    "* The final deadline April 15th\n"
   ]
  },
  {
   "cell_type": "markdown",
   "metadata": {},
   "source": [
    "## Recap -- Numpy\n",
    "\n",
    "* powerful N-dimensional array object\n",
    "* fast numerical calculations and loops implemented in C/Fortran\n",
    "* random number generators"
   ]
  },
  {
   "cell_type": "code",
   "execution_count": null,
   "metadata": {},
   "outputs": [],
   "source": [
    "import numpy as np\n",
    "\n",
    "a = np.array([1,2,3,4,5,6])\n",
    "print('a=',a)\n",
    "print('dimension =',np.ndim(a),'shape =',a.shape)\n",
    "\n",
    "b = np.arange(6).reshape(3,2)\n",
    "print('b=\\n',b)\n",
    "print('dimension =',np.ndim(b),'shape =',b.shape)\n"
   ]
  },
  {
   "cell_type": "markdown",
   "metadata": {},
   "source": [
    "### Array operations"
   ]
  },
  {
   "cell_type": "code",
   "execution_count": null,
   "metadata": {},
   "outputs": [],
   "source": [
    "a = np.arange(9).reshape((3,3))\n",
    "b = np.ones((3,3))\n",
    "print(a)\n",
    "print(b)\n",
    "print(2*b)\n",
    "print(a+b)\n",
    "print(np.sin(a))"
   ]
  },
  {
   "cell_type": "markdown",
   "metadata": {},
   "source": [
    "\n",
    "### Loops and array operations (important!)\n",
    "\n",
    "Array operations off-load Python loops to compiled C code, leading to large performance improvements.\n",
    "\n",
    "Consider:\n"
   ]
  },
  {
   "cell_type": "code",
   "execution_count": null,
   "metadata": {},
   "outputs": [],
   "source": [
    "import timeit\n",
    "import math\n",
    "\n",
    "n = 1000000\n",
    "\n",
    "def f(n):\n",
    "    y = []\n",
    "    for i in range(n):\n",
    "        y.append(math.cos(i) + i** 2)\n",
    "    return sum(y)\n",
    "\n",
    "print(f(n))\n",
    "x = np.arange(n)\n",
    "print(np.sum(np.cos(x) + x ** 2))  # array expression  \n",
    "\n",
    "print(\"for loop runtime:\",   timeit.timeit(\"f(n)\", number=1, globals=globals()))\n",
    "print(\"numpy array runtime:\",timeit.timeit(\"np.sum(np.cos(x) + x ** 2)\", number=1, globals=globals()))"
   ]
  },
  {
   "cell_type": "markdown",
   "metadata": {},
   "source": [
    "### Pseudo-random numbers"
   ]
  },
  {
   "cell_type": "code",
   "execution_count": null,
   "metadata": {},
   "outputs": [],
   "source": [
    "print(np.random.random(size=10)) #uniform random in [0,1)\n",
    "print(np.random.randint(0, 10, size=10)) #random integer from 0..9\n",
    "print(np.random.normal(loc=1, scale=2, size=(2,2))) #random normal with mean=1, standard deviation=2 \n",
    "print(np.random.choice([\"Budapest\",\"Szakonya\",\"Szeged\"],size=4))"
   ]
  },
  {
   "cell_type": "markdown",
   "metadata": {},
   "source": [
    "### Exercise -- Numpy array operations\n",
    "\n",
    "* Write a for loop expression that calculates $n!$\n",
    "* Write a `numpy` expression that does the same.\n",
    "\n",
    "<details><summary><u>Hint</u></summary>\n",
    "<p>\n",
    "\n",
    "You can use the function `np.prod(x)` to calculate the product of the elements of `x`.\n",
    "    \n",
    "</p>\n",
    "</details>"
   ]
  },
  {
   "cell_type": "code",
   "execution_count": null,
   "metadata": {},
   "outputs": [],
   "source": [
    "n = 10\n"
   ]
  },
  {
   "cell_type": "markdown",
   "metadata": {},
   "source": [
    "<details><summary><u>Solution.</u></summary>\n",
    "<p>\n",
    "    \n",
    "```python\n",
    "n = 10\n",
    "\n",
    "f = 1\n",
    "for i in range(1,n):\n",
    "    f *= i\n",
    "print(f)\n",
    "\n",
    "print( np.prod(np.arange(1,n)) )\n",
    "```\n",
    "    \n",
    "</p>\n",
    "</details>"
   ]
  },
  {
   "cell_type": "code",
   "execution_count": null,
   "metadata": {},
   "outputs": [],
   "source": []
  },
  {
   "cell_type": "markdown",
   "metadata": {},
   "source": [
    "## Plotting with `matplotlib`\n",
    "\n",
    "The plotting tool most people default to. Very flexible, but documentation can be daunting. Good strategy to familiarize yourself with plotting is [tutorials](https://matplotlib.org/tutorials/introductory/pyplot.html) and [examples](https://matplotlib.org/gallery/)."
   ]
  },
  {
   "cell_type": "code",
   "execution_count": null,
   "metadata": {},
   "outputs": [],
   "source": [
    "import matplotlib.pyplot as plt\n",
    "\n",
    "x = np.arange(10)\n",
    "y = x**2\n",
    "\n",
    "fig  = plt.figure()\n",
    "axes = plt.axes()\n",
    "\n",
    "axes.plot(x, y, 'o-r')\n",
    "plt.plot(x,2*y,'^--k')\n",
    "\n",
    "plt.xlabel('x')\n",
    "axes.set_ylabel('y')\n",
    "\n",
    "plt.title('title')\n",
    "\n",
    "plt.show()"
   ]
  },
  {
   "cell_type": "markdown",
   "metadata": {},
   "source": [
    "Lot of things can be done automatically. Quick plot in jupyter notebooks in one line:"
   ]
  },
  {
   "cell_type": "code",
   "execution_count": null,
   "metadata": {},
   "outputs": [],
   "source": [
    "x = np.arange(10)\n",
    "y = x**2\n",
    "\n",
    "plt.plot(x, y, 'o-r')#;"
   ]
  },
  {
   "cell_type": "markdown",
   "metadata": {},
   "source": [
    "### Subplots"
   ]
  },
  {
   "cell_type": "code",
   "execution_count": null,
   "metadata": {},
   "outputs": [],
   "source": [
    "fig, axes = plt.subplots(nrows=1, ncols=2, figsize=(12,4))\n",
    "\n",
    "x = np.random.normal(2,1,10000)\n",
    "\n",
    "true_or_false = True\n",
    "for ax in axes:\n",
    "    ax.hist(x, 50, density=true_or_false, facecolor='g')\n",
    "    ax.set_xlabel('x')\n",
    "    ax.set_ylabel('y')\n",
    "    ax.set_title('title')\n",
    "    true_or_false = not true_or_false\n",
    "\n"
   ]
  },
  {
   "cell_type": "markdown",
   "metadata": {},
   "source": [
    "### Exercise -- 1D histogram, part 1\n",
    "* Create a random number series of 0s and 1s of length 10000.\n",
    "* Plot a histogram with two bins for the 0s and 1s, respectively.\n",
    "\n",
    "<details><summary><u>Hint.</u></summary>\n",
    "<p>\n",
    "\n",
    "You can use the function `np.random.randint()` to generate the series of 0s and 1s.\n",
    "    \n",
    "</p>\n",
    "</details>\n"
   ]
  },
  {
   "cell_type": "code",
   "execution_count": null,
   "metadata": {
    "scrolled": false
   },
   "outputs": [],
   "source": []
  },
  {
   "cell_type": "markdown",
   "metadata": {},
   "source": [
    "<details><summary><u>Solution.</u></summary>\n",
    "<p>\n",
    "    \n",
    "```python\n",
    "a=np.random.randint(0,2,10000)\n",
    "print(a[:10])\n",
    "\n",
    "plt.hist(a, [-.5,.5,1.5], density=True, facecolor='b', alpha=.5, rwidth=.8)\n",
    "plt.xticks([0,1]);\n",
    "```\n",
    "    \n",
    "</p>\n",
    "</details>"
   ]
  },
  {
   "cell_type": "markdown",
   "metadata": {},
   "source": [
    "### Exercise -- 1D histogram, part 2\n",
    "* Count the length of the successive 1s (e.g. 0111010 the first sequence has a length of 3 the second has a length of 1). For this use a `for` loop and not array operations.\n",
    "* Plot a histogram from these values with a separate bin for each integer.\n",
    "* Set the y axis to logarithmic scale. What function do you see? Can you explain why? \n",
    "\n",
    "<details><summary><u>Hint 1.</u></summary>\n",
    "<p>\n",
    "\n",
    "* Start from an empty list `counts=[]`\n",
    "* Count 1s.\n",
    "* If you find a 0, append `counts`\n",
    "    \n",
    "</p>\n",
    "</details>\n",
    "\n",
    "<details><summary><u>Hint 2.</u></summary>\n",
    "<p>\n",
    "\n",
    "To set y axis to logarithmic scale, use `plt.yscale('log')`.\n",
    "    \n",
    "</p>\n",
    "</details>"
   ]
  },
  {
   "cell_type": "code",
   "execution_count": null,
   "metadata": {},
   "outputs": [],
   "source": []
  },
  {
   "cell_type": "markdown",
   "metadata": {},
   "source": [
    "<details><summary><u>Solution.</u></summary>\n",
    "<p>\n",
    "    \n",
    "```python\n",
    "a=np.random.randint(0,2,10000)\n",
    "counts = []\n",
    "count = 0\n",
    "for x in a:\n",
    "    if x==1:\n",
    "        count+=1\n",
    "    elif count>0:\n",
    "        counts.append(count)\n",
    "        count=0\n",
    "\n",
    "plt.hist(counts, np.arange(0.5, max(counts)+1,1.), density=True, facecolor='g', alpha=.5, rwidth=.8)\n",
    "\n",
    "#expected theoretical function\n",
    "#x = np.arange(1.,max(counts)+1)\n",
    "#plt.plot(x,2.**(-x-1), 'o')\n",
    "\n",
    "#plt.yscale('log')\n",
    "\n",
    "plt.show()\n",
    "```\n",
    "    \n",
    "</p>\n",
    "</details>"
   ]
  },
  {
   "cell_type": "markdown",
   "metadata": {},
   "source": [
    "**Advanced**: We can count the 1-sequences with creative use of numpy array operations such as functions `np.cumsum()` and `np.diff()`."
   ]
  },
  {
   "cell_type": "code",
   "execution_count": null,
   "metadata": {},
   "outputs": [],
   "source": [
    "# generate a random series of 0s and 1s\n",
    "n = 10\n",
    "a = np.random.randint(0,2,n)\n",
    "print('a=',a)\n",
    "\n",
    "padded_a = np.concatenate(([0],a,[0])) #we pad a with zeros, this will be useful later\n",
    "print('padded_a=',padded_a)\n",
    "b = padded_a.cumsum() #b[i] = sum of elements left of i+1\n",
    "print('b=',b)\n",
    "\n",
    "#mask to select end of series of 1s (this is where it is useful that we padded a)\n",
    "c = b[1:-1][(b[1:-1]==b[2:]) & (b[1:-1]>b[:-2]) ]\n",
    "print('c=',c)\n",
    "\n",
    "#the count of 1s is equal to the jump between c[i] and c[i+1]\n",
    "#we can calculate this with np.diff()\n",
    "counts=np.diff(c,prepend=0)\n",
    "\n",
    "print('counts=',counts)"
   ]
  },
  {
   "cell_type": "markdown",
   "metadata": {},
   "source": [
    "### Curve fitting\n",
    "\n",
    "Generate noisy data:"
   ]
  },
  {
   "cell_type": "code",
   "execution_count": null,
   "metadata": {},
   "outputs": [],
   "source": [
    "import numpy as np\n",
    "import matplotlib.pyplot as plt\n",
    "\n",
    "# Seed the random number generator for reproducibility\n",
    "np.random.seed(42)\n",
    "\n",
    "x_data = np.linspace(-6, 6, num=50)\n",
    "y_data = 2.5 * np.sin(1.5 * x_data) + np.random.normal(size=50) / 2\n",
    "\n",
    "# And plot it\n",
    "plt.figure(figsize=(6, 4))\n",
    "plt.scatter(x_data, y_data)\n",
    "plt.show()"
   ]
  },
  {
   "cell_type": "markdown",
   "metadata": {},
   "source": [
    "Use `scipy` module to fit a test function to the data."
   ]
  },
  {
   "cell_type": "code",
   "execution_count": null,
   "metadata": {},
   "outputs": [],
   "source": [
    "from scipy import optimize\n",
    "\n",
    "def test_func(x, a, b):\n",
    "    return a * np.sin(b * x)\n",
    "\n",
    "params, params_covariance = optimize.curve_fit(test_func, x_data, y_data,\n",
    "                                               p0=[2, 2])\n",
    "\n",
    "print(params)\n",
    "print(params_covariance)"
   ]
  },
  {
   "cell_type": "markdown",
   "metadata": {},
   "source": [
    "Plot result:"
   ]
  },
  {
   "cell_type": "code",
   "execution_count": null,
   "metadata": {},
   "outputs": [],
   "source": [
    "fig = plt.figure()\n",
    "axes = plt.axes()\n",
    "\n",
    "plt.plot(x_data, y_data, 'o', label='Data')\n",
    "plt.plot(x_data, test_func(x_data, params[0], params[1]),\n",
    "         label='Fitted function')\n",
    "\n",
    "plt.legend(loc='upper left')\n",
    "\n",
    "#axes = plt.gca()\n",
    "#axes.set_ylim([-3.2,4.5])\n",
    "\n",
    "plt.show()"
   ]
  },
  {
   "cell_type": "markdown",
   "metadata": {},
   "source": [
    "### Exercise -- curve fitting\n",
    "* Generate a series of points from a noisy parabola model\n",
    "$$ y = a x^2 + bx + \\eta $$\n",
    "where $\\eta$ is random, normal-distributed variable with mean zero and variance one.\n",
    "* From the data you generate, use the `curve_fit` function to obtain an estimate of the $a$ and $b$ parameters.\n",
    "* Plot the function you fitted over the data.\n"
   ]
  },
  {
   "cell_type": "code",
   "execution_count": null,
   "metadata": {
    "scrolled": true
   },
   "outputs": [],
   "source": []
  },
  {
   "cell_type": "markdown",
   "metadata": {},
   "source": [
    "<details><summary><u>Solution.</u></summary>\n",
    "<p>\n",
    "    \n",
    "```python\n",
    "# Seed the random number generator for reproducibility\n",
    "np.random.seed(42)\n",
    "\n",
    "# Seed the random number generator for reproducibility\n",
    "np.random.seed(42)\n",
    "\n",
    "x_data = np.linspace(-6, 6, num=50)\n",
    "a=1\n",
    "b=-2\n",
    "y_data = a * x_data**2. + b*x_data + np.random.normal(size=50)\n",
    "\n",
    "def test_func(x, a, b):\n",
    "    return a * x**2. + b*x_data\n",
    "\n",
    "params, params_covariance = optimize.curve_fit(test_func, x_data, y_data,\n",
    "                                               p0=[2, 2])\n",
    "\n",
    "print(params)\n",
    "\n",
    "plt.figure()\n",
    "plt.plot(x_data, y_data, label='Data')\n",
    "plt.plot(x_data, test_func(x_data, params[0], params[1]),\n",
    "         label='Fitted function')\n",
    "\n",
    "plt.legend()\n",
    "plt.show()\n",
    "```\n",
    "    \n",
    "</p>\n",
    "</details>"
   ]
  },
  {
   "cell_type": "markdown",
   "metadata": {},
   "source": [
    "## Read temperature csv file for further plotting\n",
    "Read the towns.csv file.\n",
    "<pre>\n",
    "#town Jan Feb Mar Apr May Jun Jul Aug Sep Oct Nov Dec\n",
    "Tallinn -3 -5 -1 3 10 13 16 15 10 6 1 -2\n",
    "Beijing -3 0 6 13 20 24 26 25 20 13 5 -1\n",
    "Berlin 0 -1 4 7 12 16 18 17 14 9 4 1\n",
    "Buenos_Aires 23 22 20 16 13 10 10 11 13 16 18 22\n",
    "Cairo 13 15 17 21 25 27 28 27 26 23 19 15\n",
    "Cape_Town 21 21 20 17 15 13 12 13 14 16 18 20\n",
    "Helsinki -5 -6 -2 3 10 13 16 15 10 5 0 -3\n",
    "London 3 3 6 7 11 14 16 16 13 10 6 5\n",
    "Moscow -8 -7 -2 5 12 15 17 15 10 3 -2 -6\n",
    "Ottawa -10 -8 -2 6 13 18 21 20 14 7 1 -7\n",
    "Paris 3 4 7 10 13 16 19 19 16 11 6 5\n",
    "Riga -3 -3 1 5 11 15 17 16 12 7 2 -1\n",
    "Rome 8 8 11 12 17 20 23 23 21 17 12 9\n",
    "Singapore 27 27 28 28 28 28 28 28 27 27 27 26\n",
    "Stockholm -2 -3 0 3 10 14 17 16 11 6 1 -2\n",
    "Washington_D.C. 2 3 7 13 18 23 26 25 21 15 9 3\n",
    "</pre>"
   ]
  },
  {
   "cell_type": "code",
   "execution_count": null,
   "metadata": {
    "scrolled": true
   },
   "outputs": [],
   "source": [
    "with open('towns.csv', encoding=\"utf-8\") as f:\n",
    "    # read header\n",
    "    first_line = f.readline()\n",
    "    months = first_line.strip().split(' ')[1:]\n",
    "    print(first_line)\n",
    "    print(first_line.strip())\n",
    "    print(first_line.strip().split(' '))\n",
    "    print(months)\n",
    "    \n",
    "    \n",
    "    #read the rest of the file in a dictionary\n",
    "    city_temps = {}\n",
    "    for line in f:\n",
    "        L = line.strip().split(' ')\n",
    "        city_temps[L[0]] = np.array([ float(t) for t in L[1:]])\n",
    "\n",
    "print()\n",
    "print('Temperatures in Rome:',city_temps['Rome'])\n",
    "print('Temperatures in Helsinki:',city_temps['Helsinki'])"
   ]
  },
  {
   "cell_type": "markdown",
   "metadata": {},
   "source": [
    "### Exercise -- dictionaries, arrays\n",
    "\n",
    "Print the list of cities in which there are freezing temperatures\n",
    "\n",
    "<details><summary><u>Hint.</u></summary>\n",
    "<p>\n",
    "\n",
    "You can test if any element of an array is `True` using the `np.any()` function. For example, to see if any element of `x` is less than zero use `np.any(x<0)`\n",
    "    \n",
    "</p>\n",
    "</details>"
   ]
  },
  {
   "cell_type": "code",
   "execution_count": null,
   "metadata": {
    "scrolled": true
   },
   "outputs": [],
   "source": []
  },
  {
   "cell_type": "markdown",
   "metadata": {},
   "source": [
    "<details><summary><u>Solution.</u></summary>\n",
    "<p>\n",
    "    \n",
    "```python\n",
    "freezing_cities = [c for c in city_temps if np.any(city_temps[c]<0)]\n",
    "print(freezing_cities)\n",
    "```\n",
    "    \n",
    "</p>\n",
    "</details>"
   ]
  },
  {
   "cell_type": "markdown",
   "metadata": {},
   "source": [
    "### Exercise -- plot histograms\n",
    "Create a histogram from the mean temperatures of towns, bin with should be 5 degrees from -5 to +30.\n",
    "\n",
    "<details><summary><u>Hint 1.</u></summary>\n",
    "<p>\n",
    "\n",
    "You can calculate the mean of a numpy array `x` using the `np.mean(x)` function.\n",
    "    \n",
    "</p>\n",
    "</details>\n",
    "\n",
    "<details><summary><u>Hint 2.</u></summary>\n",
    "<p>\n",
    "\n",
    "To set the bin range for the histogram use `bins=np.arange(-5,31,5)`. \n",
    "    \n",
    "</p>\n",
    "</details>"
   ]
  },
  {
   "cell_type": "code",
   "execution_count": null,
   "metadata": {},
   "outputs": [],
   "source": []
  },
  {
   "cell_type": "markdown",
   "metadata": {},
   "source": [
    "<details><summary><u>Solution.</u></summary>\n",
    "<p>\n",
    "    \n",
    "```python\n",
    "meantemps = np.array([np.mean(t) for t in city_temps.values() ])\n",
    "\n",
    "plt.figure()\n",
    "plt.hist(meantemps, bins=np.arange(-5,31,5), facecolor='g', alpha=.5)\n",
    "plt.xlabel('Average temperature')\n",
    "plt.ylabel('Count')\n",
    "plt.show()\n",
    "```\n",
    "    \n",
    "</p>\n",
    "</details>"
   ]
  },
  {
   "cell_type": "markdown",
   "metadata": {},
   "source": [
    "### Line plot\n",
    "\n",
    "Plot the temperature vs months for a selected set of cities."
   ]
  },
  {
   "cell_type": "code",
   "execution_count": null,
   "metadata": {
    "scrolled": true
   },
   "outputs": [],
   "source": [
    "selected_cities = 'Rome', 'Cairo', 'Cape_Town'\n",
    "\n",
    "fig, ax = plt.subplots()\n",
    "for c in selected_cities:\n",
    "    ax.plot(city_temps[c], label=c)\n",
    "\n",
    "plt.legend()\n",
    "#ax.set_xticks(range(12))\n",
    "#ax.set_xticklabels(months);\n",
    "plt.show()"
   ]
  },
  {
   "cell_type": "markdown",
   "metadata": {},
   "source": [
    "### Exercise\n",
    "\n",
    "Plot the temperature change compared to the previous month for the selected cities."
   ]
  },
  {
   "cell_type": "code",
   "execution_count": null,
   "metadata": {},
   "outputs": [],
   "source": []
  },
  {
   "cell_type": "markdown",
   "metadata": {},
   "source": [
    "<details><summary><u>Solution.</u></summary>\n",
    "<p>\n",
    "    \n",
    "```python\n",
    "selected_cities = 'Rome', 'Cairo', 'Cape_Town'\n",
    "\n",
    "temp_diff = {}\n",
    "for c in selected_cities:\n",
    "    temp_diff[c] = city_temps[c]-city_temps[c][np.arange(1,13)%12]\n",
    "\n",
    "fig, ax = plt.subplots()\n",
    "for c in selected_cities:\n",
    "    ax.plot(temp_diff[c], label=c)\n",
    "\n",
    "plt.legend()\n",
    "ax.set_xticks(range(12))\n",
    "ax.set_xticklabels(months)\n",
    "plt.show()\n",
    "```\n",
    "    \n",
    "</p>\n",
    "</details>"
   ]
  },
  {
   "cell_type": "markdown",
   "metadata": {},
   "source": [
    "### Polar plot "
   ]
  },
  {
   "cell_type": "code",
   "execution_count": null,
   "metadata": {},
   "outputs": [],
   "source": [
    "city = 'Rome'"
   ]
  },
  {
   "cell_type": "code",
   "execution_count": null,
   "metadata": {
    "scrolled": true
   },
   "outputs": [],
   "source": [
    "fig = plt.figure(figsize=(5,5))\n",
    "ax  = plt.axes(polar=True)\n",
    "\n",
    "heights = city_temps[city]\n",
    "N       = len(heights)\n",
    "thetas  = np.linspace(0.0, 2*np.pi, N+1)[:-1] + np.pi/N\n",
    "width   = 0.9*(2*np.pi/N)\n",
    "\n",
    "bars    = ax.bar(thetas, heights, lw=0.5, width=width, color='#31a354', label = city)\n",
    "\n",
    "# refining the plot.\n",
    "plt.grid(axis='x', ls = '--', alpha=0.4)\n",
    "plt.grid(axis='y', color = 'k', alpha=0.4)\n",
    "ax.set_xticks(thetas)\n",
    "ax.set_xticklabels(months)\n",
    "ax.spines['polar'].set_visible(False)\n",
    "plt.legend()\n",
    "plt.savefig(\"plot.pdf\")"
   ]
  },
  {
   "cell_type": "markdown",
   "metadata": {},
   "source": [
    "## Error bars\n",
    "\n",
    "Let's simulate some noisy measurement repeated several times:"
   ]
  },
  {
   "cell_type": "code",
   "execution_count": null,
   "metadata": {
    "scrolled": true
   },
   "outputs": [],
   "source": [
    "n_points  = 50 #number of data points in one measurement\n",
    "n_samples = 10 #number of measurements\n",
    "\n",
    "\n",
    "x = np.linspace(0, 100, n_points)\n",
    "\n",
    "#linear function with Gaussian noise\n",
    "def f(x): return 2*x+50*np.random.normal(size = len(x))\n",
    "\n",
    "\n",
    "ys = np.array([f(x) for i in range(n_samples)]) #each row is a measurement\n",
    "\n",
    "print(ys.shape)\n",
    "print(ys[0][:10])\n",
    "\n"
   ]
  },
  {
   "cell_type": "code",
   "execution_count": null,
   "metadata": {},
   "outputs": [],
   "source": [
    "for y in ys: plt.plot(x, y, '.', alpha=0.3);"
   ]
  },
  {
   "cell_type": "markdown",
   "metadata": {},
   "source": [
    "Let's calculate the averages for given x values:"
   ]
  },
  {
   "cell_type": "code",
   "execution_count": null,
   "metadata": {},
   "outputs": [],
   "source": [
    "print(np.mean(ys)) #average of all elements of ys -> not what we want\n",
    "\n",
    "average_values = np.mean(ys, axis=0)\n",
    "errs = np.std(ys, axis=0) / np.sqrt(n_samples) #calculate standard error of the mean\n",
    "\n",
    "print(average_values.shape)\n",
    "print(average_values[:10])"
   ]
  },
  {
   "cell_type": "code",
   "execution_count": null,
   "metadata": {},
   "outputs": [],
   "source": [
    "# scatter plot\n",
    "for y in ys: plt.plot(x, y, '.', alpha=0.3)\n",
    "\n",
    "# error bar\n",
    "plt.errorbar(x, average_values, yerr=errs, elinewidth=1)\n",
    "plt.xlabel('x')\n",
    "plt.ylabel('y');"
   ]
  },
  {
   "cell_type": "markdown",
   "metadata": {},
   "source": [
    "## Color map"
   ]
  },
  {
   "cell_type": "code",
   "execution_count": null,
   "metadata": {},
   "outputs": [],
   "source": [
    "n_points = 1000\n",
    "\n",
    "x = np.random.normal(0, 1, size=n_points)\n",
    "y = np.random.normal(0, 2, size=n_points)\n",
    "\n",
    "plt.plot(x,y,'o');"
   ]
  },
  {
   "cell_type": "code",
   "execution_count": null,
   "metadata": {
    "scrolled": true
   },
   "outputs": [],
   "source": [
    "n_points = 1000000\n",
    "\n",
    "x = np.random.normal(0, 1, size=n_points)\n",
    "y = np.random.normal(0, 2, size=n_points)\n",
    "\n",
    "plt.hist2d(x,y, bins=100);\n"
   ]
  },
  {
   "cell_type": "markdown",
   "metadata": {},
   "source": [
    "# Dealing with dates and times\n",
    "\n",
    "Timestamps can be surprisingly tricky to deal with in programs. For example:\n",
    "\n",
    "* How many days are between October 26, 1985 and today?\n",
    "\n",
    "To answer this properly, you need full information on the calendar, including leap years, time zones, etc.\n",
    "\n",
    "### Datetime\n",
    "\n",
    "Fortunately, python has [builtin support for date and time data](http://docs.python.org/2/library/datetime.html). It's not trivial to use but it works.\n",
    "\n",
    "Let's answer the above question. `datetime` gives us useful date objects, `date`, `time`, and `datetime`. These let us store a date, a time of day, or both, respectively."
   ]
  },
  {
   "cell_type": "code",
   "execution_count": null,
   "metadata": {},
   "outputs": [],
   "source": [
    "import datetime\n",
    "\n",
    "D1 = datetime.date(1985, 10, 26)\n",
    "T1 = datetime.time(12, 0, 0) # noon\n",
    "DT = datetime.datetime(1985, 10, 26, 12, 0, 0)\n",
    "\n",
    "# Typically you want to work with datetime because you can\n",
    "# omit the time values and then it defaults to midnight.\n",
    "D = datetime.datetime(1985,10,26)"
   ]
  },
  {
   "cell_type": "markdown",
   "metadata": {},
   "source": [
    "Once you have a `datetime` object you can do fancy things with it:"
   ]
  },
  {
   "cell_type": "code",
   "execution_count": null,
   "metadata": {},
   "outputs": [],
   "source": [
    "print(\"The year was %i and the day was %i.\" % (D.year, D.day))\n",
    "\n",
    "print (\"The day of the week was %i.\" % (D.weekday()))\n",
    "print (\"(Monday = 0, ..., Sunday = 6.)\")"
   ]
  },
  {
   "cell_type": "code",
   "execution_count": null,
   "metadata": {},
   "outputs": [],
   "source": [
    "Dnow = datetime.datetime.now()\n",
    "print(Dnow)"
   ]
  },
  {
   "cell_type": "markdown",
   "metadata": {},
   "source": [
    "We can format the time using for example strftime (all information about the format [ here](https://docs.python.org/2/library/datetime.html#strftime-strptime-behavior)):"
   ]
  },
  {
   "cell_type": "code",
   "execution_count": null,
   "metadata": {},
   "outputs": [],
   "source": [
    "Dnow.strftime(\"%I:%M%p\") "
   ]
  },
  {
   "cell_type": "markdown",
   "metadata": {},
   "source": [
    "More importantly, these objects support math operations that are meaningful for time:"
   ]
  },
  {
   "cell_type": "code",
   "execution_count": null,
   "metadata": {},
   "outputs": [],
   "source": [
    "print (Dnow - D)"
   ]
  },
  {
   "cell_type": "markdown",
   "metadata": {},
   "source": [
    "What this does is create another data object, called a `timedelta` object:"
   ]
  },
  {
   "cell_type": "code",
   "execution_count": null,
   "metadata": {},
   "outputs": [],
   "source": [
    "dt = Dnow - D\n",
    "print(type(dt))\n",
    "print(\"There are %i days between then and now.\" % dt.days)"
   ]
  },
  {
   "cell_type": "markdown",
   "metadata": {},
   "source": [
    "`timedelta` encodes time intervals. This allow us to do more operations:"
   ]
  },
  {
   "cell_type": "code",
   "execution_count": null,
   "metadata": {},
   "outputs": [],
   "source": [
    "interval = datetime.timedelta(days=100,hours=12) # 100.5 days\n",
    "\n",
    "soon = datetime.datetime.now() + interval # addition!\n",
    "\n",
    "print (\"In %d days and %d seconds it will be %s.\" % (interval.days, interval.seconds, soon))\n"
   ]
  },
  {
   "cell_type": "markdown",
   "metadata": {},
   "source": [
    "OK, the real work comes when reading and writing **timestamps**. We need to be able to understand how `2012-04-26` incorporates a date in the same way that `April 26, 2012` does.\n",
    "\n",
    "`datetime` provides us tools to read and write such timestamps. Let's first define two different timestamps and a timedelta"
   ]
  },
  {
   "cell_type": "code",
   "execution_count": null,
   "metadata": {},
   "outputs": [],
   "source": [
    "ts1 = \"2012-04-26\"\n",
    "ts2 = \"January 5, 1978\""
   ]
  },
  {
   "cell_type": "markdown",
   "metadata": {},
   "source": [
    "We can now use a function to parse a string for a time given a string representing a time format. This uses a function called `strptime()` (read it as \"**str**ing **p**arse\" **time**\"). \n",
    "\n",
    "Here we go."
   ]
  },
  {
   "cell_type": "code",
   "execution_count": null,
   "metadata": {},
   "outputs": [],
   "source": [
    "d1 = datetime.datetime.strptime(ts1, \"%Y-%m-%d\" )\n",
    "print(d1)\n",
    "print(d1 + datetime.timedelta(days=-7))"
   ]
  },
  {
   "cell_type": "markdown",
   "metadata": {},
   "source": [
    "The string `\"%Y-%m-%d\"` encodes the timestamp format we were looking for. A four-digit year (`%Y`), a dash (`-`), a two-digit month number (`%m`), another dash, and then a day number (`%d`).\n",
    "\n",
    "Now ts2 incorporates the name of a month, so that format string is a little different (`%B` means the full month name)."
   ]
  },
  {
   "cell_type": "code",
   "execution_count": null,
   "metadata": {},
   "outputs": [],
   "source": [
    "d2 = datetime.datetime.strptime( ts2, \"%B %d, %Y\" )\n",
    "print(d2)\n",
    "print(d2 - datetime.timedelta(days=-7))"
   ]
  },
  {
   "cell_type": "markdown",
   "metadata": {},
   "source": [
    "There's a huge number of ways to build a format string. Best is to look up the documentation: http://docs.python.org/2/library/datetime.html#strftime-strptime-behavior\n",
    "\n",
    "In addition to to `strptime` is another function, `strftime` (string format time) that does the opposite: it takes a `date` or `datetime` and returns a timestamp format string."
   ]
  },
  {
   "cell_type": "code",
   "execution_count": null,
   "metadata": {},
   "outputs": [],
   "source": [
    "s_before = \"Jan 19, '89\"\n",
    "d = datetime.datetime.strptime(\"Jan 19, '89\", \"%b %d, '%y\")\n",
    "s_after  = d.strftime(\"%Y-%m-%d\")\n",
    "print (s_before, \"--->\", s_after)"
   ]
  },
  {
   "cell_type": "markdown",
   "metadata": {},
   "source": [
    "Datetime is extremely useful, because different data sources encode times in different ways. Some formats are easy for humans to read, but I like the standard `%Y-%m-%d %H:%M:%S` UNIX-style timestamp because it _sorts nicely_."
   ]
  },
  {
   "cell_type": "markdown",
   "metadata": {},
   "source": [
    "## Exercise -- datetime\n",
    "1. Write code to subtract five days from current date and print out the date without the time.\n",
    "2. Write code to add 5 seconds with current time and print out the time without the date.\n",
    "3. Write code to get a list of dates between two dates.\n",
    "\n",
    "<details><summary><u>Hint</u></summary>\n",
    "<p>\n",
    "\n",
    "You can compare two dates with `date1<date2`, which returns `True` if `date1` is before `date2`. This can be useful for the third exercise.\n",
    "    \n",
    "</p>\n",
    "</details>"
   ]
  },
  {
   "cell_type": "code",
   "execution_count": null,
   "metadata": {},
   "outputs": [],
   "source": [
    "  "
   ]
  },
  {
   "cell_type": "markdown",
   "metadata": {},
   "source": [
    "<details><summary><u>Solution 1.</u></summary>\n",
    "<p>\n",
    "    \n",
    "```python\n",
    "fivedaysago = datetime.datetime.now()-datetime.timedelta(days=5)\n",
    "print(fivedaysago.strftime(\"%Y-%m-%d\"))\n",
    "```\n",
    "    \n",
    "</p>\n",
    "</details>\n",
    "\n",
    "<details><summary><u>Solution 2.</u></summary>\n",
    "<p>\n",
    "    \n",
    "```python\n",
    "now = datetime.datetime.now()\n",
    "fivesecfuture = now+datetime.timedelta(seconds=5)\n",
    "print(\"now:\", now.strftime(\"%H:%M:%S\"),\"future:\", fivesecfuture.strftime(\"%H:%M:%S\"))\n",
    "```\n",
    "    \n",
    "</p>\n",
    "</details>\n",
    "\n",
    "<details><summary><u>Solution 3.</u></summary>\n",
    "<p>\n",
    "    \n",
    "```python\n",
    "date1 = datetime.datetime.now()\n",
    "date2 = now + datetime.timedelta(days=5)\n",
    "\n",
    "oneday = datetime.timedelta(days=1)\n",
    "\n",
    "dates = []\n",
    "date  = date1\n",
    "while date<date2:\n",
    "    date += oneday\n",
    "    dates.append(date)\n",
    "\n",
    "print(dates)  \n",
    "```\n",
    "    \n",
    "</p>\n",
    "</details>"
   ]
  },
  {
   "cell_type": "markdown",
   "metadata": {},
   "source": [
    "### ASIDE: \"The epoch\".\n",
    "\n",
    "Sometimes you see a date that looks weird:"
   ]
  },
  {
   "cell_type": "code",
   "execution_count": null,
   "metadata": {},
   "outputs": [],
   "source": [
    "import time # another time module!\n",
    "\n",
    "print(time.time())"
   ]
  },
  {
   "cell_type": "markdown",
   "metadata": {},
   "source": [
    "This function is another way to get the _current time_ but it's encoded in numeric format: **the number of seconds since the \"epoch\"**. Let's explore:"
   ]
  },
  {
   "cell_type": "code",
   "execution_count": null,
   "metadata": {},
   "outputs": [],
   "source": [
    "t = time.time()\n",
    "y = t / 60 / 60 / 24 / 365.25 # oops, leap years!\n",
    "print(y,(y-int(y))*12)"
   ]
  },
  {
   "cell_type": "markdown",
   "metadata": {},
   "source": [
    "OK, what the heck happened back then?"
   ]
  },
  {
   "cell_type": "code",
   "execution_count": null,
   "metadata": {},
   "outputs": [],
   "source": [
    "days_delta = time.time() / 60 / 60 / 24\n",
    "print (datetime.datetime.now() - datetime.timedelta(days=days_delta))"
   ]
  },
  {
   "cell_type": "markdown",
   "metadata": {},
   "source": [
    "The epoch (\"epoch\" means \"reference date\") is the [UNIX epoch](http://en.wikipedia.org/wiki/Unix_time), Jan 1, 1970.\n",
    "\n",
    "* `time.time()` returns the number of seconds since 00:00:00 [Coordinated Universal Time](https://en.wikipedia.org/wiki/Coordinated_Universal_Time) (UTC), Thursday, 1 January 1970, not counting leap seconds.\n",
    "\n",
    "Why 1970? Because of these guys:\n",
    "\n",
    "&nbsp;&nbsp;&nbsp;&nbsp;&nbsp;<img src=\"https://upload.wikimedia.org/wikipedia/commons/8/8f/Ken_Thompson_(sitting)_and_Dennis_Ritchie_at_PDP-11_(2876612463).jpg\" alt=\"Dennis Ritchie and Ken Thompson\" style=\"width: 500px;\">\n"
   ]
  },
  {
   "cell_type": "markdown",
   "metadata": {},
   "source": [
    "These numeric timestamp formats are very useful when it's too expensive to use a complex library like `datetime`."
   ]
  },
  {
   "cell_type": "markdown",
   "metadata": {},
   "source": [
    "### Exercise -- datetime\n",
    "* Calculate the difference in days between the unix epoch and your birthdate."
   ]
  },
  {
   "cell_type": "code",
   "execution_count": null,
   "metadata": {},
   "outputs": [],
   "source": []
  },
  {
   "cell_type": "markdown",
   "metadata": {},
   "source": [
    "<details><summary><u>Solution.</u></summary>\n",
    "<p>\n",
    "    \n",
    "```python\n",
    "epoch = datetime.date(1970,1,1)\n",
    "bday  = datetime.date(1985,5,29)\n",
    "\n",
    "print((bday-epoch).days)\n",
    "```\n",
    "    \n",
    "</p>\n",
    "</details>"
   ]
  },
  {
   "cell_type": "markdown",
   "metadata": {},
   "source": [
    "## Additional practice exercises "
   ]
  },
  {
   "cell_type": "markdown",
   "metadata": {},
   "source": [
    "### 1. Dictionary + numpy array\n",
    "\n",
    "* From the `city_temps` dictionary, print the list of months for which there are negative temperatures.\n",
    "\n",
    "<details><summary><u>Hint</u></summary>\n",
    "<p>\n",
    "\n",
    "First, create a dictionary `month_temps` that has the months as keys and an array containing temperatures for each city as value. Use this new dictionary to find months with subzero temperatures.\n",
    "    \n",
    "</p>\n",
    "</details>"
   ]
  },
  {
   "cell_type": "code",
   "execution_count": null,
   "metadata": {},
   "outputs": [],
   "source": []
  },
  {
   "cell_type": "markdown",
   "metadata": {},
   "source": [
    "<details><summary><u>Solution.</u></summary>\n",
    "<p>\n",
    "    \n",
    "```python\n",
    "month_temps = {}\n",
    "for i in range(12):\n",
    "    month_temps[months[i]]= np.array([t[i] for t in city_temps.values()])\n",
    "freezing_months = [m for m in month_temps if np.any(month_temps[m]<0)]\n",
    "print(freezing_months)\n",
    "```\n",
    "    \n",
    "</p>\n",
    "</details>"
   ]
  },
  {
   "cell_type": "markdown",
   "metadata": {},
   "source": [
    "### 2. Numpy random numbers + histogram\n",
    "* Create a random sample of 10000 numbers where each random number is the average of 100 uniform random numbers between 0 and 1.\n",
    "* Plot a histogram of the sample with bin size `0.005`.\n",
    "* What kind of distribution did you find? Do you know why?"
   ]
  },
  {
   "cell_type": "code",
   "execution_count": null,
   "metadata": {},
   "outputs": [],
   "source": []
  },
  {
   "cell_type": "markdown",
   "metadata": {},
   "source": [
    "<details><summary><u>Solution.</u></summary>\n",
    "<p>\n",
    "    \n",
    "```python\n",
    "bin_size = 0.005\n",
    "n_sample = 10000\n",
    "m        = 100\n",
    "uniformsample = np.random.random(size=(m,n_sample))\n",
    "sample = uniformsample.mean(axis=0)\n",
    "\n",
    "plt.hist(sample,np.arange(sample.min(),sample.max()+bin_size,bin_size))\n",
    "plt.xlabel(\"Average of 100 uniform random numbers\")\n",
    "plt.ylabel(\"Count\")\n",
    "\n",
    "#Theory: central limit theorem\n",
    "xs = np.linspace(.3,.7,50)\n",
    "theory_mean     = 0.5\n",
    "theory_variance = 1./12./m\n",
    "normal_pdf = 1./(2.*np.pi*theory_variance)**.5*np.exp(-(xs-.5)*(xs-.5)/2./theory_variance)\n",
    "ys = normal_pdf*n_sample*.005\n",
    "plt.plot(xs,ys,'--',linewidth=3.);\n",
    "```\n",
    "    \n",
    "</p>\n",
    "</details>"
   ]
  },
  {
   "cell_type": "markdown",
   "metadata": {},
   "source": [
    "### 3. Dictionaries\n",
    "\n",
    "Create a dictionary where the keys are the characters in the string `s` and their value is equal to the number of times the character appears in `s`.\n",
    "<details><summary><u>Hint.</u></summary>\n",
    "<p>\n",
    "    \n",
    "You can count the occurences of a character `c` in a string `s` using the method `s.count(c)`.\n",
    "    \n",
    "</p>\n",
    "</details>"
   ]
  },
  {
   "cell_type": "code",
   "execution_count": null,
   "metadata": {},
   "outputs": [],
   "source": [
    "s=\"Now is the winter of our discontent\\nMade glorious summer by this sun of York\"\n"
   ]
  },
  {
   "cell_type": "markdown",
   "metadata": {},
   "source": [
    "<details><summary><u>Solution.</u></summary>\n",
    "<p>\n",
    "    \n",
    "```python\n",
    "D = {}\n",
    "for c in s:\n",
    "    if c not in D: #in fact, this line is not important, in its absence we overwrite D[c] several times.\n",
    "        D[c]=s.count(c)\n",
    "print(D)\n",
    "```\n",
    "    \n",
    "</p>\n",
    "</details>"
   ]
  },
  {
   "cell_type": "code",
   "execution_count": null,
   "metadata": {},
   "outputs": [],
   "source": []
  }
 ],
 "metadata": {
  "kernelspec": {
   "display_name": "Python 3",
   "language": "python",
   "name": "python3"
  },
  "language_info": {
   "codemirror_mode": {
    "name": "ipython",
    "version": 3
   },
   "file_extension": ".py",
   "mimetype": "text/x-python",
   "name": "python",
   "nbconvert_exporter": "python",
   "pygments_lexer": "ipython3",
   "version": "3.9.0 (tags/v3.9.0:9cf6752, Oct  5 2020, 15:34:40) [MSC v.1927 64 bit (AMD64)]"
  },
  "vscode": {
   "interpreter": {
    "hash": "81794d4967e6c3204c66dcd87b604927b115b27c00565d3d43f05ba2f3a2cb0d"
   }
  }
 },
 "nbformat": 4,
 "nbformat_minor": 4
}
