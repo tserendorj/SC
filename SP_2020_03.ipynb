{
 "cells": [
  {
   "cell_type": "markdown",
   "metadata": {},
   "source": [
    "# DNDS6013 Scientific Python: 3rd class\n",
    "## Central European University, Winter 2019/2020\n",
    "\n",
    "Instructor: Márton Pósfai, TA: Luis Natera Orozco\n",
    "\n",
    "Emails: posfaim@ceu.edu, natera_luis@phd.ceu.edu"
   ]
  },
  {
   "cell_type": "markdown",
   "metadata": {},
   "source": [
    "### Novelties:\n",
    "\n",
    "* Slack channel to show your solution to the exercises. [Join here!](https://join.slack.com/t/sp2020winter/shared_invite/enQtOTA3NTE1MDk1MTcwLWQ5Yzk1ZjZjYmNkOWFhYjM3ZTIyYjMyYzk4NDhjOGY5MjYwZjM5MTY2MjYxZTJiZjJjYzcyZmFiNGVmZTM4MjU)\n",
    "\n",
    "* There will be a small quiz, not part of your grade, just for (self-)assessment.\n",
    "\n",
    "* Hints and solutions for the excercises\n",
    "\n",
    "\n",
    "#### Today's topics\n",
    "\n",
    "- Sorting\n",
    "- Analyze city data\n",
    "- Dictionaries"
   ]
  },
  {
   "cell_type": "markdown",
   "metadata": {},
   "source": [
    "## Recap from last week"
   ]
  },
  {
   "cell_type": "markdown",
   "metadata": {},
   "source": [
    "## Lists comprehensions\n",
    "\n",
    "So far we created lists like this:"
   ]
  },
  {
   "cell_type": "code",
   "execution_count": null,
   "metadata": {},
   "outputs": [],
   "source": [
    "L = []\n",
    "for x in range(5):\n",
    "    L.append(x**2)\n",
    "print(L)"
   ]
  },
  {
   "cell_type": "markdown",
   "metadata": {},
   "source": [
    "We can also use list comprehensions:"
   ]
  },
  {
   "cell_type": "code",
   "execution_count": null,
   "metadata": {},
   "outputs": [],
   "source": [
    "L = [x**2 for x in range(5)]\n",
    "print(L)"
   ]
  },
  {
   "cell_type": "code",
   "execution_count": null,
   "metadata": {},
   "outputs": [],
   "source": [
    "L = [x**2 for x in range(5) if x > 2]\n",
    "print(L)"
   ]
  },
  {
   "cell_type": "code",
   "execution_count": null,
   "metadata": {},
   "outputs": [],
   "source": [
    "L = []\n",
    "for x in range(5):\n",
    "    if x%2 == 0:\n",
    "        L.append([x, x*x])\n",
    "print(L)"
   ]
  },
  {
   "cell_type": "code",
   "execution_count": null,
   "metadata": {},
   "outputs": [],
   "source": [
    "L = [[x, x**2] for x in range(5) if x%2 == 0]\n",
    "print(L)"
   ]
  },
  {
   "cell_type": "markdown",
   "metadata": {},
   "source": [
    "## Functions"
   ]
  },
  {
   "cell_type": "code",
   "execution_count": null,
   "metadata": {},
   "outputs": [],
   "source": [
    "def f(x,y):\n",
    "    z = x + y\n",
    "    \n",
    "    return z\n",
    "    \n",
    "print(f(1,10))"
   ]
  },
  {
   "cell_type": "markdown",
   "metadata": {},
   "source": [
    "The variable `z` is local:"
   ]
  },
  {
   "cell_type": "code",
   "execution_count": null,
   "metadata": {
    "scrolled": true
   },
   "outputs": [],
   "source": [
    "z=-100\n",
    "f(1,2)\n",
    "print(z)"
   ]
  },
  {
   "cell_type": "markdown",
   "metadata": {},
   "source": [
    "Argument `a` of function `f(a)` is passed by assignment.\n",
    "\n",
    "For example, if I call `f(10)`, a local variable is created as `a=10`"
   ]
  },
  {
   "cell_type": "code",
   "execution_count": null,
   "metadata": {},
   "outputs": [],
   "source": [
    "def f(a):\n",
    "    a += 1\n",
    "    return\n",
    "    \n",
    "b = 3\n",
    "f(b)\n",
    "print(b)"
   ]
  },
  {
   "cell_type": "code",
   "execution_count": null,
   "metadata": {},
   "outputs": [],
   "source": [
    "def f(a):\n",
    "    a[0] += 1\n",
    "    return\n",
    "    \n",
    "b = [ 1, 2, 3 ]\n",
    "f(b)\n",
    "print(b)"
   ]
  },
  {
   "cell_type": "markdown",
   "metadata": {},
   "source": [
    "* If `x` is mutable (lists, dictionaries,...): changing `x` inside `f(x)` -> `x` also changes outside\n",
    "* If `x` is immutable (numbers, strings, tuples,...): changing `x` inside `f(x)` -> `x` does not change outside"
   ]
  },
  {
   "cell_type": "markdown",
   "metadata": {},
   "source": [
    "## Time for a little quiz!\n",
    "\n",
    "Don't panic! Does not effect your grade, for self-assessment. You can find it in moodle, 5 questions in 12 minutes."
   ]
  },
  {
   "cell_type": "markdown",
   "metadata": {},
   "source": [
    "## Today's first new topic: sorting"
   ]
  },
  {
   "cell_type": "code",
   "execution_count": null,
   "metadata": {},
   "outputs": [],
   "source": [
    "l = [34,1,2,78,3]\n",
    "\n",
    "sl = sorted(l)\n",
    "print(\"Sorted list:\",sl)\n",
    "\n",
    "print()\n",
    "print(\"Original:\",l)"
   ]
  },
  {
   "cell_type": "markdown",
   "metadata": {},
   "source": [
    "In place sorting: `sort()`"
   ]
  },
  {
   "cell_type": "code",
   "execution_count": null,
   "metadata": {},
   "outputs": [],
   "source": [
    "l.sort()\n",
    "print(l)"
   ]
  },
  {
   "cell_type": "code",
   "execution_count": null,
   "metadata": {},
   "outputs": [],
   "source": [
    "guests = [\"Kate\",\"Peter\", \"Adam\", \"Jenny\", \"Zack\", \"Eva\"]\n",
    "\n",
    "print(\"Zack\">\"Eva\")\n",
    "\n",
    "print(sorted(guests))\n",
    "print(sorted(guests, reverse=True))"
   ]
  },
  {
   "cell_type": "markdown",
   "metadata": {},
   "source": [
    "### International characters"
   ]
  },
  {
   "cell_type": "code",
   "execution_count": null,
   "metadata": {},
   "outputs": [],
   "source": [
    "guests = [\"Kate\",\"Peter\", \"Adam\", \"Jenny\", \"Zack\", \"Eva\"]\n",
    "\n",
    "guests.append('Ödön')\n",
    "\n",
    "print(sorted(guests))\n",
    "\n",
    "print()\n",
    "#The problem\n",
    "print(\"Zack\">\"Odon\")\n",
    "print(\"Zack\">\"Ödön\")"
   ]
  },
  {
   "cell_type": "code",
   "execution_count": null,
   "metadata": {},
   "outputs": [],
   "source": [
    "import locale\n",
    "locale.resetlocale()\n",
    "locale.getlocale()"
   ]
  },
  {
   "cell_type": "code",
   "execution_count": null,
   "metadata": {},
   "outputs": [],
   "source": [
    "locale.setlocale(locale.LC_ALL, ('hu_HU','UTF-8'))\n",
    "print(locale.getlocale())\n",
    "\n",
    "print(locale.strxfrm(\"Ödön\"))\n",
    "print(locale.strxfrm(\"Zack\")>locale.strxfrm(\"Ödön\"))\n",
    "\n",
    "print()\n",
    "print(sorted(guests, key=locale.strxfrm))"
   ]
  },
  {
   "cell_type": "code",
   "execution_count": null,
   "metadata": {},
   "outputs": [],
   "source": [
    "def f1(x): \n",
    "    return x % 7\n",
    "  \n",
    "L = [15, 3, 11, 7] \n",
    "  \n",
    "print(\"Normal sort :\", sorted(L) )\n",
    "print(\"Sorted with key:\", sorted(L, key = f1) )"
   ]
  },
  {
   "cell_type": "markdown",
   "metadata": {},
   "source": [
    "### Exercise 1\n",
    "Write code which orders the list generated by <pre>\n",
    "L = [[x, y] for x in range(5) for y in range(5) if x != y]\n",
    "</pre>\n",
    "by the sum of the two elements\n",
    "\n",
    "<details><summary><u>Click to reveal a hint.</u></summary>\n",
    "<p>\n",
    "Define a function that takes a list of two elements as input and returns their sum. Use this function as the key for sorting.    \n",
    "</p>\n",
    "</details>"
   ]
  },
  {
   "cell_type": "code",
   "execution_count": null,
   "metadata": {},
   "outputs": [],
   "source": [
    "L = [[x, y] for x in range(5) for y in range(5) if x != y]\n"
   ]
  },
  {
   "cell_type": "markdown",
   "metadata": {},
   "source": [
    "<details><summary><u>Click to reveal solution.</u></summary>\n",
    "<p>\n",
    "    \n",
    "```python\n",
    "#solution 1\n",
    "def f(z):\n",
    "    return z[0]+z[1]\n",
    "print(sorted(L,key=f))\n",
    "\n",
    "#solution 2, Python already has a function for summing lists\n",
    "print(sorted(L,key=sum))\n",
    "```\n",
    "    \n",
    "</p>\n",
    "</details>"
   ]
  },
  {
   "cell_type": "markdown",
   "metadata": {},
   "source": [
    "## Lambdas: one-line nameless functions"
   ]
  },
  {
   "cell_type": "code",
   "execution_count": null,
   "metadata": {},
   "outputs": [],
   "source": [
    "f1 = lambda x: x%7\n",
    "L = [15, 3, 11, 7] \n",
    "print(\"Sorted with key:\", sorted(L, key = f1) )"
   ]
  },
  {
   "cell_type": "code",
   "execution_count": null,
   "metadata": {},
   "outputs": [],
   "source": [
    "L = [15, 3, 11, 7] \n",
    "print(\"Sorted with key:\", sorted(L, key = lambda x: x%7) )"
   ]
  },
  {
   "cell_type": "markdown",
   "metadata": {},
   "source": [
    "### Exercise 2\n",
    "Use lambda to sort the <pre>\n",
    "L = [[x, y] for x in range(5) for y in range(5) if x != y]\n",
    "</pre>\n",
    "array by the second value in the list"
   ]
  },
  {
   "cell_type": "code",
   "execution_count": null,
   "metadata": {
    "scrolled": true
   },
   "outputs": [],
   "source": [
    "L = [[x, y] for x in range(5) for y in range(5) if x != y]\n"
   ]
  },
  {
   "cell_type": "markdown",
   "metadata": {},
   "source": [
    "<details><summary><u>Click to reveal solution.</u></summary>\n",
    "<p>\n",
    "    \n",
    "```python\n",
    "L.sort(key = lambda z: z[1])\n",
    "print(L)\n",
    "```\n",
    "    \n",
    "</p>\n",
    "</details>"
   ]
  },
  {
   "cell_type": "markdown",
   "metadata": {},
   "source": [
    "## Analyzing city data\n",
    "\n",
    "We will read a file containing data about Hungarian municipalities and calculate some things."
   ]
  },
  {
   "cell_type": "code",
   "execution_count": null,
   "metadata": {},
   "outputs": [],
   "source": [
    "f = open(\"Hun_cities.csv\",\"r\")\n",
    "contents = str(f.read())\n",
    "f.close()\n",
    "\n",
    "print(contents[:500])"
   ]
  },
  {
   "cell_type": "code",
   "execution_count": null,
   "metadata": {},
   "outputs": [],
   "source": [
    "contents.split('\\n')[5]"
   ]
  },
  {
   "cell_type": "code",
   "execution_count": null,
   "metadata": {},
   "outputs": [],
   "source": [
    "cities = []\n",
    "for line in contents.split('\\n'):\n",
    "    cities.append(line.split(','))\n",
    "print(cities[0])\n",
    "print(cities[1])"
   ]
  },
  {
   "cell_type": "markdown",
   "metadata": {},
   "source": [
    "Alternative way of doing this:"
   ]
  },
  {
   "cell_type": "code",
   "execution_count": null,
   "metadata": {},
   "outputs": [],
   "source": [
    "cities = []\n",
    "with open(\"Hun_cities.csv\",\"r\") as f:\n",
    "    for line in f:\n",
    "        cities.append(line.rstrip().split(','))\n",
    "print(cities[0])\n",
    "print(cities[1])\n",
    "print(len(cities))"
   ]
  },
  {
   "cell_type": "code",
   "execution_count": null,
   "metadata": {},
   "outputs": [],
   "source": []
  },
  {
   "cell_type": "markdown",
   "metadata": {},
   "source": [
    "Convert coordinates from strings to numbers:"
   ]
  },
  {
   "cell_type": "code",
   "execution_count": null,
   "metadata": {},
   "outputs": [],
   "source": [
    "for c in cities[1:]:\n",
    "    c[5]=float(c[5])\n",
    "    c[6]=float(c[6])\n",
    "print(cities[1])"
   ]
  },
  {
   "cell_type": "markdown",
   "metadata": {},
   "source": [
    "### Exercise 3\n",
    "Remove the double quotes from city names\n",
    "\n",
    "<details><summary><u>Hint.</u></summary>\n",
    "<p>\n",
    "Iterate through the <code>cities</code> list and use the <code>strip()</code> method of strings to remove the double quotes.  \n",
    "</p>\n",
    "</details>"
   ]
  },
  {
   "cell_type": "code",
   "execution_count": null,
   "metadata": {},
   "outputs": [],
   "source": []
  },
  {
   "cell_type": "markdown",
   "metadata": {},
   "source": [
    "<details><summary><u>Solution.</u></summary>\n",
    "<p>\n",
    "    \n",
    "```python\n",
    "for c in cities:\n",
    "    c[1]=c[1].strip('\"')\n",
    "    c[2]=c[2].strip('\"')\n",
    "print(cities[5])\n",
    "```\n",
    "    \n",
    "</p>\n",
    "</details>"
   ]
  },
  {
   "cell_type": "code",
   "execution_count": null,
   "metadata": {},
   "outputs": [],
   "source": []
  },
  {
   "cell_type": "markdown",
   "metadata": {},
   "source": [
    "### Exercise 4\n",
    "\n",
    " * Print the top 10 most populus cities\n",
    " * Print the top 10 cities with the largest area\n",
    " * Print the smallest city with university\n",
    " * Print the top 10 cities with population density\n",
    " \n",
    "\n",
    "<details><summary><u>Hint.</u></summary>\n",
    "<p>\n",
    "Use the <code>sorted()</code> function with the <code>key</code> argument to appropriately sort the <code>cities</code> list. Don't forget to convert the strings into numbers!\n",
    "</p>\n",
    "<br>\n",
    "</details>\n",
    "\n",
    "<details><summary><u>Hint 2.</u></summary>\n",
    "<p>\n",
    "\n",
    "Solution for the first one:\n",
    "```python\n",
    "print(\"10 most populus:\", [c[1] for c in sorted(cities[1:], key = lambda x: -int(x[3]))[:10]])\n",
    "```\n",
    "    \n",
    "</p>\n",
    "</details>"
   ]
  },
  {
   "cell_type": "code",
   "execution_count": null,
   "metadata": {},
   "outputs": [],
   "source": []
  },
  {
   "cell_type": "markdown",
   "metadata": {},
   "source": [
    "<details><summary><u>Solution.</u></summary>\n",
    "<p>\n",
    "    \n",
    "```python\n",
    "print(\"10 most populus:\", [c[1] for c in sorted(cities[1:], key = lambda x: -int(x[3]))[:10]])\n",
    "print(\"10 largest area:\", [c[1] for c in sorted(cities[1:], key = lambda x: -float(x[4]))[:10]])\n",
    "print(\"smallest w university:\", min([c for c in cities[1:] if int(c[-1])>0], key = lambda x: int(x[3]))[1])\n",
    "print(\"10 largest pop density:\", [c[1] for c in sorted(cities[1:], key = lambda x: -float(x[3])/float(x[4]))[:10]])\n",
    "```\n",
    "    \n",
    "</p>\n",
    "</details>"
   ]
  },
  {
   "cell_type": "markdown",
   "metadata": {},
   "source": [
    "### Exercise 5\n",
    " * Find the cities with the larges distance between them.\n",
    " * If you are done, extend the code to find the cities with the smallest distance between them."
   ]
  },
  {
   "cell_type": "markdown",
   "metadata": {},
   "source": [
    "A little help, convert lattitude and longitude to distance use the [haversine formula](https://en.wikipedia.org/wiki/Haversine_formula):"
   ]
  },
  {
   "cell_type": "code",
   "execution_count": null,
   "metadata": {},
   "outputs": [],
   "source": [
    "import math\n",
    "def latlongdist(lat1,long1,lat2,long2):\n",
    "    rlat1 = math.radians(lat1)\n",
    "    rlat2 = math.radians(lat2)\n",
    "    rlong1 = math.radians(long1)\n",
    "    rlong2 = math.radians(long2)\n",
    "    dlat = rlat2 - rlat1\n",
    "    dlong = rlong2 - rlong1\n",
    "    a = math.sin(dlat / 2)**2 + math.cos(rlat1) * math.cos(rlat2) * math.sin(dlong / 2)**2\n",
    "    c = 2 * math.atan2(math.sqrt(a), math.sqrt(1 - a))\n",
    "    return 6371.0 * c\n",
    "\n",
    "print(latlongdist(48.105625, 20.790556, 46.07308, 18.22857))"
   ]
  },
  {
   "cell_type": "markdown",
   "metadata": {},
   "source": [
    "Write your solution here:\n",
    "\n",
    "<details><summary><u>Hint.</u></summary>\n",
    "<p>\n",
    "\n",
    "Cycle through all city pairs using nested for loops:\n",
    "```python\n",
    "for a in range(1,len(cities)):\n",
    "        for b in range(a+1,len(cities)):\n",
    "```\n",
    "    \n",
    "</p>\n",
    "</details>"
   ]
  },
  {
   "cell_type": "code",
   "execution_count": null,
   "metadata": {},
   "outputs": [],
   "source": []
  },
  {
   "cell_type": "markdown",
   "metadata": {},
   "source": [
    "<details><summary><u>Solution.</u></summary>\n",
    "<p>\n",
    "    \n",
    "```python\n",
    "def alldist():\n",
    "    maxa = 0\n",
    "    maxb = 0\n",
    "    maxdist = -1\n",
    "    mina = 0\n",
    "    minb = 0\n",
    "    mindist = 1e10\n",
    "    for a in range(1,len(cities)):\n",
    "        for b in range(a+1,len(cities)):\n",
    "            dist = latlongdist(float(cities[a][5]),float(cities[a][6]),\\\n",
    "                        float(cities[b][5]),float(cities[b][6]))\n",
    "            if dist>maxdist:\n",
    "                    maxdist = dist\n",
    "                    maxa = a\n",
    "                    maxb = b\n",
    "            if dist>0 and dist < mindist:\n",
    "                    mindist = dist\n",
    "                    mina = a\n",
    "                    minb = b\n",
    "    print(cities[maxa][1],cities[maxb][1],maxdist)\n",
    "    print(cities[mina][1],cities[minb][1],mindist)\n",
    "```\n",
    "    \n",
    "</p>\n",
    "</details>"
   ]
  },
  {
   "cell_type": "code",
   "execution_count": null,
   "metadata": {},
   "outputs": [],
   "source": [
    "def alldist():\n",
    "    maxa = 0\n",
    "    maxb = 0\n",
    "    maxdist = -1\n",
    "    mina = 0\n",
    "    minb = 0\n",
    "    mindist = 1e10\n",
    "    for a in range(1,len(cities)):\n",
    "        for b in range(a+1,len(cities)):\n",
    "            dist = latlongdist(float(cities[a][5]),float(cities[a][6]),\\\n",
    "                        float(cities[b][5]),float(cities[b][6]))\n",
    "            if dist>maxdist:\n",
    "                    maxdist = dist\n",
    "                    maxa = a\n",
    "                    maxb = b\n",
    "            if dist>0 and dist < mindist:\n",
    "                    mindist = dist\n",
    "                    mina = a\n",
    "                    minb = b\n",
    "    print(cities[maxa][1],cities[maxb][1],maxdist)\n",
    "    print(cities[mina][1],cities[minb][1],mindist)"
   ]
  },
  {
   "cell_type": "code",
   "execution_count": null,
   "metadata": {},
   "outputs": [],
   "source": [
    "import timeit\n",
    "timeit.timeit(alldist,number=1)"
   ]
  },
  {
   "cell_type": "code",
   "execution_count": null,
   "metadata": {},
   "outputs": [],
   "source": []
  },
  {
   "cell_type": "markdown",
   "metadata": {},
   "source": [
    "### Bucketing\n",
    "On my laptop calculation took ~9 seconds for $n = 2561$ cities. That is $\\frac{n(n-1)}{2}$ distances.\n",
    "\n",
    "What about larger systems? -> Bucketing!\n",
    "\n",
    "* Divide the space into boxes\n",
    "* Put the cities into boxes\n",
    "* Number of boxes is much less than number of cities\n",
    "* Select only the boxes which are candidates for the given quantity: for minimal distance only neighboring ones, for maximal distance the few with maximal distance"
   ]
  },
  {
   "cell_type": "code",
   "execution_count": null,
   "metadata": {},
   "outputs": [],
   "source": [
    "lat = [ row[5] for row in cities[1:]]\n",
    "print(\"Lattitude:\",min(lat),max(lat))\n",
    "long = [ row[6] for row in cities[1:]]\n",
    "print(\"Longitude:\",min(long),max(long))"
   ]
  },
  {
   "cell_type": "markdown",
   "metadata": {},
   "source": [
    "Create an empty grid:"
   ]
  },
  {
   "cell_type": "code",
   "execution_count": null,
   "metadata": {},
   "outputs": [],
   "source": [
    "shape = (4, 7)  # shape of the grid\n",
    "\n",
    "#a grid of empty lists\n",
    "grid = [[[] for k in range(shape[1])] for j in range(shape[0])]\n",
    "\n",
    "for row in grid:\n",
    "    print(row)\n",
    "print()"
   ]
  },
  {
   "cell_type": "markdown",
   "metadata": {},
   "source": [
    "Get size of tiles:"
   ]
  },
  {
   "cell_type": "code",
   "execution_count": null,
   "metadata": {},
   "outputs": [],
   "source": [
    "#The possible range of coordinates\n",
    "la_range = (min(lat),  max(lat))\n",
    "lo_range = (min(long), max(long))\n",
    "\n",
    "#size of tiles in the grid\n",
    "dla = (la_range[1]-la_range[0])/shape[0]\n",
    "dlo = (lo_range[1]-lo_range[0])/shape[1]"
   ]
  },
  {
   "cell_type": "markdown",
   "metadata": {},
   "source": [
    "Fill in the grid:"
   ]
  },
  {
   "cell_type": "code",
   "execution_count": null,
   "metadata": {},
   "outputs": [],
   "source": [
    "for c in cities[1:]:\n",
    "    ilat  = int((float(c[5]) - la_range[0]) / dla)\n",
    "    ilong = int((float(c[6]) - lo_range[0]) / dlo)\n",
    "    \n",
    "    if ilat == shape[0]:\n",
    "        ilat -= 1\n",
    "    if ilong == shape[1]:\n",
    "        ilong -= 1\n",
    "    \n",
    "    grid[ilat][ilong].append(c)\n",
    "\n",
    "for i in range(shape[0]):\n",
    "    for j in range(shape[1]):\n",
    "        print(\"%3d\" % len(grid[i][j]), end=\" \")\n",
    "    print()"
   ]
  },
  {
   "cell_type": "markdown",
   "metadata": {},
   "source": [
    "<b>Largest distance</b><br>\n",
    "* Get largest distance between nonempty boxes (28*27/2 distance calculations)\n",
    "* Pair cities from the two boxes\n",
    "* In general, this is most probably the largest distance between two cities (Stop here)\n",
    "* In order to be really sure one should pair cities in boxes with less then the found distance"
   ]
  },
  {
   "cell_type": "code",
   "execution_count": null,
   "metadata": {},
   "outputs": [],
   "source": [
    "boxcoords = [[grid[j][k],(j+.5)*dla+la_range[0],(k+.5)*dlo+lo_range[0]] \\\n",
    "             for k in range(shape[1]) for j in range(shape[0])]\n",
    "\n",
    "boxdists = [(b1[0],b2[0],latlongdist(b1[1],b1[2],b2[1],b2[2])) \\\n",
    "            for b1 in boxcoords for b2 in boxcoords if b1[0] and b2[0]]\n",
    "\n",
    "maxboxdist = max(boxdists, key= lambda x: x[2])\n",
    "\n",
    "citydists = [(c1[1],c2[1],latlongdist(c1[5],c1[6],c2[5],c2[6])) \\\n",
    "             for c1 in maxboxdist[0] for c2 in maxboxdist[1]]\n",
    "print(max(citydists))"
   ]
  },
  {
   "cell_type": "code",
   "execution_count": null,
   "metadata": {},
   "outputs": [],
   "source": [
    "for c in cities[1:]:\n",
    "    if c[2] in ['\"Or\"','\"Ortilos\"','\"Uszka\"', '\"Szakonyfalu\"']:\n",
    "        ilat  = int((float(c[5]) - la_range[0]) / dla)\n",
    "        ilong = int((float(c[6]) - lo_range[0]) / dlo)\n",
    "\n",
    "        if ilat == shape[0]:\n",
    "            ilat -= 1\n",
    "        if ilong == shape[1]:\n",
    "            ilong -= 1\n",
    "        \n",
    "        print(c[1],ilat,ilong)\n"
   ]
  },
  {
   "cell_type": "markdown",
   "metadata": {},
   "source": [
    "### Exercise 6\n",
    "Find smallest distance between cities.\n",
    "\n",
    "The closest cities are either in the same box or in neighboring boxes. Let's break up this exercise into two smaller steps.\n",
    "\n",
    "1. Find closest cities that are in the same box\n",
    "\n",
    "<details><summary><u>Hint.</u></summary>\n",
    "<p>\n",
    "    \n",
    "Do something similar to what we did before:\n",
    "```python\n",
    "citydists = [(c1[1],c2[1],latlongdist(c1[5],c1[6],c2[5],c2[6])) \\\n",
    "             for c1 in maxboxdist[0] for c2 in maxboxdist[1]]\n",
    "```\n",
    "Only instead of select cities from boxes  maxboxdist[0] and maxboxdist[1], select them from the same box.\n",
    "\n",
    "</p>\n",
    "</details>"
   ]
  },
  {
   "cell_type": "code",
   "execution_count": null,
   "metadata": {},
   "outputs": [],
   "source": []
  },
  {
   "cell_type": "markdown",
   "metadata": {},
   "source": [
    "<details><summary><u>Solution.</u></summary>\n",
    "<p>\n",
    "    \n",
    "```python\n",
    "citypairs1 = []\n",
    "for k in range(shape[0]):\n",
    "    for j in range(shape[1]):\n",
    "        citypairs1 += [(c1[1],c2[1],latlongdist(c1[5],c1[6],c2[5],c2[6])) \\\n",
    "             for c1 in grid[k][j] for c2 in grid[k][j]]\n",
    "min1 = min(citypairs1, key = lambda x: x[2] if x[2]>0 else 1000)\n",
    "print(min1)\n",
    "```\n",
    "    \n",
    "</p>\n",
    "</details>"
   ]
  },
  {
   "cell_type": "markdown",
   "metadata": {},
   "source": [
    "2. Find closest cities that are in neighboring boxes in directions:\n",
    "    * west-east\n",
    "    * north-south\n",
    "    * northeast-southwest\n",
    "    \n",
    "<details><summary><u>Hint.</u></summary>\n",
    "<p>    \n",
    "The western neighbor of box <code>grid[j][k]</code> is <code>grid[j][k+1]</code>.\n",
    "</p>\n",
    "</details>"
   ]
  },
  {
   "cell_type": "code",
   "execution_count": null,
   "metadata": {},
   "outputs": [],
   "source": []
  },
  {
   "cell_type": "markdown",
   "metadata": {},
   "source": [
    "<details><summary><u>Solution.</u></summary>\n",
    "<p>\n",
    "    \n",
    "```python\n",
    "citypairs2 = []\n",
    "for k in range(shape[0]):\n",
    "    for j in range(shape[1]):\n",
    "        # west-east\n",
    "        if j<shape[1]-1:\n",
    "            citypairs2 += [(c1[1],c2[1],latlongdist(c1[5],c1[6],c2[5],c2[6])) \\\n",
    "             for c1 in grid[k][j] for c2 in grid[k][j+1]]\n",
    "        # north-south\n",
    "        if k<shape[0]-1:\n",
    "            citypairs2 += [(c1[1],c2[1],latlongdist(c1[5],c1[6],c2[5],c2[6])) \\\n",
    "             for c1 in grid[k][j] for c2 in grid[k+1][j]]\n",
    "        # northeast-southwest\n",
    "        if k<shape[0]-1 and j<shape[1]-1:\n",
    "            citypairs2 += [(c1[1],c2[1],latlongdist(c1[5],c1[6],c2[5],c2[6])) \\\n",
    "             for c1 in grid[k][j] for c2 in grid[k+1][j+1]]\n",
    "        \n",
    "min2 = min(citypairs2, key = lambda x: x[2] if x[2]>0 else 1000)\n",
    "print(min2)\n",
    "```\n",
    "    \n",
    "</p>\n",
    "</details>"
   ]
  },
  {
   "cell_type": "markdown",
   "metadata": {},
   "source": [
    "Put the two together:"
   ]
  },
  {
   "cell_type": "code",
   "execution_count": null,
   "metadata": {},
   "outputs": [],
   "source": [
    "print(min([min1, min2], key = lambda x: x[2]))"
   ]
  },
  {
   "cell_type": "markdown",
   "metadata": {},
   "source": [
    "## Home work!\n",
    "\n",
    "In separate notebook uploaded to moodle. You will have to investigate how run-time of finding the maximum and minimum distance depends on the resolution of the grid. You can reuse the code from the class.\n",
    "\n",
    "Submission deadline: **February 13, 3:30 pm**"
   ]
  },
  {
   "cell_type": "markdown",
   "metadata": {},
   "source": [
    "## Dictionaries"
   ]
  },
  {
   "cell_type": "markdown",
   "metadata": {},
   "source": [
    "Dictionaries are similar to lists, except that each element is a key-value pair. The syntax for dictionaries is `{key1 : value1, key2 : value2, ...}`:"
   ]
  },
  {
   "cell_type": "code",
   "execution_count": null,
   "metadata": {},
   "outputs": [],
   "source": [
    "fruits = {\"bananas\" : 1,\n",
    "          \"oranges\" : 2,\n",
    "          \"apples\" : 3,}\n",
    "\n",
    "print(type(fruits))\n",
    "print(fruits)"
   ]
  },
  {
   "cell_type": "code",
   "execution_count": null,
   "metadata": {},
   "outputs": [],
   "source": [
    "print(\"bananas = \" + str(fruits[\"bananas\"]))\n",
    "print(\"oranges = \" + str(fruits[\"oranges\"]))\n",
    "print(\"apples  = \" + str(fruits[\"apples\"]))"
   ]
  },
  {
   "cell_type": "code",
   "execution_count": null,
   "metadata": {},
   "outputs": [],
   "source": [
    "# change value\n",
    "fruits[\"bananas\"] = \"no bananas\"\n",
    "fruits[\"oranges\"] = 100\n",
    "\n",
    "# add a new entry\n",
    "fruits[\"pineapples\"] = \"D\"\n",
    "\n",
    "print(\"bananas = \" + str(fruits[\"bananas\"]))\n",
    "print(\"oranges = \" + str(fruits[\"oranges\"]))\n",
    "print(\"apples = \" + str(fruits[\"apples\"]))\n",
    "print(\"pineapples = \" + str(fruits[\"pineapples\"]))"
   ]
  },
  {
   "cell_type": "markdown",
   "metadata": {},
   "source": [
    "Strings, numbers, and tuples work as keys, and any type can be a value. Other types may or may not work correctly as keys (strings and tuples work cleanly since they are immutable). Looking up a value which is not in the dict throws a `KeyError` -- use `in` to check if the key is in the dict, or use `dict.get(key)` which returns the value or None if the key is not present (or `get(key, not-found)` allows you to specify what value to return in the not-found case)."
   ]
  },
  {
   "cell_type": "code",
   "execution_count": null,
   "metadata": {},
   "outputs": [],
   "source": [
    "print(fruits['bananas'])     ## Simple lookup"
   ]
  },
  {
   "cell_type": "markdown",
   "metadata": {},
   "source": [
    "If you try to access something that does not exists in the dictionary, you will get an error:"
   ]
  },
  {
   "cell_type": "code",
   "execution_count": null,
   "metadata": {},
   "outputs": [],
   "source": [
    "print(fruits['strawberries'])"
   ]
  },
  {
   "cell_type": "markdown",
   "metadata": {},
   "source": [
    "To avoid key errors, you can simply check with an ``if`` that the key is present in the dictionary: "
   ]
  },
  {
   "cell_type": "code",
   "execution_count": null,
   "metadata": {},
   "outputs": [],
   "source": [
    "if 'bananas' in fruits: print(fruits['bananas']) ## Yes, you can also write an if in this way \n",
    "\n",
    "if 'strawberries' in fruits: print (fruits['strawberries']) ## and an if-else in this way \n",
    "else: print(\"I don\\'t know what a strawberry is\")"
   ]
  },
  {
   "cell_type": "markdown",
   "metadata": {},
   "source": [
    "An alternative way to access keys in a dictionary is with the method ``get``. If the key does not exist you get a `None`:"
   ]
  },
  {
   "cell_type": "code",
   "execution_count": null,
   "metadata": {},
   "outputs": [],
   "source": [
    "print(fruits.get('bananas'))\n",
    "print(fruits.get('strawberries')) "
   ]
  },
  {
   "cell_type": "markdown",
   "metadata": {},
   "source": [
    "You can also define a default different from ``None``:"
   ]
  },
  {
   "cell_type": "code",
   "execution_count": null,
   "metadata": {},
   "outputs": [],
   "source": [
    "print(fruits.get('strawberries',0))  "
   ]
  },
  {
   "cell_type": "markdown",
   "metadata": {},
   "source": [
    "To iterate over key-value pairs of a dictionary:"
   ]
  },
  {
   "cell_type": "code",
   "execution_count": null,
   "metadata": {},
   "outputs": [],
   "source": [
    "for key in fruits: \n",
    "    print(key, fruits[key])"
   ]
  },
  {
   "cell_type": "markdown",
   "metadata": {},
   "source": [
    "This iteration is equivalent to iterating over ```fruits.keys()```:"
   ]
  },
  {
   "cell_type": "code",
   "execution_count": null,
   "metadata": {},
   "outputs": [],
   "source": [
    "for key in fruits.keys(): \n",
    "    print(key)"
   ]
  },
  {
   "cell_type": "code",
   "execution_count": null,
   "metadata": {},
   "outputs": [],
   "source": [
    "type(fruits.keys())"
   ]
  },
  {
   "cell_type": "markdown",
   "metadata": {},
   "source": [
    "If you want to show the values instead:"
   ]
  },
  {
   "cell_type": "code",
   "execution_count": null,
   "metadata": {},
   "outputs": [],
   "source": [
    "for value in fruits.values():\n",
    "    print(value)"
   ]
  },
  {
   "cell_type": "markdown",
   "metadata": {},
   "source": [
    "If you want to show both at the same time, you can use fruits.items()"
   ]
  },
  {
   "cell_type": "code",
   "execution_count": null,
   "metadata": {},
   "outputs": [],
   "source": [
    "for key, value in fruits.items():\n",
    "    print(key + \" = \" + str(value))"
   ]
  },
  {
   "cell_type": "markdown",
   "metadata": {},
   "source": [
    "_**Note that the keys are not sorted, nor are listed in the order you added them to the dictionary!**_ If you want to do that, you should sort the keys first"
   ]
  },
  {
   "cell_type": "code",
   "execution_count": null,
   "metadata": {},
   "outputs": [],
   "source": [
    "for key in sorted(fruits.keys()):\n",
    "    print(key, fruits[key])"
   ]
  },
  {
   "cell_type": "code",
   "execution_count": null,
   "metadata": {},
   "outputs": [],
   "source": [
    "#fruits['bananas']=23\n",
    "#fruits['pineapples']=45\n",
    "for value in sorted(fruits.values()):\n",
    "    print(value)"
   ]
  },
  {
   "cell_type": "markdown",
   "metadata": {},
   "source": [
    "Dictionary comprehensions"
   ]
  },
  {
   "cell_type": "code",
   "execution_count": null,
   "metadata": {},
   "outputs": [],
   "source": [
    "D = {k:k*k for k in range(3)}\n",
    "print(D)"
   ]
  },
  {
   "cell_type": "code",
   "execution_count": null,
   "metadata": {},
   "outputs": [],
   "source": [
    "for value in D.values():\n",
    "    print(value)"
   ]
  },
  {
   "cell_type": "markdown",
   "metadata": {},
   "source": [
    "### Exercise 7\n",
    "Build a dictionary from the cities list. The key should be the accentless cityname (column 2), The value should be the population\n",
    "\n",
    "<details><summary><u>Hint 1.</u></summary>\n",
    "<p>\n",
    "\n",
    "You can start from an empty dictionary and use a <code>for</code> loop to iterate trough <code>cities</code> to populate the dictionary or you can use a dictionary comprehension.\n",
    "\n",
    "</p>\n",
    "</details>\n",
    "\n",
    "<details><summary><u>Hint 2.</u></summary>\n",
    "<p>\n",
    "\n",
    "The first element of <code>cities</code> is a header, exclude it by slicing as <code>cities[1:]</code>.\n",
    "\n",
    "</p>\n",
    "</details>"
   ]
  },
  {
   "cell_type": "code",
   "execution_count": null,
   "metadata": {},
   "outputs": [],
   "source": []
  },
  {
   "cell_type": "markdown",
   "metadata": {},
   "source": [
    "<details><summary><u>Solution.</u></summary>\n",
    "<p>\n",
    "    \n",
    "```python\n",
    "cdict = {c[2]:int(c[3]) for c in cities[1:]}\n",
    "#test it\n",
    "print(cdict['Szeged'])\n",
    "```\n",
    "    \n",
    "</p>\n",
    "</details>"
   ]
  },
  {
   "cell_type": "markdown",
   "metadata": {},
   "source": [
    "### Exercise 8\n",
    "Build a dictionary containing dictionaries from the cities list. The key should be the accentless cityname (column 2), The value should be a dictionary, with 'population' the population and 'area' the size in km$^2$"
   ]
  },
  {
   "cell_type": "code",
   "execution_count": null,
   "metadata": {},
   "outputs": [],
   "source": []
  },
  {
   "cell_type": "markdown",
   "metadata": {},
   "source": [
    "<details><summary><u>Solution.</u></summary>\n",
    "<p>\n",
    "    \n",
    "```python\n",
    "cdict2 = {c[2]:{\"population\":int(c[3]), \"area\":float(c[4])} for c in cities[1:]}\n",
    "# test it\n",
    "print(cdict2['Szeged'])\n",
    "```\n",
    "    \n",
    "</p>\n",
    "</details>"
   ]
  }
 ],
 "metadata": {
  "kernelspec": {
   "display_name": "Python 3 (ipykernel)",
   "language": "python",
   "name": "python3"
  },
  "language_info": {
   "codemirror_mode": {
    "name": "ipython",
    "version": 3
   },
   "file_extension": ".py",
   "mimetype": "text/x-python",
   "name": "python",
   "nbconvert_exporter": "python",
   "pygments_lexer": "ipython3",
   "version": "3.9.0"
  }
 },
 "nbformat": 4,
 "nbformat_minor": 2
}
