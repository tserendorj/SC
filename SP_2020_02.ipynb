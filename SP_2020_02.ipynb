{
 "cells": [
  {
   "cell_type": "markdown",
   "metadata": {},
   "source": [
    "# DNDS6013 Scientific Python: 2nd class\n",
    "## Central European University, Winter 2019/2020\n",
    "\n",
    "Instructor: Márton Pósfai, TA: Luis Natera Orozco\n",
    "\n",
    "Emails: posfaim@ceu.edu, natera_luis@phd.ceu.edu"
   ]
  },
  {
   "cell_type": "markdown",
   "metadata": {},
   "source": [
    "#### Today's topics\n",
    "\n",
    "- Strings + regular expressions -> extract information from a website\n",
    "- Lists\n",
    "- Functions\n",
    "- Analyze city data\n",
    "- Dictionaries"
   ]
  },
  {
   "cell_type": "markdown",
   "metadata": {},
   "source": [
    "### Quiz results\n",
    "\n",
    "Average ~50%, best 73%\n",
    "\n",
    "Solutions on Moodle"
   ]
  },
  {
   "cell_type": "markdown",
   "metadata": {},
   "source": [
    "## Lists"
   ]
  },
  {
   "cell_type": "code",
   "execution_count": null,
   "metadata": {},
   "outputs": [],
   "source": [
    "a = [ 7, 3 ,8, 10, 7, 1, 9, 1, 5]\n",
    "print(a[0], a[0:4], a[-1])"
   ]
  },
  {
   "cell_type": "markdown",
   "metadata": {},
   "source": [
    "### Problem 12 from the quiz\n",
    "\n",
    "Assume the following list definition:\n",
    "```python\n",
    ">>> a = ['foo', 'bar', 'baz', 'qux', 'quux', 'corge']\n",
    "```\n",
    "Several short interactive sessions are shown below. Which display the correct output?\n",
    "\n",
    "1. ```python\n",
    ">>> print(a[-6])\n",
    "Traceback (most recent call last):\n",
    "  File \"<stdin>\", line 1, in <module>\n",
    "  IndexError: list index out of range\n",
    "```\n",
    "    \n",
    "2. ```python\n",
    ">>> print(a[4::-2])\n",
    "['quux', 'baz', 'foo']\n",
    "   ```\n",
    "3. ```python\n",
    ">>> print(a[-5:-3])\n",
    "['bar', 'baz']\n",
    "```\n",
    "    \n",
    "4. ```python\n",
    ">>> a[:] is a\n",
    "True\n",
    "```\n",
    "    \n",
    "5. ```python\n",
    ">>> max(a[2:4] + ['grault'])\n",
    "'qux'\n",
    "```"
   ]
  },
  {
   "cell_type": "code",
   "execution_count": null,
   "metadata": {},
   "outputs": [],
   "source": [
    "a = ['foo', 'bar', 'baz', 'qux', 'quux', 'corge']\n",
    "print(a[-6])\n",
    "print(a[4::-2])\n",
    "print(a[-5:-3])\n",
    "print(a[:] is a)\n",
    "print(max(a[2:4]+['grault']))"
   ]
  },
  {
   "cell_type": "code",
   "execution_count": null,
   "metadata": {},
   "outputs": [],
   "source": [
    "a = [1, \"a\", [1, 2], 45.576]\n",
    "print(a[1], a[2])\n",
    "b = a + [ \"apple\", True ]\n",
    "print(b)\n",
    "a += [ \"pear\", False ]\n",
    "print(a)"
   ]
  },
  {
   "cell_type": "code",
   "execution_count": null,
   "metadata": {},
   "outputs": [],
   "source": [
    "print(a[2], \"is a list.\")\n",
    "# we can access its elements the same way as we access the elements of a (e.g. a[2])\n",
    "print(\"a[2][1] is the second element of a[2]:\", a[2][1])"
   ]
  },
  {
   "cell_type": "markdown",
   "metadata": {},
   "source": [
    "### Problem 11 from the quiz\n",
    "\n",
    "Write an expression that returns 'z' from 'baz'."
   ]
  },
  {
   "cell_type": "code",
   "execution_count": null,
   "metadata": {},
   "outputs": [],
   "source": [
    "x = [10,[3.141,20, [30,'baz', 2.718]],'foo']\n",
    "\n",
    "print(x[1])\n",
    "print(x[1][2])\n",
    "print(x[1][2][1])\n",
    "print(x[1][2][1][2])"
   ]
  },
  {
   "cell_type": "code",
   "execution_count": null,
   "metadata": {},
   "outputs": [],
   "source": [
    "b = []\n",
    "a = [ 1, 2 ]\n",
    "print(b)\n",
    "b.append(\"a\")\n",
    "b.append(5)\n",
    "b.append(a)\n",
    "print(b)\n",
    "b.remove(\"a\")\n",
    "print(\"a removed:\", b)\n",
    "print(b)\n",
    "print(\"Pop\",b.pop(-1))\n",
    "a.reverse()\n",
    "print(\"a reversed:\",a)"
   ]
  },
  {
   "cell_type": "code",
   "execution_count": null,
   "metadata": {},
   "outputs": [],
   "source": [
    "print(list(range(10)))\n",
    "print(list(range(3,10,2)))"
   ]
  },
  {
   "cell_type": "markdown",
   "metadata": {},
   "source": [
    "### Basic python control flow"
   ]
  },
  {
   "cell_type": "markdown",
   "metadata": {},
   "source": [
    "#### While loops, for loops and conditionals (if else)"
   ]
  },
  {
   "cell_type": "code",
   "execution_count": null,
   "metadata": {},
   "outputs": [],
   "source": [
    "for a in range(10):\n",
    "    if a < 5:\n",
    "        print(a)\n",
    "    else:\n",
    "        print(10-a)"
   ]
  },
  {
   "cell_type": "code",
   "execution_count": null,
   "metadata": {},
   "outputs": [],
   "source": [
    "f = 1.0\n",
    "v = 1.0\n",
    "while f * v < 1e10:\n",
    "    f *= v\n",
    "    v += 1.0\n",
    "print(\"The largest factorial less than 1e10 is: %d! = %g\" % (v - 1, f))"
   ]
  },
  {
   "cell_type": "markdown",
   "metadata": {},
   "source": [
    "### Problem 9 of the quiz\n",
    "\n",
    "Will the `print()` statement on line 5 execute?"
   ]
  },
  {
   "cell_type": "code",
   "execution_count": null,
   "metadata": {},
   "outputs": [],
   "source": [
    "a = ['foo', 'bar', 'baz', 'qux', 'quux', 'corge']\n",
    "while a:\n",
    "    print(a.pop())\n",
    "else:\n",
    "    print(\"Done.\")"
   ]
  },
  {
   "cell_type": "markdown",
   "metadata": {},
   "source": [
    "### Strings\n",
    "Escape sequences, operations, conversions"
   ]
  },
  {
   "cell_type": "code",
   "execution_count": null,
   "metadata": {
    "scrolled": true
   },
   "outputs": [],
   "source": [
    "s = \"Hello world!\"\n",
    "print(s[0],s[1],s[-1],s[-2])\n",
    "print(s[0:4],s[:4])\n",
    "print(s[0:-1])\n",
    "print(s[0:-1:2],s[::2])"
   ]
  },
  {
   "cell_type": "markdown",
   "metadata": {},
   "source": [
    "#### Useful string methods"
   ]
  },
  {
   "cell_type": "code",
   "execution_count": null,
   "metadata": {},
   "outputs": [],
   "source": [
    "s = \"Hello world!\\n\"\n",
    "print(s[6:].capitalize() + \"XXX\")\n",
    "print(s.rstrip() + \"YYY\")\n",
    "print(s.count(\"l\"))\n",
    "print(s.index(\"l\"))\n",
    "print(\"123\".isdigit(),\"1e3\".isdigit(),s.isprintable(),\"Körte\".isprintable())\n",
    "print(s.split(\"l\"))\n",
    "print(s.strip(\"\\n! lH\"))\n",
    "print(s.upper())"
   ]
  },
  {
   "cell_type": "markdown",
   "metadata": {},
   "source": [
    "# Some more advanced details\n",
    "\n",
    "Python is a dynamic language. This means that one does not have to tell the computer what is the type of the variable that you're going to create.\n",
    "\n",
    "Normally in a static programming language working with variables has two steps:\n",
    "* instantiation\n",
    "* initialization\n",
    "\n",
    "To instantiate a variable means that the programing language reserves a space in the memory according with the type of the variable. To initialize a variable instead means to use that space and to write in it the value that you want that give to the variable.\n",
    "In Python the language manages itself to find out the type of the variable that you want to initialize and the two processes happen at the same time.\n",
    "In order to work with variables and types in an efficient way you need to understand how python manages them.\n",
    "\n",
    "When we assign a value to a variable, python stores some information in a given portion of the memory. To do so it needs to write the information. The memory looks like a long list of 1s and 0s (bits) and to write an information means to replace some of those 1s and 0s with some other series of 1s and 0s. To retrieve the information later, python needs to know the point in which we wrote our list of 1s and 0s and how long the list was. Basically we need to know an address and a size.\n",
    "\n",
    "Let's play a little to understand how python does that."
   ]
  },
  {
   "cell_type": "code",
   "execution_count": null,
   "metadata": {},
   "outputs": [],
   "source": [
    "import sys\n",
    "gso = sys.getsizeof"
   ]
  },
  {
   "cell_type": "markdown",
   "metadata": {},
   "source": [
    "what we have just done is to assign to the variable gso the same information that was stored in sys.getsizeof. sys.getsizeof is a function (\"getsizeof\") that is defined within the module sys. We will talk about modules later on in the course. To call gso or sys.getsizeof is now the same thing."
   ]
  },
  {
   "cell_type": "code",
   "execution_count": null,
   "metadata": {},
   "outputs": [],
   "source": [
    "?gso"
   ]
  },
  {
   "cell_type": "code",
   "execution_count": null,
   "metadata": {},
   "outputs": [],
   "source": [
    "gso(3)"
   ]
  },
  {
   "cell_type": "code",
   "execution_count": null,
   "metadata": {},
   "outputs": [],
   "source": [
    "sys.getsizeof(3)"
   ]
  },
  {
   "cell_type": "markdown",
   "metadata": {},
   "source": [
    "A byte is a collection of 8 bits and is a unit of digital information. A bit represent a binary number. To learn more ask wikipedia ;)\n",
    "\n",
    "What an address looks like instead is the following:"
   ]
  },
  {
   "cell_type": "code",
   "execution_count": null,
   "metadata": {},
   "outputs": [],
   "source": [
    "?id"
   ]
  },
  {
   "cell_type": "code",
   "execution_count": null,
   "metadata": {},
   "outputs": [],
   "source": [
    "a = 3\n",
    "id(a)"
   ]
  },
  {
   "cell_type": "code",
   "execution_count": null,
   "metadata": {},
   "outputs": [],
   "source": [
    "id(3)"
   ]
  },
  {
   "cell_type": "code",
   "execution_count": null,
   "metadata": {},
   "outputs": [],
   "source": [
    "b = 3\n",
    "id(b)"
   ]
  },
  {
   "cell_type": "code",
   "execution_count": null,
   "metadata": {},
   "outputs": [],
   "source": [
    "b = b+1\n",
    "id(b)"
   ]
  },
  {
   "cell_type": "code",
   "execution_count": null,
   "metadata": {},
   "outputs": [],
   "source": [
    "id(a)"
   ]
  },
  {
   "cell_type": "markdown",
   "metadata": {},
   "source": [
    "What happened? What did python do with the addresses?\n",
    "Python always tries to optimize the memory usage. \"a\" and \"b\" are two different variables. Nevertheless their address is the same. Python assign the same address to different variables that have the same value. But it knows that the variables are not the same. Knowing that, it creates a new address for the variable \"b\" as soon as \"b\" changes.\n",
    "We don't have to worry to free the space of the memory used by values that we don't use anymore. Python does that automatically. A technical way of saying this is: a \"garbage collector\" is implemented in python."
   ]
  },
  {
   "cell_type": "code",
   "execution_count": null,
   "metadata": {},
   "outputs": [],
   "source": [
    "var = 5\n",
    "id(var)"
   ]
  },
  {
   "cell_type": "code",
   "execution_count": null,
   "metadata": {},
   "outputs": [],
   "source": [
    "var += 10\n",
    "id(var)"
   ]
  },
  {
   "cell_type": "markdown",
   "metadata": {},
   "source": [
    "The memory used in the old address is now available for other uses since python knows that var is not reserving it anymore.\n",
    "\n",
    "Data types that behave like this are called *immutable*."
   ]
  },
  {
   "cell_type": "markdown",
   "metadata": {},
   "source": [
    "### Something on the lists now!"
   ]
  },
  {
   "cell_type": "code",
   "execution_count": null,
   "metadata": {},
   "outputs": [],
   "source": [
    "a = [1,2,3,4]"
   ]
  },
  {
   "cell_type": "code",
   "execution_count": null,
   "metadata": {},
   "outputs": [],
   "source": [
    "gso(a)"
   ]
  },
  {
   "cell_type": "code",
   "execution_count": null,
   "metadata": {},
   "outputs": [],
   "source": [
    "id(a)"
   ]
  },
  {
   "cell_type": "code",
   "execution_count": null,
   "metadata": {},
   "outputs": [],
   "source": [
    "a.append(5)\n",
    "a"
   ]
  },
  {
   "cell_type": "code",
   "execution_count": null,
   "metadata": {},
   "outputs": [],
   "source": [
    "gso(a)"
   ]
  },
  {
   "cell_type": "code",
   "execution_count": null,
   "metadata": {},
   "outputs": [],
   "source": [
    "id(a)"
   ]
  },
  {
   "cell_type": "markdown",
   "metadata": {},
   "source": [
    "The address of the list hasn't changed even if we modified the values inside the list itself. This is really important! We can modify, but its address will stay the same.\n",
    "This happens because a list is a more complex object. In fact it is a collection of addresses, each of them point to a different element of the list."
   ]
  },
  {
   "cell_type": "code",
   "execution_count": null,
   "metadata": {},
   "outputs": [],
   "source": [
    "id(a[0])"
   ]
  },
  {
   "cell_type": "code",
   "execution_count": null,
   "metadata": {},
   "outputs": [],
   "source": [
    "a[0] = 2"
   ]
  },
  {
   "cell_type": "code",
   "execution_count": null,
   "metadata": {},
   "outputs": [],
   "source": [
    "id(a[0])"
   ]
  },
  {
   "cell_type": "code",
   "execution_count": null,
   "metadata": {},
   "outputs": [],
   "source": [
    "id(a)"
   ]
  },
  {
   "cell_type": "code",
   "execution_count": null,
   "metadata": {},
   "outputs": [],
   "source": [
    "b=a\n",
    "print(b)\n",
    "b[3]='hello'\n",
    "print(b)\n",
    "print(a)"
   ]
  },
  {
   "cell_type": "code",
   "execution_count": null,
   "metadata": {},
   "outputs": [],
   "source": [
    "c = a[:]\n",
    "d = a.copy()\n",
    "print(id(a),id(c),id(d))"
   ]
  },
  {
   "cell_type": "markdown",
   "metadata": {},
   "source": [
    "The address of a hasn't changed, but the address of the first element of the list changed.\n",
    "\n",
    "* Data types that keep their address when changes: *mutable*\n",
    "* Data types that are re-created: *immutable*"
   ]
  },
  {
   "cell_type": "markdown",
   "metadata": {},
   "source": [
    "### Read/write to file"
   ]
  },
  {
   "cell_type": "markdown",
   "metadata": {},
   "source": [
    "Write a text file"
   ]
  },
  {
   "cell_type": "code",
   "execution_count": null,
   "metadata": {},
   "outputs": [],
   "source": [
    "f = open(\"test.txt\",\"w\")\n",
    "\n",
    "f.write(\"First line\\n\")\n",
    "f.write(\"Second line\\n\")\n",
    "\n",
    "f.close()"
   ]
  },
  {
   "cell_type": "markdown",
   "metadata": {},
   "source": [
    "Read"
   ]
  },
  {
   "cell_type": "code",
   "execution_count": null,
   "metadata": {},
   "outputs": [],
   "source": [
    "f = open(\"test.txt\",\"r\")\n",
    "for line in f:\n",
    "    print(line)\n",
    "f.close()"
   ]
  },
  {
   "cell_type": "markdown",
   "metadata": {},
   "source": [
    "The `with` statement"
   ]
  },
  {
   "cell_type": "code",
   "execution_count": null,
   "metadata": {},
   "outputs": [],
   "source": [
    "with open(\"test.txt\") as f:\n",
    "    for line in f:\n",
    "        print(line.rstrip())"
   ]
  },
  {
   "cell_type": "markdown",
   "metadata": {},
   "source": [
    "Append"
   ]
  },
  {
   "cell_type": "code",
   "execution_count": null,
   "metadata": {},
   "outputs": [],
   "source": [
    "with open(\"test.txt\",\"a\") as f:\n",
    "    f.write(\"\\tThird line\\n\")\n",
    "\n",
    "with open(\"test.txt\") as f:\n",
    "    for line in f:\n",
    "        print(line, end='')"
   ]
  },
  {
   "cell_type": "markdown",
   "metadata": {},
   "source": [
    "### Exercise 1\n",
    "\n",
    "Import a web page (http://www.hydroinfo.hu/tables/ENG/442027.html) and get the water level forecast of the Danube.\n",
    "\n",
    "But first the tools we need: module to download website and regular expressions to parse website"
   ]
  },
  {
   "cell_type": "code",
   "execution_count": null,
   "metadata": {},
   "outputs": [],
   "source": [
    "import urllib.request\n",
    "link = \"http://www.hydroinfo.hu/tables/ENG/442027.html\"\n",
    "#link = \"http://posfaim.web.elte.hu/watertable.html\"\n",
    "f = urllib.request.urlopen(link)\n",
    "content = str(f.read())\n",
    "\n",
    "print(content.split(\"<tr>\")[4])"
   ]
  },
  {
   "cell_type": "markdown",
   "metadata": {},
   "source": [
    "### Regular expressions (regex)\n",
    "\n",
    "Regular expression is a simple but versatile language for matching and manipulating patterns in text.\n",
    "\n",
    "A regular expression is a string that will be used as a search pattern in another string.\n",
    "\n",
    "For example, if we have a string: <pre>\"This is a test\"</pre>, and a regular expression <pre>\"is a\"</pre>.\n",
    "This regular expression will 'match' the substring <pre>\"is a\"</pre> in the first string.\n",
    "\n",
    "Special characters <pre>. ^ $ * + ? { } [ ] \\ | ( )</pre>\n",
    "\n",
    "The dot character (.) matches any character.\n",
    "\n",
    "The star character (*) matches any number of repetitions of the pevious character.\n",
    "\n",
    "The plus character (+) matches any nonzero number repetitions of the previous charcter.\n",
    "\n",
    "The ? character matches zero or one repetitions of the previous characters.\n",
    "\n",
    "The ^ character matches the beginning of the string.\n",
    "\n",
    "The $ character matches the end of the string.\n",
    "\n",
    "Helpful tool for debugging and understanding regexp: https://regexr.com"
   ]
  },
  {
   "cell_type": "code",
   "execution_count": null,
   "metadata": {},
   "outputs": [],
   "source": [
    "import re\n",
    "\n",
    "name1 = \"MP\"\n",
    "name2 = \"János Kertész\"\n",
    "\n",
    "res = re.search(r\"M.+P\", name1) # + = nonzero number of repetitions\n",
    "if res is not None:\n",
    "    print(res.group(), res.start(), res.end())\n",
    "else:\n",
    "    print(\"No match.\")\n",
    "    \n",
    "res = re.search(r\"M.*P\", name1) # * = nonzero number of repetitions\n",
    "if res is not None:\n",
    "    print(res.group(), res.start(), res.end())\n",
    "else:\n",
    "    print(\"No match.\")\n",
    "\n",
    "res = re.search(r\"J.*K\", name2)\n",
    "if res is not None:\n",
    "    print(res.group(), res.start(), res.end())\n",
    "else:\n",
    "    print(\"No match.\")"
   ]
  },
  {
   "cell_type": "code",
   "execution_count": null,
   "metadata": {},
   "outputs": [],
   "source": [
    "re.sub(r\"(.*) (.*)\",r\"\\2 \\1\",name2)"
   ]
  },
  {
   "cell_type": "markdown",
   "metadata": {},
   "source": [
    "Parsing goes from left to right and finds the longest substring that fits the pattern"
   ]
  },
  {
   "cell_type": "code",
   "execution_count": null,
   "metadata": {
    "scrolled": true
   },
   "outputs": [],
   "source": [
    "t = \"abracadabra, poof!\"\n",
    "\n",
    "print(re.sub(r\"a.*a\",\"\",t))\n",
    "print(re.sub(r\"a.{1}a\",\"\",t))  # {n} : exactly n repetitions\n",
    "print(re.sub(r\"a.{2}a\",\"\",t))  # we can have multiple matches\n",
    "print(re.sub(r\"^a.{2}a\",\"\",t)) # ^ = beginning of string"
   ]
  },
  {
   "cell_type": "markdown",
   "metadata": {},
   "source": [
    "`[...]` one of the characters inside the brackets, for example, `[ab]` = either `a` or `b`\n",
    "\n",
    "You can also give ranges:\n",
    "* `[0-9]` = any digit\n",
    "* `[A-Z]` = any capitalized letter"
   ]
  },
  {
   "cell_type": "code",
   "execution_count": null,
   "metadata": {},
   "outputs": [],
   "source": [
    "t = \"asda12aasd324asdad\"\n",
    "\n",
    "for v in re.finditer(r\"([0-9]{2})\", t):\n",
    "    print(v.group())"
   ]
  },
  {
   "cell_type": "markdown",
   "metadata": {},
   "source": [
    "Other useful shorthands:\n",
    "\n",
    "|Character|Description\n",
    "|:---|:---\n",
    "|`\\d`| one digit, same as `[0-9]`\n",
    "|`\\w`| word letter = letter, digit, or underscore\n",
    "|`\\s`| white space, such as space, tab, new line\n",
    "\n",
    "[More info on regex in python.](https://docs.python.org/3.7/library/re.html)"
   ]
  },
  {
   "cell_type": "code",
   "execution_count": null,
   "metadata": {
    "scrolled": false
   },
   "outputs": [],
   "source": [
    "import urllib.request\n",
    "import re\n",
    "link = \"http://www.hydroinfo.hu/tables/ENG/442027.html\"\n",
    "#link = \"http://posfaim.web.elte.hu/watertable.html\"\n",
    "f = urllib.request.urlopen(link)\n",
    "content = str(f.read())\n",
    "print(content[:1000])\n",
    "print(len(content))"
   ]
  },
  {
   "cell_type": "markdown",
   "metadata": {},
   "source": [
    "### Exercise 1 again\n",
    "\n",
    "Import a web page (http://www.hydroinfo.hu/tables/ENG/442027.html) and get the water level forecast of the Danube.\n",
    "\n",
    "Write a regular expression that matches the date and time in the a table, and another that matches the water level. Iterate through the matches and print them out.\n"
   ]
  },
  {
   "cell_type": "code",
   "execution_count": null,
   "metadata": {},
   "outputs": [],
   "source": []
  },
  {
   "cell_type": "markdown",
   "metadata": {},
   "source": [
    "### Exercise 2\n",
    "Make a list from the previous results. Each element should contain a tuple with two elements: `(date, waterlevel)`. Watch out, for the first water level we do not have a date."
   ]
  },
  {
   "cell_type": "code",
   "execution_count": null,
   "metadata": {},
   "outputs": [],
   "source": [
    "\n"
   ]
  },
  {
   "cell_type": "markdown",
   "metadata": {},
   "source": [
    "### Exercise 3\n",
    "Write a regexp which is able to convert the first floating point number in a string to a float.\n",
    "Example: \"I have 205 Euros.\", \"The value of pi is 3.14.\", \"The gravitational constant is 6.67e-11 m$^{3}$kg$^{-1}$s$^{-2}$.\""
   ]
  },
  {
   "cell_type": "code",
   "execution_count": null,
   "metadata": {},
   "outputs": [],
   "source": [
    "examples = [\"I have 205 Euros.\", \"The value of pi is 3.14.\", \"6.67e-11 m3kg−1s−2\"]\n"
   ]
  },
  {
   "cell_type": "markdown",
   "metadata": {},
   "source": [
    "### Exercise 4\n",
    "Change date format using regex, use the `re.sub` function:"
   ]
  },
  {
   "cell_type": "code",
   "execution_count": 3,
   "metadata": {},
   "outputs": [
    {
     "data": {
      "text/plain": [
       "'parker Peter'"
      ]
     },
     "execution_count": 3,
     "metadata": {},
     "output_type": "execute_result"
    }
   ],
   "source": [
    "import re\n",
    "name1 = \"Peter parker\"\n",
    "re.sub(r\"(.*) (.*)\",r\"\\2 \\1\",name1)"
   ]
  },
  {
   "cell_type": "code",
   "execution_count": null,
   "metadata": {},
   "outputs": [],
   "source": [
    "date = \"Easter Sunday this year was 01.04.2018.\"\n",
    "#change date to yyyy.mm.dd format\n"
   ]
  },
  {
   "cell_type": "markdown",
   "metadata": {},
   "source": [
    "## Lists comprehensions\n",
    "\n",
    "So far we created lists like this:"
   ]
  },
  {
   "cell_type": "code",
   "execution_count": null,
   "metadata": {},
   "outputs": [],
   "source": [
    "L = []\n",
    "for x in range(5):\n",
    "    L.append(x**2)\n",
    "print(L)"
   ]
  },
  {
   "cell_type": "code",
   "execution_count": null,
   "metadata": {},
   "outputs": [],
   "source": [
    "L = [x**2 for x in range(5)]\n",
    "print(L)"
   ]
  },
  {
   "cell_type": "markdown",
   "metadata": {},
   "source": [
    "List comprehensions are similar to the mathematical formalism of defining sets: \n",
    "$$ L=\\lbrace x^2 : x \\in \\lbrace 0, 1, 2, 3, 4\\rbrace \\rbrace.$$"
   ]
  },
  {
   "cell_type": "code",
   "execution_count": null,
   "metadata": {},
   "outputs": [],
   "source": [
    "L = [x**2 for x in range(5) if x > 2]\n",
    "print(L)"
   ]
  },
  {
   "cell_type": "code",
   "execution_count": null,
   "metadata": {},
   "outputs": [],
   "source": [
    "L = []\n",
    "for x in range(5):\n",
    "    if x%2 == 0:\n",
    "        L.append([x, x*x])\n",
    "print(L)"
   ]
  },
  {
   "cell_type": "code",
   "execution_count": null,
   "metadata": {},
   "outputs": [],
   "source": [
    "L = [[x, x**2] for x in range(5) if x%2 == 0]\n",
    "print(L)"
   ]
  },
  {
   "cell_type": "code",
   "execution_count": null,
   "metadata": {},
   "outputs": [],
   "source": [
    "import timeit\n",
    "\n",
    "s_append = '''\n",
    "L = []\n",
    "for x in range(1000):\n",
    "    if x%2==0:\n",
    "        L.append([x,x**2])\n",
    "'''\n",
    "t_append = timeit.timeit(s_append, number=1000)\n",
    "\n",
    "s_compr = 'L = [[x, x**2] for x in range(1000) if x%2 == 0]'\n",
    "t_compr = timeit.timeit(s_compr, number=1000)\n",
    "\n",
    "print(f\"Run time w append {t_append}\\nRuntime w list comprehension {t_compr}\" )"
   ]
  },
  {
   "cell_type": "code",
   "execution_count": null,
   "metadata": {},
   "outputs": [],
   "source": [
    "%timeit L = [[x, x**2] for x in range(100) if x%2 == 0]"
   ]
  },
  {
   "cell_type": "markdown",
   "metadata": {},
   "source": [
    "## Functions"
   ]
  },
  {
   "cell_type": "code",
   "execution_count": null,
   "metadata": {},
   "outputs": [],
   "source": [
    "def f(x,y):\n",
    "    z = x + y\n",
    "    \n",
    "    return z\n",
    "    \n",
    "print(f(1,10))"
   ]
  },
  {
   "cell_type": "markdown",
   "metadata": {},
   "source": [
    "The variable `z` is local:"
   ]
  },
  {
   "cell_type": "code",
   "execution_count": null,
   "metadata": {
    "scrolled": true
   },
   "outputs": [],
   "source": [
    "f(1,2)\n",
    "print(z)"
   ]
  },
  {
   "cell_type": "markdown",
   "metadata": {},
   "source": [
    "Argument `a` of function `f(a)` is passed by assignment.\n",
    "\n",
    "For example, if I call `f(10)`, a local variable is created as `a=10`"
   ]
  },
  {
   "cell_type": "code",
   "execution_count": null,
   "metadata": {},
   "outputs": [],
   "source": [
    "def f(a):\n",
    "    a += 1\n",
    "    \n",
    "a = 3\n",
    "f(a)\n",
    "print(a)"
   ]
  },
  {
   "cell_type": "code",
   "execution_count": null,
   "metadata": {},
   "outputs": [],
   "source": [
    "def f(a):\n",
    "    a[0] += 1\n",
    "    \n",
    "b = [ 1, 2, 3 ]\n",
    "f(b)\n",
    "print(b)"
   ]
  },
  {
   "cell_type": "code",
   "execution_count": null,
   "metadata": {},
   "outputs": [],
   "source": [
    "def f0():\n",
    "    L = []\n",
    "    for x in range(100):\n",
    "        if x%2 == 0:\n",
    "            L.append([x, x*x])\n",
    "    return L\n",
    "\n",
    "timeit.timeit(f0)"
   ]
  },
  {
   "cell_type": "markdown",
   "metadata": {},
   "source": [
    "### Exercise 5\n",
    "Write a small function which returns a list of lists in which the elements are 2-tuples: the fist element is a sequnce number the second is the value of the list. e.g.\n",
    "l = \\[ \"alma\", \"apple\", \"pomme\", \"Apfel\", \"תפוח\" \\] to \n",
    "lnumbered = \\[ (0,\"alma\"), (1,\"apple\"), (2,\"pomme\"), (3,\"Apfel\"), (4,\"תפוח\") \\]"
   ]
  },
  {
   "cell_type": "code",
   "execution_count": null,
   "metadata": {},
   "outputs": [],
   "source": []
  },
  {
   "cell_type": "markdown",
   "metadata": {},
   "source": [
    "### Exercise 6\n",
    "Write a small code which creates the list of list in which the element i has i elements from 0 to i-1. Ex:\n",
    "<pre>\n",
    "[], [0], [0, 1], [0, 1, 2], [0, 1, 2, 3]\n",
    "</pre>"
   ]
  },
  {
   "cell_type": "code",
   "execution_count": null,
   "metadata": {},
   "outputs": [],
   "source": []
  },
  {
   "cell_type": "markdown",
   "metadata": {},
   "source": [
    "### Exercise 7\n",
    "Write a code which gives you back a list of all pairs of numbers where both of them are less than 10 and the first is divisible by the other"
   ]
  },
  {
   "cell_type": "code",
   "execution_count": null,
   "metadata": {},
   "outputs": [],
   "source": []
  },
  {
   "cell_type": "markdown",
   "metadata": {},
   "source": [
    "## Sorting"
   ]
  },
  {
   "cell_type": "code",
   "execution_count": null,
   "metadata": {},
   "outputs": [],
   "source": [
    "l = [34,1,2,78,3]\n",
    "\n",
    "sl = sorted(l)\n",
    "print(\"Sorted list:\",sl)\n",
    "\n",
    "print()\n",
    "print(\"Original:\",l)"
   ]
  },
  {
   "cell_type": "markdown",
   "metadata": {},
   "source": [
    "In place sorting: `sort()`"
   ]
  },
  {
   "cell_type": "code",
   "execution_count": null,
   "metadata": {},
   "outputs": [],
   "source": [
    "l.sort()\n",
    "print(l)"
   ]
  },
  {
   "cell_type": "code",
   "execution_count": null,
   "metadata": {},
   "outputs": [],
   "source": [
    "guests = [\"Kate\",\"Peter\", \"Adam\", \"Jenny\", \"Zack\", \"Eva\"]\n",
    "\n",
    "print(\"Zack\">\"Eva\")\n",
    "\n",
    "print(sorted(guests))\n",
    "print(sorted(guests, reverse=True))"
   ]
  },
  {
   "cell_type": "markdown",
   "metadata": {},
   "source": [
    "### International characters"
   ]
  },
  {
   "cell_type": "code",
   "execution_count": null,
   "metadata": {},
   "outputs": [],
   "source": [
    "guests = [\"Kate\",\"Peter\", \"Adam\", \"Jenny\", \"Zack\", \"Eva\"]\n",
    "\n",
    "guests.append('Ödön')\n",
    "\n",
    "print(sorted(guests))\n",
    "\n",
    "print()\n",
    "#The problem\n",
    "print(\"Zack\">\"Odon\")\n",
    "print(\"Zack\">\"Ödön\")"
   ]
  },
  {
   "cell_type": "code",
   "execution_count": null,
   "metadata": {},
   "outputs": [],
   "source": [
    "import locale\n",
    "locale.getlocale()"
   ]
  },
  {
   "cell_type": "code",
   "execution_count": null,
   "metadata": {},
   "outputs": [],
   "source": [
    "locale.setlocale(locale.LC_ALL, ('hu_HU','UTF-8'))\n",
    "\n",
    "print(locale.strxfrm(\"Ödön\"))\n",
    "print(locale.strxfrm(\"Zack\")>locale.strxfrm(\"Ödön\"))\n",
    "\n",
    "print()\n",
    "print(sorted(guests, key=locale.strxfrm))"
   ]
  },
  {
   "cell_type": "code",
   "execution_count": null,
   "metadata": {},
   "outputs": [],
   "source": [
    "def f1(x): \n",
    "    return x % 7\n",
    "  \n",
    "L = [15, 3, 11, 7] \n",
    "  \n",
    "print(\"Normal sort :\", sorted(L) )\n",
    "print(\"Sorted with key:\", sorted(L, key = f1) )"
   ]
  },
  {
   "cell_type": "markdown",
   "metadata": {},
   "source": [
    "### Exercise 8\n",
    "Write code which orders the list generated by <pre>\n",
    "L = [[x, y] for x in range(5) for y in range(5) if x != y]\n",
    "</pre>\n",
    "by the sum of the two elements"
   ]
  },
  {
   "cell_type": "code",
   "execution_count": null,
   "metadata": {},
   "outputs": [],
   "source": [
    "L = [[x, y] for x in range(5) for y in range(5) if x != y]\n"
   ]
  },
  {
   "cell_type": "markdown",
   "metadata": {},
   "source": [
    "## Lambdas: one-line nameless functions"
   ]
  },
  {
   "cell_type": "code",
   "execution_count": null,
   "metadata": {},
   "outputs": [],
   "source": [
    "f1 = lambda x: x%7\n",
    "L = [15, 3, 11, 7] \n",
    "print(\"Sorted with key:\", sorted(L, key = f1) )"
   ]
  },
  {
   "cell_type": "code",
   "execution_count": null,
   "metadata": {},
   "outputs": [],
   "source": [
    "L = [15, 3, 11, 7] \n",
    "print(\"Sorted with key:\", sorted(L, key = lambda x: x%7) )"
   ]
  },
  {
   "cell_type": "markdown",
   "metadata": {},
   "source": [
    "### Exercise 9\n",
    "Use lambda to sort the <pre>\n",
    "L = [[x, y] for x in range(5) for y in range(5) if x != y]\n",
    "</pre>\n",
    "array by the second value in the list"
   ]
  },
  {
   "cell_type": "code",
   "execution_count": null,
   "metadata": {
    "scrolled": true
   },
   "outputs": [],
   "source": [
    "L = [[x, y] for x in range(5) for y in range(5) if x != y]\n"
   ]
  },
  {
   "cell_type": "markdown",
   "metadata": {},
   "source": [
    "## Analyzing city data"
   ]
  },
  {
   "cell_type": "code",
   "execution_count": null,
   "metadata": {},
   "outputs": [],
   "source": [
    "f = open(\"Hun_cities.csv\",\"r\")\n",
    "myfile = str(f.read())\n",
    "f.close()"
   ]
  },
  {
   "cell_type": "code",
   "execution_count": null,
   "metadata": {},
   "outputs": [],
   "source": [
    "myfile.split('\\n')[5]"
   ]
  },
  {
   "cell_type": "code",
   "execution_count": null,
   "metadata": {},
   "outputs": [],
   "source": [
    "cities = []\n",
    "for line in myfile.split('\\n'):\n",
    "    cities.append(line.split(','))\n",
    "print(cities[0])\n",
    "print(cities[1])"
   ]
  },
  {
   "cell_type": "markdown",
   "metadata": {},
   "source": [
    "Alternative way of doing this:"
   ]
  },
  {
   "cell_type": "code",
   "execution_count": null,
   "metadata": {},
   "outputs": [],
   "source": [
    "cities = []\n",
    "with open(\"Hun_cities.csv\",\"r\") as f:\n",
    "    for line in f:\n",
    "        cities.append(line.rstrip().split(','))\n",
    "print(cities[4])\n",
    "print(cities[5])\n",
    "print(len(cities))"
   ]
  },
  {
   "cell_type": "code",
   "execution_count": null,
   "metadata": {},
   "outputs": [],
   "source": [
    "long = [ float(row[5]) for row in cities[1:]]\n",
    "print(long[0:5])"
   ]
  },
  {
   "cell_type": "markdown",
   "metadata": {},
   "source": [
    "### Exercise 10\n",
    "Remove the double quotes from city names"
   ]
  },
  {
   "cell_type": "code",
   "execution_count": null,
   "metadata": {},
   "outputs": [],
   "source": []
  },
  {
   "cell_type": "markdown",
   "metadata": {},
   "source": [
    "### Exercise 11\n",
    "\n",
    " * Print the top 10 most populus cities\n",
    " * Print the top 10 cities with the largest area\n",
    " * Print the smallest city with university\n",
    " * Print the top 10 cities with population density"
   ]
  },
  {
   "cell_type": "code",
   "execution_count": null,
   "metadata": {},
   "outputs": [],
   "source": []
  },
  {
   "cell_type": "markdown",
   "metadata": {},
   "source": [
    "### Exercise 12\n",
    " * find the cities with the larges distance between them\n",
    " * find the cities with the smallest distance between them"
   ]
  },
  {
   "cell_type": "markdown",
   "metadata": {},
   "source": [
    "A little help, convert lattitude and longitude to distance use the [haversine formula](https://en.wikipedia.org/wiki/Haversine_formula):"
   ]
  },
  {
   "cell_type": "code",
   "execution_count": null,
   "metadata": {},
   "outputs": [],
   "source": [
    "import math\n",
    "def latlongdist(lat1,long1,lat2,long2):\n",
    "    rlat1 = math.radians(lat1)\n",
    "    rlat2 = math.radians(lat2)\n",
    "    rlong1 = math.radians(long1)\n",
    "    rlong2 = math.radians(long2)\n",
    "    dlat = rlat2 - rlat1\n",
    "    dlong = rlong2 - rlong1\n",
    "    a = math.sin(dlat / 2)**2 + math.cos(rlat1) * math.cos(rlat2) * math.sin(dlong / 2)**2\n",
    "    c = 2 * math.atan2(math.sqrt(a), math.sqrt(1 - a))\n",
    "    return 6371.0 * c"
   ]
  },
  {
   "cell_type": "code",
   "execution_count": null,
   "metadata": {},
   "outputs": [],
   "source": [
    "print(latlongdist(48.105625, 20.790556, 46.07308, 18.22857))"
   ]
  },
  {
   "cell_type": "code",
   "execution_count": null,
   "metadata": {},
   "outputs": [],
   "source": []
  },
  {
   "cell_type": "code",
   "execution_count": null,
   "metadata": {},
   "outputs": [],
   "source": [
    "import timeit\n",
    "timeit.timeit(alldist,number=1)"
   ]
  },
  {
   "cell_type": "markdown",
   "metadata": {},
   "source": [
    "### Bucketing\n",
    "On my laptop calculation took ~9 seconds for $n = 2561$ cities. That is $\\frac{n(n-1)}{2}$ distances.\n",
    "\n",
    "What about larger systems? -> Bucketing!\n",
    "\n",
    "* Divide the space into boxes\n",
    "* Put the cities into boxes\n",
    "* Number of boxes is much less than number of cities\n",
    "* Select only the boxes which are candidates for the given quantity: for minimal distance only neighboring ones, for maximal distance the few with maximal distance"
   ]
  },
  {
   "cell_type": "code",
   "execution_count": null,
   "metadata": {},
   "outputs": [],
   "source": [
    "lat = [ float(row[5]) for row in cities[1:]]\n",
    "print(\"Lattitude:\",min(lat),max(lat))\n",
    "long = [ float(row[6]) for row in cities[1:]]\n",
    "print(\"Longitude:\",min(long),max(long))"
   ]
  },
  {
   "cell_type": "code",
   "execution_count": null,
   "metadata": {},
   "outputs": [],
   "source": [
    "shape = (4, 7)  # shape of the grid\n",
    "\n",
    "la_range = (min(lat),  max(lat))\n",
    "lo_range = (min(long), max(long))\n",
    "\n",
    "dla = (la_range[1]-la_range[0])/shape[0]\n",
    "dlo = (lo_range[1]-lo_range[0])/shape[1]\n",
    "\n",
    "grid = [[[] for k in range(shape[1])] for j in range(shape[0])]\n",
    "\n",
    "for c in cities[1:]:\n",
    "    ilat  = int((float(c[5]) - la_range[0]) / dla)\n",
    "    ilong = int((float(c[6]) - lo_range[0]) / dlo)\n",
    "    \n",
    "    if ilat == shape[0]:\n",
    "        ilat -= 1\n",
    "    if ilong == shape[1]:\n",
    "        ilong -= 1\n",
    "    \n",
    "    grid[ilat][ilong].append(c)\n",
    "\n",
    "for i in range(shape[0]):\n",
    "    for j in range(shape[1]):\n",
    "        print(\"%3d\" % len(grid[i][j]), end=\" \")\n",
    "    print()"
   ]
  },
  {
   "cell_type": "markdown",
   "metadata": {},
   "source": [
    "<b>Largest distance</b><br>\n",
    "* Get largest distance between nonempty boxes (28 distance calculations)\n",
    "* Pair cities from the two boxes\n",
    "* This is most probably the largest distance between two cities (Stop here)\n",
    "* In order to be really sure one should pair cities in boxes with less then the found distance"
   ]
  },
  {
   "cell_type": "code",
   "execution_count": null,
   "metadata": {
    "scrolled": true
   },
   "outputs": [],
   "source": [
    "boxcoords = [[grid[j][k],(j+.5)*dla+la_range[0],(k+.5)*dlo+lo_range[0]] for k in range(shape[1]) for j in range(shape[0])]\n",
    "\n",
    "boxdists = [(b1[0],b2[0],latlongdist(b1[1],b1[2],b2[1],b2[2])) for b1 in boxcoords for b2 in boxcoords if b1[0] and b2[0]]\n",
    "maxboxdist = max(boxdists, key= lambda x: x[2])\n",
    "citydists = [(c1[1],c2[1],latlongdist(float(c1[5]),float(c1[6]),float(c2[5]),float(c2[6]))) for c1 in maxboxdist[0] for c2 in maxboxdist[1]]\n",
    "print(max(citydists))"
   ]
  },
  {
   "cell_type": "code",
   "execution_count": null,
   "metadata": {},
   "outputs": [],
   "source": [
    "for c in cities[1:]:\n",
    "    if c[2] in ['\"Or\"','\"Ortilos\"','\"Uszka\"', '\"Szakonyfalu\"']:\n",
    "        ilat  = int((float(c[5]) - la_range[0]) / dla)\n",
    "        ilong = int((float(c[6]) - lo_range[0]) / dlo)\n",
    "\n",
    "        if ilat == shape[0]:\n",
    "            ilat -= 1\n",
    "        if ilong == shape[1]:\n",
    "            ilong -= 1\n",
    "        \n",
    "        print(c[1],ilat,ilong)\n",
    "\n",
    "for i in range(shape[0]):\n",
    "    for j in range(shape[1]):\n",
    "        print(\"%3d\" % len(grid[i][j]), end=\" \")\n",
    "    print()"
   ]
  },
  {
   "cell_type": "markdown",
   "metadata": {},
   "source": [
    "### Exercise 13\n",
    "Find smallest distance between cities.\n",
    "\n",
    "* Pair all cities inside boxes, and with cities in the neighboring boxes.\n",
    "* Select the minimum"
   ]
  },
  {
   "cell_type": "code",
   "execution_count": null,
   "metadata": {},
   "outputs": [],
   "source": []
  },
  {
   "cell_type": "markdown",
   "metadata": {},
   "source": [
    "## Dictionaries"
   ]
  },
  {
   "cell_type": "markdown",
   "metadata": {},
   "source": [
    "Dictionaries are also like lists, except that each element is a key-value pair. The syntax for dictionaries is `{key1 : value1, key2 : value2, ...}`:"
   ]
  },
  {
   "cell_type": "code",
   "execution_count": null,
   "metadata": {},
   "outputs": [],
   "source": [
    "fruits = {\"bananas\" : 1,\n",
    "          \"oranges\" : 2,\n",
    "          \"apples\" : 3,}\n",
    "\n",
    "print(type(fruits))\n",
    "print(fruits)"
   ]
  },
  {
   "cell_type": "code",
   "execution_count": null,
   "metadata": {},
   "outputs": [],
   "source": [
    "print(\"bananas = \" + str(fruits[\"bananas\"]))\n",
    "print(\"oranges = \" + str(fruits[\"oranges\"]))\n",
    "print(\"apples  = \" + str(fruits[\"apples\"]))"
   ]
  },
  {
   "cell_type": "code",
   "execution_count": null,
   "metadata": {},
   "outputs": [],
   "source": [
    "# change value\n",
    "fruits[\"bananas\"] = \"no bananas\"\n",
    "fruits[\"oranges\"] = 100\n",
    "\n",
    "# add a new entry\n",
    "fruits[\"pineapples\"] = \"D\"\n",
    "\n",
    "print(\"bananas = \" + str(fruits[\"bananas\"]))\n",
    "print(\"oranges = \" + str(fruits[\"oranges\"]))\n",
    "print(\"apples = \" + str(fruits[\"apples\"]))\n",
    "print(\"pineapples = \" + str(fruits[\"pineapples\"]))"
   ]
  },
  {
   "cell_type": "markdown",
   "metadata": {},
   "source": [
    "Strings, numbers, and tuples work as keys, and any type can be a value. Other types may or may not work correctly as keys (strings and tuples work cleanly since they are immutable). Looking up a value which is not in the dict throws a KeyError -- use \"in\" to check if the key is in the dict, or use dict.get(key) which returns the value or None if the key is not present (or get(key, not-found) allows you to specify what value to return in the not-found case)."
   ]
  },
  {
   "cell_type": "code",
   "execution_count": null,
   "metadata": {},
   "outputs": [],
   "source": [
    "print(fruits['bananas'])     ## Simple lookup"
   ]
  },
  {
   "cell_type": "markdown",
   "metadata": {},
   "source": [
    "If you try to access something that does not exists in the dictionary, you will get an error:"
   ]
  },
  {
   "cell_type": "code",
   "execution_count": null,
   "metadata": {},
   "outputs": [],
   "source": [
    "print(fruits['strawberries'])"
   ]
  },
  {
   "cell_type": "markdown",
   "metadata": {},
   "source": [
    "To avoid key errors, you can simply check with an ``if`` that the key is present in the dictionary: "
   ]
  },
  {
   "cell_type": "code",
   "execution_count": null,
   "metadata": {},
   "outputs": [],
   "source": [
    "if 'bananas' in fruits: print(fruits['bananas']) ## Yes, you can also write an if in this way \n",
    "\n",
    "if 'strawberries' in fruits: print (fruits['strawberries']) ## and an if-else in this way \n",
    "else: print(\"I don\\'t know what a strawberry is\")"
   ]
  },
  {
   "cell_type": "markdown",
   "metadata": {},
   "source": [
    "An alternative way to access keys in a dictionary is with the method ``get``. If the key does not exist you get a None:"
   ]
  },
  {
   "cell_type": "code",
   "execution_count": null,
   "metadata": {},
   "outputs": [],
   "source": [
    "print(fruits.get('bananas'))\n",
    "print(fruits.get('strawberries')) "
   ]
  },
  {
   "cell_type": "markdown",
   "metadata": {},
   "source": [
    "You can also define a default different from ``None``:"
   ]
  },
  {
   "cell_type": "code",
   "execution_count": null,
   "metadata": {},
   "outputs": [],
   "source": [
    "print(fruits.get('strawberries',0))  "
   ]
  },
  {
   "cell_type": "markdown",
   "metadata": {},
   "source": [
    "To iterate over key-value pairs of a dictionary:"
   ]
  },
  {
   "cell_type": "code",
   "execution_count": null,
   "metadata": {},
   "outputs": [],
   "source": [
    "for key in fruits: \n",
    "    print(key, fruits[key])"
   ]
  },
  {
   "cell_type": "markdown",
   "metadata": {},
   "source": [
    "This iteration is equivalent to iterating over ```fruits.keys()```:"
   ]
  },
  {
   "cell_type": "code",
   "execution_count": null,
   "metadata": {},
   "outputs": [],
   "source": [
    "for key in fruits.keys(): \n",
    "    print(key)"
   ]
  },
  {
   "cell_type": "code",
   "execution_count": null,
   "metadata": {},
   "outputs": [],
   "source": [
    "type(fruits.keys())"
   ]
  },
  {
   "cell_type": "markdown",
   "metadata": {},
   "source": [
    "If you want to show the values instead:"
   ]
  },
  {
   "cell_type": "code",
   "execution_count": null,
   "metadata": {},
   "outputs": [],
   "source": [
    "for value in fruits.values():\n",
    "    print(value)"
   ]
  },
  {
   "cell_type": "code",
   "execution_count": null,
   "metadata": {},
   "outputs": [],
   "source": [
    "type(fruits.values)"
   ]
  },
  {
   "cell_type": "markdown",
   "metadata": {},
   "source": [
    "If you want to show both at the same time, you can use fruits.items()"
   ]
  },
  {
   "cell_type": "code",
   "execution_count": null,
   "metadata": {},
   "outputs": [],
   "source": [
    "for key, value in fruits.items():\n",
    "    print(key + \" = \" + str(value))"
   ]
  },
  {
   "cell_type": "markdown",
   "metadata": {},
   "source": [
    "_**Note that the keys are not sorted, nor are listed in the order you added them to the dictionary!**_ If you want to do that, you should sort the keys first"
   ]
  },
  {
   "cell_type": "code",
   "execution_count": null,
   "metadata": {},
   "outputs": [],
   "source": [
    "for key in sorted(fruits.keys()):\n",
    "    print(key, fruits[key])"
   ]
  },
  {
   "cell_type": "code",
   "execution_count": null,
   "metadata": {},
   "outputs": [],
   "source": [
    "#fruits['bananas']=23\n",
    "#fruits['pineapples']=45\n",
    "for value in sorted(fruits.values()):\n",
    "    print(value)"
   ]
  },
  {
   "cell_type": "markdown",
   "metadata": {},
   "source": [
    "Dictionary comprehensions"
   ]
  },
  {
   "cell_type": "code",
   "execution_count": null,
   "metadata": {},
   "outputs": [],
   "source": [
    "D = {k:k*k for k in range(3)}\n",
    "print(D)"
   ]
  },
  {
   "cell_type": "code",
   "execution_count": null,
   "metadata": {},
   "outputs": [],
   "source": [
    "for value in D.values():\n",
    "    print(value)"
   ]
  },
  {
   "cell_type": "markdown",
   "metadata": {},
   "source": [
    "### Exercise 14\n",
    "Build a dictionary from the cities list. The key should be the accentless cityname (column 2), The value should be the population"
   ]
  },
  {
   "cell_type": "code",
   "execution_count": null,
   "metadata": {},
   "outputs": [],
   "source": [
    "cdict = {c[2]:int(c[3]) for c in cities[1:]}\n",
    "print(cdict['Szeged'])"
   ]
  },
  {
   "cell_type": "markdown",
   "metadata": {},
   "source": [
    "### Exercise 15\n",
    "Build a dictionary containing dictionaries from the cities list. The key should be the accentless cityname (column 2), The value should be a dictionary, with 'population' the population and 'area' the size in km$^2$"
   ]
  },
  {
   "cell_type": "code",
   "execution_count": null,
   "metadata": {},
   "outputs": [],
   "source": [
    "cdict2 = {c[2]:{\"population\":int(c[3]), \"area\":float(c[4])} for c in cities[1:]}\n",
    "print(cdict2['Szeged'])"
   ]
  },
  {
   "cell_type": "markdown",
   "metadata": {},
   "source": [
    "## Advanced part: More on lambda functions, map and iterators."
   ]
  },
  {
   "cell_type": "code",
   "execution_count": null,
   "metadata": {},
   "outputs": [],
   "source": [
    "%timeit map(lambda x: x**2, range(1000000))"
   ]
  },
  {
   "cell_type": "code",
   "execution_count": null,
   "metadata": {},
   "outputs": [],
   "source": [
    "%timeit [x**2 for x in range(1000000)]"
   ]
  },
  {
   "cell_type": "markdown",
   "metadata": {},
   "source": [
    "The first expression seems to be way faster than the second.\n",
    "\n",
    "What map does is to apply the function at its first argument on each member on the iterable at its second argument.\n",
    "But there is a trick here. We are working in the first case with generators.\n",
    "\n",
    "If we convert everything to a list:"
   ]
  },
  {
   "cell_type": "code",
   "execution_count": null,
   "metadata": {},
   "outputs": [],
   "source": [
    "%timeit list(map(lambda x: x**2, range(1000000)))"
   ]
  },
  {
   "cell_type": "markdown",
   "metadata": {},
   "source": [
    "What happened? What is a generator?"
   ]
  },
  {
   "cell_type": "code",
   "execution_count": null,
   "metadata": {},
   "outputs": [],
   "source": [
    "range(1000)"
   ]
  },
  {
   "cell_type": "markdown",
   "metadata": {},
   "source": [
    "The function range itself is a generator."
   ]
  },
  {
   "cell_type": "code",
   "execution_count": null,
   "metadata": {},
   "outputs": [],
   "source": [
    "map(lambda x: x%2, range(1000))"
   ]
  },
  {
   "cell_type": "markdown",
   "metadata": {},
   "source": [
    "As we see Python doesn't compute any value when we call a map or a range, but it will do so only when the value is required, i.e. when we iterate throw the list.\n",
    "This is a big difference and a key concept in python 3 where most of its elements are iterators.\n",
    "\n",
    "To work with iterators **saves a lot of memory!!**\n",
    "\n",
    "We don't have in fact to store the 1-million-lenght list that we created with `[x**2 for x in range(1000000)]`, but just create and call that element only when needed.\n",
    "Let's say we have to do an operation with the elements of that list (in this example we sum the element of the list), and let's explore the computational time of the two appraches:"
   ]
  },
  {
   "cell_type": "code",
   "execution_count": null,
   "metadata": {},
   "outputs": [],
   "source": [
    "from sys import getsizeof"
   ]
  },
  {
   "cell_type": "code",
   "execution_count": null,
   "metadata": {},
   "outputs": [],
   "source": [
    "getsizeof(map(lambda x: x**2, range(10000000)))"
   ]
  },
  {
   "cell_type": "code",
   "execution_count": null,
   "metadata": {},
   "outputs": [],
   "source": [
    "getsizeof([x**2 for x in range(10000000)])"
   ]
  },
  {
   "cell_type": "markdown",
   "metadata": {},
   "source": [
    "The difference is not negligible!!!\n",
    "\n",
    "Another way to use generators is the following! (note the brakets!)"
   ]
  },
  {
   "cell_type": "code",
   "execution_count": null,
   "metadata": {},
   "outputs": [],
   "source": [
    "(x**2 for x in range(10))"
   ]
  },
  {
   "cell_type": "code",
   "execution_count": null,
   "metadata": {},
   "outputs": [],
   "source": []
  },
  {
   "cell_type": "markdown",
   "metadata": {},
   "source": [
    "An observation now: since a generator returns the elements it generates only when we iterate through them, we can't get the i-th element:"
   ]
  },
  {
   "cell_type": "code",
   "execution_count": null,
   "metadata": {},
   "outputs": [],
   "source": [
    "map(lambda x:3, range(10))[4]"
   ]
  },
  {
   "cell_type": "code",
   "execution_count": null,
   "metadata": {},
   "outputs": [],
   "source": [
    "(x**2 for x in range(10))[4]"
   ]
  },
  {
   "cell_type": "markdown",
   "metadata": {},
   "source": [
    "Let's take a look at the computational time:"
   ]
  },
  {
   "cell_type": "code",
   "execution_count": null,
   "metadata": {},
   "outputs": [],
   "source": [
    "%timeit [x**2+3 for x in range(100)]"
   ]
  },
  {
   "cell_type": "code",
   "execution_count": null,
   "metadata": {},
   "outputs": [],
   "source": [
    "%timeit (x**2+3 for x in range(100))"
   ]
  },
  {
   "cell_type": "code",
   "execution_count": null,
   "metadata": {
    "scrolled": true
   },
   "outputs": [],
   "source": [
    "%timeit sum([x**2+3 for x in range(10000000)])"
   ]
  },
  {
   "cell_type": "code",
   "execution_count": null,
   "metadata": {},
   "outputs": [],
   "source": [
    "getsizeof([x**2+3 for x in range(1000)])"
   ]
  },
  {
   "cell_type": "code",
   "execution_count": null,
   "metadata": {},
   "outputs": [],
   "source": [
    "%timeit sum(x**2+3 for x in range(10000000))"
   ]
  },
  {
   "cell_type": "code",
   "execution_count": null,
   "metadata": {},
   "outputs": [],
   "source": [
    "getsizeof((x**2+3 for x in range(1000)))"
   ]
  },
  {
   "cell_type": "code",
   "execution_count": null,
   "metadata": {},
   "outputs": [],
   "source": []
  },
  {
   "cell_type": "code",
   "execution_count": null,
   "metadata": {},
   "outputs": [],
   "source": [
    "%%timeit\n",
    "for i in [x**2+3 for x in range(100)]:\n",
    "    i+3"
   ]
  },
  {
   "cell_type": "code",
   "execution_count": null,
   "metadata": {},
   "outputs": [],
   "source": [
    "%%timeit\n",
    "for i in (x**2+3 for x in range(100)):\n",
    "    i+3"
   ]
  },
  {
   "cell_type": "code",
   "execution_count": null,
   "metadata": {},
   "outputs": [],
   "source": []
  },
  {
   "cell_type": "code",
   "execution_count": null,
   "metadata": {},
   "outputs": [],
   "source": [
    "%%timeit\n",
    "l = [x**2+3 for x in range(10000000)]"
   ]
  },
  {
   "cell_type": "code",
   "execution_count": null,
   "metadata": {},
   "outputs": [],
   "source": [
    "%%timeit\n",
    "g = map(lambda x: x**2+3, range(10000000))"
   ]
  },
  {
   "cell_type": "code",
   "execution_count": null,
   "metadata": {},
   "outputs": [],
   "source": []
  }
 ],
 "metadata": {
  "kernelspec": {
   "display_name": "Python 3 (ipykernel)",
   "language": "python",
   "name": "python3"
  },
  "language_info": {
   "codemirror_mode": {
    "name": "ipython",
    "version": 3
   },
   "file_extension": ".py",
   "mimetype": "text/x-python",
   "name": "python",
   "nbconvert_exporter": "python",
   "pygments_lexer": "ipython3",
   "version": "3.9.0"
  }
 },
 "nbformat": 4,
 "nbformat_minor": 2
}
