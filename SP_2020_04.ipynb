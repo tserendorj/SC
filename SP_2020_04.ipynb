{
 "cells": [
  {
   "cell_type": "markdown",
   "metadata": {},
   "source": [
    "# DNDS6013 Scientific Python: 4th Class\n",
    "## Central European University, Winter 2019/2020\n",
    "\n",
    "Instructor: Márton Pósfai, TA: Luis Natera Orozco\n",
    "\n",
    "Emails: posfaim@ceu.edu, natera_luis@phd.ceu.edu\n",
    "\n"
   ]
  },
  {
   "cell_type": "markdown",
   "metadata": {},
   "source": [
    "## Plan for today\n",
    "* Continue with city data\n",
    "* Dictionaries\n",
    "* Numpy\n",
    "* (Plotting with matplotlib)\n",
    "\n",
    "Don't forget about our [slack channel](http://sp2020winter.slack.com).\n",
    "\n",
    "#### But first, solving problems from last week\n",
    "\n",
    "Solutions cannot be hidden:\n",
    "\n",
    "<details><summary><u>Solution.</u></summary>\n",
    "<p>\n",
    "    \n",
    "```python\n",
    "    print('please, hide me!')\n",
    "```\n",
    "    \n",
    "</p>\n",
    "</details>\n",
    "\n",
    "Problem: Microsoft's web browser does not support the html tag.<br>\n",
    "Solution: Set default browser to Firefox"
   ]
  },
  {
   "cell_type": "markdown",
   "metadata": {},
   "source": [
    "### International characters"
   ]
  },
  {
   "cell_type": "code",
   "execution_count": 24,
   "metadata": {},
   "outputs": [
    {
     "name": "stdout",
     "output_type": "stream",
     "text": [
      "['Adam', 'Eva', 'Jenny', 'Kate', 'Peter', 'Zack', 'Ödön']\n",
      "\n",
      "True\n",
      "False\n"
     ]
    }
   ],
   "source": [
    "guests = [\"Kate\",\"Peter\", \"Adam\", \"Jenny\", \"Zack\", \"Eva\"]\n",
    "\n",
    "guests.append('Ödön')\n",
    "\n",
    "print(sorted(guests))\n",
    "\n",
    "print()\n",
    "#The problem\n",
    "print(\"Zack\">\"Odon\")\n",
    "print(\"Zack\">\"Ödön\")"
   ]
  },
  {
   "cell_type": "code",
   "execution_count": 111,
   "metadata": {},
   "outputs": [
    {
     "data": {
      "text/plain": [
       "('en_US', 'UTF-8')"
      ]
     },
     "execution_count": 111,
     "metadata": {},
     "output_type": "execute_result"
    }
   ],
   "source": [
    "import locale\n",
    "#Issue was caused by:\n",
    "#locale.resetlocale()\n",
    "locale.getlocale()"
   ]
  },
  {
   "cell_type": "code",
   "execution_count": 26,
   "metadata": {},
   "outputs": [
    {
     "name": "stdout",
     "output_type": "stream",
     "text": [
      "('hu_HU', 'UTF-8')\n",
      "iSie\u0001\"*\"*\u0001\u0015\t\t\t\n",
      "True\n",
      "\n",
      "['Adam', 'Eva', 'Jenny', 'Kate', 'Ödön', 'Peter', 'Zack']\n"
     ]
    }
   ],
   "source": [
    "locale.setlocale(locale.LC_ALL, ('hu_HU','UTF-8'))\n",
    "print(locale.getlocale())\n",
    "\n",
    "print(locale.strxfrm(\"Ödön\"))\n",
    "print(locale.strxfrm(\"Zack\")>locale.strxfrm(\"Ödön\"))\n",
    "\n",
    "print()\n",
    "print(sorted(guests, key=locale.strxfrm))"
   ]
  },
  {
   "cell_type": "markdown",
   "metadata": {},
   "source": [
    "## Last week's quiz\n",
    "\n",
    "Lists are mutable"
   ]
  },
  {
   "cell_type": "code",
   "execution_count": null,
   "metadata": {},
   "outputs": [],
   "source": [
    "a = [0,1,2]\n",
    "b=a\n",
    "c=a[:] #makes a copy, same as c=a.copy()\n",
    "a[0]='hello'\n",
    "print(b,c)"
   ]
  },
  {
   "cell_type": "markdown",
   "metadata": {},
   "source": [
    "Using `if` statement within an expression"
   ]
  },
  {
   "cell_type": "code",
   "execution_count": null,
   "metadata": {},
   "outputs": [],
   "source": [
    "a = 1 + (2 if 2==1+1 else 0)"
   ]
  },
  {
   "cell_type": "markdown",
   "metadata": {},
   "source": [
    "## Analyzing city data\n",
    "\n",
    "We will read a file containing data about Hungarian municipalities and calculate some things. First, copy `\"Hun_cities.csv\"` to the working directory:"
   ]
  },
  {
   "cell_type": "code",
   "execution_count": 110,
   "metadata": {},
   "outputs": [
    {
     "data": {
      "text/plain": [
       "'/home/posfaim/Dropbox/teaching/scientific_python/2020'"
      ]
     },
     "execution_count": 110,
     "metadata": {},
     "output_type": "execute_result"
    }
   ],
   "source": [
    "%pwd"
   ]
  },
  {
   "cell_type": "code",
   "execution_count": 3,
   "metadata": {},
   "outputs": [
    {
     "name": "stdout",
     "output_type": "stream",
     "text": [
      "['KSHKOD', '\"TELNEV\"', '\"TELNEV CLEAR\"', 'POP', 'SIZE_km2', 'latitude', 'longitude', 'SUBREG', 'SUBREGCENT', 'COUNTYCODE', 'COUNTYCENT', 'TOWN', 'REGION', 'UNIV']\n",
      "['1357', '\"Budapest\"', '\"Budapest\"', '1740041', '52509', '47.506225', '19.06482', '3101', '1', '1', '1', '1', '1', '1']\n",
      "2562\n"
     ]
    }
   ],
   "source": [
    "cities = []\n",
    "with open(\"Hun_cities.csv\",\"r\",encoding=\"utf-8\") as f:\n",
    "    for line in f:\n",
    "        cities.append(line.rstrip().split(','))\n",
    "print(cities[0])\n",
    "print(cities[1])\n",
    "print(len(cities))"
   ]
  },
  {
   "cell_type": "markdown",
   "metadata": {},
   "source": [
    "Convert coordinates from strings to numbers:"
   ]
  },
  {
   "cell_type": "code",
   "execution_count": 4,
   "metadata": {},
   "outputs": [
    {
     "name": "stdout",
     "output_type": "stream",
     "text": [
      "['1357', '\"Budapest\"', '\"Budapest\"', '1740041', '52509', 47.506225, 19.06482, '3101', '1', '1', '1', '1', '1', '1']\n"
     ]
    }
   ],
   "source": [
    "for c in cities[1:]:\n",
    "    c[5]=float(c[5])\n",
    "    c[6]=float(c[6])\n",
    "print(cities[1])"
   ]
  },
  {
   "cell_type": "markdown",
   "metadata": {},
   "source": [
    "Convert all columns to numbers, so later we don't have to worry about it:"
   ]
  },
  {
   "cell_type": "code",
   "execution_count": 7,
   "metadata": {},
   "outputs": [
    {
     "name": "stdout",
     "output_type": "stream",
     "text": [
      "['1357', '\"Budapest\"', '\"Budapest\"', 1740041.0, 52509.0, 47.506225, 19.06482, 3101.0, 1.0, 1.0, 1.0, 1.0, 1.0, 1.0]\n"
     ]
    }
   ],
   "source": [
    "for c in cities[1:]:\n",
    "    for i in range(3,len(c)):\n",
    "        c[i]=float(c[i])\n",
    "print(cities[1])"
   ]
  },
  {
   "cell_type": "markdown",
   "metadata": {},
   "source": [
    "### Exercise from last week\n",
    "Remove the double quotes from city names\n",
    "\n",
    "<details><summary><u>Hint.</u></summary>\n",
    "<p>\n",
    "Iterate through the <code>cities</code> list and use the <code>strip()</code> method of strings to remove the double quotes.  \n",
    "</p>\n",
    "</details>"
   ]
  },
  {
   "cell_type": "code",
   "execution_count": 135,
   "metadata": {},
   "outputs": [
    {
     "name": "stdout",
     "output_type": "stream",
     "text": [
      "['1357', 'Budapest', 'Budapest', 1740041.0, 52509.0, 47.506225, 19.06482, 3101.0, 1.0, 1.0, 1.0, 1.0, 1.0, 1.0]\n"
     ]
    }
   ],
   "source": [
    "for c in cities:\n",
    "    c[1] = c[1].replace('\"', '')\n",
    "    c[2] = c[2].replace('\"', '')\n",
    "print(cities[1])"
   ]
  },
  {
   "cell_type": "markdown",
   "metadata": {},
   "source": [
    "<details><summary><u>Solution.</u></summary>\n",
    "<p>\n",
    "    \n",
    "```python\n",
    "for c in cities:\n",
    "    c[1]=c[1].strip('\"')\n",
    "    c[2]=c[2].strip('\"')\n",
    "print(cities[5])\n",
    "```\n",
    "    \n",
    "</p>\n",
    "</details>"
   ]
  },
  {
   "cell_type": "code",
   "execution_count": null,
   "metadata": {},
   "outputs": [],
   "source": []
  },
  {
   "cell_type": "markdown",
   "metadata": {},
   "source": [
    "### Exercise\n",
    "\n",
    " * Print the top 10 most populus cities\n",
    " * Print the top 10 cities with the largest area\n",
    " * Print the smallest city with university\n",
    " * Print the top 10 cities with population density\n",
    " \n",
    "\n",
    "<details><summary><u>Hint.</u></summary>\n",
    "<p>\n",
    "Use the <code>sorted()</code> function with the <code>key</code> argument to appropriately sort the <code>cities</code> list.\n",
    "</p>\n",
    "<br>\n",
    "</details>\n",
    "\n",
    "<details><summary><u>Hint 2.</u></summary>\n",
    "<p>\n",
    "\n",
    "Solution for the first one:\n",
    "```python\n",
    "print(\"10 most populus:\", [c[1] for c in sorted(cities[1:], key = lambda x: -x[3])[:10]])\n",
    "```\n",
    "    \n",
    "</p>\n",
    "</details>"
   ]
  },
  {
   "cell_type": "code",
   "execution_count": 117,
   "metadata": {},
   "outputs": [
    {
     "name": "stdout",
     "output_type": "stream",
     "text": [
      "10 most populus: ['Budapest', 'Debrecen', 'Szeged', 'Miskolc', 'Pécs', 'Győr', 'Nyíregyháza', 'Kecskemét', 'Székesfehérvár', 'Szombathely']\n",
      "10 largest area: ['Budapest', 'Hódmezővásárhely', 'Debrecen', 'Hajdúböszörmény', 'Karcag', 'Szentes', 'Kecskemét', 'Gyomaendrőd', 'Mezőtúr', 'Hortobágy']\n",
      "smallest w university: Bácsalmás\n",
      "10 largest pop density: ['Budapest', 'Szigethalom', 'Diósd', 'Erdőkertes', 'Dunakeszi', 'Budaörs', 'Üröm', 'Kistarcsa', 'Érd', 'Halásztelek']\n"
     ]
    }
   ],
   "source": []
  },
  {
   "cell_type": "markdown",
   "metadata": {},
   "source": [
    "<details><summary><u>Solution.</u></summary>\n",
    "<p>\n",
    "    \n",
    "```python\n",
    "print(\"10 most populus:\", [c[1] for c in sorted(cities[1:], key = lambda x: -x[3])[:10]])\n",
    "print(\"10 largest area:\", [c[1] for c in sorted(cities[1:], key = lambda x: -x[4])[:10]])\n",
    "print(\"smallest w university:\", min([c for c in cities[1:] if c[-1]>0], key = lambda x: x[3])[1])\n",
    "print(\"10 largest pop density:\", [c[1] for c in sorted(cities[1:], key = lambda x: -x[3]/x[4])[:10]])\n",
    "```\n",
    "    \n",
    "</p>\n",
    "</details>"
   ]
  },
  {
   "cell_type": "markdown",
   "metadata": {},
   "source": [
    "### Exercise\n",
    " * Find the cities with the larges distance between them.\n",
    " * If you are done, extend the code to find the cities with the smallest distance between them."
   ]
  },
  {
   "cell_type": "markdown",
   "metadata": {},
   "source": [
    "A little help, convert lattitude and longitude to distance use the [haversine formula](https://en.wikipedia.org/wiki/Haversine_formula):"
   ]
  },
  {
   "cell_type": "code",
   "execution_count": 16,
   "metadata": {},
   "outputs": [
    {
     "name": "stdout",
     "output_type": "stream",
     "text": [
      "297.79245904718044\n"
     ]
    }
   ],
   "source": [
    "import math\n",
    "def latlongdist(lat1,long1,lat2,long2):\n",
    "    rlat1 = math.radians(lat1)\n",
    "    rlat2 = math.radians(lat2)\n",
    "    rlong1 = math.radians(long1)\n",
    "    rlong2 = math.radians(long2)\n",
    "    dlat = rlat2 - rlat1\n",
    "    dlong = rlong2 - rlong1\n",
    "    a = math.sin(dlat / 2)**2 + math.cos(rlat1) * math.cos(rlat2) * math.sin(dlong / 2)**2\n",
    "    c = 2 * math.atan2(math.sqrt(a), math.sqrt(1 - a))\n",
    "    return 6371.0 * c\n",
    "\n",
    "print(latlongdist(48.105625, 20.790556, 46.07308, 18.22857))"
   ]
  },
  {
   "cell_type": "markdown",
   "metadata": {},
   "source": [
    "Write your solution here:\n",
    "\n",
    "<details><summary><u>Hint.</u></summary>\n",
    "<p>\n",
    "\n",
    "Cycle through all city pairs using nested for loops:\n",
    "```python\n",
    "for a in range(1,len(cities)):\n",
    "        for b in range(a+1,len(cities)):\n",
    "```\n",
    "    \n",
    "</p>\n",
    "</details>"
   ]
  },
  {
   "cell_type": "code",
   "execution_count": 17,
   "metadata": {},
   "outputs": [],
   "source": [
    "def alldist():\n",
    "    maxa = 0\n",
    "    maxb = 0\n",
    "    maxdist = -1\n",
    "    mina = 0\n",
    "    minb = 0\n",
    "    mindist = 1e10\n",
    "    for a in range(1,len(cities)):\n",
    "        for b in range(a+1,len(cities)):\n",
    "            dist = latlongdist(float(cities[a][5]),float(cities[a][6]),\\\n",
    "                        float(cities[b][5]),float(cities[b][6]))\n",
    "            if dist>maxdist:\n",
    "                    maxdist = dist\n",
    "                    maxa = a\n",
    "                    maxb = b\n",
    "            if  dist>0 and dist < mindist:\n",
    "                    mindist = dist\n",
    "                    mina = a\n",
    "                    minb = b\n",
    "    print(cities[maxa][1],cities[maxb][1],maxdist)\n",
    "    print(cities[mina][1],cities[minb][1],mindist)"
   ]
  },
  {
   "cell_type": "markdown",
   "metadata": {},
   "source": [
    "<details><summary><u>Solution.</u></summary>\n",
    "<p>\n",
    "    \n",
    "```python\n",
    "def alldist():\n",
    "    maxa = 0\n",
    "    maxb = 0\n",
    "    maxdist = -1\n",
    "    mina = 0\n",
    "    minb = 0\n",
    "    mindist = 1e10\n",
    "    for a in range(1,len(cities)):\n",
    "        for b in range(a+1,len(cities)):\n",
    "            dist = latlongdist(float(cities[a][5]),float(cities[a][6]),\\\n",
    "                        float(cities[b][5]),float(cities[b][6]))\n",
    "            if dist>maxdist:\n",
    "                    maxdist = dist\n",
    "                    maxa = a\n",
    "                    maxb = b\n",
    "            if dist>0 and dist < mindist:\n",
    "                    mindist = dist\n",
    "                    mina = a\n",
    "                    minb = b\n",
    "    print(cities[maxa][1],cities[maxb][1],maxdist)\n",
    "    print(cities[mina][1],cities[minb][1],mindist)\n",
    "```\n",
    "    \n",
    "</p>\n",
    "</details>"
   ]
  },
  {
   "cell_type": "code",
   "execution_count": 18,
   "metadata": {},
   "outputs": [
    {
     "name": "stdout",
     "output_type": "stream",
     "text": [
      "Uszka Szakonyfalu 513.997358507416\n",
      "Szekszárd Hosszúvölgy 0.22991422061048014\n"
     ]
    },
    {
     "data": {
      "text/plain": [
       "6.842320544004906"
      ]
     },
     "execution_count": 18,
     "metadata": {},
     "output_type": "execute_result"
    }
   ],
   "source": [
    "import timeit\n",
    "timeit.timeit(alldist,number=1)"
   ]
  },
  {
   "cell_type": "code",
   "execution_count": null,
   "metadata": {},
   "outputs": [],
   "source": []
  },
  {
   "cell_type": "markdown",
   "metadata": {},
   "source": [
    "### Bucketing\n",
    "On my laptop calculation took ~7 seconds for $n = 2561$ cities. That is $\\frac{n(n-1)}{2}$ distances.\n",
    "\n",
    "What about larger systems? -> Bucketing!\n",
    "\n",
    "* Divide the space into boxes\n",
    "* Put the cities into boxes\n",
    "* Number of boxes is much less than number of cities\n",
    "* Select only the boxes which are candidates for the given quantity: for minimal distance only neighboring ones, for maximal distance the few with maximal distance"
   ]
  },
  {
   "cell_type": "code",
   "execution_count": 20,
   "metadata": {},
   "outputs": [
    {
     "name": "stdout",
     "output_type": "stream",
     "text": [
      "Lattitude: 45.7783 48.556666\n",
      "Longitude: 16.228084 22.862415\n"
     ]
    }
   ],
   "source": [
    "lat = [ row[5] for row in cities[1:]]\n",
    "print(\"Lattitude:\",min(lat),max(lat))\n",
    "long = [ row[6] for row in cities[1:]]\n",
    "print(\"Longitude:\",min(long),max(long))"
   ]
  },
  {
   "cell_type": "markdown",
   "metadata": {},
   "source": [
    "Create an empty grid:"
   ]
  },
  {
   "cell_type": "code",
   "execution_count": 47,
   "metadata": {},
   "outputs": [
    {
     "name": "stdout",
     "output_type": "stream",
     "text": [
      "[[], [], [], [], [], [], []]\n",
      "[[], [], [], [], [], [], []]\n",
      "[[], [], [], [], [], [], []]\n",
      "[[], [], [], [], [], [], []]\n",
      "\n"
     ]
    }
   ],
   "source": [
    "shape = (4, 7)  # shape of the grid\n",
    "\n",
    "#a grid of empty lists\n",
    "grid = [[[] for k in range(shape[1])] for j in range(shape[0])]\n",
    "\n",
    "for row in grid:\n",
    "    print(row)\n",
    "print()"
   ]
  },
  {
   "cell_type": "markdown",
   "metadata": {},
   "source": [
    "Get size of tiles:"
   ]
  },
  {
   "cell_type": "code",
   "execution_count": 48,
   "metadata": {},
   "outputs": [],
   "source": [
    "#The possible range of coordinates\n",
    "la_range = (min(lat),  max(lat))\n",
    "lo_range = (min(long), max(long))\n",
    "\n",
    "#size of tiles in the grid\n",
    "dla = (la_range[1]-la_range[0])/shape[0]\n",
    "dlo = (lo_range[1]-lo_range[0])/shape[1]"
   ]
  },
  {
   "cell_type": "markdown",
   "metadata": {},
   "source": [
    "(How to plot later today, for now, just run the cell.)"
   ]
  },
  {
   "cell_type": "code",
   "execution_count": 141,
   "metadata": {
    "scrolled": true
   },
   "outputs": [
    {
     "data": {
      "image/png": "[encoded data removed]",
      "text/plain": [
       "<Figure size 576x360 with 1 Axes>"
      ]
     },
     "metadata": {
      "needs_background": "light"
     },
     "output_type": "display_data"
    }
   ],
   "source": [
    "import matplotlib.pyplot as plt\n",
    "\n",
    "plt.figure(figsize=(8,5))\n",
    "\n",
    "#remove frame and set ticks\n",
    "plt.box(False)\n",
    "plt.yticks([ la_range[0]+(i+.5)*dla for i in range(shape[0])],range(shape[0]))\n",
    "plt.xticks([ lo_range[0]+(i+.5)*dlo for i in range(shape[1])],range(shape[1]))\n",
    "#plot grid\n",
    "for i in range(1,shape[1]):\n",
    "    plt.plot([dlo*i+lo_range[0],dlo*i+lo_range[0]],la_range, 'k', linewidth=.5)\n",
    "for i in range(1,shape[0]):\n",
    "    plt.plot(lo_range,[dla*i+la_range[0],dla*i+la_range[0]], 'k', linewidth=.5)\n",
    "\n",
    "plt.plot(long, lat, 'o', markersize=1.5, label='Towns')\n",
    "\n",
    "#add Szeged\n",
    "plt.plot([lo_range[0],cities[3][6]],[cities[3][5],cities[3][5]],'r')\n",
    "\n",
    "plt.title(\"How to fill in the grid?\")\n",
    "plt.show()\n",
    "\n"
   ]
  },
  {
   "cell_type": "markdown",
   "metadata": {},
   "source": [
    "Fill in the grid:"
   ]
  },
  {
   "cell_type": "code",
   "execution_count": 121,
   "metadata": {},
   "outputs": [
    {
     "name": "stdout",
     "output_type": "stream",
     "text": [
      " 50 264 378  82  72  18   0 \n",
      "422 394 254 130 134  92   0 \n",
      "280 386 322 304 196 132  58 \n",
      "  2  24  28 176 356 276 292 \n"
     ]
    }
   ],
   "source": [
    "for c in cities[1:]:\n",
    "    ilat  = int((float(c[5]) - la_range[0]) / dla)\n",
    "    ilong = int((float(c[6]) - lo_range[0]) / dlo)\n",
    "    \n",
    "    if ilat == shape[0]:\n",
    "        ilat -= 1\n",
    "    if ilong == shape[1]:\n",
    "        ilong -= 1\n",
    "    \n",
    "    grid[ilat][ilong].append(c)\n",
    "\n",
    "#print out how many cities we have in each box\n",
    "for i in range(shape[0]):\n",
    "    for j in range(shape[1]):\n",
    "        print(\"%3d\" % len(grid[i][j]), end=\" \")\n",
    "    print()"
   ]
  },
  {
   "cell_type": "markdown",
   "metadata": {},
   "source": [
    "<b>Largest distance</b><br>\n",
    "* Get largest distance between nonempty boxes (28*27/2 distance calculations)\n",
    "* Pair cities from the two boxes\n",
    "* In general, this is most probably the largest distance between two cities (Stop here)\n",
    "* In order to be really sure one should pair cities in boxes with less then the found distance"
   ]
  },
  {
   "cell_type": "code",
   "execution_count": 156,
   "metadata": {},
   "outputs": [],
   "source": [
    "# get coordinates of the center of the boxes\n",
    "# list of lists, each element is [box, latitude, longitude]\n",
    "boxcoords = [[grid[j][k],(j+.5)*dla+la_range[0],(k+.5)*dlo+lo_range[0]] \\\n",
    "             for k in range(shape[1]) for j in range(shape[0])]\n",
    "\n",
    "#calculate the distance between\n",
    "# list of lists, each element is [box1, box2, distance]\n",
    "boxdists = [(b1[0],b2[0],latlongdist(b1[1],b1[2],b2[1],b2[2])) \\\n",
    "            for b1 in boxcoords for b2 in boxcoords if b1[0] and b2[0]]\n",
    "\n",
    "#sort by distance and get maximum\n",
    "boxdists.sort(key= lambda x: x[2], reverse=True)\n",
    "maxboxdist = boxdists[0]\n"
   ]
  },
  {
   "cell_type": "code",
   "execution_count": 158,
   "metadata": {},
   "outputs": [
    {
     "name": "stdout",
     "output_type": "stream",
     "text": [
      "['Letenye', 'Uszka', 497.53818090877525]\n"
     ]
    }
   ],
   "source": [
    "# calculate distances between cities in boxes furthest away\n",
    "# list of lists, each element is [city1, city2, distance]\n",
    "citydists = []\n",
    "for c1 in maxboxdist[0]:\n",
    "    for c2 in maxboxdist[1]:\n",
    "        citydists.append([c1[1],c2[1],latlongdist(c1[5],c1[6],c2[5],c2[6])])\n",
    "\n",
    "#you could also do this with a list comprehension:\n",
    "#citydists = [(c1[1],c2[1],latlongdist(c1[5],c1[6],c2[5],c2[6])) \\\n",
    "#             for c1 in maxboxdist[0] for c2 in maxboxdist[1]]\n",
    "\n",
    "#get maximum distance pair\n",
    "print(max(citydists,key= lambda x:x[2]))"
   ]
  },
  {
   "cell_type": "markdown",
   "metadata": {},
   "source": [
    "Why didn't we find the correct pair?\n",
    "\n",
    "(How to plot later today, for now, just run the cell.)"
   ]
  },
  {
   "cell_type": "code",
   "execution_count": 143,
   "metadata": {},
   "outputs": [
    {
     "data": {
      "image/png": "[encoded data removed]",
      "text/plain": [
       "<Figure size 720x432 with 1 Axes>"
      ]
     },
     "metadata": {},
     "output_type": "display_data"
    }
   ],
   "source": [
    "import matplotlib.pyplot as plt\n",
    "\n",
    "plt.figure(figsize=(10,6))\n",
    "\n",
    "#remove frame\n",
    "plt.box(False)\n",
    "plt.tick_params(axis='both',which='both', left=False, right=False, bottom=False, top=False, labelbottom=False, labelleft=False)\n",
    "#plot grid\n",
    "for i in range(1,shape[1]):\n",
    "    plt.plot([dlo*i+lo_range[0],dlo*i+lo_range[0]],la_range, 'k', linewidth=.5)\n",
    "for i in range(1,shape[0]):\n",
    "    plt.plot(lo_range,[dla*i+la_range[0],dla*i+la_range[0]], 'k', linewidth=.5)\n",
    "\n",
    "plt.plot(long, lat, 'o', markersize=1.5, label='Towns')\n",
    "\n",
    "#Letenye-Uszka\n",
    "la_LU = [c[5] for c in cities if c[1]=='Letenye' or c[1]=='Uszka']\n",
    "lo_LU = [c[6] for c in cities if c[1]=='Letenye' or c[1]=='Uszka']\n",
    "plt.plot(lo_LU,la_LU,'r',label=\"Letenye-Uszka\")\n",
    "\n",
    "#Letenye-Uszka\n",
    "la_SU = [c[5] for c in cities if c[1]=='Szakonyfalu' or c[1]=='Uszka']\n",
    "lo_SU = [c[6] for c in cities if c[1]=='Szakonyfalu' or c[1]=='Uszka']\n",
    "plt.plot(lo_SU,la_SU,'b',label=\"Szakonyfalu-Uszka\")\n",
    "\n",
    "plt.legend(loc='upper left')\n",
    "\n",
    "plt.show()\n",
    "\n"
   ]
  },
  {
   "cell_type": "markdown",
   "metadata": {},
   "source": [
    "### Exercise\n",
    "Find smallest distance between cities.\n",
    "\n",
    "The closest cities are either in the same box or in neighboring boxes. Let's break up this exercise into two smaller steps.\n",
    "\n",
    "1. Find closest cities that are in the same box\n",
    "\n",
    "<details><summary><u>Hint.</u></summary>\n",
    "<p>\n",
    "    \n",
    "Do something similar to what we did before:\n",
    "```python\n",
    "citydists = []\n",
    "for c1 in maxboxdist[0]:\n",
    "    for c2 in maxboxdist[1]:\n",
    "        citydists.append([c1[1],c2[1],latlongdist(c1[5],c1[6],c2[5],c2[6])])\n",
    "```\n",
    "Only instead of select cities from boxes  maxboxdist[0] and maxboxdist[1], select them from the same box.\n",
    "\n",
    "</p>\n",
    "</details>"
   ]
  },
  {
   "cell_type": "code",
   "execution_count": 265,
   "metadata": {},
   "outputs": [
    {
     "name": "stdout",
     "output_type": "stream",
     "text": [
      "('Szekszárd', 'Hosszúvölgy', 0.22991422061048014)\n"
     ]
    }
   ],
   "source": []
  },
  {
   "cell_type": "markdown",
   "metadata": {},
   "source": [
    "<details><summary><u>Solution.</u></summary>\n",
    "<p>\n",
    "    \n",
    "```python\n",
    "citydists = []\n",
    "for k in range(shape[0]):\n",
    "    for j in range(shape[1]):\n",
    "        for c1 in grid[k][j]:\n",
    "            for c2 in grid[k][j]:\n",
    "                dist = latlongdist(c1[5],c1[6],c2[5],c2[6])\n",
    "                #exclude duplicates\n",
    "                if dist>0:\n",
    "                    citydists.append((c1[1],c2[1],dist))\n",
    "                 \n",
    "mindist = min(citydists, key = lambda x: x[2])\n",
    "print(mindist)\n",
    "    \n",
    "# or in one very long line\n",
    "print(min([ (c1[1],c2[1], latlongdist(c1[5],c1[6],c2[5],c2[6])) for row in grid for box in row \\\n",
    "    for c1 in box for c2 in box if c1[5]!=c2[5] or c1[6]!=c2[6]], key= lambda x: x[2]))\n",
    "```\n",
    "    \n",
    "</p>\n",
    "</details>"
   ]
  },
  {
   "cell_type": "markdown",
   "metadata": {},
   "source": [
    "2. Find closest cities that are in neighboring boxes in directions:\n",
    "    * west-east\n",
    "    * north-south\n",
    "    * northeast-southwest\n",
    "    \n",
    "<details><summary><u>Hint.</u></summary>\n",
    "<p>    \n",
    "The western neighbor of box <code>grid[j][k]</code> is <code>grid[j][k+1]</code>.\n",
    "</p>\n",
    "</details>"
   ]
  },
  {
   "cell_type": "code",
   "execution_count": 266,
   "metadata": {},
   "outputs": [
    {
     "name": "stdout",
     "output_type": "stream",
     "text": [
      "('Szekszárd', 'Hosszúvölgy', 0.22991422061048014)\n"
     ]
    }
   ],
   "source": []
  },
  {
   "cell_type": "markdown",
   "metadata": {},
   "source": [
    "<details><summary><u>Solution.</u></summary>\n",
    "<p>\n",
    "    \n",
    "```python\n",
    "citydists2 = []\n",
    "for k in range(shape[0]):\n",
    "    for j in range(shape[1]):\n",
    "        # west-east\n",
    "        if j<shape[1]-1:\n",
    "            citydists2 += [(c1[1],c2[1],latlongdist(c1[5],c1[6],c2[5],c2[6])) \\\n",
    "             for c1 in grid[k][j] for c2 in grid[k][j+1]]\n",
    "        # north-south\n",
    "        if k<shape[0]-1:\n",
    "            citydists2 += [(c1[1],c2[1],latlongdist(c1[5],c1[6],c2[5],c2[6])) \\\n",
    "             for c1 in grid[k][j] for c2 in grid[k+1][j]]\n",
    "        # northeast-southwest\n",
    "        if k<shape[0]-1 and j<shape[1]-1:\n",
    "            citydists2 += [(c1[1],c2[1],latlongdist(c1[5],c1[6],c2[5],c2[6])) \\\n",
    "             for c1 in grid[k][j] for c2 in grid[k+1][j+1]]\n",
    "\n",
    "mindist2 = min(citydists+citydists2, key = lambda x: x[2])\n",
    "print(mindist2)\n",
    "```\n",
    "    \n",
    "</p>\n",
    "</details>"
   ]
  },
  {
   "cell_type": "markdown",
   "metadata": {},
   "source": [
    "## Home work!\n",
    "\n",
    "In separate notebook uploaded to moodle. You will have to investigate how run-time of finding the maximum and minimum distance depends on the resolution of the grid. You can reuse the code from the class.\n",
    "\n",
    "Submission deadline: **February 20, 3:30 pm**"
   ]
  },
  {
   "cell_type": "markdown",
   "metadata": {},
   "source": [
    "## Dictionaries"
   ]
  },
  {
   "cell_type": "markdown",
   "metadata": {},
   "source": [
    "Dictionaries are similar to lists, except that each element is a key-value pair. The syntax for dictionaries is `{key1 : value1, key2 : value2, ...}`:"
   ]
  },
  {
   "cell_type": "code",
   "execution_count": 166,
   "metadata": {},
   "outputs": [
    {
     "name": "stdout",
     "output_type": "stream",
     "text": [
      "<class 'dict'>\n",
      "{'bananas': 1, 'oranges': 2, 'apples': 3}\n"
     ]
    }
   ],
   "source": [
    "fruits = {\"bananas\" : 1,\n",
    "          \"oranges\" : 2,\n",
    "          \"apples\" : 3,}\n",
    "\n",
    "print(type(fruits))\n",
    "print(fruits)"
   ]
  },
  {
   "cell_type": "code",
   "execution_count": null,
   "metadata": {},
   "outputs": [],
   "source": [
    "print(\"bananas = \" + str(fruits[\"bananas\"]))\n",
    "print(\"oranges = \" + str(fruits[\"oranges\"]))\n",
    "print(\"apples  = \" + str(fruits[\"apples\"]))"
   ]
  },
  {
   "cell_type": "code",
   "execution_count": null,
   "metadata": {},
   "outputs": [],
   "source": [
    "# change value\n",
    "fruits[\"bananas\"] = \"no bananas\"\n",
    "fruits[\"oranges\"] = 100\n",
    "\n",
    "# add a new entry\n",
    "fruits[\"pineapples\"] = \"D\"\n",
    "\n",
    "print(\"bananas = \" + str(fruits[\"bananas\"]))\n",
    "print(\"oranges = \" + str(fruits[\"oranges\"]))\n",
    "print(\"apples = \" + str(fruits[\"apples\"]))\n",
    "print(\"pineapples = \" + str(fruits[\"pineapples\"]))"
   ]
  },
  {
   "cell_type": "markdown",
   "metadata": {},
   "source": [
    "Strings, numbers, and tuples work as keys, and any type can be a value. Other types may or may not work correctly as keys (strings and tuples work cleanly since they are immutable). Looking up a value which is not in the dict throws a `KeyError` -- use `in` to check if the key is in the dict, or use `dict.get(key)` which returns the value or None if the key is not present (or `get(key, not-found)` allows you to specify what value to return in the not-found case)."
   ]
  },
  {
   "cell_type": "code",
   "execution_count": 167,
   "metadata": {},
   "outputs": [
    {
     "name": "stdout",
     "output_type": "stream",
     "text": [
      "1\n"
     ]
    }
   ],
   "source": [
    "print(fruits['bananas'])     ## Simple lookup"
   ]
  },
  {
   "cell_type": "markdown",
   "metadata": {},
   "source": [
    "If you try to access something that does not exists in the dictionary, you will get an error:"
   ]
  },
  {
   "cell_type": "code",
   "execution_count": 168,
   "metadata": {},
   "outputs": [
    {
     "ename": "KeyError",
     "evalue": "'strawberries'",
     "output_type": "error",
     "traceback": [
      "\u001b[0;31m---------------------------------------------------------------------------\u001b[0m",
      "\u001b[0;31mKeyError\u001b[0m                                  Traceback (most recent call last)",
      "\u001b[0;32m<ipython-input-168-16da9daa6bc1>\u001b[0m in \u001b[0;36m<module>\u001b[0;34m\u001b[0m\n\u001b[0;32m----> 1\u001b[0;31m \u001b[0mprint\u001b[0m\u001b[0;34m(\u001b[0m\u001b[0mfruits\u001b[0m\u001b[0;34m[\u001b[0m\u001b[0;34m'strawberries'\u001b[0m\u001b[0;34m]\u001b[0m\u001b[0;34m)\u001b[0m\u001b[0;34m\u001b[0m\u001b[0;34m\u001b[0m\u001b[0m\n\u001b[0m",
      "\u001b[0;31mKeyError\u001b[0m: 'strawberries'"
     ]
    }
   ],
   "source": [
    "print(fruits['strawberries'])"
   ]
  },
  {
   "cell_type": "markdown",
   "metadata": {},
   "source": [
    "To avoid key errors, you can simply check with an ``if`` that the key is present in the dictionary: "
   ]
  },
  {
   "cell_type": "code",
   "execution_count": 169,
   "metadata": {},
   "outputs": [
    {
     "name": "stdout",
     "output_type": "stream",
     "text": [
      "1\n",
      "I don't know what a strawberry is\n"
     ]
    }
   ],
   "source": [
    "if 'bananas' in fruits: print(fruits['bananas']) ## Yes, you can also write an if in this way \n",
    "\n",
    "if 'strawberries' in fruits: print (fruits['strawberries']) ## and an if-else in this way \n",
    "else: print(\"I don\\'t know what a strawberry is\")"
   ]
  },
  {
   "cell_type": "markdown",
   "metadata": {},
   "source": [
    "An alternative way to access keys in a dictionary is with the method ``get``. If the key does not exist you get a `None`:"
   ]
  },
  {
   "cell_type": "code",
   "execution_count": 170,
   "metadata": {},
   "outputs": [
    {
     "name": "stdout",
     "output_type": "stream",
     "text": [
      "1\n",
      "None\n"
     ]
    }
   ],
   "source": [
    "print(fruits.get('bananas'))\n",
    "print(fruits.get('strawberries')) "
   ]
  },
  {
   "cell_type": "markdown",
   "metadata": {},
   "source": [
    "You can also define a default different from ``None``:"
   ]
  },
  {
   "cell_type": "code",
   "execution_count": 171,
   "metadata": {},
   "outputs": [
    {
     "name": "stdout",
     "output_type": "stream",
     "text": [
      "0\n"
     ]
    }
   ],
   "source": [
    "print(fruits.get('strawberries',0))  "
   ]
  },
  {
   "cell_type": "markdown",
   "metadata": {},
   "source": [
    "To iterate over key-value pairs of a dictionary:"
   ]
  },
  {
   "cell_type": "code",
   "execution_count": 172,
   "metadata": {},
   "outputs": [
    {
     "name": "stdout",
     "output_type": "stream",
     "text": [
      "bananas 1\n",
      "oranges 2\n",
      "apples 3\n"
     ]
    }
   ],
   "source": [
    "for key in fruits: \n",
    "    print(key, fruits[key])"
   ]
  },
  {
   "cell_type": "markdown",
   "metadata": {},
   "source": [
    "This iteration is equivalent to iterating over ```fruits.keys()```:"
   ]
  },
  {
   "cell_type": "code",
   "execution_count": null,
   "metadata": {},
   "outputs": [],
   "source": [
    "for key in fruits.keys(): \n",
    "    print(key)"
   ]
  },
  {
   "cell_type": "code",
   "execution_count": 267,
   "metadata": {},
   "outputs": [
    {
     "data": {
      "text/plain": [
       "dict_keys"
      ]
     },
     "execution_count": 267,
     "metadata": {},
     "output_type": "execute_result"
    }
   ],
   "source": [
    "type(fruits.keys())"
   ]
  },
  {
   "cell_type": "markdown",
   "metadata": {},
   "source": [
    "If you want to show the values instead:"
   ]
  },
  {
   "cell_type": "code",
   "execution_count": null,
   "metadata": {},
   "outputs": [],
   "source": [
    "for value in fruits.values():\n",
    "    print(value)"
   ]
  },
  {
   "cell_type": "markdown",
   "metadata": {},
   "source": [
    "If you want to iterate through both at the same time, you can use `fruits.items()`"
   ]
  },
  {
   "cell_type": "code",
   "execution_count": null,
   "metadata": {},
   "outputs": [],
   "source": [
    "for key, value in fruits.items():\n",
    "    print(key + \" = \" + str(value))"
   ]
  },
  {
   "cell_type": "markdown",
   "metadata": {},
   "source": [
    "_**Note that the keys are not sorted, nor are listed in the order you added them to the dictionary!**_ If you want to do that, you should sort the keys first"
   ]
  },
  {
   "cell_type": "code",
   "execution_count": null,
   "metadata": {},
   "outputs": [],
   "source": [
    "for key in sorted(fruits.keys()):\n",
    "    print(key, fruits[key])"
   ]
  },
  {
   "cell_type": "code",
   "execution_count": null,
   "metadata": {},
   "outputs": [],
   "source": [
    "#fruits['bananas']=23\n",
    "#fruits['pineapples']=45\n",
    "for value in sorted(fruits.values()):\n",
    "    print(value)"
   ]
  },
  {
   "cell_type": "markdown",
   "metadata": {},
   "source": [
    "Dictionary comprehensions"
   ]
  },
  {
   "cell_type": "code",
   "execution_count": null,
   "metadata": {},
   "outputs": [],
   "source": [
    "D = {k:k*k for k in range(3)}\n",
    "print(D)"
   ]
  },
  {
   "cell_type": "code",
   "execution_count": null,
   "metadata": {},
   "outputs": [],
   "source": [
    "for value in D.values():\n",
    "    print(value)"
   ]
  },
  {
   "cell_type": "markdown",
   "metadata": {},
   "source": [
    "### Exercise\n",
    "Build a dictionary from the cities list. The key should be the accentless cityname (column 2), The value should be the population\n",
    "\n",
    "<details><summary><u>Hint 1.</u></summary>\n",
    "<p>\n",
    "\n",
    "You can start from an empty dictionary and use a <code>for</code> loop to iterate trough <code>cities</code> to populate the dictionary or you can use a dictionary comprehension.\n",
    "\n",
    "</p>\n",
    "</details>\n",
    "\n",
    "<details><summary><u>Hint 2.</u></summary>\n",
    "<p>\n",
    "\n",
    "The first element of <code>cities</code> is a header, exclude it by slicing as <code>cities[1:]</code>.\n",
    "\n",
    "</p>\n",
    "</details>"
   ]
  },
  {
   "cell_type": "code",
   "execution_count": null,
   "metadata": {},
   "outputs": [],
   "source": []
  },
  {
   "cell_type": "markdown",
   "metadata": {},
   "source": [
    "<details><summary><u>Solution.</u></summary>\n",
    "<p>\n",
    "    \n",
    "```python\n",
    "cdict = {c[2]:int(c[3]) for c in cities[1:]}\n",
    "#test it\n",
    "print(cdict['Szeged'])\n",
    "```\n",
    "    \n",
    "</p>\n",
    "</details>"
   ]
  },
  {
   "cell_type": "markdown",
   "metadata": {},
   "source": [
    "### Exercise\n",
    "Build a dictionary containing dictionaries from the cities list. The key should be the accentless cityname (column 2), The value should be a dictionary, with 'population' the population and 'area' the size in km$^2$"
   ]
  },
  {
   "cell_type": "code",
   "execution_count": null,
   "metadata": {},
   "outputs": [],
   "source": []
  },
  {
   "cell_type": "markdown",
   "metadata": {},
   "source": [
    "<details><summary><u>Solution.</u></summary>\n",
    "<p>\n",
    "    \n",
    "```python\n",
    "cdict2 = {c[2]:{\"population\":int(c[3]), \"area\":float(c[4])} for c in cities[1:]}\n",
    "# test it\n",
    "print(cdict2['Szeged'])\n",
    "```\n",
    "    \n",
    "</p>\n",
    "</details>"
   ]
  },
  {
   "cell_type": "markdown",
   "metadata": {},
   "source": [
    "## NumPy\n",
    "\n",
    "From numpy's documentation:\n",
    "\n",
    "NumPy is the fundamental package for scientific computing with Python. It contains among other things:\n",
    "\n",
    " * a powerful N-dimensional array object\n",
    " * sophisticated (broadcasting) functions\n",
    " * tools for integrating C/C++ and Fortran code\n",
    " * useful linear algebra, Fourier transform, and random number capabilities\n",
    "\n",
    "Besides its obvious scientific uses, NumPy can also be used as an efficient multi-dimensional container of generic data. Arbitrary data-types can be defined. This allows NumPy to seamlessly and speedily integrate with a wide variety of databases.\n"
   ]
  },
  {
   "cell_type": "code",
   "execution_count": 173,
   "metadata": {},
   "outputs": [
    {
     "name": "stdout",
     "output_type": "stream",
     "text": [
      "[0 1 2 3 4 5 6 7 8 9]\n",
      "<class 'numpy.ndarray'>\n"
     ]
    }
   ],
   "source": [
    "import numpy as np\n",
    "a = np.arange(10)\n",
    "print(a)\n",
    "print(type(a))"
   ]
  },
  {
   "cell_type": "code",
   "execution_count": 174,
   "metadata": {},
   "outputs": [
    {
     "name": "stdout",
     "output_type": "stream",
     "text": [
      "<class 'list'> [1, 2, 3] 1\n",
      "<class 'numpy.ndarray'> [1 2 3] 1\n"
     ]
    }
   ],
   "source": [
    "b = [1,2,3]\n",
    "print(type(b),b,b[0])\n",
    "a = np.array(b)\n",
    "print(type(a),a,a[0])"
   ]
  },
  {
   "cell_type": "markdown",
   "metadata": {},
   "source": [
    "### Shape and dimension"
   ]
  },
  {
   "cell_type": "code",
   "execution_count": 175,
   "metadata": {},
   "outputs": [
    {
     "name": "stdout",
     "output_type": "stream",
     "text": [
      "1 2\n",
      "(6,) (2, 3)\n",
      "[[1 2 3]\n",
      " [4 5 6]]\n",
      "2 (2, 3)\n"
     ]
    }
   ],
   "source": [
    "a = np.array([1,2,3,4,5,6])\n",
    "b = np.array([[1,2,3],[4,5,6]])\n",
    "print(np.ndim(a),np.ndim(b))\n",
    "print(a.shape, b.shape)\n",
    "c = a.reshape(2,3)\n",
    "print(c)\n",
    "print(np.ndim(c), c.shape)"
   ]
  },
  {
   "cell_type": "code",
   "execution_count": 176,
   "metadata": {},
   "outputs": [
    {
     "name": "stdout",
     "output_type": "stream",
     "text": [
      "[[1 2]\n",
      " [3 4]\n",
      " [5 6]]\n",
      "[[[1 2 3]]\n",
      "\n",
      " [[4 5 6]]]\n"
     ]
    },
    {
     "ename": "ValueError",
     "evalue": "cannot reshape array of size 6 into shape (2,4)",
     "output_type": "error",
     "traceback": [
      "\u001b[0;31m---------------------------------------------------------------------------\u001b[0m",
      "\u001b[0;31mValueError\u001b[0m                                Traceback (most recent call last)",
      "\u001b[0;32m<ipython-input-176-ca6753d0d717>\u001b[0m in \u001b[0;36m<module>\u001b[0;34m\u001b[0m\n\u001b[1;32m      3\u001b[0m \u001b[0mprint\u001b[0m\u001b[0;34m(\u001b[0m\u001b[0ma\u001b[0m\u001b[0;34m.\u001b[0m\u001b[0mreshape\u001b[0m\u001b[0;34m(\u001b[0m\u001b[0;36m3\u001b[0m\u001b[0;34m,\u001b[0m \u001b[0;36m2\u001b[0m\u001b[0;34m)\u001b[0m\u001b[0;34m)\u001b[0m\u001b[0;34m\u001b[0m\u001b[0;34m\u001b[0m\u001b[0m\n\u001b[1;32m      4\u001b[0m \u001b[0mprint\u001b[0m\u001b[0;34m(\u001b[0m\u001b[0ma\u001b[0m\u001b[0;34m.\u001b[0m\u001b[0mreshape\u001b[0m\u001b[0;34m(\u001b[0m\u001b[0;36m2\u001b[0m\u001b[0;34m,\u001b[0m\u001b[0;36m1\u001b[0m\u001b[0;34m,\u001b[0m\u001b[0;36m3\u001b[0m\u001b[0;34m)\u001b[0m\u001b[0;34m)\u001b[0m\u001b[0;34m\u001b[0m\u001b[0;34m\u001b[0m\u001b[0m\n\u001b[0;32m----> 5\u001b[0;31m \u001b[0mprint\u001b[0m\u001b[0;34m(\u001b[0m\u001b[0ma\u001b[0m\u001b[0;34m.\u001b[0m\u001b[0mreshape\u001b[0m\u001b[0;34m(\u001b[0m\u001b[0;36m2\u001b[0m\u001b[0;34m,\u001b[0m \u001b[0;36m4\u001b[0m\u001b[0;34m)\u001b[0m\u001b[0;34m)\u001b[0m\u001b[0;34m\u001b[0m\u001b[0;34m\u001b[0m\u001b[0m\n\u001b[0m",
      "\u001b[0;31mValueError\u001b[0m: cannot reshape array of size 6 into shape (2,4)"
     ]
    }
   ],
   "source": [
    "# The shape of arrays can change, but the total number of items cannot!\n",
    "\n",
    "print(a.reshape(3, 2))\n",
    "print(a.reshape(2,1,3))\n",
    "print(a.reshape(2, 4))"
   ]
  },
  {
   "cell_type": "markdown",
   "metadata": {},
   "source": [
    "### Data type"
   ]
  },
  {
   "cell_type": "code",
   "execution_count": 179,
   "metadata": {},
   "outputs": [
    {
     "name": "stdout",
     "output_type": "stream",
     "text": [
      "a = [[0 0 0]\n",
      " [0 0 3]]\n",
      "b = [[0.  0.  0. ]\n",
      " [0.  0.  3.5]]\n"
     ]
    }
   ],
   "source": [
    "a = np.zeros((2,3),dtype=int)\n",
    "a[1,2]=3.5\n",
    "b = np.zeros((2,3),dtype=float)\n",
    "b[1,2]=3.5\n",
    "print(\"a =\",a)\n",
    "print(\"b =\",b)"
   ]
  },
  {
   "cell_type": "markdown",
   "metadata": {},
   "source": [
    "### Arrays are mutable"
   ]
  },
  {
   "cell_type": "code",
   "execution_count": 285,
   "metadata": {
    "scrolled": true
   },
   "outputs": [
    {
     "name": "stdout",
     "output_type": "stream",
     "text": [
      "a= [9. 1. 1. 1. 1.]\n",
      "\n",
      "a= [9. 1. 1. 1. 1.] \n",
      "d= [0. 1. 1. 1. 1.]\n",
      "\n",
      "a= [9. 1. 1. 1. 1.] \n",
      "e= [10.  2.  2.  2.  2.]\n"
     ]
    }
   ],
   "source": [
    "a = np.ones(5)\n",
    "c = a\n",
    "c[0] = 9 #changing c changes a, just like in the case of lists\n",
    "print(\"a=\", a)\n",
    "print()\n",
    "\n",
    "d = np.copy(a) #makes a new copy of the array in the memory \n",
    "d[0] = 0 #changing d does not change a\n",
    "print(\"a=\",a,\"\\nd=\",d)\n",
    "print()\n",
    "\n",
    "# array operations create new arrays\n",
    "e = 2*a\n",
    "e[0] = 10\n",
    "print(\"a=\",a,\"\\ne=\",e)\n"
   ]
  },
  {
   "cell_type": "markdown",
   "metadata": {},
   "source": [
    "Sidenote:\n",
    "   * Slicing a list makes a new copy\n",
    "   * Slicing a numpy array makes a new view "
   ]
  },
  {
   "cell_type": "code",
   "execution_count": 281,
   "metadata": {},
   "outputs": [
    {
     "name": "stdout",
     "output_type": "stream",
     "text": [
      "L= [1, 2, 3]   L2= [12, 2, 3]\n",
      "A= [12  2  3]  A2= [12  2  3]\n"
     ]
    }
   ],
   "source": [
    "#lists (remeber the quiz question from last week?)\n",
    "L  = [1,2,3]\n",
    "L2 = L[:]\n",
    "L2[0]=12\n",
    "print(\"L=\",L,\"  L2=\",L2)\n",
    "\n",
    "#np arrays\n",
    "A = np.array([1,2,3])\n",
    "A2= A[:]\n",
    "A2[0]=12\n",
    "print(\"A=\",A,\" A2=\",A2)\n"
   ]
  },
  {
   "cell_type": "markdown",
   "metadata": {},
   "source": [
    "### More on array operations\n",
    "What if the two arrays have different shape?"
   ]
  },
  {
   "cell_type": "code",
   "execution_count": 215,
   "metadata": {},
   "outputs": [
    {
     "name": "stdout",
     "output_type": "stream",
     "text": [
      "[[1. 1. 1.]\n",
      " [1. 1. 1.]\n",
      " [1. 1. 1.]] [1. 0. 1.]\n",
      "2 * a =\n",
      " [[2. 2. 2.]\n",
      " [2. 2. 2.]\n",
      " [2. 2. 2.]]\n",
      "a + 1 =\n",
      " [[2. 2. 2.]\n",
      " [2. 2. 2.]\n",
      " [2. 2. 2.]]\n",
      "a + b =\n",
      " [[2. 1. 2.]\n",
      " [2. 1. 2.]\n",
      " [2. 1. 2.]]\n"
     ]
    }
   ],
   "source": [
    "a = np.ones((3,3))\n",
    "b = np.array([1.,0.,1.])\n",
    "print(a, b)\n",
    "print(\"2 * a =\\n\", 2 * a)\n",
    "print(\"a + 1 =\\n\", a + 1)\n",
    "print(\"a + b =\\n\", a + b)"
   ]
  },
  {
   "cell_type": "markdown",
   "metadata": {},
   "source": [
    "### Exercise\n",
    "Play around with the previous example (you may want to make a copy) by changing the size of the arrays to see what is allowed"
   ]
  },
  {
   "cell_type": "code",
   "execution_count": null,
   "metadata": {},
   "outputs": [],
   "source": []
  },
  {
   "cell_type": "markdown",
   "metadata": {},
   "source": [
    "<details><summary><u>Possible things to try</u></summary>\n",
    "<p>\n",
    "    \n",
    "```python\n",
    "a = np.ones((3,3))\n",
    "c = np.array([[1],[0],[1]])\n",
    "print(a+c)\n",
    "\n",
    "d = np.arange(4).reshape(2,2)\n",
    "print(a+d)\n",
    "```\n",
    "    \n",
    "</p>\n",
    "</details>"
   ]
  },
  {
   "cell_type": "code",
   "execution_count": 269,
   "metadata": {},
   "outputs": [
    {
     "name": "stdout",
     "output_type": "stream",
     "text": [
      "[[0 1 2]\n",
      " [3 4 5]\n",
      " [6 7 8]]\n",
      "[[0 3 6]\n",
      " [1 4 7]\n",
      " [2 5 8]]\n",
      "a * a= [[ 0  1  4]\n",
      " [ 9 16 25]\n",
      " [36 49 64]]\n",
      "a.dot(a) =  [[ 15  18  21]\n",
      " [ 42  54  66]\n",
      " [ 69  90 111]]\n",
      "a @ a [[ 15  18  21]\n",
      " [ 42  54  66]\n",
      " [ 69  90 111]]\n"
     ]
    }
   ],
   "source": [
    "a = np.arange(9).reshape((3,3))\n",
    "b = np.array([1,0,1])\n",
    "print(a)\n",
    "print(a.transpose())\n",
    "print(\"a * a=\", a * a)            # element-wise; not a dot product!\n",
    "print(\"a.dot(a) = \", a.dot(a))    # dot product\n",
    "print(\"a @ a\", a @ a)             # dot product (since Python 3)"
   ]
  },
  {
   "cell_type": "code",
   "execution_count": 47,
   "metadata": {
    "scrolled": true
   },
   "outputs": [
    {
     "name": "stdout",
     "output_type": "stream",
     "text": [
      "a = [[0 1 2]\n",
      " [3 4 5]\n",
      " [6 7 8]]\n",
      "sin = [[ 0.          0.84147098  0.90929743]\n",
      " [ 0.14112001 -0.7568025  -0.95892427]\n",
      " [-0.2794155   0.6569866   0.98935825]]\n",
      "x**3 = [[  0   1   8]\n",
      " [ 27  64 125]\n",
      " [216 343 512]]\n",
      "sum = 36\n",
      "mean = 4.0\n",
      "std = 2.581988897471611\n",
      "size = 9\n",
      "min = 0\n"
     ]
    }
   ],
   "source": [
    "a = np.arange(9).reshape((3,3))\n",
    "print(\"a =\", a)\n",
    "print(\"sin =\", np.sin(a))\n",
    "print(\"x**3 =\", np.power(a,3))\n",
    "print(\"sum =\", np.sum(a))\n",
    "print(\"mean =\", np.mean(a))\n",
    "print(\"std =\", np.std(a))\n",
    "print(\"size =\", np.size(a))\n",
    "print(\"min =\", np.min(a))"
   ]
  },
  {
   "cell_type": "markdown",
   "metadata": {},
   "source": [
    "\n",
    "### Loops and array operations (important!)\n",
    "\n",
    "Array operations off-load Python loops to compiled C code, leading to large performance improvements.\n",
    "\n",
    "Consider:\n"
   ]
  },
  {
   "cell_type": "code",
   "execution_count": 181,
   "metadata": {},
   "outputs": [
    {
     "name": "stdout",
     "output_type": "stream",
     "text": [
      "[1.00000000e+00 1.54030231e+00 3.58385316e+00 ... 9.99994000e+11\n",
      " 9.99996000e+11 9.99998000e+11]\n",
      "[1.00000000e+00 1.54030231e+00 3.58385316e+00 ... 9.99994000e+11\n",
      " 9.99996000e+11 9.99998000e+11]\n",
      "3.1065085110021755\n",
      "0.034725480974884704\n"
     ]
    }
   ],
   "source": [
    "import timeit\n",
    "import math\n",
    "\n",
    "x = np.arange(1000000)\n",
    "\n",
    "def f(x):\n",
    "    y = np.zeros(x.shape)\n",
    "    for i in range(len(x)):\n",
    "        y[i] = math.cos(x[i]) + x[i] ** 2\n",
    "    return y\n",
    "\n",
    "print(f(x))\n",
    "print(np.cos(x) + x ** 2)  # array expression  \n",
    "\n",
    "print(timeit.timeit(\"f(x)\", number=1, globals=globals()))\n",
    "print(timeit.timeit(\"np.cos(x) + x ** 2\", number=1, globals=globals()))"
   ]
  },
  {
   "cell_type": "markdown",
   "metadata": {},
   "source": [
    "### Exercise\n",
    "\n",
    "Write a function using numpy arrays that does the same calculation as the `f(n)` defined below.\n",
    "\n",
    "Bonus: compare their runtime.\n",
    "\n",
    "<details><summary><u>Hint.</u></summary>\n",
    "<p>\n",
    "    \n",
    "Use `np.arange()` and `np.sum()` functions.\n",
    "    \n",
    "</p>\n",
    "</details>"
   ]
  },
  {
   "cell_type": "code",
   "execution_count": null,
   "metadata": {},
   "outputs": [],
   "source": []
  },
  {
   "cell_type": "markdown",
   "metadata": {},
   "source": [
    "<details><summary><u>Solution.</u></summary>\n",
    "<p>\n",
    "    \n",
    "```python\n",
    "def g(n):\n",
    "    a = np.arange(1,n)\n",
    "    x = np.sum(np.log(a))\n",
    "    print(x)\n",
    "    return\n",
    "\n",
    "print(timeit.timeit(lambda :g(10000000), number=1))\n",
    "```\n",
    "    \n",
    "</p>\n",
    "</details>"
   ]
  },
  {
   "cell_type": "markdown",
   "metadata": {},
   "source": [
    "### Exercise\n",
    "\n",
    "Average city distance from Budapest?\n",
    "\n",
    "Old way of doing this:"
   ]
  },
  {
   "cell_type": "code",
   "execution_count": null,
   "metadata": {},
   "outputs": [],
   "source": [
    "old_avgdist = sum([latlongdist(lat[0],long[0],lat[i],long[i]) for i in range(1,len(lat))])/(len(lat)-1)\n",
    "print(old_avgdist)"
   ]
  },
  {
   "cell_type": "markdown",
   "metadata": {},
   "source": [
    "Now calculate the average distance using numpy arrays!\n",
    "\n",
    "To get you stared:"
   ]
  },
  {
   "cell_type": "code",
   "execution_count": 259,
   "metadata": {},
   "outputs": [],
   "source": [
    "import math\n",
    "def np_latlongdist(lat1,long1,lat2,long2):\n",
    "    rlat1 = np.radians(lat1)\n",
    "    rlat2 = np.radians(lat2)\n",
    "    rlong1 = np.radians(long1)\n",
    "    rlong2 = np.radians(long2)\n",
    "    dlat = rlat2 - rlat1\n",
    "    dlong = rlong2 - rlong1\n",
    "    a = np.sin(dlat / 2)**2 + np.cos(rlat1) * np.cos(rlat2) * np.sin(dlong / 2)**2\n",
    "    c = 2 * np.arctan2(np.sqrt(a), np.sqrt(1 - a))\n",
    "    return 6371.0 * c\n",
    "\n",
    "np_lat = np.array(lat)\n",
    "np_long  = np.array(long)"
   ]
  },
  {
   "cell_type": "markdown",
   "metadata": {},
   "source": [
    "<details><summary><u>Hint.</u></summary>\n",
    "<p>\n",
    "    \n",
    "When calling the `np_latlongdist(lat1,long1,lat2,long2)` function `lat1` and `long1` should be the coordinates of Budapest; `lat2` and `long2` should be an array of the coordinates of the rest of the cities. \n",
    "    \n",
    "</p>\n",
    "</details>"
   ]
  },
  {
   "cell_type": "code",
   "execution_count": 258,
   "metadata": {},
   "outputs": [
    {
     "name": "stdout",
     "output_type": "stream",
     "text": [
      "139.03475796444178\n",
      "139.03475796444164\n"
     ]
    }
   ],
   "source": []
  },
  {
   "cell_type": "markdown",
   "metadata": {},
   "source": [
    "<details><summary><u>Solution.</u></summary>\n",
    "<p>\n",
    "    \n",
    "```python\n",
    "avgdist = np.mean(np_latlongdist(np_lat[0],np_long[0],np_lat[1:],np_long[1:]))\n",
    "print(avgdist)\n",
    "\n",
    "#old way\n",
    "old_avgdist = sum([latlongdist(lat[0],long[0],lat[i],long[i]) for i in range(1,len(lat))])/(len(lat)-1)\n",
    "print(old_avgdist)\n",
    "```\n",
    "    \n",
    "</p>\n",
    "</details>"
   ]
  },
  {
   "cell_type": "markdown",
   "metadata": {},
   "source": [
    "Let's measure their runtime again!"
   ]
  },
  {
   "cell_type": "code",
   "execution_count": 260,
   "metadata": {},
   "outputs": [
    {
     "name": "stdout",
     "output_type": "stream",
     "text": [
      "248 µs ± 11.8 µs per loop (mean ± std. dev. of 7 runs, 1000 loops each)\n"
     ]
    }
   ],
   "source": [
    "%timeit np.mean(np_latlongdist(np_lat[0],np_long[0],np_lat[1:],np_long[1:]))"
   ]
  },
  {
   "cell_type": "code",
   "execution_count": 261,
   "metadata": {},
   "outputs": [
    {
     "name": "stdout",
     "output_type": "stream",
     "text": [
      "4.35 ms ± 28.7 µs per loop (mean ± std. dev. of 7 runs, 100 loops each)\n"
     ]
    }
   ],
   "source": [
    "%timeit sum([latlongdist(lat[0],long[0],lat[i],long[i]) for i in range(1,len(lat))])/(len(lat)-1)"
   ]
  },
  {
   "cell_type": "markdown",
   "metadata": {},
   "source": [
    "### (Pseudo-)Random numbers\n",
    "\n",
    "Pseudo-random number generators (PRNG) are deterministic sequences of numbers, that behave very closely to random numbers.\n",
    "\n",
    "* seed: PRNG with the same seed map to exactly same sequence\n",
    "* np.random.random -> uniform random number from 0 to 1"
   ]
  },
  {
   "cell_type": "code",
   "execution_count": 182,
   "metadata": {},
   "outputs": [
    {
     "name": "stdout",
     "output_type": "stream",
     "text": [
      "[0.37454012 0.95071431 0.73199394 0.59865848 0.15601864 0.15599452\n",
      " 0.05808361 0.86617615 0.60111501 0.70807258]\n"
     ]
    }
   ],
   "source": [
    "np.random.seed(42)\n",
    "a = np.random.random(10)\n",
    "print(a)"
   ]
  },
  {
   "cell_type": "code",
   "execution_count": 183,
   "metadata": {},
   "outputs": [
    {
     "name": "stdout",
     "output_type": "stream",
     "text": [
      "[0.02058449 0.96990985 0.83244264 0.21233911 0.18182497 0.18340451\n",
      " 0.30424224 0.52475643 0.43194502 0.29122914]\n"
     ]
    }
   ],
   "source": [
    "a = np.random.random(10)\n",
    "print(a)"
   ]
  },
  {
   "cell_type": "markdown",
   "metadata": {},
   "source": [
    "### Flip a coin with probability p"
   ]
  },
  {
   "cell_type": "code",
   "execution_count": 184,
   "metadata": {},
   "outputs": [
    {
     "name": "stdout",
     "output_type": "stream",
     "text": [
      "Tails\n",
      "Head\n",
      "Tails\n",
      "Tails\n",
      "Tails\n",
      "Tails\n",
      "Head\n",
      "Tails\n",
      "Tails\n",
      "Head\n",
      "[False  True False False False False  True False False  True]\n"
     ]
    }
   ],
   "source": [
    "N = 10\n",
    "p = 0.2\n",
    "a = np.random.random(N)\n",
    "for i in range(N):\n",
    "    if a[i] < p:\n",
    "        print(\"Head\")\n",
    "    else:\n",
    "        print(\"Tails\")\n",
    "        \n",
    "# or better:\n",
    "print(a < p)"
   ]
  },
  {
   "cell_type": "code",
   "execution_count": 185,
   "metadata": {},
   "outputs": [
    {
     "name": "stdout",
     "output_type": "stream",
     "text": [
      "[[0.60754485 0.17052412 0.06505159]\n",
      " [0.94888554 0.96563203 0.80839735]\n",
      " [0.30461377 0.09767211 0.68423303]]\n"
     ]
    }
   ],
   "source": [
    "a = np.random.random((3,3))\n",
    "print(a)"
   ]
  },
  {
   "cell_type": "code",
   "execution_count": 204,
   "metadata": {},
   "outputs": [
    {
     "name": "stdout",
     "output_type": "stream",
     "text": [
      "[8 6 8 7 0 7 7 2 0 7]\n",
      "[[ 2.78866466  2.50999559]\n",
      " [ 0.58566822 -0.24695479]]\n",
      "[[-2.01630658  3.19929395]\n",
      " [ 0.64453576  0.17923338]]\n"
     ]
    }
   ],
   "source": [
    "print(np.random.randint(0, 10, size=10))\n",
    "print(np.random.normal(1, 2, size=(2,2)))\n",
    "print(np.random.normal(loc=1, scale=2, size=(2,2)))\n",
    "#help(np.random.normal)"
   ]
  },
  {
   "cell_type": "markdown",
   "metadata": {},
   "source": [
    "### Choose values"
   ]
  },
  {
   "cell_type": "code",
   "execution_count": 44,
   "metadata": {},
   "outputs": [
    {
     "name": "stdout",
     "output_type": "stream",
     "text": [
      "[3 0 4 4 1 4 1 0 3 3]\n",
      "[1 2 4]\n",
      "[3 0 3 3 2 0 3 3 3 3]\n",
      "['Budapest']\n"
     ]
    }
   ],
   "source": [
    "print(np.random.choice(5, 10))\n",
    "print(np.random.choice(5, 3, replace=False))\n",
    "print(np.random.choice(5, 10, p=[0.1, 0, 0.3, 0.6, 0]))\n",
    "c = [\"Budapest\", \"Pécs\", \"Debrecen\", \"Miskolc\"]\n",
    "print(np.random.choice(c,1))"
   ]
  },
  {
   "cell_type": "markdown",
   "metadata": {},
   "source": [
    "### Mask out elements: Indexing via boolean arrays"
   ]
  },
  {
   "cell_type": "code",
   "execution_count": 33,
   "metadata": {},
   "outputs": [
    {
     "name": "stdout",
     "output_type": "stream",
     "text": [
      "a = [0.00706631 0.02306243 0.52477466 0.39986097 0.04666566 0.97375552]\n",
      "mask = [ True  True False False False False]\n",
      "a[mask] = [0.00706631 0.02306243]\n",
      "a[a > .3] = [0.52477466 0.39986097 0.97375552]\n",
      "[ 0.00706631  0.02306243 -1.         -1.          0.04666566 -1.        ]\n"
     ]
    }
   ],
   "source": [
    "a = np.random.random(6)\n",
    "mask = np.zeros(6,dtype=bool)\n",
    "mask[0:2] = True\n",
    "print(\"a =\", a)\n",
    "print(\"mask =\", mask)\n",
    "print(\"a[mask] =\", a[mask])\n",
    "print(\"a[a > .3] =\", a[a > .3])\n",
    "a[a > .3] = -1\n",
    "print(a)"
   ]
  },
  {
   "cell_type": "markdown",
   "metadata": {},
   "source": [
    "### Exercise \n",
    "* Count the number of elements which are less than 0.5\n",
    "* Replace all elements which are less than 0.5 with new random number"
   ]
  },
  {
   "cell_type": "code",
   "execution_count": 55,
   "metadata": {},
   "outputs": [
    {
     "name": "stdout",
     "output_type": "stream",
     "text": [
      "[0.83319491 0.17336465 0.39106061 0.18223609 0.75536141 0.42515587]\n",
      "4\n",
      "[0.83319491 0.20794166 0.56770033 0.03131329 0.75536141 0.84228477]\n"
     ]
    }
   ],
   "source": []
  },
  {
   "cell_type": "markdown",
   "metadata": {},
   "source": [
    "<details><summary><u>Solution.</u></summary>\n",
    "<p>\n",
    "    \n",
    "```python\n",
    "a = np.random.random(6)\n",
    "print(a)\n",
    "print(len(a[a<.5]))\n",
    "a[a<.5] = np.random.random(len(a[a<.5]))\n",
    "print(a)\n",
    "```\n",
    "    \n",
    "</p>\n",
    "</details>"
   ]
  },
  {
   "cell_type": "markdown",
   "metadata": {},
   "source": [
    "### Exercise\n",
    "\n",
    "Write a function using numpy arrays that does the same calculation as the following:\n"
   ]
  },
  {
   "cell_type": "code",
   "execution_count": 225,
   "metadata": {},
   "outputs": [
    {
     "name": "stdout",
     "output_type": "stream",
     "text": [
      "-49999995000000.0\n",
      "1.4229449430131353\n",
      "-49999995000000.0\n",
      "0.3226305930002127\n"
     ]
    }
   ],
   "source": [
    "def f(n):\n",
    "    x = 0.\n",
    "    for i in range(n):\n",
    "        if i%2==0:\n",
    "            x+= i*i\n",
    "        else:\n",
    "            x-= i*i\n",
    "    print(x)\n",
    "    return\n",
    "\n",
    "print(timeit.timeit(lambda :f(10000000), number=1))\n",
    "\n",
    "\n"
   ]
  },
  {
   "cell_type": "markdown",
   "metadata": {},
   "source": [
    "<details><summary><u>Solution.</u></summary>\n",
    "<p>\n",
    "    \n",
    "```python\n",
    "def g(n):\n",
    "    a = np.arange(n)\n",
    "    b = np.ones(n)\n",
    "    b[a%2==1]*=-1\n",
    "    print(np.sum(a*a*b))\n",
    "    return\n",
    "\n",
    "print(timeit.timeit(lambda :g(10000000), number=1))\n",
    "```\n",
    "    \n",
    "</p>\n",
    "</details>"
   ]
  },
  {
   "cell_type": "markdown",
   "metadata": {},
   "source": [
    "### Ranges"
   ]
  },
  {
   "cell_type": "code",
   "execution_count": 61,
   "metadata": {},
   "outputs": [
    {
     "name": "stdout",
     "output_type": "stream",
     "text": [
      "[0 1 2 3 4 5 6 7 8 9]\n",
      "[5.  5.1 5.2 5.3 5.4 5.5 5.6 5.7 5.8 5.9 6.  6.1 6.2 6.3 6.4 6.5 6.6 6.7\n",
      " 6.8 6.9]\n",
      "[5.   5.25 5.5  5.75 6.   6.25 6.5  6.75 7.  ]\n",
      "[  1.           1.66810054   2.7825594    4.64158883   7.74263683\n",
      "  12.91549665  21.5443469   35.93813664  59.94842503 100.        ]\n",
      "[ 0.3         0.49660859  0.82206698  1.36081842  2.25264707  3.72894631\n",
      "  6.17275594 10.21814546 16.91472947 28.        ]\n"
     ]
    }
   ],
   "source": [
    "print(np.arange(10))\n",
    "print(np.arange(5, 7, 0.1))\n",
    "print(np.linspace(5, 7, 9))\n",
    "print(np.logspace(0, 2, 10))\n",
    "print(np.logspace(np.log10(0.3), np.log10(28), 10))"
   ]
  },
  {
   "cell_type": "markdown",
   "metadata": {},
   "source": [
    "### Histogram"
   ]
  },
  {
   "cell_type": "code",
   "execution_count": 62,
   "metadata": {},
   "outputs": [
    {
     "name": "stdout",
     "output_type": "stream",
     "text": [
      "[0.44975413 0.39515024 0.92665887 0.727272   0.32654077 0.57044397\n",
      " 0.52083426 0.96117202 0.84453385 0.74732011]\n",
      "(array([4, 3, 3]), array([0.32654077, 0.53808452, 0.74962827, 0.96117202]))\n"
     ]
    }
   ],
   "source": [
    "a = np.random.random(10)\n",
    "h = np.histogram(a, bins=3)\n",
    "print(a)\n",
    "print(h)"
   ]
  },
  {
   "cell_type": "code",
   "execution_count": 63,
   "metadata": {},
   "outputs": [
    {
     "name": "stdout",
     "output_type": "stream",
     "text": [
      "[4941 5059]\n"
     ]
    }
   ],
   "source": [
    "a = np.random.random(10000)\n",
    "h = np.histogram(a, bins=[0, 0.5, 1.0])\n",
    "print(h[0])"
   ]
  },
  {
   "cell_type": "markdown",
   "metadata": {},
   "source": [
    "### Exercise\n",
    "\n",
    "Create a histogram of normally distributed random numbers with 20 bins, use `np.linspace()` to define the bins. \n",
    "\n",
    "<details><summary><u>Hint.</u></summary>\n",
    "<p>\n",
    "\n",
    "Check for the smallest and the largest value for the leftmost and rightmost edge of the bins.\n",
    "    \n",
    "</p>\n",
    "</details>"
   ]
  },
  {
   "cell_type": "code",
   "execution_count": null,
   "metadata": {},
   "outputs": [],
   "source": []
  },
  {
   "cell_type": "markdown",
   "metadata": {},
   "source": [
    "<details><summary><u>Solution.</u></summary>\n",
    "<p>\n",
    "    \n",
    "```python\n",
    "a = np.random.random(10000)\n",
    "h = np.histogram(a, bins=np.linspace(a.min(),a.max(),21))\n",
    "print(len(h[0]))\n",
    "print(h[0])\n",
    "```\n",
    "    \n",
    "</p>\n",
    "</details>"
   ]
  },
  {
   "cell_type": "markdown",
   "metadata": {},
   "source": [
    "## Plotting with `matplotlib`\n",
    "\n",
    "The plotting tool most people default to. Very flexible, but documentation can be daunting."
   ]
  },
  {
   "cell_type": "code",
   "execution_count": 286,
   "metadata": {},
   "outputs": [
    {
     "data": {
      "image/png": "[encoded data removed]",
      "text/plain": [
       "<Figure size 432x288 with 1 Axes>"
      ]
     },
     "metadata": {
      "needs_background": "light"
     },
     "output_type": "display_data"
    }
   ],
   "source": [
    "import matplotlib.pyplot as plt\n",
    "\n",
    "x = np.arange(10)\n",
    "y = x**2\n",
    "\n",
    "plt.figure()\n",
    "\n",
    "plt.plot(x, y, '-')\n",
    "\n",
    "plt.xlabel('x')\n",
    "plt.ylabel('y')\n",
    "plt.title('title')\n",
    "\n",
    "plt.show()"
   ]
  },
  {
   "cell_type": "code",
   "execution_count": 287,
   "metadata": {},
   "outputs": [
    {
     "data": {
      "image/png": "[encoded data removed]",
      "text/plain": [
       "<Figure size 432x288 with 1 Axes>"
      ]
     },
     "metadata": {
      "needs_background": "light"
     },
     "output_type": "display_data"
    }
   ],
   "source": [
    "plt.figure()\n",
    "plt.plot(x, y, '*-', color=\"r\")\n",
    "plt.xlabel('x')\n",
    "plt.ylabel('y')\n",
    "plt.title('title')\n",
    "plt.show()"
   ]
  },
  {
   "cell_type": "markdown",
   "metadata": {},
   "source": [
    "### Format and other options\n",
    "use: <a href=\"https://matplotlib.org/2.1.1/api/_as_gen/matplotlib.pyplot.plot.html\">Mathplotlib plot help</a>"
   ]
  },
  {
   "cell_type": "markdown",
   "metadata": {},
   "source": [
    "### Exercise\n",
    "* Plot a sin function from -6 to +6\n",
    "* Plot a sin and a cos function together\n",
    "\n",
    "<details><summary><u>Hint.</u></summary>\n",
    "<p>\n",
    "\n",
    "To plot two things call the `plt.plot()` function twice consecutively, e.g.\n",
    "```python\n",
    "plt.plot(x,y1)\n",
    "plt.plot(x,y2)\n",
    "```\n",
    "    \n",
    "</p>\n",
    "</details>"
   ]
  },
  {
   "cell_type": "code",
   "execution_count": 69,
   "metadata": {},
   "outputs": [
    {
     "data": {
      "image/png": "[encoded data removed]",
      "text/plain": [
       "<Figure size 432x288 with 1 Axes>"
      ]
     },
     "metadata": {
      "needs_background": "light"
     },
     "output_type": "display_data"
    }
   ],
   "source": []
  },
  {
   "cell_type": "markdown",
   "metadata": {},
   "source": [
    "<details><summary><u>Solution.</u></summary>\n",
    "<p>\n",
    "    \n",
    "```python\n",
    "plt.figure()\n",
    "x=np.arange(-6,6,.1)\n",
    "plt.plot(x, np.sin(x), '-', color=\"r\")\n",
    "plt.plot(x, np.cos(x), '-', color=\"b\")\n",
    "plt.xlabel('x')\n",
    "plt.ylabel('y')\n",
    "plt.title('title')\n",
    "plt.show()\n",
    "```\n",
    "    \n",
    "</p>\n",
    "</details>"
   ]
  },
  {
   "cell_type": "markdown",
   "metadata": {},
   "source": [
    "### Plotting histograms"
   ]
  },
  {
   "cell_type": "code",
   "execution_count": 70,
   "metadata": {
    "scrolled": true
   },
   "outputs": [
    {
     "data": {
      "image/png": "[encoded data removed]",
      "text/plain": [
       "<Figure size 432x288 with 1 Axes>"
      ]
     },
     "metadata": {
      "needs_background": "light"
     },
     "output_type": "display_data"
    }
   ],
   "source": [
    "x = np.random.normal(2,1,10000)\n",
    "plt.hist(x, 50, density=True, facecolor='g', alpha=.3)\n",
    "y = np.random.normal(3,1,10000)\n",
    "plt.hist(y, 50, density=True, facecolor='b', alpha=.3)\n",
    "plt.show()"
   ]
  },
  {
   "cell_type": "markdown",
   "metadata": {},
   "source": [
    "### Subplots"
   ]
  },
  {
   "cell_type": "code",
   "execution_count": 71,
   "metadata": {},
   "outputs": [
    {
     "data": {
      "image/png": "[encoded data removed]",
      "text/plain": [
       "<Figure size 1080x360 with 2 Axes>"
      ]
     },
     "metadata": {
      "needs_background": "light"
     },
     "output_type": "display_data"
    }
   ],
   "source": [
    "fig, axes = plt.subplots(nrows=1, ncols=2, figsize=(15,5))\n",
    "x = np.random.normal(2,1,10000)\n",
    "true_or_false = True\n",
    "for ax in axes:\n",
    "    ax.hist(x, 50, density=true_or_false, facecolor='g')\n",
    "    ax.set_xlabel('x')\n",
    "    ax.set_ylabel('y')\n",
    "    ax.set_title('title')\n",
    "    true_or_false ^= True\n",
    "\n"
   ]
  },
  {
   "cell_type": "code",
   "execution_count": 72,
   "metadata": {},
   "outputs": [
    {
     "data": {
      "image/png": "[encoded data removed]",
      "text/plain": [
       "<Figure size 432x288 with 1 Axes>"
      ]
     },
     "metadata": {
      "needs_background": "light"
     },
     "output_type": "display_data"
    }
   ],
   "source": [
    "x = np.random.normal(2,1,10000)\n",
    "plt.hist(x, 50, density=1, histtype='step')\n",
    "plt.yscale('log')\n",
    "plt.show()"
   ]
  },
  {
   "cell_type": "markdown",
   "metadata": {},
   "source": [
    "### Exercise\n",
    "* Create a random number series of 0's and 1's\n",
    "* Count the length of the successive 1's (e.g. 0111010 the first sequence has a length of 3 the second has a length of 1)\n",
    "* Plot a histogram from these values"
   ]
  },
  {
   "cell_type": "code",
   "execution_count": 264,
   "metadata": {
    "scrolled": true
   },
   "outputs": [
    {
     "data": {
      "image/png": "[encoded data removed]",
      "text/plain": [
       "<Figure size 432x288 with 1 Axes>"
      ]
     },
     "metadata": {
      "needs_background": "light"
     },
     "output_type": "display_data"
    }
   ],
   "source": []
  },
  {
   "cell_type": "markdown",
   "metadata": {},
   "source": [
    "<details><summary><u>Solution.</u></summary>\n",
    "<p>\n",
    "    \n",
    "```python\n",
    "a=np.random.randint(0,2,10000)\n",
    "#print(a)\n",
    "counts = []\n",
    "count = 0\n",
    "for x in a:\n",
    "    if x==1:\n",
    "        count+=1\n",
    "    elif count>0:\n",
    "        counts.append(count)\n",
    "        count=0\n",
    "        \n",
    "plt.hist(counts, max(counts), density=True, facecolor='g', alpha=.8)\n",
    "x=np.arange(1,max(counts))\n",
    "plt.show()\n",
    "```\n",
    "    \n",
    "</p>\n",
    "</details>"
   ]
  },
  {
   "cell_type": "markdown",
   "metadata": {},
   "source": [
    "### Curve fitting"
   ]
  },
  {
   "cell_type": "code",
   "execution_count": 92,
   "metadata": {},
   "outputs": [
    {
     "data": {
      "image/png": "[encoded data removed]",
      "text/plain": [
       "<Figure size 432x288 with 1 Axes>"
      ]
     },
     "metadata": {
      "needs_background": "light"
     },
     "output_type": "display_data"
    }
   ],
   "source": [
    "import numpy as np\n",
    "import matplotlib.pyplot as plt\n",
    "\n",
    "# Seed the random number generator for reproducibility\n",
    "np.random.seed(42)\n",
    "\n",
    "x_data = np.linspace(-6, 6, num=50)\n",
    "y_data = 2.5 * np.sin(1.5 * x_data) + np.random.normal(size=50) / 2\n",
    "\n",
    "# And plot it\n",
    "plt.figure(figsize=(6, 4))\n",
    "plt.scatter(x_data, y_data)\n",
    "plt.show()"
   ]
  },
  {
   "cell_type": "code",
   "execution_count": 94,
   "metadata": {},
   "outputs": [
    {
     "name": "stdout",
     "output_type": "stream",
     "text": [
      "[2.41239813 1.49100329]\n"
     ]
    }
   ],
   "source": [
    "from scipy import optimize\n",
    "\n",
    "def test_func(x, a, b):\n",
    "    return a * np.sin(b * x)\n",
    "\n",
    "params, params_covariance = optimize.curve_fit(test_func, x_data, y_data,\n",
    "                                               p0=[2, 2])\n",
    "\n",
    "print(params)"
   ]
  },
  {
   "cell_type": "code",
   "execution_count": 95,
   "metadata": {},
   "outputs": [
    {
     "data": {
      "image/png": "[encoded data removed]",
      "text/plain": [
       "<Figure size 432x288 with 1 Axes>"
      ]
     },
     "metadata": {
      "needs_background": "light"
     },
     "output_type": "display_data"
    }
   ],
   "source": [
    "plt.figure()\n",
    "plt.scatter(x_data, y_data, label='Data')\n",
    "plt.plot(x_data, test_func(x_data, params[0], params[1]),\n",
    "         label='Fitted function')\n",
    "\n",
    "plt.legend(loc='upper left')\n",
    "axes = plt.gca()\n",
    "axes.set_ylim([-3.2,4.5])\n",
    "plt.show()"
   ]
  },
  {
   "cell_type": "markdown",
   "metadata": {},
   "source": [
    "### Exercise\n",
    "* Generate a series of points from a noisy parabola model\n",
    "$$ y = a x^2 + bx + \\eta $$\n",
    "where $\\eta$ is random, normal-distributed variable with mean zero and variance one.\n",
    "* From the data you generate, use the `curve_fit` function to obtain an estimate of the $a$ and $b$ parameters.\n",
    "* Plot the function you fitted over the data.\n"
   ]
  },
  {
   "cell_type": "code",
   "execution_count": 100,
   "metadata": {},
   "outputs": [
    {
     "name": "stdout",
     "output_type": "stream",
     "text": [
      "[ 0.99657076 -2.0483195 ]\n"
     ]
    },
    {
     "data": {
      "image/png": "[encoded data removed]",
      "text/plain": [
       "<Figure size 432x288 with 1 Axes>"
      ]
     },
     "metadata": {
      "needs_background": "light"
     },
     "output_type": "display_data"
    }
   ],
   "source": []
  },
  {
   "cell_type": "markdown",
   "metadata": {},
   "source": [
    "<details><summary><u>Solution.</u></summary>\n",
    "<p>\n",
    "    \n",
    "```python\n",
    "# Seed the random number generator for reproducibility\n",
    "np.random.seed(42)\n",
    "\n",
    "x_data = np.linspace(-6, 6, num=50)\n",
    "a=1\n",
    "b=-2\n",
    "y_data = a * x_data**2. + b*x_data + np.random.normal(size=50)\n",
    "\n",
    "def test_func(x, a, b):\n",
    "    return a * x**2. + b*x_data\n",
    "\n",
    "params, params_covariance = optimize.curve_fit(test_func, x_data, y_data,\n",
    "                                               p0=[2, 2])\n",
    "\n",
    "print(params)\n",
    "\n",
    "plt.figure()\n",
    "plt.scatter(x_data, y_data, label='Data')\n",
    "plt.plot(x_data, test_func(x_data, params[0], params[1]),\n",
    "         label='Fitted function')\n",
    "\n",
    "plt.legend(loc='upper left')\n",
    "axes = plt.gca()\n",
    "axes.set_ylim([-3.2,4.5])\n",
    "plt.show()\n",
    "```\n",
    "    \n",
    "</p>\n",
    "</details>"
   ]
  }
 ],
 "metadata": {
  "kernelspec": {
   "display_name": "Python 3 (ipykernel)",
   "language": "python",
   "name": "python3"
  },
  "language_info": {
   "codemirror_mode": {
    "name": "ipython",
    "version": 3
   },
   "file_extension": ".py",
   "mimetype": "text/x-python",
   "name": "python",
   "nbconvert_exporter": "python",
   "pygments_lexer": "ipython3",
   "version": "3.9.0"
  }
 },
 "nbformat": 4,
 "nbformat_minor": 2
}
