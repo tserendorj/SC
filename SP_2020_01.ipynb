{
 "cells": [
  {
   "cell_type": "markdown",
   "metadata": {},
   "source": [
    "# DNDS6013 Scientific Python\n",
    "## Central European University, Winter 2019/2020\n",
    "\n",
    "Instructor: Márton Pósfai, TA: Luis Natera Orozco\n",
    "\n",
    "Emails: posfaim@ceu.edu, natera_luis@phd.ceu.edu"
   ]
  },
  {
   "cell_type": "markdown",
   "metadata": {},
   "source": [
    "## Goal of the course\n",
    "\n",
    "* To familiarize you with some of the most common scientific python tools\n",
    "* You will be able to conduct your own data intensive research\n",
    "\n",
    "## Assessment\n",
    "\n",
    "### 1 Attendance\n",
    "* 30% of the final grade\n",
    "* You can miss up to 3 sessions\n",
    "* If you have to miss a class, home work deadlines still apply\n",
    "\n",
    "### 2 Assignments\n",
    "* 30% of the final grade\n",
    "* 5 home works, you will have one week to submit them\n",
    "\n",
    "### 3 Final project\n",
    "* 40% of the final grade\n",
    "* Your project should perform a self-contained analysis of some empirical dataset, making use of the Python tools we have learned in this course.\n",
    "* You are free to choose the origin and nature of the data you will use\n",
    "* The final deadline April 15th\n",
    "\n",
    "You are allowed to drop the course until the second session."
   ]
  },
  {
   "cell_type": "markdown",
   "metadata": {},
   "source": [
    "1. First Task: Open (or download) anaconda (https://www.anaconda.com/download/). Make sure that it is with python 3.7 version\n",
    "2. Download this notebook from moodle\n",
    "2. Open it\n",
    "\n",
    "# Short story of python\n",
    "\n",
    "* Small home hobby project of Guido van Rossum. First interpreter written over Christmas holiday\n",
    "* Aim: script language with minimal core, highly extendible with modules, and \"batteries included\"\n",
    "* Each module has its own small developer and support group\n",
    "* Python is object-oriented, has dynamic typing, and memory management\n",
    "* Focus is on readibility and not optimization\n",
    "* Two main version: 2 and 3. Many people use both. On many systems the default is 2. Newest versions are 2.7 and 3.6. They are in mostly compatible (2.7 evolved to be more compatible with 3) but there are some differences. The support to Python 2 is guaranteed only untill <a href=\"http://python3statement.org/\">January 1, 2020</a>. We will use Python 3.\n",
    "* Check which version are you running:"
   ]
  },
  {
   "cell_type": "code",
   "execution_count": null,
   "metadata": {},
   "outputs": [],
   "source": [
    "from platform import python_version\n",
    "print(python_version())"
   ]
  },
  {
   "cell_type": "markdown",
   "metadata": {},
   "source": [
    "Our tools:\n",
    "* **Anaconda**: cross-platform package and environment manager\n",
    "* **python**: interpreter that takes code as input and runs it\n",
    "* **Ipython**: interactive python, python + some user friendly features\n",
    "* **Jupyter notebook**: combines code and formatted text, runs Ipython"
   ]
  },
  {
   "cell_type": "markdown",
   "metadata": {},
   "source": [
    "### Markdown\n",
    "1. This is a <i>markdown</i> cell, you can change it in the menu\n",
    "2. It is a rich text and it understands both html and mediawiki marks\n",
    "3. Find out more about markdown [ here](https://en.wikipedia.org/wiki/Markdown) and [ here](https://jupyter-notebook.readthedocs.io/en/stable/examples/Notebook/Working%20With%20Markdown%20Cells.html).\n",
    "4. You can also typeset equations like in wikipedia or latex. e.g. $\\sqrt{x^2}=|x|$, or\n",
    "$$\\sum_{i=1}^\\infty \\frac{1}{2^i}=1$$\n",
    "5. Double click to edit"
   ]
  },
  {
   "cell_type": "markdown",
   "metadata": {},
   "source": [
    "### Help!\n",
    "The most helpful IPython functions:\n",
    "\n",
    "|Command|Description\n",
    "|:---|:---\n",
    "|?|Introduction and overview of IPython's features.\n",
    "|%quickref|Quick reference.\n",
    "|help|Python's own help system.\n",
    "|object?|Details about the object"
   ]
  },
  {
   "cell_type": "code",
   "execution_count": null,
   "metadata": {},
   "outputs": [],
   "source": [
    "?"
   ]
  },
  {
   "cell_type": "code",
   "execution_count": null,
   "metadata": {},
   "outputs": [],
   "source": [
    "%quickref"
   ]
  },
  {
   "cell_type": "code",
   "execution_count": null,
   "metadata": {},
   "outputs": [],
   "source": [
    "help(print)"
   ]
  },
  {
   "cell_type": "code",
   "execution_count": null,
   "metadata": {},
   "outputs": [],
   "source": [
    "c=2\n",
    "c?"
   ]
  },
  {
   "cell_type": "markdown",
   "metadata": {},
   "source": [
    "### Most useful way to get help:\n",
    "* [google.com](https://lmgtfy.com/?q=why+doesn%27t+my+python+code+work)\n",
    "* [stackoverflow.com](https://stackoverflow.com/questions/27156381/python-creating-a-2d-histogram-from-a-numpy-matrix)"
   ]
  },
  {
   "cell_type": "markdown",
   "metadata": {},
   "source": [
    "### types\n",
    "|Type|Name|Example\n",
    "|---|---|---\n",
    "|int|Integer|30,-4\n",
    "|float|Floating point|1.5,1e10\n",
    "|str|String|\"alma\",\"c\"\n",
    "|bool|Boolean|True,False\n",
    "|list|List|\\[1,\"alma\",2\\]\n",
    "|dict|Dictionary|\\{'course': \"SciPy\", 'teacher': \"JT\"\\}"
   ]
  },
  {
   "cell_type": "code",
   "execution_count": null,
   "metadata": {},
   "outputs": [],
   "source": [
    "a = 7\n",
    "b = 3.14\n",
    "c = True\n",
    "d = \"alma\"\n",
    "e = [1, 2]\n",
    "f = {'course': \"SciPy\", 'teacher': \"JT\", }\n",
    "type(a),type(b),type(c),type(d),type(e),type(f)"
   ]
  },
  {
   "cell_type": "markdown",
   "metadata": {},
   "source": [
    "### Integer numbers\n",
    "division(division, integer division, remainder, rounding):"
   ]
  },
  {
   "cell_type": "code",
   "execution_count": null,
   "metadata": {},
   "outputs": [],
   "source": [
    "print(14 / 4)\n",
    "print(14 // 4)\n",
    "print(14 % 4)\n",
    "print(round(14 / 4))\n",
    "print(int(14 / 4))"
   ]
  },
  {
   "cell_type": "markdown",
   "metadata": {},
   "source": [
    "Please, note that division of integers in python 2 returns an integer as in most languages.\n",
    "In python 2: <br>\n",
    "2 / 3 = 0 <br>\n",
    "float(2 / 3) = 0<br>\n",
    "2 / 3. = 0.66666<br>\n",
    "1.0 * 2 / 3 = 0.666666<br>"
   ]
  },
  {
   "cell_type": "markdown",
   "metadata": {},
   "source": [
    "Importance of the order of the operators. Precedence:\n",
    "1. ()\n",
    "2. **\n",
    "3. *, /, //, %\n",
    "4. +, -"
   ]
  },
  {
   "cell_type": "code",
   "execution_count": null,
   "metadata": {},
   "outputs": [],
   "source": [
    "print(1 + 2 * 3 + 2 / 2)\n",
    "print(2 / 2 * 3)\n",
    "print(2 / (2 * 3))\n",
    "\n",
    "print()\n",
    "print(2 / 2**3)\n",
    "print( (2 / 2)**3 )"
   ]
  },
  {
   "cell_type": "markdown",
   "metadata": {},
   "source": [
    "### Floating point number\n",
    "$$1.2345 = \\underbrace{12345}_\\text{significand} \\times \\underbrace{10}_\\text{base}\\!\\!\\!\\!\\!\\!^{\\overbrace{-4}^\\text{exponent}}$$"
   ]
  },
  {
   "cell_type": "code",
   "execution_count": null,
   "metadata": {},
   "outputs": [],
   "source": [
    "import sys # this module allows us to extract information about the system you are using \n",
    "sys.float_info"
   ]
  },
  {
   "cell_type": "code",
   "execution_count": null,
   "metadata": {},
   "outputs": [],
   "source": [
    "print(1)\n",
    "print(float(1))\n",
    "print(1.5)\n",
    "print(1e4)\n",
    "print(1e-4)\n",
    "print(15e2)\n",
    "print(1.5e3)"
   ]
  },
  {
   "cell_type": "code",
   "execution_count": null,
   "metadata": {},
   "outputs": [],
   "source": [
    "print(1 + 1e-10 - 1)\n",
    "print(1 + 1e-20 - 1)  # too small to add"
   ]
  },
  {
   "cell_type": "markdown",
   "metadata": {},
   "source": [
    "Please note that type of a variable may change in runtime"
   ]
  },
  {
   "cell_type": "code",
   "execution_count": null,
   "metadata": {},
   "outputs": [],
   "source": [
    "a = 2\n",
    "print(a,type(a))\n",
    "a /= 2\n",
    "print(a,type(a))"
   ]
  },
  {
   "cell_type": "markdown",
   "metadata": {},
   "source": [
    "### Functions\n",
    "\n",
    "Most of the functionality in Python is provided by *modules*, such as access to the operating system, file I/O, string management, network communication, and much more. We will use some of these modules along the course.\n",
    "\n",
    "<b>To use a module</b> in a Python program it first has <b>to be imported</b>. A module can be imported using the `import` statement. For example, to import the module `math`, which contains many standard mathematical functions, we can do:"
   ]
  },
  {
   "cell_type": "code",
   "execution_count": null,
   "metadata": {},
   "outputs": [],
   "source": [
    "import math\n",
    "\n",
    "print(math.sqrt(4))\n",
    "print(math.log10(1000))\n",
    "print(math.log(math.e**5))\n",
    "print(math.pi)\n",
    "print(math.cos(math.pi * 0.5))\n",
    "print(math.pow(3,10))"
   ]
  },
  {
   "cell_type": "code",
   "execution_count": null,
   "metadata": {},
   "outputs": [],
   "source": [
    "from math import sqrt\n",
    "#from math import *\n",
    "\n",
    "print(sqrt(9))"
   ]
  },
  {
   "cell_type": "markdown",
   "metadata": {},
   "source": [
    "### Boolean\n",
    "It can only be True or False"
   ]
  },
  {
   "cell_type": "code",
   "execution_count": null,
   "metadata": {},
   "outputs": [],
   "source": [
    "a = True\n",
    "b = (0 == 0)\n",
    "c = (2**3 == 8.0)\n",
    "d = bool(0)\n",
    "e = bool(3.14)\n",
    "print(a,b,c,d,e)"
   ]
  },
  {
   "cell_type": "markdown",
   "metadata": {},
   "source": [
    "Comparison operators:"
   ]
  },
  {
   "cell_type": "code",
   "execution_count": null,
   "metadata": {},
   "outputs": [],
   "source": [
    "print(1 == 1) # equal\n",
    "print(1 < 1) # less\n",
    "print(1 <= 1) # less or equal\n",
    "print(1 < 1 or 1 == 1) # less OR equal\n",
    "print(1 != 1 and 1 == 1) # not equal AND equal|\n",
    "print((5 == 5)*2 + 3, (5 == 4)*2 + 3)"
   ]
  },
  {
   "cell_type": "markdown",
   "metadata": {},
   "source": [
    "### Strings\n",
    "Escape sequences, operations, conversions"
   ]
  },
  {
   "cell_type": "code",
   "execution_count": null,
   "metadata": {},
   "outputs": [],
   "source": [
    "s = \"apple\"\n",
    "print(s)\n",
    "s= 'apple'\n",
    "print(s)"
   ]
  },
  {
   "cell_type": "markdown",
   "metadata": {},
   "source": [
    "#### Escape sequences"
   ]
  },
  {
   "cell_type": "code",
   "execution_count": null,
   "metadata": {},
   "outputs": [],
   "source": [
    "print(\"\\talma\\n\\\"körte\\\"\\\\'\")"
   ]
  },
  {
   "cell_type": "code",
   "execution_count": null,
   "metadata": {},
   "outputs": [],
   "source": [
    "print(\"'\",'\"',\"\\\"\",'\\'')"
   ]
  },
  {
   "cell_type": "markdown",
   "metadata": {},
   "source": [
    "<table border align=\"center\" style=\"border-collapse: collapse\">\n",
    "  <thead>\n",
    "    <tr class=\"tableheader\">\n",
    "      <th align=\"left\"><b>Escape Sequence</b>&nbsp;</th>\n",
    "      <th align=\"left\"><b>Meaning</b>&nbsp;</th>\n",
    "    </thead>\n",
    "  <tbody valign='baseline'>\n",
    "    <tr><td align=\"left\" valign=\"baseline\"><code>&#92;<var>newline</var></code></td>\n",
    "        <td align=\"left\">Ignored</td>\n",
    "    <tr><td align=\"left\" valign=\"baseline\"><code>&#92;&#92;</code></td>\n",
    "        <td align=\"left\">Backslash (<code>&#92;</code>)</td>\n",
    "    <tr><td align=\"left\" valign=\"baseline\"><code>&#92;'</code></td>\n",
    "        <td align=\"left\">Single quote (<code>'</code>)</td>\n",
    "    <tr><td align=\"left\" valign=\"baseline\"><code>&#92;\"</code></td>\n",
    "        <td align=\"left\">Double quote (<code>\"</code>)</td>\n",
    "    <tr><td align=\"left\" valign=\"baseline\"><code>&#92;a</code></td>\n",
    "        <td align=\"left\">ASCII Bell (BEL)</td>\n",
    "    <tr><td align=\"left\" valign=\"baseline\"><code>&#92;b</code></td>\n",
    "        <td align=\"left\">ASCII Backspace (BS)</td>\n",
    "    <tr><td align=\"left\" valign=\"baseline\"><code>&#92;f</code></td>\n",
    "        <td align=\"left\">ASCII Formfeed (FF)</td>\n",
    "    <tr><td align=\"left\" valign=\"baseline\"><code>&#92;n</code></td>\n",
    "        <td align=\"left\">ASCII Linefeed (LF)</td>\n",
    "    <tr><td align=\"left\" valign=\"baseline\"><code>&#92;r</code></td>\n",
    "        <td align=\"left\">ASCII Carriage Return (CR)</td>\n",
    "    <tr><td align=\"left\" valign=\"baseline\"><code>&#92;t</code></td>\n",
    "        <td align=\"left\">ASCII Horizontal Tab (TAB)</td>\n",
    "    <tr><td align=\"left\" valign=\"baseline\"><code>&#92;v</code></td>\n",
    "        <td align=\"left\">ASCII Vertical Tab (VT)</td>\n",
    "    <tr><td align=\"left\" valign=\"baseline\"><code>&#92;<var>ooo</var></code></td>\n",
    "        <td align=\"left\">ASCII character with octal value <i>ooo</i></td>\n",
    "    <tr><td align=\"left\" valign=\"baseline\"><code>&#92;x<var>hh...</var></code></td>\n",
    "        <td align=\"left\">ASCII character with hex value <i>hh...</i></td></tbody>\n",
    "</table>"
   ]
  },
  {
   "cell_type": "code",
   "execution_count": null,
   "metadata": {},
   "outputs": [],
   "source": [
    "print(\"a\\blma\",r\"a\\blma\") #r in front of a string means literal\n",
    "print(r'C:\\some\\name')"
   ]
  },
  {
   "cell_type": "markdown",
   "metadata": {},
   "source": [
    "#### Operators, Conversions"
   ]
  },
  {
   "cell_type": "code",
   "execution_count": null,
   "metadata": {},
   "outputs": [],
   "source": [
    "\"al\" + \"ma\""
   ]
  },
  {
   "cell_type": "code",
   "execution_count": null,
   "metadata": {},
   "outputs": [],
   "source": [
    "a = eval(\"1+1\")\n",
    "b = a + 2\n",
    "print(b)\n",
    "str(9),eval(\"1+1\"),float(\"4.5\")"
   ]
  },
  {
   "cell_type": "code",
   "execution_count": null,
   "metadata": {},
   "outputs": [],
   "source": [
    "N = 1500\n",
    "\n",
    "print(\"The value of N (=\" + str(N) + \") is greater than allowed (1000)\")\n",
    "\n",
    "print(\"The value of N (=%d) is greater than allowed (1000)\" % (N))"
   ]
  },
  {
   "cell_type": "code",
   "execution_count": null,
   "metadata": {},
   "outputs": [],
   "source": [
    "d = 3\n",
    "c = 1\n",
    "b = 7\n",
    "N = b + c + d\n",
    "print(\"Peters has %d dogs, %d cats and %d birds\" % (d, c, b))\n",
    "print(\"%2.f%%, %2.f%%, %2.f%% of the animals are dogs, cats and birds respectively.\" % \\\n",
    "     (100.0 * d / N, 100.0 * c / N, 100.0 * b / N))\n",
    "print(\"{:2.1f}%, {:2.1f}%, {:2.1f}% of the animals are dogs, cats and birds respectively.\"\\\n",
    "      .format(100.0 * d / N, 100.0 * c / N, 100.0 * b / N))"
   ]
  },
  {
   "cell_type": "code",
   "execution_count": null,
   "metadata": {},
   "outputs": [],
   "source": [
    "import math\n",
    "\n",
    "\"{1:.1f} {1:.4f} {0:.2f}\".format(math.pi, 2*math.pi)"
   ]
  },
  {
   "cell_type": "markdown",
   "metadata": {},
   "source": [
    "Note the escape for the percentage.<br>\n",
    "Both formats can be used\n",
    "\n",
    "Since Python 3.6 string formatting can also be done with \"f-strings\" (a good howto is here: http://zetcode.com/python/fstring/)"
   ]
  },
  {
   "cell_type": "code",
   "execution_count": null,
   "metadata": {},
   "outputs": [],
   "source": [
    "a = \"foo\"\n",
    "b = \"bar\"\n",
    "c = 3.14159\n",
    "print(f\"{a} {b} {c} {2 * c} {c:.2f} }}\")\n",
    "print(rf\"\\n {a}\") # we can mix literal and f-strings"
   ]
  },
  {
   "cell_type": "code",
   "execution_count": null,
   "metadata": {},
   "outputs": [],
   "source": [
    "import sys\n",
    "print(\"This program was called with name: %s\" % (sys.argv[0]))"
   ]
  },
  {
   "cell_type": "code",
   "execution_count": null,
   "metadata": {},
   "outputs": [],
   "source": [
    "print(len('alma'))\n",
    "\n",
    "print()\n",
    "print(\"alma\\n\",\"a\\blma\")\n",
    "print(len(\"alma\\n\"),len(\"a\\blma\"))"
   ]
  },
  {
   "cell_type": "markdown",
   "metadata": {},
   "source": [
    "## Encoding strings"
   ]
  },
  {
   "cell_type": "code",
   "execution_count": null,
   "metadata": {},
   "outputs": [],
   "source": [
    "s = 'apple'  #string with some kind of encodinf\n",
    "b = b'apple' #just a list of bytes\n",
    "print(type(s),type(b))"
   ]
  },
  {
   "cell_type": "code",
   "execution_count": null,
   "metadata": {},
   "outputs": [],
   "source": [
    "s = \"körte\"\n",
    "b = b\"körte\""
   ]
  },
  {
   "cell_type": "code",
   "execution_count": null,
   "metadata": {},
   "outputs": [],
   "source": [
    "s = \"Körte\"\n",
    "print(len(s))\n",
    "print(s.encode(\"utf-8\"))\n",
    "print(s.encode(\"latin-1\"))\n",
    "print(str(s.encode(\"utf-8\"),\"utf-8\"))\n",
    "print(str(s.encode(\"utf-8\"),\"latin-1\"))\n",
    "\n",
    "print()\n",
    "print(type(s.encode(\"utf-8\")))\n",
    "print(type(s))\n",
    "\n",
    "print()\n",
    "import sys\n",
    "print(sys.getsizeof(\"korte\".encode('utf-8')),sys.getsizeof(\"körte\"),sys.getsizeof(\"körte\".encode('utf-8')))"
   ]
  },
  {
   "cell_type": "code",
   "execution_count": null,
   "metadata": {},
   "outputs": [],
   "source": [
    "\"őzláb\".encode(\"latin1\")"
   ]
  },
  {
   "cell_type": "code",
   "execution_count": null,
   "metadata": {},
   "outputs": [],
   "source": [
    "s = \"Hello world!\"\n",
    "print(len(s))\n",
    "print(s[0],s[1],s[-1],s[-2],s[-12])\n",
    "print(s[0:4],s[:4])\n",
    "print(s[0:-1:1])\n",
    "print(s[0:-1:2],s[::2])"
   ]
  },
  {
   "cell_type": "markdown",
   "metadata": {},
   "source": [
    "#### Useful string methods"
   ]
  },
  {
   "cell_type": "code",
   "execution_count": null,
   "metadata": {},
   "outputs": [],
   "source": [
    "s = \"Helló világ!\\n\"\n",
    "print(s[6:].capitalize() + \"X\")\n",
    "print(s.rstrip() + \"X\")\n",
    "print(s.count(\"l\"))\n",
    "print(s.index(\"l\"))\n",
    "print(\"123\".isdigit(),\"1e3\".isdigit(),s.isprintable(),\"Körte\".isprintable())\n",
    "print(s.split(\"l\"))\n",
    "print(s.strip(\"\\n! l\"))\n",
    "print(s.upper())\n",
    "help(\"12\".isprintable)"
   ]
  },
  {
   "cell_type": "markdown",
   "metadata": {},
   "source": [
    "#### Lists (more next week)"
   ]
  },
  {
   "cell_type": "code",
   "execution_count": null,
   "metadata": {
    "scrolled": false
   },
   "outputs": [],
   "source": [
    "a = [ 7, 3 ,8, 10, 7, 1, 9, 1, 5, \"foo\"]\n",
    "print(a[0], a[0:4], a[-1])\n",
    "print()\n",
    "\n",
    "b = []\n",
    "print(b)\n",
    "b.append(\"a\")\n",
    "b.append(5)\n",
    "b.append(a)\n",
    "print(b)\n",
    "b.remove(\"a\")\n",
    "print(b)\n",
    "print(\"Pop\",b.pop(-1))\n",
    "print(b)\n",
    "del b[0]\n",
    "print(b)"
   ]
  },
  {
   "cell_type": "code",
   "execution_count": null,
   "metadata": {},
   "outputs": [],
   "source": [
    "print(list(range(10)))\n",
    "print(list(range(3,10,2)))"
   ]
  },
  {
   "cell_type": "markdown",
   "metadata": {},
   "source": [
    "### Basic python instructions"
   ]
  },
  {
   "cell_type": "markdown",
   "metadata": {},
   "source": [
    "Let's start learning how to read the documentation. (and let's do a recap of python's control flow statements.)\n",
    "From the <a href=\"https://docs.python.org/3/reference/compound_stmts.html\">reference guide</a>:"
   ]
  },
  {
   "cell_type": "markdown",
   "metadata": {},
   "source": [
    "#### The while statement\n",
    "\n",
    "The while statement is used for repeated execution as long as an expression is true:\n",
    "\n",
    "<code>\n",
    "while_stmt ::=  \"while\" expression \":\" suite\n",
    "                [\"else\" \":\" suite]\n",
    "</code> \n",
    "<code>\n",
    "suite         ::=  stmt_list NEWLINE | NEWLINE INDENT statement+ DEDENT<br>\n",
    "statement     ::=  stmt_list NEWLINE | compound_stmt<br>\n",
    "stmt_list     ::=  simple_stmt (\";\" simple_stmt)* [\";\"]\n",
    "</code>\n",
    "\n",
    "This repeatedly tests the expression and, if it is true, executes the first suite; if the expression is false (which may be the first time it is tested) the suite of the else clause, if present, is executed and the loop terminates.\n",
    "\n",
    "A break statement executed in the first suite terminates the loop without executing the else clause’s suite. A continue statement executed in the first suite skips the rest of the suite and goes back to testing the expression."
   ]
  },
  {
   "cell_type": "markdown",
   "metadata": {},
   "source": [
    "#### The if statement\n",
    "\n",
    "<code>\n",
    "if_stmt ::=  \"if\" expression \":\" suite\n",
    "                (\"elif\" expression \":\" suite)*\n",
    "                [\"else\" \":\" suite]\n",
    "</code>"
   ]
  },
  {
   "cell_type": "markdown",
   "metadata": {},
   "source": [
    "#### The for statement\n",
    "\n",
    "<code>\n",
    "for_stmt ::=  \"for\" target_list \"in\" expression_list \":\" suite\n",
    "                 [\"else\" \":\" suite]\n",
    "</code>"
   ]
  },
  {
   "cell_type": "code",
   "execution_count": null,
   "metadata": {},
   "outputs": [],
   "source": [
    "for a in range(10):\n",
    "    if a < 5:\n",
    "        print(a)\n",
    "    else:\n",
    "        print(10-a)"
   ]
  },
  {
   "cell_type": "code",
   "execution_count": null,
   "metadata": {},
   "outputs": [],
   "source": [
    "f = 1.0\n",
    "v = 1.0\n",
    "while f * v < 1e10:\n",
    "    f *= v\n",
    "    v += 1.0\n",
    "print(\"The largest factorial less than 1e10 is: %d! = %g\" % (v - 1, f))"
   ]
  },
  {
   "cell_type": "markdown",
   "metadata": {},
   "source": [
    "### Exercise 1\n",
    "Write a code which reverses a string. E.g.<br>\n",
    "\"A Santa snaps pans at NASA\" -> \"ASAN ta snap spans atnaS A\""
   ]
  },
  {
   "cell_type": "code",
   "execution_count": null,
   "metadata": {},
   "outputs": [],
   "source": [
    "s1=\"A Santa snaps pans at NASA\""
   ]
  },
  {
   "cell_type": "markdown",
   "metadata": {},
   "source": [
    "### Excercise 2\n",
    "a = \\[ 7, 3 ,8 , 10, 7, 1, 9, 1, 5\\]<br>\n",
    "1. Write a code which returns the minimum of the above list\n",
    "2. Write a code which returns the position of the minima of the above list as a list <br>\n",
    "Try it the normal way and google too."
   ]
  },
  {
   "cell_type": "code",
   "execution_count": null,
   "metadata": {},
   "outputs": [],
   "source": [
    "a = [ 7, 3 ,8 , 10, 7, 1, 9, 1, 5]"
   ]
  },
  {
   "cell_type": "markdown",
   "metadata": {},
   "source": [
    "### Exercise 3\n",
    "Write a code which prints out all second characters after a point in a string only if it is an uppercase letter.\n"
   ]
  },
  {
   "cell_type": "code",
   "execution_count": null,
   "metadata": {},
   "outputs": [],
   "source": [
    "lorem = \"Lorem ipsum dolor sit amet, consectetur adipiscing elit, \\\n",
    "sed do eiusmod tempor incididunt ut labore et dolore magna aliqua. Ut enim \\\n",
    "ad minim veniam, quis nostrud exercitation ullamco laboris nisi ut aliquip ex \\\n",
    "ea commodo consequat. Duis aute irure dolor in reprehenderit in voluptate velit esse \\\n",
    "cillum dolore eu fugiat nulla pariatur. Excepteur sint occaecat cupidatat non \\\n",
    "proident. sunt in culpa qui officia deserunt mollit anim id est laborum.\"\n"
   ]
  },
  {
   "cell_type": "markdown",
   "metadata": {},
   "source": [
    "### Exercise 4\n",
    "Write a small code which checks for divisibility by 3 in the traditional way. First it converts the integer number to string then sums up the digits and checks if the sum is divisible by 3. This time you can use the remainder function (%)"
   ]
  },
  {
   "cell_type": "code",
   "execution_count": null,
   "metadata": {},
   "outputs": [],
   "source": []
  },
  {
   "cell_type": "markdown",
   "metadata": {},
   "source": [
    "# In case you're faster.. Some more advance details"
   ]
  },
  {
   "cell_type": "markdown",
   "metadata": {},
   "source": [
    "Python is a dynamic language. This means that one does not have to tell the computer what is the type of the variable that you're going to create.\n",
    "\n",
    "Normally in a static programming language working with variables has two steps:\n",
    "* instantiation\n",
    "* initialization\n",
    "\n",
    "To instantiate a variable means that the programing language reserves a space in the memory according with the type of the variable. To initialize a variable instead means to use that space and to write in it the value that you want that give to the variable.\n",
    "In Python the language manages itself to find out the type of the variable that you want to initialize and the two processes happen at the same time.\n",
    "In order to work with variables and types in an efficient way you need to understand how python manages them.\n",
    "\n",
    "When we assign a value to a variable, python stores some information in a given portion of the memory. To do so it needs to write the information. The memory looks like a long list of 1s and 0s (bits) and to write an information means to replace some of those 1s and 0s with some other series of 1s and 0s. To retrieve the information later, python needs to know the point in which we wrote our list of 1s and 0s and how long the list was. Basically we need to know an address and a size.\n",
    "\n",
    "Let's play a little to understand how python does that."
   ]
  },
  {
   "cell_type": "code",
   "execution_count": null,
   "metadata": {},
   "outputs": [],
   "source": [
    "import sys\n",
    "gso = sys.getsizeof"
   ]
  },
  {
   "cell_type": "markdown",
   "metadata": {},
   "source": [
    "what we have just done is to assign to the variable gso the same information that was stored in sys.getsizeof. sys.getsizeof is a function (\"getsizeof\") that is defined within the module sys. We will talk about modules later on in the course. To call gso or sys.getsizeof is now the same thing."
   ]
  },
  {
   "cell_type": "code",
   "execution_count": null,
   "metadata": {},
   "outputs": [],
   "source": [
    "?gso"
   ]
  },
  {
   "cell_type": "code",
   "execution_count": null,
   "metadata": {},
   "outputs": [],
   "source": [
    "gso(3)"
   ]
  },
  {
   "cell_type": "code",
   "execution_count": null,
   "metadata": {},
   "outputs": [],
   "source": [
    "sys.getsizeof(3)"
   ]
  },
  {
   "cell_type": "markdown",
   "metadata": {},
   "source": [
    "A byte is a collection of 8 bits and is a unit of digital information. A bit represent a binary number. To learn more ask wikipedia ;)\n",
    "\n",
    "What an address looks like instead is the following:"
   ]
  },
  {
   "cell_type": "code",
   "execution_count": null,
   "metadata": {},
   "outputs": [],
   "source": [
    "def addrof(variable):\n",
    "    return hex(id(variable))"
   ]
  },
  {
   "cell_type": "code",
   "execution_count": null,
   "metadata": {},
   "outputs": [],
   "source": [
    "?id"
   ]
  },
  {
   "cell_type": "code",
   "execution_count": null,
   "metadata": {},
   "outputs": [],
   "source": [
    "a = 3\n",
    "addrof(a)"
   ]
  },
  {
   "cell_type": "code",
   "execution_count": null,
   "metadata": {},
   "outputs": [],
   "source": [
    "addrof(3)"
   ]
  },
  {
   "cell_type": "code",
   "execution_count": null,
   "metadata": {},
   "outputs": [],
   "source": [
    "b = 3\n",
    "addrof(b)"
   ]
  },
  {
   "cell_type": "code",
   "execution_count": null,
   "metadata": {},
   "outputs": [],
   "source": [
    "b = b+1\n",
    "addrof(b)"
   ]
  },
  {
   "cell_type": "code",
   "execution_count": null,
   "metadata": {},
   "outputs": [],
   "source": [
    "addrof(a)"
   ]
  },
  {
   "cell_type": "markdown",
   "metadata": {},
   "source": [
    "What happened? What did python do with the addresses?\n",
    "Python always tries to optimize the memory usage. \"a\" and \"b\" are two different variables. Nevertheless their address is the same. Python assign the same address to different variables that have the same value. But it knows that the variables are not the same. Knowing that, it creates a new address for the variable \"b\" as soon as \"b\" changes.\n",
    "We don't have to worry to free the space of the memory used by values that we don't use anymore. Python does that automatically. A technical way of saying this is: a \"garbage collector\" is implemented in python."
   ]
  },
  {
   "cell_type": "code",
   "execution_count": null,
   "metadata": {},
   "outputs": [],
   "source": [
    "var = 5\n",
    "addrof(var)"
   ]
  },
  {
   "cell_type": "code",
   "execution_count": null,
   "metadata": {},
   "outputs": [],
   "source": [
    "var += 10\n",
    "addrof(var)"
   ]
  },
  {
   "cell_type": "markdown",
   "metadata": {},
   "source": [
    "The memory used in the old address is now available for other uses since python knows that var is not reserving it anymore."
   ]
  },
  {
   "cell_type": "markdown",
   "metadata": {},
   "source": [
    "## Something on the lists now!"
   ]
  },
  {
   "cell_type": "code",
   "execution_count": null,
   "metadata": {},
   "outputs": [],
   "source": [
    "a = [1,2,3,4]"
   ]
  },
  {
   "cell_type": "code",
   "execution_count": null,
   "metadata": {},
   "outputs": [],
   "source": [
    "gso(a)"
   ]
  },
  {
   "cell_type": "code",
   "execution_count": null,
   "metadata": {},
   "outputs": [],
   "source": [
    "addrof(a)"
   ]
  },
  {
   "cell_type": "code",
   "execution_count": null,
   "metadata": {},
   "outputs": [],
   "source": [
    "a.append(5)\n",
    "a"
   ]
  },
  {
   "cell_type": "code",
   "execution_count": null,
   "metadata": {},
   "outputs": [],
   "source": [
    "gso(a)"
   ]
  },
  {
   "cell_type": "code",
   "execution_count": null,
   "metadata": {},
   "outputs": [],
   "source": [
    "addrof(a)"
   ]
  },
  {
   "cell_type": "markdown",
   "metadata": {},
   "source": [
    "The address of the list hasn't changed even if we modified the values inside the list itself. This is really important! We can modify, but its address will stay the same.\n",
    "This happens because a list is a more complex object. In fact it is a collection of addresses, each of them point to a different element of the list."
   ]
  },
  {
   "cell_type": "code",
   "execution_count": null,
   "metadata": {},
   "outputs": [],
   "source": [
    "addrof(a[0])"
   ]
  },
  {
   "cell_type": "code",
   "execution_count": null,
   "metadata": {},
   "outputs": [],
   "source": [
    "a[0] = 2"
   ]
  },
  {
   "cell_type": "code",
   "execution_count": null,
   "metadata": {},
   "outputs": [],
   "source": [
    "addrof(a[0])"
   ]
  },
  {
   "cell_type": "code",
   "execution_count": null,
   "metadata": {},
   "outputs": [],
   "source": [
    "addrof(a)"
   ]
  },
  {
   "cell_type": "markdown",
   "metadata": {},
   "source": [
    "The address of a hasn't changed, but the address of the first element of the list changed."
   ]
  }
 ],
 "metadata": {
  "kernelspec": {
   "display_name": "Python 3 (ipykernel)",
   "language": "python",
   "name": "python3"
  },
  "language_info": {
   "codemirror_mode": {
    "name": "ipython",
    "version": 3
   },
   "file_extension": ".py",
   "mimetype": "text/x-python",
   "name": "python",
   "nbconvert_exporter": "python",
   "pygments_lexer": "ipython3",
   "version": "3.9.0"
  }
 },
 "nbformat": 4,
 "nbformat_minor": 2
}
