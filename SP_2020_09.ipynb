{
 "cells": [
  {
   "cell_type": "markdown",
   "metadata": {},
   "source": [
    "# DNDS6013 Scientific Python: 9th Class\n",
    "## Central European University, Winter 2019/2020\n",
    "\n",
    "Instructor: Márton Pósfai, TA: Luis Natera Orozco\n",
    "\n",
    "Emails: posfaim@ceu.edu, natera_luis@phd.ceu.edu\n",
    "\n"
   ]
  },
  {
   "cell_type": "markdown",
   "metadata": {},
   "source": [
    "Welcome to our first online class! You are expected to go through this notebook and work on the exercises on your own. Solutions are provided in the usual way, however, try to first figure them out yourself before you look at them. \n",
    "\n",
    "If you have any question or need help you can contact us through:\n",
    "* skype meeting, follow this [link](http://posfaim.web.elte.hu/skype.html) to join a group call\n",
    "* the usual [slack channel](http://sp2020winter.slack.com)\n",
    "* email: posfaim@ceu.edu, natera_luis@phd.ceu.edu\n",
    "\n",
    "At the end of the notebook there is an exercise that requires you to generate and save a figure. Upload this figure to moodle, to show that you completed the class.\n",
    "\n",
    "\n",
    "## Today's question\n",
    "**How did the exchange rate between USD and HUF change recently?**\n",
    "\n",
    "To answer this using automated python code we will learn about\n",
    "* JSON file format\n",
    "* Using API of on online service\n",
    "* Plotting with dates\n"
   ]
  },
  {
   "cell_type": "markdown",
   "metadata": {},
   "source": [
    "## A structured data format: JSON\n",
    "\n",
    "The full name of the format is [Javascript Object Notation](http://en.wikipedia.org/wiki/JSON). It is basically a text file or a string that encodes data in a logical hierarchical sturcture. Look at the following example, it should look familiar to you!\n",
    "\n",
    "<pre>\n",
    "{\n",
    "  \"firstName\": \"John\",\n",
    "  \"lastName\": \"Smith\",\n",
    "  \"isAlive\": true,\n",
    "  \"age\": 27,\n",
    "  \"address\": {\n",
    "    \"streetAddress\": \"21 2nd Street\",\n",
    "    \"city\": \"New York\",\n",
    "    \"state\": \"NY\",\n",
    "    \"postalCode\": \"10021-3100\"\n",
    "  },\n",
    "  \"phoneNumbers\": [\n",
    "    {\n",
    "      \"type\": \"home\",\n",
    "      \"number\": \"212 555-1234\"\n",
    "    },\n",
    "    {\n",
    "      \"type\": \"office\",\n",
    "      \"number\": \"646 555-4567\"\n",
    "    },\n",
    "    {\n",
    "      \"type\": \"mobile\",\n",
    "      \"number\": \"123 456-7890\"\n",
    "    }\n",
    "  ],\n",
    "  \"children\": [],\n",
    "  \"spouse\": null\n",
    "}\n",
    "</pre>\n",
    "\n",
    "If you thought this looks like a combination of nested dictionaries and lists in pyhton, you were right!\n",
    "\n",
    "This data format has become **very popular recently** because it's not only how you write a python dict but also a **Javascript object**. This means a web browser can trivially parse a JSON string. Other formats, like XML, require real parser code.\n",
    "\n",
    "#### JSON in Python\n",
    "\n",
    "Let's see how to use JSON data in python then we'll return to the exchange data."
   ]
  },
  {
   "cell_type": "code",
   "execution_count": 220,
   "metadata": {},
   "outputs": [
    {
     "name": "stdout",
     "output_type": "stream",
     "text": [
      "{\"name\": \"Alice\"}\n",
      "<class 'str'>\n"
     ]
    }
   ],
   "source": [
    "import json #module that can parse and create JSON strings\n",
    "\n",
    "D = {'name' : 'Alice'}\n",
    "json_str = json.dumps(D) # dumps -> creates a JSON string\n",
    "\n",
    "print(json_str)\n",
    "print(type(json_str))\n"
   ]
  },
  {
   "cell_type": "markdown",
   "metadata": {},
   "source": [
    "Notice that in the dictionary definition we used single quotes `'`, but the JSON string contains double qoutes `\"`. In python, we can use both `'` and `\"` interchangebly; in JSON, however, only double quotes are accepted.\n",
    "\n",
    "JSON can represent more than dicts, like a list of dicts:"
   ]
  },
  {
   "cell_type": "code",
   "execution_count": 221,
   "metadata": {},
   "outputs": [
    {
     "name": "stdout",
     "output_type": "stream",
     "text": [
      "<class 'str'>\n",
      "[{'name': 'Bob', 'age': 28}, {'name': 'Alice', 'age': 23}]\n",
      "<class 'list'>\n",
      "Bob 28\n",
      "<class 'dict'>\n"
     ]
    }
   ],
   "source": [
    "# note the single- vs. double-quotes...\n",
    "string = '[ {\"name\":\"Bob\",\"age\":28}, {\"name\":\"Alice\",\"age\":23} ]'\n",
    "print(type(string))\n",
    "D = json.loads(string) # create an appropriate combination of lists and strings\n",
    "print(D)\n",
    "print(type(D))\n",
    "print(D[0][\"name\"], D[0][\"age\"]) # we can access elements in the usual way \n",
    "print(type(D[0]))"
   ]
  },
  {
   "cell_type": "markdown",
   "metadata": {},
   "source": [
    "### Exercise -- JSON\n",
    "\n",
    "* Take the first JSON example in this notebook and copy it to a text file.\n",
    "* Read it at one (not line by line) as a string, and then convert it to a dictionary `d` by using the module json.\n",
    "* Print out all phone numbers.\n",
    "\n",
    "<details><summary><u>Hint.</u></summary>\n",
    "<p>\n",
    "\n",
    "To read the entire contents of a file `f` into a string use `f.read()`.\n",
    "\n",
    "</p>\n",
    "</details>"
   ]
  },
  {
   "cell_type": "code",
   "execution_count": null,
   "metadata": {
    "scrolled": true
   },
   "outputs": [],
   "source": []
  },
  {
   "cell_type": "markdown",
   "metadata": {},
   "source": [
    "<details><summary><u>Solution.</u></summary>\n",
    "<p>\n",
    "\n",
    "\n",
    "```python\n",
    "with open(\"json_example.txt\",\"r\",encoding=\"utf-8\") as f:\n",
    "    text = f.read()\n",
    "d = json.loads(text)\n",
    "\n",
    "for num in d[\"phoneNumbers\"]:\n",
    "    print(num[\"number\"])\n",
    "```\n",
    "\n",
    "    \n",
    "</p>\n",
    "</details>"
   ]
  },
  {
   "cell_type": "markdown",
   "metadata": {},
   "source": [
    "## Exchange rates through accessing a web API\n",
    "\n",
    "As a data-collection example, suppose we want to find out how currencies compare to one another over time. In other words, let's plot a time series of [exchange rates](http://en.wikipedia.org/wiki/Exchange_rate).\n",
    "\n",
    "There's a nice, free website called https://openexchangerates.org. They provide a nice API to get exchange rate data. Let's use this.\n",
    "\n",
    "**BTW**, API means \"Application Programming Interface\" and is a set of functions and procedures that allow code to access the features or data of an operating system, application, or other service.\n",
    "\n",
    "To use their API, we need to register with them and get an **APP ID**. This lets them track how often you call their website and block you if you do too much (this is known as rate limiting).\n"
   ]
  },
  {
   "cell_type": "markdown",
   "metadata": {},
   "source": [
    "### Exercise -- APP ID\n",
    "\n",
    "Register to [Open Exchange Rates](https://openexchangerates.org/signup/free) and copy-paste your own APP ID below. "
   ]
  },
  {
   "cell_type": "code",
   "execution_count": 240,
   "metadata": {},
   "outputs": [],
   "source": [
    "app_id = \"your brand new id goes here\""
   ]
  },
  {
   "cell_type": "markdown",
   "metadata": {},
   "source": [
    "<details><summary><u>Solution.</u></summary>\n",
    "<p>\n",
    "\n",
    "Everyone has a different ID! The APP ID is a string of 32 characters.\n",
    "    \n",
    "</p>\n",
    "</details>"
   ]
  },
  {
   "cell_type": "markdown",
   "metadata": {},
   "source": [
    "Now let's download something and see what we get. Their [docs](https://openexchangerates.org/documentation) help us see how to build a URL."
   ]
  },
  {
   "cell_type": "code",
   "execution_count": 222,
   "metadata": {},
   "outputs": [],
   "source": [
    "# build a url from pieces:\n",
    "base_url = \"http://openexchangerates.org/api\"\n",
    "id_str   = \"app_id=\"+app_id\n",
    "#stich it together\n",
    "URL = base_url+\"/historical/2011-10-18.json?\"+id_str # this format is specified at the end of the doc page"
   ]
  },
  {
   "cell_type": "code",
   "execution_count": 224,
   "metadata": {},
   "outputs": [
    {
     "data": {
      "text/plain": [
       "'http://openexchangerates.org/api/historical/2011-10-18.json?app_id=9627f16ce27f4040aa163e93a4db525d'"
      ]
     },
     "execution_count": 224,
     "metadata": {},
     "output_type": "execute_result"
    }
   ],
   "source": [
    "#let's check it\n",
    "URL"
   ]
  },
  {
   "cell_type": "markdown",
   "metadata": {},
   "source": [
    "OK, let's download the text of that \"page\" and see what we get."
   ]
  },
  {
   "cell_type": "code",
   "execution_count": 225,
   "metadata": {},
   "outputs": [],
   "source": [
    "import urllib.request\n",
    "result = urllib.request.urlopen(URL)\n",
    "text = result.read()"
   ]
  },
  {
   "cell_type": "code",
   "execution_count": 226,
   "metadata": {},
   "outputs": [
    {
     "name": "stdout",
     "output_type": "stream",
     "text": [
      "<class 'bytes'>\n",
      "b'{\\n  \"disclaimer\": \"Usage subject to terms: https://openexchangerates.org/terms\",\\n  \"license\": \"https://openexchangerates.org/license\",\\n  \"timestamp\": 1318953600,\\n  \"base\": \"USD\",\\n  \"rates\": {\\n    \"AED\": 3.67285,\\n    \"AFN\": 48.325965,\\n    \"ALL\": 102.607855,\\n    \"AMD\": 376.327731,\\n    \"ANG\": 1.77665,\\n    \"AOA\": 94.851761,\\n    \"ARS\": 4.215038,\\n    \"AUD\": 0.979142,\\n    \"AWG\": 1.79025,\\n    \"AZN\": 0.786155,\\n    \"BAM\": 1.429934,\\n    \"BBD\": 2,\\n    \"BDT\": 75.987773,\\n    \"BGN\": 1.430108,\\n    \"BHD\": 0.37653,\\n    \"BIF\": 1231.30548,\\n    \"BMD\": 1,\\n    \"BND\": 1.272581,\\n    \"BOB\": 7.013496,\\n    \"BRL\": 1.767354,\\n    \"BSD\": 1,\\n    \"BTN\": 49.334603,\\n    \"BWP\": 7.340381,\\n    \"BYR\": 4395.431805,\\n    \"BZD\": 1.99315,\\n    \"CAD\": 1.018634,\\n    \"CDF\": 915.22783,\\n    \"CHF\": 0.900405,\\n    \"CLF\": 0.021176,\\n    \"CLP\": 510.174179,\\n    \"CNY\": 6.3813,\\n    \"COP\": 1894.791035,\\n    \"CRC\": 510.707928,\\n    \"CVE\": 80.624452,\\n    \"CZK\": 18.206884,\\n    \"DJF\": 177.721,\\n    \"DKK\": 5.434641,\\n    \"DOP\": 38.360152,\\n    \"DZD\": 73.752369,\\n    \"EGP\": 5.97649,\\n    \"ETB\": 17.126396,\\n    \"EUR\": 0.727941,\\n    \"FJD\": 1.85978,\\n    \"FKP\": 0.636524,\\n    \"GBP\": 0.63674,\\n    \"GEL\": 1.657373,\\n    \"GHS\": 1.629322,\\n    \"GIP\": 0.636297,\\n    \"GMD\": 28.218227,\\n    \"GNF\": 6851.394847,\\n    \"GTQ\": 7.836098,\\n    \"GYD\": 203.032624,\\n    \"HKD\": 7.777602,\\n    \"HNL\": 18.928855,\\n    \"HRK\": 5.459115,\\n    \"HTG\": 40.8583,\\n    \"HUF\": 217.686711,\\n    \"IDR\": 8826.883775,\\n    \"IEP\": 0.686877,\\n    \"ILS\": 3.648627,\\n    \"INR\": 49.356539,\\n    \"IQD\": 1169.98009'\n",
      "\n",
      "\n",
      "b'618,\\n    \"VEF\": 4.29465,\\n    \"VND\": 20919.570165,\\n    \"VUV\": 91.508054,\\n    \"WST\": 2.310598,\\n    \"XAF\": 480.262994,\\n    \"XCD\": 2.693174,\\n    \"XDR\": 0.635175,\\n    \"XOF\": 479.520484,\\n    \"XPF\": 87.253144,\\n    \"YER\": 214.263011,\\n    \"ZAR\": 8.044653,\\n    \"ZMK\": 5060.311287,\\n    \"ZWD\": 15180.722235\\n  }\\n}'\n"
     ]
    }
   ],
   "source": [
    "print(type(text))\n",
    "# now print the beginning and end of the text:\n",
    "print(text[:1500])\n",
    "print('\\n')\n",
    "print(text[-300:])"
   ]
  },
  {
   "cell_type": "markdown",
   "metadata": {},
   "source": [
    "**Great!** This means we can take the text from that website and run it through json.loads and we have a nice accessible python dict:"
   ]
  },
  {
   "cell_type": "code",
   "execution_count": 227,
   "metadata": {},
   "outputs": [
    {
     "name": "stdout",
     "output_type": "stream",
     "text": [
      "<class 'dict'>\n",
      "['disclaimer', 'license', 'timestamp', 'base', 'rates']\n"
     ]
    }
   ],
   "source": [
    "data = json.loads(str(text,\"utf-8\")) # This comes from our API, remember?\n",
    "print(type(data))\n",
    "print(list(data.keys()))"
   ]
  },
  {
   "cell_type": "markdown",
   "metadata": {},
   "source": [
    "Sweet. Now we see there's a timestamp key. What does it give us?"
   ]
  },
  {
   "cell_type": "code",
   "execution_count": 228,
   "metadata": {},
   "outputs": [
    {
     "name": "stdout",
     "output_type": "stream",
     "text": [
      "1318953600\n"
     ]
    }
   ],
   "source": [
    "print(data[\"timestamp\"])"
   ]
  },
  {
   "cell_type": "markdown",
   "metadata": {},
   "source": [
    "Is that a UNIX timestamp? Yup! If you don't remember what this is, take the notebook of class 6, and look at the epoch paragraph.\n",
    "\n",
    "This format is so common that `datetime` has a builtin method to deal with it, `fromtimestamp`:"
   ]
  },
  {
   "cell_type": "code",
   "execution_count": 42,
   "metadata": {},
   "outputs": [
    {
     "name": "stdout",
     "output_type": "stream",
     "text": [
      "2011-10-18 18:00:00\n",
      "<class 'datetime.datetime'>\n"
     ]
    }
   ],
   "source": [
    "import datetime\n",
    "t = datetime.datetime.fromtimestamp(data[\"timestamp\"])\n",
    "\n",
    "print(t)\n",
    "print(type(t)) # this is datetime, not a timedelta. Do you remember the difference?"
   ]
  },
  {
   "cell_type": "markdown",
   "metadata": {},
   "source": [
    "Our original URL had `historical/2011-10-18.json` in it, so that timestamp makes perfect sense.\n",
    "There are also the `base` and `rates` keys. Those are the actual exchange rate data:"
   ]
  },
  {
   "cell_type": "code",
   "execution_count": 13,
   "metadata": {},
   "outputs": [
    {
     "name": "stdout",
     "output_type": "stream",
     "text": [
      "USD\n",
      "<class 'dict'>\n",
      "['AED', 'AFN', 'ALL', 'AMD', 'ANG']\n"
     ]
    }
   ],
   "source": [
    "print(data[\"base\"])\n",
    "print(type(data[\"rates\"]))\n",
    "print(list(data[\"rates\"].keys())[:5]) # print first five keys"
   ]
  },
  {
   "cell_type": "markdown",
   "metadata": {},
   "source": [
    "`base` tells us what currency the exchange rate is relative to. `rates` is another dict, keyed by three-letter currency name."
   ]
  },
  {
   "cell_type": "code",
   "execution_count": 43,
   "metadata": {},
   "outputs": [
    {
     "name": "stdout",
     "output_type": "stream",
     "text": [
      "1\n"
     ]
    }
   ],
   "source": [
    "print(data[\"rates\"][\"USD\"])"
   ]
  },
  {
   "cell_type": "markdown",
   "metadata": {},
   "source": [
    "Makes sense, the conversion for USD should always be 1 since the base was USD. Let's check if the exchange rate with the hungarian forint is present, and let's have a look at it:"
   ]
  },
  {
   "cell_type": "markdown",
   "metadata": {},
   "source": [
    "### Exercise\n",
    "\n",
    "Write a function that takes a currency code and the exchange rate dictionary as input and\n",
    "* prints out the exchange rate if the currency is included in the dictionary\n",
    "* prints out a message if not included\n",
    "\n",
    "<details><summary><u>Hint.</u></summary>\n",
    "<p>\n",
    "    \n",
    "To check dictionary `D` contains `key` use `if key in D`.\n",
    "    \n",
    "</p>\n",
    "</details>"
   ]
  },
  {
   "cell_type": "code",
   "execution_count": null,
   "metadata": {
    "scrolled": true
   },
   "outputs": [],
   "source": []
  },
  {
   "cell_type": "markdown",
   "metadata": {},
   "source": [
    "<details><summary><u>Solution.</u></summary>\n",
    "<p>\n",
    "\n",
    "\n",
    "```python\n",
    "def exrate(currency, data):\n",
    "    if currency in data[\"rates\"]:\n",
    "        print('The exchange rate of',currency, \"is\", data[\"rates\"][currency])\n",
    "    else:\n",
    "        print(currency, 'is not included')\n",
    "\n",
    "exrate('HUF', data)\n",
    "exrate('Imaginary dollars',data)\n",
    "```\n",
    "\n",
    "    \n",
    "</p>\n",
    "</details>"
   ]
  },
  {
   "cell_type": "markdown",
   "metadata": {},
   "source": [
    "### Exercise\n",
    "\n",
    "How many different currencies are there in the json files? How can you check it quickly?\n",
    "\n",
    "<details><summary><u>Hint.</u></summary>\n",
    "<p>\n",
    "    \n",
    "To get the number of items in a dictionary `D` use `len(D)`.\n",
    "    \n",
    "</p>\n",
    "</details>\n"
   ]
  },
  {
   "cell_type": "code",
   "execution_count": null,
   "metadata": {},
   "outputs": [],
   "source": []
  },
  {
   "cell_type": "markdown",
   "metadata": {},
   "source": [
    "<details><summary><u>Solution.</u></summary>\n",
    "<p>\n",
    "\n",
    "\n",
    "```python\n",
    "print(len(data['rates']))\n",
    "```\n",
    "\n",
    "    \n",
    "</p>\n",
    "</details>"
   ]
  },
  {
   "cell_type": "markdown",
   "metadata": {},
   "source": [
    "Now, having a `data` dict like this may seem a little verbose compared to a table or CSV file. A CSV file for exchange rates makes a lot of sense but many data do not fit into a nice regular form like that. Send JSON \"over the wire\" and using dictionary keys makes it easy for us to keep track of what number correspond to what unit of measurement."
   ]
  },
  {
   "cell_type": "markdown",
   "metadata": {},
   "source": [
    "## Putting it all together\n",
    "\n",
    "We want to plot the USD-HUF exchange rate for the last 60 days, we now have all the tools to do this. Let's break down the task into smaller pieces:\n",
    "1. Construct a list containing the appropriate dates using `datetime`.\n",
    "2. Download and save the data into a dictionary using `json`.\n",
    "3. Create plot using `matplotlib`."
   ]
  },
  {
   "cell_type": "markdown",
   "metadata": {},
   "source": [
    "### Part 1 -- Dates\n",
    "\n",
    "To download the exchange rates of a specific day we have to construct and url containing the date:\n",
    "```\n",
    "http://openexchangerates.org/api/historical/2011-10-18.json?app_id=9627f16ce27f4040aa163e93a4db525d\n",
    "```\n",
    "For this we can use the `datetime` module.\n",
    "\n",
    "### Recap: datetime"
   ]
  },
  {
   "cell_type": "code",
   "execution_count": 229,
   "metadata": {
    "scrolled": true
   },
   "outputs": [
    {
     "name": "stdout",
     "output_type": "stream",
     "text": [
      "formatted date: 1985-10-26\n",
      "today: 2020-03-12\n",
      "yesterday: 2020-03-11\n"
     ]
    }
   ],
   "source": [
    "import datetime\n",
    "\n",
    "DT = datetime.datetime(1985, 10, 26, 12, 0, 0)\n",
    "print(\"formatted date:\", DT.strftime(\"%Y-%m-%d\"))\n",
    "\n",
    "Dnow = datetime.datetime.now()\n",
    "print(\"today:\", Dnow.strftime(\"%Y-%m-%d\"))\n",
    "\n",
    "td = datetime.timedelta(days=1)\n",
    "Dyester = Dnow-td\n",
    "print(\"yesterday:\", Dyester.strftime(\"%Y-%m-%d\"))\n"
   ]
  },
  {
   "cell_type": "markdown",
   "metadata": {},
   "source": [
    "### Exercise -- Date list\n",
    "\n",
    "Create a list called `dt_list` that contains datetime objects of the last 60 days including today.\n",
    "\n",
    "<details><summary><u>Hint.</u></summary>\n",
    "<p>\n",
    "    \n",
    "To get the `datetime` object `k` subtract `datetime.timedelta(days=k)` from today.\n",
    "    \n",
    "</p>\n",
    "</details>"
   ]
  },
  {
   "cell_type": "code",
   "execution_count": 230,
   "metadata": {},
   "outputs": [],
   "source": []
  },
  {
   "cell_type": "markdown",
   "metadata": {},
   "source": [
    "<details><summary><u>Solution.</u></summary>\n",
    "<p>\n",
    "\n",
    "\n",
    "```python\n",
    "dt_list = [Dnow - datetime.timedelta(days=60-t) for t in range(1,121)]\n",
    "print(dt_list[-1])\n",
    "```\n",
    "\n",
    "    \n",
    "</p>\n",
    "</details>"
   ]
  },
  {
   "cell_type": "markdown",
   "metadata": {},
   "source": [
    "### Exercise -- Downloading the data\n",
    "\n",
    "Create a for loop over these dates, in each loop download the json exchange data, and save it to a list dictionaries ``daily_data``.\n",
    "\n",
    "**Important**: It should take only a few seconds. If you are not sure your code works, test only with a few days, as you can reach the rate limit. \n",
    "\n",
    "<details><summary><u>Hint.</u></summary>\n",
    "<p>\n",
    "    \n",
    "When constructing the urls use the `D.strftime(\"%Y-%m-%d\")` method to create the correct date format.\n",
    "</p>\n",
    "</details>"
   ]
  },
  {
   "cell_type": "code",
   "execution_count": 231,
   "metadata": {},
   "outputs": [],
   "source": []
  },
  {
   "cell_type": "markdown",
   "metadata": {},
   "source": [
    "<details><summary><u>Solution.</u></summary>\n",
    "<p>\n",
    "\n",
    "\n",
    "```python\n",
    "import json\n",
    "url_begin = \"http://openexchangerates.org/api/historical/\"\n",
    "url_end = \".json?app_id=\"+app_id\n",
    "daily_data = []\n",
    "for D in dt_list:\n",
    "    URL = url_begin + D.strftime(\"%Y-%m-%d\") + url_end\n",
    "    result = urllib.request.urlopen(URL)\n",
    "    text = result.read()\n",
    "    data = json.loads(str(text,\"utf-8\"))\n",
    "    daily_data.append(data)\n",
    "```\n",
    "\n",
    "    \n",
    "</p>\n",
    "</details>"
   ]
  },
  {
   "cell_type": "markdown",
   "metadata": {},
   "source": [
    "I assume you have your `daily_data`. Now we can look at some data, for example the USD-EUR exchange rate yesterday was:"
   ]
  },
  {
   "cell_type": "code",
   "execution_count": 69,
   "metadata": {},
   "outputs": [
    {
     "data": {
      "text/plain": [
       "0.902694"
      ]
     },
     "execution_count": 69,
     "metadata": {},
     "output_type": "execute_result"
    }
   ],
   "source": [
    "daily_data[-2]['rates']['EUR']"
   ]
  },
  {
   "cell_type": "markdown",
   "metadata": {},
   "source": [
    "### Exercise -- list of rates\n",
    "\n",
    "Create a list called `xrate_list` that contains the USD-HUF exchange rates for each day."
   ]
  },
  {
   "cell_type": "code",
   "execution_count": 234,
   "metadata": {},
   "outputs": [],
   "source": []
  },
  {
   "cell_type": "markdown",
   "metadata": {},
   "source": [
    "<details><summary><u>Solution.</u></summary>\n",
    "<p>\n",
    "\n",
    "\n",
    "```python\n",
    "xrate_list = [data['rates']['HUF'] for data in daily_data]\n",
    "```\n",
    "\n",
    "    \n",
    "</p>\n",
    "</details>"
   ]
  },
  {
   "cell_type": "markdown",
   "metadata": {},
   "source": [
    "### Exercise -- plotting\n",
    "\n",
    "Plot the exchange rate versus the date. Check the documentation of the `plt.plot_date()` function. Try to make the plot look appealing.\n",
    "\n",
    "<details><summary><u>Hint.</u></summary>\n",
    "<p>\n",
    "    \n",
    "For example, check out the use of `plt.MaxNLocator()` to have fewer tics on the x axis.\n",
    "</p>\n",
    "</details>"
   ]
  },
  {
   "cell_type": "code",
   "execution_count": null,
   "metadata": {},
   "outputs": [],
   "source": []
  },
  {
   "cell_type": "markdown",
   "metadata": {},
   "source": [
    "<details><summary><u>Solution.</u></summary>\n",
    "<p>\n",
    "\n",
    "\n",
    "```python\n",
    "import matplotlib.pyplot as plt\n",
    "\n",
    "fig, ax = plt.subplots(figsize=(8,4))\n",
    "\n",
    "plt.plot_date(dt_list, xrate_list, \"o-\")\n",
    "\n",
    "#label the axes\n",
    "plt.xlabel(\"Year\",        fontsize=14)\n",
    "plt.ylabel(\"HUF vs. USD\", fontsize=14)\n",
    "\n",
    "#to make it look nicer, we set the tics on the x axis so that the dates do not overlap\n",
    "plt.tick_params(labelsize=12)\n",
    "xloc = plt.MaxNLocator(4)\n",
    "ax.xaxis.set_major_locator(xloc)\n",
    "\n",
    "plt.show()\n",
    "```\n",
    "\n",
    "    \n",
    "</p>\n",
    "</details>"
   ]
  },
  {
   "cell_type": "markdown",
   "metadata": {},
   "source": [
    "## Final Exercise\n",
    "\n",
    "1. Plot one of the following figures:\n",
    "    * Find the two currencies whose exchange rates increased the most and the least relative to its price 60 days ago. Plot the relative price of these two currencies over time, i.e., `relative_price = price / price_60_days_ago`.\n",
    "    * Create a function that given a list and a window size, return the [moving average](https://en.wikipedia.org/wiki/Moving_average) with that window. Apply it to the HUF-USD with window size 5 and plot it together with the raw data.\n",
    "    * Download the exchang rates for the first day of each month of 2019 and plot your favorite currency.\n",
    "    * Come up with an interesting plot yourself.\n",
    "2. Set the title of the plot to be your name and save the figure as a pdf.\n",
    "3. **Upload the pdf to Moodle!**\n",
    "\n",
    "<details><summary><u>Hint.</u></summary>\n",
    "<p>\n",
    "\n",
    "Use `plt.savefig(\"myfigure.pdf\")` to save the figure.\n",
    "</p>\n",
    "</details>"
   ]
  },
  {
   "cell_type": "markdown",
   "metadata": {},
   "source": [
    "### Additional exercise\n",
    "\n",
    "Are you done and you would like some more exercise? Write a function that prints out the number of people currently in space.\n",
    "<details><summary><u>Hint.</u></summary>\n",
    "<p>\n",
    "    \n",
    "Check out this data source: http://api.open-notify.org/astros.json\n",
    "</p>\n",
    "</details>"
   ]
  },
  {
   "cell_type": "code",
   "execution_count": 241,
   "metadata": {},
   "outputs": [
    {
     "name": "stdout",
     "output_type": "stream",
     "text": [
      "b'{\"people\": [{\"craft\": \"ISS\", \"name\": \"Andrew Morgan\"}, {\"craft\": \"ISS\", \"name\": \"Oleg Skripochka\"}, {\"craft\": \"ISS\", \"name\": \"Jessica Meir\"}], \"message\": \"success\", \"number\": 3}'\n"
     ]
    }
   ],
   "source": []
  }
 ],
 "metadata": {
  "kernelspec": {
   "display_name": "Python 3",
   "language": "python",
   "name": "python3"
  },
  "language_info": {
   "codemirror_mode": {
    "name": "ipython",
    "version": 3
   },
   "file_extension": ".py",
   "mimetype": "text/x-python",
   "name": "python",
   "nbconvert_exporter": "python",
   "pygments_lexer": "ipython3",
   "version": "3.9.0 (tags/v3.9.0:9cf6752, Oct  5 2020, 15:34:40) [MSC v.1927 64 bit (AMD64)]"
  },
  "vscode": {
   "interpreter": {
    "hash": "81794d4967e6c3204c66dcd87b604927b115b27c00565d3d43f05ba2f3a2cb0d"
   }
  }
 },
 "nbformat": 4,
 "nbformat_minor": 1
}
