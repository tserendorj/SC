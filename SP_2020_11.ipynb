{
 "cells": [
  {
   "cell_type": "markdown",
   "metadata": {},
   "source": [
    "# DNDS6013 Scientific Python: 11th Class\n",
    "## Central European University, Winter 2019/2020\n",
    "\n",
    "Instructor: Márton Pósfai, TA: Luis Natera Orozco\n",
    "\n",
    "Emails: posfaim@ceu.edu, natera_luis@phd.ceu.edu\n",
    "\n"
   ]
  },
  {
   "cell_type": "markdown",
   "metadata": {},
   "source": [
    "<style>\n",
    "div.cell, div.text_cell_render{\n",
    "  max-width:760px;\n",
    "  margin-left:auto;\n",
    "  margin-right:auto;\n",
    "}\n",
    "\n",
    ".rendered_html\n",
    "{\n",
    "  font-size: 130%;\n",
    "  }\n",
    "\n",
    ".rendered_html li\n",
    "{\n",
    "  line-height: 1.;\n",
    "  }\n",
    "\n",
    ".rendered_html h1, h2 {\n",
    "  font-familly:\"Charis SIL\", serif;\n",
    "}\n",
    "\n",
    "img { \n",
    "    max-width: 200% !important;\n",
    "    height: auto !important;\n",
    "}\n",
    "\n",
    ".input_prompt, .CodeMirror-lines, .output_area\n",
    "{\n",
    "  font-family: Consolas, monospace;\n",
    "  font-size: 120%;\n",
    "}\n",
    "</style>"
   ]
  },
  {
   "cell_type": "markdown",
   "metadata": {},
   "source": [
    "[Intro video](https://ceu.cloud.panopto.eu/Panopto/Pages/Viewer.aspx?id=4aa0894d-686a-42d6-9f07-ab8a00d1e2bf)\n",
    "\n",
    "To complete the class, go though this notebook and\n",
    "* Study the example codes\n",
    "* Solve the exercises in the notebook. Try looking at solutions only when you are done.\n",
    "* Follow links to videos for short verbal explanations if needed\n",
    "* Complete a final task and upload your result to Moodle, pay attention to upload only **a single pdf figure, do not upload your code**.\n",
    "\n",
    "If you have any questions or you get stuck with one of the exercises I will be available on the [slack channel](http://sp2020winter.slack.com). I will be online during regular class hours, outside of that I will try to get back to you as soon as possible.\n"
   ]
  },
  {
   "cell_type": "markdown",
   "metadata": {},
   "source": [
    "## Today:\n",
    "\n",
    "Introduce and explore [Pandas](http://pandas.pydata.org/), a library for tabular data manipulating and analysis that has implementations of common tasks making the following (and more) very straightforward:\n",
    "- Reading in and cleaning tabular data\n",
    "- Merging data from different sources\n",
    "- Basic analysis and plotting\n",
    "\n",
    "Pandas stands for **Pan**el **Da**ta (an expression borrowed from econometrics), it brings tools and ideas from Excel, R, and SQL to Python.\n",
    "\n",
    "We'll have a look at the basic data structures: Series and Dataframes. Then we'll look at a dataset about the passengers of the Titanic."
   ]
  },
  {
   "cell_type": "markdown",
   "metadata": {},
   "source": [
    "# Part I: Pandas and its data structures\n",
    "## Series and Dataframes\n",
    "\n"
   ]
  },
  {
   "cell_type": "code",
   "execution_count": null,
   "metadata": {},
   "outputs": [],
   "source": [
    "#we typically import pandas with the alias pd (a la import numpy as np)\n",
    "import pandas as pd\n",
    "import numpy as np\n",
    "import matplotlib.pyplot as plt"
   ]
  },
  {
   "cell_type": "markdown",
   "metadata": {},
   "source": [
    "Pandas has two primary data structures: series and dataframes. Series are similar to Python lists or numpy vectors: they are one dimensional. \n",
    "\n",
    "Series can contain mixed types:"
   ]
  },
  {
   "cell_type": "code",
   "execution_count": null,
   "metadata": {},
   "outputs": [],
   "source": [
    "#create a series from a list\n",
    "my_list = [3.0,2,1,'shoe',1.5,['apple','banana'],2,3.0,100]\n",
    "my_first_series = pd.Series(my_list)\n",
    "print(my_first_series)"
   ]
  },
  {
   "cell_type": "markdown",
   "metadata": {},
   "source": [
    "This series contains integers, floats, a string, and even a list. (Note that when we print out a series, it ends with displaying the data type contained in the series. If it is mixed, it says the general `object`.)\n",
    "\n",
    "When we create the series, notice that we also get a column number each row. This is the index of our series. "
   ]
  },
  {
   "cell_type": "code",
   "execution_count": null,
   "metadata": {},
   "outputs": [],
   "source": [
    "#access the values\n",
    "print(my_first_series.values)\n",
    "print(type(my_first_series.values))\n",
    "\n",
    "#access indices\n",
    "print(my_first_series.index)"
   ]
  },
  {
   "cell_type": "markdown",
   "metadata": {},
   "source": [
    "The indexing works similarly to lists or numpy arrays.\n",
    "\n",
    "Looking up a single value:"
   ]
  },
  {
   "cell_type": "code",
   "execution_count": null,
   "metadata": {},
   "outputs": [],
   "source": [
    "print(my_first_series[4])"
   ]
  },
  {
   "cell_type": "markdown",
   "metadata": {},
   "source": [
    "We can also use the slicing syntax that we know:"
   ]
  },
  {
   "cell_type": "code",
   "execution_count": null,
   "metadata": {},
   "outputs": [],
   "source": [
    "print(my_first_series[2:5])"
   ]
  },
  {
   "cell_type": "markdown",
   "metadata": {},
   "source": [
    "We can also use masks the same way we did with numpy arrays. For example, we can filter based on values:"
   ]
  },
  {
   "cell_type": "code",
   "execution_count": null,
   "metadata": {},
   "outputs": [],
   "source": [
    "just_threes = my_first_series[my_first_series == 3]\n",
    "print(just_threes)\n",
    "print(just_threes.index)"
   ]
  },
  {
   "cell_type": "markdown",
   "metadata": {},
   "source": [
    "Notice that `just_threes` has only two elements, but it inherited the indices from `my_first_series`. The indices are not always consecutive and don't always mean the position.\n",
    "\n",
    "### Exercise\n",
    "\n",
    "Try to decipher how indexing and slicing works if the indices are not consecutive by changing the next cell:\n",
    "<details><summary><u>Hint</u></summary>\n",
    "<p>\n",
    "\n",
    "Try the following lines out\n",
    "\n",
    "```python\n",
    "print(just_threes[1])\n",
    "print(just_threes[7])\n",
    "print(just_threes[0:2])\n",
    "```\n",
    "</p>\n",
    "</details>"
   ]
  },
  {
   "cell_type": "code",
   "execution_count": null,
   "metadata": {},
   "outputs": [],
   "source": []
  },
  {
   "cell_type": "markdown",
   "metadata": {},
   "source": [
    "<details><summary><u>Solution.</u></summary>\n",
    "<p>\n",
    "    \n",
    "```python\n",
    "#accessing by index name, e.g.,\n",
    "print(just_threes[7])\n",
    "\n",
    "#slicing always works by position\n",
    "print(just_threes[0:2])\n",
    "```\n",
    "    \n",
    "</p>\n",
    "</details>"
   ]
  },
  {
   "cell_type": "markdown",
   "metadata": {},
   "source": [
    "### Applying functions to series\n",
    "\n",
    "[Video](https://ceu.cloud.panopto.eu/Panopto/Pages/Viewer.aspx?id=a345cc48-3de3-4d62-b54b-ab8a00d80565)\n",
    "\n",
    "In most use cases, our series will contain only one data type, so let's look at examples like that."
   ]
  },
  {
   "cell_type": "code",
   "execution_count": null,
   "metadata": {},
   "outputs": [],
   "source": [
    "a = pd.Series([1.0, 2.0, 3.0])\n",
    "b = pd.Series([1.0, 1.0, 1.0])\n",
    "\n",
    "print(a)"
   ]
  },
  {
   "cell_type": "markdown",
   "metadata": {},
   "source": [
    "Similarly to numpy, basic operations get applied to the series elementwise. For example, multiplying a series by 2, doubles each element:"
   ]
  },
  {
   "cell_type": "code",
   "execution_count": null,
   "metadata": {},
   "outputs": [],
   "source": [
    "2*a"
   ]
  },
  {
   "cell_type": "markdown",
   "metadata": {},
   "source": [
    "Or adding two series is calculated elementwise:"
   ]
  },
  {
   "cell_type": "code",
   "execution_count": null,
   "metadata": {},
   "outputs": [],
   "source": [
    "a+b"
   ]
  },
  {
   "cell_type": "markdown",
   "metadata": {},
   "source": [
    "We can even apply a numpy function to the enitre series:"
   ]
  },
  {
   "cell_type": "code",
   "execution_count": null,
   "metadata": {},
   "outputs": [],
   "source": [
    "np.sin(a)"
   ]
  },
  {
   "cell_type": "markdown",
   "metadata": {},
   "source": [
    "If we want apply a general function to the Series elemetwise we have to use the `apply` function. This is important, we will use it often to create new columns in tables.\n",
    "\n",
    "The `apply()` function for series is the same as list comprehensions are for lists. Let's look at a few examples:"
   ]
  },
  {
   "cell_type": "code",
   "execution_count": null,
   "metadata": {},
   "outputs": [],
   "source": [
    "print(my_list)\n",
    "new_list = [ type(x) for x in my_list]\n",
    "print(new_list)"
   ]
  },
  {
   "cell_type": "markdown",
   "metadata": {},
   "source": [
    "The same using series and `apply()`:"
   ]
  },
  {
   "cell_type": "code",
   "execution_count": null,
   "metadata": {},
   "outputs": [],
   "source": [
    "print(type(my_first_series))\n",
    "new_series = my_first_series.apply(type)\n",
    "print(new_series)"
   ]
  },
  {
   "cell_type": "markdown",
   "metadata": {},
   "source": [
    "We can define our own functions:"
   ]
  },
  {
   "cell_type": "code",
   "execution_count": null,
   "metadata": {},
   "outputs": [],
   "source": [
    "#list\n",
    "L = [\"apple!\",\"pear!\",\"watermelon!\"]\n",
    "L2 = [x.replace(\"!\",\"\") for x in L]\n",
    "print(L2)\n",
    "\n",
    "#series\n",
    "s = pd.Series(L)\n",
    "\n",
    "def func(x):\n",
    "    return x.replace(\"!\",\"\")\n",
    "\n",
    "s2 = s.apply(func)\n",
    "print(s2)"
   ]
  },
  {
   "cell_type": "markdown",
   "metadata": {},
   "source": [
    "Or we can do the same thing with lambda functions:"
   ]
  },
  {
   "cell_type": "code",
   "execution_count": null,
   "metadata": {},
   "outputs": [],
   "source": [
    "s = pd.Series(L)\n",
    "s2 = s.apply(lambda x: x.replace(\"!\",\"\"))\n",
    "print(s2)"
   ]
  },
  {
   "cell_type": "markdown",
   "metadata": {},
   "source": [
    "### Exercise\n",
    "\n",
    "Take the following list and list comprehension and\n",
    "* Convert the list into a pandas series\n",
    "* Use `apply()` to do the same operation as the list comprehension"
   ]
  },
  {
   "cell_type": "code",
   "execution_count": null,
   "metadata": {},
   "outputs": [],
   "source": [
    "L = [\"APPLE\",\"PEAR\",\"WATERMELON\"]\n",
    "L2 = [ x.lower()+\"!\" for x in L]"
   ]
  },
  {
   "cell_type": "markdown",
   "metadata": {},
   "source": [
    "<details><summary><u>Solution.</u></summary>\n",
    "<p>\n",
    "    \n",
    "```python\n",
    "L = [\"APPLE\",\"PEAR\",\"WATERMELON\"]\n",
    "L2 = [ x.lower()+\"!\" for x in L]\n",
    "\n",
    "s= pd.Series(L)\n",
    "s2 = s.apply(lambda x: x.lower()+\"!\")\n",
    "print(s2)\n",
    "```\n",
    "    \n",
    "</p>\n",
    "</details>"
   ]
  },
  {
   "cell_type": "markdown",
   "metadata": {},
   "source": [
    "### From dictionaries to series\n",
    "\n",
    "We converted a list to create `my_first_series`, we can also use a python dictionaries to create a pandas series.\n",
    "\n",
    "Let's say that I have my ratings of my favorite actors in a dictionary and let's convert this into a series: "
   ]
  },
  {
   "cell_type": "code",
   "execution_count": null,
   "metadata": {},
   "outputs": [],
   "source": [
    "#let's create a dict of the average movie ratings from 1 to 10 of actors.\n",
    "actor_rating_dict = {'Nicolas Cage':3,'Robert Redford':5,'Julianne Moore':8,\n",
    "                     'Jeff Bridges':7, 'Idris Elba':8,'Meryl Streep':9,\n",
    "                     'Pam Grier':9, 'Dorottya Udvaros':7.5}\n",
    "actor_rating_series = pd.Series(actor_rating_dict)\n",
    "print(actor_rating_series)"
   ]
  },
  {
   "cell_type": "markdown",
   "metadata": {},
   "source": [
    "Note the keys of the dictionary are mapped to indices. The index name is not aways an integer.\n",
    "\n",
    "We can now look up values based on index name or by position:"
   ]
  },
  {
   "cell_type": "code",
   "execution_count": null,
   "metadata": {},
   "outputs": [],
   "source": [
    "#look up by index name\n",
    "print(actor_rating_series['Idris Elba'])\n",
    "#look up by index position\n",
    "print(actor_rating_series[4])"
   ]
  },
  {
   "cell_type": "markdown",
   "metadata": {},
   "source": [
    "Look, I have another dictionary! This dictionary stores the number of movies I have seen with the actors in them:"
   ]
  },
  {
   "cell_type": "code",
   "execution_count": null,
   "metadata": {},
   "outputs": [],
   "source": [
    "#creating another series: this time how many movies an actor has played in.\n",
    "actor_frequency_dict = {'Nicolas Cage':20,'Robert Redford':6,\n",
    "                        'Julianne Moore':10, 'Jeff Bridges':2,\n",
    "                        'Idris Elba':14,'Mr. Bean':3,'Meryl Streep':7,\n",
    "                        'Pam Grier':11,'Dorottya Udvaros':5}\n",
    "\n",
    "actor_frequency_series = pd.Series(actor_frequency_dict)\n",
    "actor_frequency_series"
   ]
  },
  {
   "cell_type": "markdown",
   "metadata": {},
   "source": [
    "### Dataframe\n",
    "\n",
    "We can combine any number of series with the concat command,  what is returned is a dataframe."
   ]
  },
  {
   "cell_type": "code",
   "execution_count": null,
   "metadata": {
    "scrolled": true
   },
   "outputs": [],
   "source": [
    "df = pd.concat([actor_rating_series, actor_frequency_series], axis=1, sort=True)\n",
    "df"
   ]
  },
  {
   "cell_type": "markdown",
   "metadata": {},
   "source": [
    "What does Mr. Bean's `NaN` mean? I have seen three movies with Mr. Bean, but for some reason I didn't rate him. If the `concat()` function encounters a key that is missing from one of the dictionaries, it substitutes the missing value with the special value `NaN`, which stands for not-a-number. "
   ]
  },
  {
   "cell_type": "markdown",
   "metadata": {},
   "source": [
    "### Tiny exercise\n",
    "What happens if we exclude `axis=1` from the concat command? Try it out!"
   ]
  },
  {
   "cell_type": "code",
   "execution_count": null,
   "metadata": {},
   "outputs": [],
   "source": []
  },
  {
   "cell_type": "markdown",
   "metadata": {},
   "source": [
    "We can rename the columns to have more descriptive labels:"
   ]
  },
  {
   "cell_type": "code",
   "execution_count": null,
   "metadata": {
    "scrolled": false
   },
   "outputs": [],
   "source": [
    "df.columns = ['Average_Rating','Number_of_Movies']\n",
    "df"
   ]
  },
  {
   "cell_type": "markdown",
   "metadata": {},
   "source": [
    "We can access columns by name or by postion, this returns a series:"
   ]
  },
  {
   "cell_type": "code",
   "execution_count": null,
   "metadata": {},
   "outputs": [],
   "source": [
    "print(df['Number_of_Movies'])"
   ]
  },
  {
   "cell_type": "markdown",
   "metadata": {},
   "source": [
    "We can access rows and elements by index name using `loc`:"
   ]
  },
  {
   "cell_type": "code",
   "execution_count": null,
   "metadata": {
    "scrolled": true
   },
   "outputs": [],
   "source": [
    "#element: [row_name,column_name]\n",
    "print(df.loc['Mr. Bean','Number_of_Movies'])\n",
    "print('-------------')\n",
    "\n",
    "#row: [row_name]\n",
    "print(df.loc['Mr. Bean'])\n",
    "print('-------------')\n",
    "\n",
    "#column: [:,column_name]\n",
    "print(df.loc[:,'Number_of_Movies'])"
   ]
  },
  {
   "cell_type": "markdown",
   "metadata": {},
   "source": [
    "Or by position using `iloc`:"
   ]
  },
  {
   "cell_type": "code",
   "execution_count": null,
   "metadata": {},
   "outputs": [],
   "source": [
    "#element\n",
    "print(df.iloc[5,1])\n",
    "print('-------------')\n",
    "\n",
    "#row\n",
    "print(df.iloc[5])\n",
    "print('-------------')\n",
    "\n",
    "#column\n",
    "print(df.iloc[:,1])"
   ]
  },
  {
   "cell_type": "markdown",
   "metadata": {},
   "source": [
    "You can also do slicing a la numpy arrays."
   ]
  },
  {
   "cell_type": "markdown",
   "metadata": {},
   "source": [
    "### Dealing with missing values\n",
    "\n",
    "[Video](https://ceu.cloud.panopto.eu/Panopto/Pages/Viewer.aspx?id=58cfe757-1aed-4d44-ba11-ab8a00dc9c7e)\n",
    "\n",
    "A common task in data processing is to deal with missing data. For example, we don't have a rating for Mr. Bean. One possibility is that we make an educated guess, and say that Mr. Bean has the same rating as the average of everyone else:"
   ]
  },
  {
   "cell_type": "code",
   "execution_count": null,
   "metadata": {},
   "outputs": [],
   "source": [
    "#df['Average_Rating'] returns a series corresponding to the column\n",
    "#and series has a method to calculate its mean\n",
    "avg = df['Average_Rating'].mean() \n",
    "print('Average of Average Rating = %g' % (avg))\n",
    "\n",
    "#We can change the elements directly:\n",
    "df.loc['Mr. Bean','Average_Rating'] = avg\n",
    "\n",
    "df"
   ]
  },
  {
   "cell_type": "markdown",
   "metadata": {},
   "source": [
    "This is such a common task, that pandas has a built in method to locate and replace `NaN` called `.fillna()`."
   ]
  },
  {
   "cell_type": "code",
   "execution_count": null,
   "metadata": {},
   "outputs": [],
   "source": [
    "# set Mr. Bean's average rating back to np.nan\n",
    "df.loc['Mr. Bean','Average_Rating'] = np.nan\n",
    "\n",
    "# override the Average_Rating column with a version that has the nan's replaced by the average\n",
    "# of the non-nan entries.\n",
    "df['Average_Rating'] = df['Average_Rating'].fillna(np.mean(df['Average_Rating']))\n",
    "df"
   ]
  },
  {
   "cell_type": "markdown",
   "metadata": {},
   "source": [
    "### Using apply() with a dataframe\n",
    "\n",
    "[Video](https://ceu.cloud.panopto.eu/Panopto/Pages/Viewer.aspx?id=dd8d9677-fa4a-4493-9047-ab8a00e03354)\n",
    "\n",
    "We seen before that you can get a column as a series, this way you use `apply()` like we did before:"
   ]
  },
  {
   "cell_type": "code",
   "execution_count": null,
   "metadata": {},
   "outputs": [],
   "source": [
    "favorites = df['Average_Rating'].apply(lambda x: 1 if x>7. else 0)\n",
    "print(favorites)"
   ]
  },
  {
   "cell_type": "markdown",
   "metadata": {},
   "source": [
    "And we can use this to create a bew column:"
   ]
  },
  {
   "cell_type": "code",
   "execution_count": null,
   "metadata": {},
   "outputs": [],
   "source": [
    "df['favorites']=favorites\n",
    "df"
   ]
  },
  {
   "cell_type": "markdown",
   "metadata": {},
   "source": [
    "However, we might want to use more than one column as input. For example, I would like to create a new column for that will indicate actors that I don't like, yet I've seen many times:"
   ]
  },
  {
   "cell_type": "code",
   "execution_count": null,
   "metadata": {},
   "outputs": [],
   "source": [
    "#define a fuction that we will use with apply\n",
    "def func(row):\n",
    "    if row['Average_Rating']<=5 and row['Number_of_Movies']>=10:\n",
    "        return 1\n",
    "    else:\n",
    "        return 0\n",
    "\n",
    "love_to_hate = df.apply(func, axis=1)\n",
    "df['love_to_hate'] = love_to_hate\n",
    "df"
   ]
  },
  {
   "cell_type": "markdown",
   "metadata": {},
   "source": [
    "The setting `axis=1` tells `apply()` to iterate through rows, `axis=0` iterates through columns. Take look:"
   ]
  },
  {
   "cell_type": "code",
   "execution_count": null,
   "metadata": {},
   "outputs": [],
   "source": [
    "df.apply(np.mean, axis=0)"
   ]
  },
  {
   "cell_type": "markdown",
   "metadata": {},
   "source": [
    "### Exercise\n",
    "\n",
    "Create a new column `love_to_love` that contains a `1` for actors that have rating at least `7` and I have seen movies with them at least `10` times."
   ]
  },
  {
   "cell_type": "code",
   "execution_count": null,
   "metadata": {},
   "outputs": [],
   "source": []
  },
  {
   "cell_type": "markdown",
   "metadata": {},
   "source": [
    "<details><summary><u>Solution.</u></summary>\n",
    "<p>\n",
    "    \n",
    "```python\n",
    "#define a fuction that we will use with apply\n",
    "def func(row):\n",
    "    if row['Average_Rating']>=7 and row['Number_of_Movies']>=10:\n",
    "        return 1\n",
    "    else:\n",
    "        return 0\n",
    "\n",
    "love_to_love= df.apply(func, axis=1)\n",
    "df['love_to_love'] = love_to_love\n",
    "df\n",
    "```\n",
    "    \n",
    "</p>\n",
    "</details>"
   ]
  },
  {
   "cell_type": "markdown",
   "metadata": {},
   "source": [
    "### Plotting\n",
    "\n",
    "Pandas has built in plotting to quickly take care of common plots. It sits 'on top of' matplotlib and so can be customized in the same way.\n",
    "\n",
    "The pandas `plot()` function returns the matplotlib `axis` object of the figure that it created. You can use this `axis` to customize your figure.\n",
    "\n",
    "Creating an automatically labelled bar chart is very simple:"
   ]
  },
  {
   "cell_type": "code",
   "execution_count": null,
   "metadata": {
    "scrolled": true
   },
   "outputs": [],
   "source": [
    "axis = df.plot(kind='bar', use_index=True, y='Average_Rating')\n",
    "axis.set_title('Actor Number of Films vs Avg. Rating', size=15);"
   ]
  },
  {
   "cell_type": "markdown",
   "metadata": {},
   "source": [
    "Or a histogram:"
   ]
  },
  {
   "cell_type": "code",
   "execution_count": null,
   "metadata": {
    "scrolled": true
   },
   "outputs": [],
   "source": [
    "ax=df.plot(kind='hist', y='Number_of_Movies', legend=True)\n",
    "\n",
    "ax.set_title('Number of Movies Histogram');"
   ]
  },
  {
   "cell_type": "markdown",
   "metadata": {},
   "source": [
    "So now we know the basics, let's do something more complex."
   ]
  },
  {
   "cell_type": "markdown",
   "metadata": {},
   "source": [
    "# Part II: Surviving the Titanic\n",
    "\n",
    "[Video](https://ceu.cloud.panopto.eu/Panopto/Pages/Viewer.aspx?id=41bee325-1d33-4211-a829-ab8a00e2e714)\n",
    "\n",
    "Pandas has great data manipulation abilities. Let's finally consider some real data first. First we are going to consider passenger data from the Titanic, which sunk on its maiden voyage. Of 2,224 passengers and crew, more than 1,500 died."
   ]
  },
  {
   "cell_type": "markdown",
   "metadata": {},
   "source": [
    "We have a data file containing data of some of the passengers, this is how it looks like:"
   ]
  },
  {
   "cell_type": "code",
   "execution_count": null,
   "metadata": {},
   "outputs": [],
   "source": [
    "!head titanic.csv"
   ]
  },
  {
   "cell_type": "markdown",
   "metadata": {},
   "source": [
    "Reading from a csv in pandas is very easy! `read_csv` is very flexible: can take `txt`, plain files, and many more."
   ]
  },
  {
   "cell_type": "code",
   "execution_count": null,
   "metadata": {},
   "outputs": [],
   "source": [
    "df = pd.read_csv('titanic.csv', header=0, sep=',')"
   ]
  },
  {
   "cell_type": "markdown",
   "metadata": {},
   "source": [
    "`header = 0` indicates that the first row is the header. In this case it is not necessary. `sep` is the column seperator, other common examples include tabs `\\t`, white space, and `|`.\n",
    "\n",
    "Note that pandas automatically guesses the datatype of each column and converts it appropriately. This usually works, but in some unusual cases it might fail, for example, phone numbers might be converted to numbers instead of kept as strings. In these cases the `dtype` argument can be used to specify the data type by hand."
   ]
  },
  {
   "cell_type": "markdown",
   "metadata": {},
   "source": [
    "How does are dataframe look like? We have too many rows to print out the whole table, but we can use the `head()` method to show only the first five rows:"
   ]
  },
  {
   "cell_type": "code",
   "execution_count": null,
   "metadata": {},
   "outputs": [],
   "source": [
    "df.head()"
   ]
  },
  {
   "cell_type": "markdown",
   "metadata": {},
   "source": [
    "Tail method reads the last five rows:"
   ]
  },
  {
   "cell_type": "code",
   "execution_count": null,
   "metadata": {},
   "outputs": [],
   "source": [
    "df.tail()"
   ]
  },
  {
   "cell_type": "markdown",
   "metadata": {},
   "source": [
    "### Some more information about the data:\n",
    "- Pclass: passenger class. \n",
    "- SibSp: number of siblings+spouses aboard\n",
    "- Parch: number of parents+children aboard\n",
    "- Fare: cost of ticket\n",
    "- Cabin: room ID, if passenger had a room\n",
    "- Embarked: port of departure (C= Cherbourg; Q= Queenstown; S=Southampton)\n",
    "\n",
    "### Let's check out a few data exploration techniques\n",
    "\n",
    "Basic statistics are printed out by the `describe()` method for numeric columns."
   ]
  },
  {
   "cell_type": "code",
   "execution_count": null,
   "metadata": {},
   "outputs": [],
   "source": [
    "df.describe()"
   ]
  },
  {
   "cell_type": "markdown",
   "metadata": {},
   "source": [
    "We can also visualize pairs of variables quickly. The `pd.plotting.scatter_matrix()` function creates a matrix of plots: the diagonals contain histograms, and the off-diagonal plots are scatter plots."
   ]
  },
  {
   "cell_type": "code",
   "execution_count": null,
   "metadata": {},
   "outputs": [],
   "source": [
    "pd.plotting.scatter_matrix(df[['Parch','Age','Fare']],figsize=(8,8));"
   ]
  },
  {
   "cell_type": "markdown",
   "metadata": {},
   "source": [
    "###  Grouping\n",
    "\n",
    "[Video](https://ceu.cloud.panopto.eu/Panopto/Pages/Viewer.aspx?id=c74c32a0-0766-4867-90e7-ab8a00e52015)\n",
    "\n",
    "Pandas has powerful grouping methods that allows us to group entries based on a column value.\n",
    "\n",
    "For example, we can ask the question does the average survival rate depend on the passengers ticket class? For this we group passengers based on the colunm `Pclass`, this creates three groups. Then we calculate the average survival rate for each group separetly by calculating the mean of the `Survived` column. (Remeber this column is 1 if the passenger survived, 0 if they died; therefore the mean is the survival rate!)\n",
    "\n",
    "These steps are done easily with pandas:"
   ]
  },
  {
   "cell_type": "code",
   "execution_count": null,
   "metadata": {},
   "outputs": [],
   "source": [
    "df.groupby('Pclass')['Survived'].mean()"
   ]
  },
  {
   "cell_type": "markdown",
   "metadata": {},
   "source": [
    "### Exercise\n",
    "\n",
    "What about \"women and children first\"? Does sex correlates with survival rate? Calculate the average survival rate for men and women separately!\n",
    "\n",
    "<details><summary><u>Hint</u></summary>\n",
    "<p>\n",
    "\n",
    "Do the same thing as in the previous example, only this time group by `Sex` instead of `Pclass`.\n",
    "\n",
    "</p>\n",
    "</details>"
   ]
  },
  {
   "cell_type": "code",
   "execution_count": null,
   "metadata": {},
   "outputs": [],
   "source": []
  },
  {
   "cell_type": "markdown",
   "metadata": {},
   "source": [
    "<details><summary><u>Solution.</u></summary>\n",
    "<p>\n",
    "    \n",
    "```python\n",
    "df.groupby(['Sex'])['Survived'].mean()\n",
    "```\n",
    "    \n",
    "</p>\n",
    "</details>"
   ]
  },
  {
   "cell_type": "markdown",
   "metadata": {},
   "source": [
    "We can do even more refined grouping. Let's combine the two: groupby both class and sex, and calculate the survival rates."
   ]
  },
  {
   "cell_type": "code",
   "execution_count": null,
   "metadata": {},
   "outputs": [],
   "source": [
    "survived_by_class_and_sex = df.groupby(['Pclass','Sex'])['Survived'].mean()\n",
    "survived_by_class_and_sex"
   ]
  },
  {
   "cell_type": "markdown",
   "metadata": {},
   "source": [
    "Let's plot these survival rates!"
   ]
  },
  {
   "cell_type": "code",
   "execution_count": null,
   "metadata": {},
   "outputs": [],
   "source": [
    "survived_by_class_and_sex.unstack(1).plot(kind='bar', title='Survival Probability by Sex and Class');"
   ]
  },
  {
   "cell_type": "markdown",
   "metadata": {},
   "source": [
    "### Exercise\n",
    "\n",
    "In the previous example we used the `unstack()` method. What does this do to grouped data? Try `unstack(0)` and `unstack(1)` in the next cell, also try the plot without unsing `unstack()`. Explain what the the function does!\n",
    "\n",
    "<details><summary><u>Hint</u></summary>\n",
    "<p>\n",
    "\n",
    "In addition to trying out plots, print out `survived_by_class_and_sex`, `survived_by_class_and_sex.unstack(0)`, and `survived_by_class_and_sex.unstack(1)`. What is their type? What are the indices?\n",
    "\n",
    "</p>\n",
    "</details>"
   ]
  },
  {
   "cell_type": "code",
   "execution_count": null,
   "metadata": {},
   "outputs": [],
   "source": []
  },
  {
   "cell_type": "code",
   "execution_count": null,
   "metadata": {},
   "outputs": [],
   "source": []
  },
  {
   "cell_type": "markdown",
   "metadata": {},
   "source": [
    "<details><summary><u>Solution.</u></summary>\n",
    "<p>\n",
    "    \n",
    "The call `df.groupby(['Pclass','Sex'])['Survived'].mean()` returns a series object with (hierarchical indices)[https://pandas.pydata.org/pandas-docs/stable/user_guide/advanced.html], where `Pclass` is the level 0 index and `Sex` is the subindex at level 1. The method `unstack()` transforms the 1 dimensional series with hierarchical indices to a 2 dimensional data frame where the column names and row names are the two levels of indices.\n",
    "\n",
    "Try these lines in separate cells:\n",
    "\n",
    "```python\n",
    "survived_by_class_and_sex\n",
    "survived_by_class_and_sex.unstack(1).plot(kind='bar', title='Survival Probability by Sex and Class')\n",
    "survived_by_class_and_sex.unstack(1)\n",
    "```\n",
    "    \n",
    "</p>\n",
    "</details>"
   ]
  },
  {
   "cell_type": "markdown",
   "metadata": {},
   "source": [
    "### Subsetting\n",
    "\n",
    "Filtering the data based on some condition is also simple. If you remember, this is similar to using boolean masks in numpy.\n",
    "\n",
    "We can subset the data to only include passengers below 30:"
   ]
  },
  {
   "cell_type": "code",
   "execution_count": null,
   "metadata": {
    "scrolled": true
   },
   "outputs": [],
   "source": [
    "under_30=df[df['Age']<30]\n",
    "under_30.head()"
   ]
  },
  {
   "cell_type": "markdown",
   "metadata": {},
   "source": [
    "### Exercise\n",
    "\n",
    "Subset the data to only include passengers that payed less than average fare.\n",
    "\n",
    "<details><summary><u>Hint</u></summary>\n",
    "<p>\n",
    "\n",
    "Calculate the mean fare using `df['Fare'].mean()`.\n",
    "\n",
    "</p>\n",
    "</details>"
   ]
  },
  {
   "cell_type": "code",
   "execution_count": null,
   "metadata": {
    "scrolled": true
   },
   "outputs": [],
   "source": []
  },
  {
   "cell_type": "markdown",
   "metadata": {},
   "source": [
    "<details><summary><u>Solution.</u></summary>\n",
    "<p>\n",
    "    \n",
    "```python\n",
    "avg_fare = df['Fare'].mean()\n",
    "print(\"The average fare is\", round(avg_fare,3))\n",
    "below_average_fare = df[df['Fare']<avg_fare]\n",
    "below_average_fare.head()\n",
    "```\n",
    "    \n",
    "</p>\n",
    "</details>"
   ]
  },
  {
   "cell_type": "markdown",
   "metadata": {},
   "source": [
    "We can do more complicated filtering using logical operators. (Remember `&`=and and `|`=or)\n",
    "\n",
    "For example, to select the male passengers who got on the Titanic in France (Cherbourg is in France) we can write:"
   ]
  },
  {
   "cell_type": "code",
   "execution_count": null,
   "metadata": {
    "scrolled": true
   },
   "outputs": [],
   "source": [
    "males_from_france = df[(df['Embarked']=='C') & (df['Sex']=='male')]\n",
    "males_from_france.head()"
   ]
  },
  {
   "cell_type": "markdown",
   "metadata": {},
   "source": [
    "### Exercise\n",
    "\n",
    "Subset the data to include only passengers of unknown age and survived! Take a look at the `isnull()` method.\n",
    "\n",
    "<details><summary><u>Hint</u></summary>\n",
    "<p>\n",
    "\n",
    "To test if `Age` is `NaN`, write `df['Age'].isnull()`. You also have to check if `Survived` is equal to 1.\n",
    "\n",
    "</p>\n",
    "</details>"
   ]
  },
  {
   "cell_type": "code",
   "execution_count": null,
   "metadata": {
    "scrolled": true
   },
   "outputs": [],
   "source": []
  },
  {
   "cell_type": "markdown",
   "metadata": {},
   "source": [
    "<details><summary><u>Solution.</u></summary>\n",
    "<p>\n",
    "    \n",
    "```python\n",
    "survivors_unknown_age=df[df['Age'].isnull() & df['Survived']==1]\n",
    "survivors_unknown_age.head()\n",
    "```\n",
    "    \n",
    "</p>\n",
    "</details>"
   ]
  },
  {
   "cell_type": "markdown",
   "metadata": {},
   "source": [
    "### New columns\n",
    "\n",
    "We can also create new columns! Let's count the reverends on board.\n",
    "\n",
    "First we define a helper function that takes a name as input and returns 1 if they are a reverend and 0 if they are a layman. "
   ]
  },
  {
   "cell_type": "code",
   "execution_count": null,
   "metadata": {},
   "outputs": [],
   "source": [
    "def is_rev(input_name):\n",
    "    # they are a reverend if their name contains the 'Rev.' title\n",
    "    if 'Rev.' in input_name:\n",
    "        return 1  \n",
    "    else:\n",
    "        return 0"
   ]
  },
  {
   "cell_type": "markdown",
   "metadata": {},
   "source": [
    "To test the function, we can apply it elementwise to the `Name` column and count the number of reverends on board:"
   ]
  },
  {
   "cell_type": "code",
   "execution_count": null,
   "metadata": {},
   "outputs": [],
   "source": [
    "sum(df['Name'].apply(is_rev))"
   ]
  },
  {
   "cell_type": "markdown",
   "metadata": {},
   "source": [
    "To define a new column we can simply write:"
   ]
  },
  {
   "cell_type": "code",
   "execution_count": null,
   "metadata": {},
   "outputs": [],
   "source": [
    "df['is_reverend'] = df['Name'].apply(is_rev)\n",
    "\n",
    "#check the columns\n",
    "df.columns"
   ]
  },
  {
   "cell_type": "markdown",
   "metadata": {},
   "source": [
    "We can also use `apply()` for a function that that takes multiple columns as input. For example, we can count the number of revereneds that are older than 50: "
   ]
  },
  {
   "cell_type": "code",
   "execution_count": null,
   "metadata": {},
   "outputs": [],
   "source": [
    "sum(df.apply(lambda row: 1 if 'Rev.' in row['Name'] and row['Age']>50 else 0, axis=1))"
   ]
  },
  {
   "cell_type": "markdown",
   "metadata": {},
   "source": [
    "Note the attribute `axis=1`, this tells `apply()` to apply the function to each row, `axis=0` would apply it to each column."
   ]
  },
  {
   "cell_type": "markdown",
   "metadata": {},
   "source": [
    "## Exercises"
   ]
  },
  {
   "cell_type": "markdown",
   "metadata": {},
   "source": [
    "### Age histogram\n",
    "\n",
    "What is the distribution of ages? Plot the ages in a histogram.\n",
    "\n",
    "Advanced: try to combine the histogram with its kernel density estimate using `kind='kde'`.\n",
    "\n",
    "<details><summary><u>Hint</u></summary>\n",
    "<p>\n",
    "\n",
    "Scroll back to the first section, and check out how we plotted histograms for the actor ratings.\n",
    "\n",
    "Advanced:\n",
    "* Be sure to set `density=True` for the histogram, so that it matches with the kernel density estimate.\n",
    "* To plot both graphs on the same `axis` use the `ax` attribute.\n",
    "</p>\n",
    "</details>"
   ]
  },
  {
   "cell_type": "code",
   "execution_count": null,
   "metadata": {
    "scrolled": true
   },
   "outputs": [],
   "source": []
  },
  {
   "cell_type": "markdown",
   "metadata": {},
   "source": [
    "<details><summary><u>Solution.</u></summary>\n",
    "<p>\n",
    "    \n",
    "```python\n",
    "ax = df.plot(kind='hist',y='Age', alpha=.5, density=True);\n",
    "df.plot(kind='kde', y='Age', ax=ax);\n",
    "```\n",
    "    \n",
    "</p>\n",
    "</details>"
   ]
  },
  {
   "cell_type": "markdown",
   "metadata": {},
   "source": [
    "### New column\n",
    "\n",
    "Create one of the following new columns (or all of them if you would like to practice)\n",
    "- Add a new column, fancy_title, by writing a function that checks the passenger name for a fancy title like \"Master\" or \"Colonel\" or \"Count\".\n",
    "- Create a new column, family_on_board, by consider both the SibSp and Parch columns\n",
    "\n",
    "<details><summary><u>Hint</u></summary>\n",
    "<p>\n",
    "\n",
    "* Look at the example where we added a new column to indicate reverends, we have to do the same here only this time you have to check if any of the possible titles appear in the `Name` column.\n",
    "* For the second problem, you have to consider multiple columns, try using\n",
    "```python\n",
    "df.apply(some_function, axis=1)\n",
    "```\n",
    "\n",
    "</p>\n",
    "</details>"
   ]
  },
  {
   "cell_type": "code",
   "execution_count": null,
   "metadata": {},
   "outputs": [],
   "source": []
  },
  {
   "cell_type": "markdown",
   "metadata": {},
   "source": [
    "<details><summary><u>Solution.</u></summary>\n",
    "<p>\n",
    "    \n",
    "```python\n",
    "fancy_title = df['Name'].apply(lambda x: 1 if \"Master\" in x or \"Colonel\" in x or \"Count\" in x else 0)\n",
    "df['fancy_title'] = fancy_title\n",
    "\n",
    "family_on_board = df.apply(lambda x: 1 if x['SibSp']>0 or x['Parch']>0 else 0, axis=1)\n",
    "df['family_on_board']=family_on_board\n",
    "```\n",
    "    \n",
    "</p>\n",
    "</details>"
   ]
  },
  {
   "cell_type": "markdown",
   "metadata": {},
   "source": [
    "### Grouping\n",
    "\n",
    "Figure out how to group by multiple columns with multiple aggregation functions: i.e. use `groupby('Pclass')` and calculate the mean and variance of `Fare` and the count of `is_reverend`.\n",
    "\n",
    "\n",
    "<details><summary><u>Hint</u></summary>\n",
    "<p>\n",
    "    \n",
    "Look at the [documentation](https://pandas.pydata.org/pandas-docs/stable/reference/api/pandas.DataFrame.agg.html) of `agg()` or this [stackoverflow question](https://stackoverflow.com/questions/12589481/multiple-aggregations-of-the-same-column-using-pandas-groupby-agg).\n",
    "\n",
    "</p>\n",
    "</details>"
   ]
  },
  {
   "cell_type": "code",
   "execution_count": null,
   "metadata": {
    "scrolled": true
   },
   "outputs": [],
   "source": []
  },
  {
   "cell_type": "markdown",
   "metadata": {},
   "source": [
    "<details><summary><u>Solution.</u></summary>\n",
    "<p>\n",
    "    \n",
    "```python\n",
    "df.groupby(['Pclass'])[['Fare','is_reverend']].agg({'Fare':['mean','var'],'is_reverend':'sum'})\n",
    "```\n",
    "    \n",
    "</p>\n",
    "</details>"
   ]
  },
  {
   "cell_type": "markdown",
   "metadata": {},
   "source": [
    "### If you have time: Correlations\n",
    "Check out the documentation of the `corr()` method. Use it on the data and make some hypotheses: besides class and gender, what predicted survival? Plot the correlation between each column and `Survived` using a bar chart.\n",
    "\n",
    "<details><summary><u>Hint</u></summary>\n",
    "<p>\n",
    "\n",
    "The `df.corr()` function returns a symmetric dataframe, where the row and column names are the columns of `df`. To plot the correlation between `Survived` any every other column in `df`, just plot the `Survived` column of `df.corr()`.\n",
    "\n",
    "</p>\n",
    "</details>"
   ]
  },
  {
   "cell_type": "code",
   "execution_count": null,
   "metadata": {},
   "outputs": [],
   "source": []
  },
  {
   "cell_type": "markdown",
   "metadata": {},
   "source": [
    "<details><summary><u>Solution.</u></summary>\n",
    "<p>\n",
    "    \n",
    "```python\n",
    "corr_df = df.corr()\n",
    "#advanced: leave out 'Survived's correletion with itself\n",
    "corr_df[corr_df.index!=\"Survived\"].plot(kind='bar',y='Survived');\n",
    "corr_df\n",
    "```\n",
    "    \n",
    "</p>\n",
    "</details>"
   ]
  },
  {
   "cell_type": "markdown",
   "metadata": {},
   "source": [
    "### If you have time: Missing values and grouping\n",
    "\n",
    "Some ages are missing from the data. Are they missing at random.\n",
    "* Create a new colunm `unknown_age` that is `True` if the age is unknown and `False` if it is not missing.\n",
    "* Count the number of missing values in the `Age` column. \n",
    "* Count the probability that age is missing for different passenger classes `Pclass`\n",
    "* Fill in the missing values with an educated guess, set the age to be the average.\n",
    "\n",
    "Advanced: set the missing age to be the average of the passengers class.\n",
    "\n",
    "<details><summary><u>Hint</u></summary>\n",
    "<p>\n",
    "\n",
    "Scroll back almost to the begining of the notebook, where we made an educated guess for Mr. Bean's rating. \n",
    "\n",
    "</p>\n",
    "</details>"
   ]
  },
  {
   "cell_type": "code",
   "execution_count": null,
   "metadata": {},
   "outputs": [],
   "source": [
    "\n"
   ]
  },
  {
   "cell_type": "markdown",
   "metadata": {},
   "source": [
    "<details><summary><u>Solution.</u></summary>\n",
    "<p>\n",
    "    \n",
    "```python\n",
    "#count unknown age\n",
    "df['unknown_age']= df[\"Age\"].isnull()\n",
    "print(\"Number of passengers with unknown age:\", df['unknown_age'].sum() )\n",
    "\n",
    "#count the probability for each group\n",
    "print(df.groupby('Pclass')['unknown_age'].mean())\n",
    "\n",
    "#calculate average age\n",
    "avg_age = df['Age'].mean()\n",
    "print(avg_age)\n",
    "#fill NaNs with average\n",
    "df['Age'].fillna(avg_age)\n",
    "```\n",
    "    \n",
    "</p>\n",
    "</details>\n",
    "\n",
    "<details><summary><u>Solution advanced.</u></summary>\n",
    "<p>\n",
    "    \n",
    "```python\n",
    "\n",
    "#calculate average age in each class\n",
    "avg_age_by_pclass = df.groupby('Pclass')['Age'].mean()\n",
    "print(avg_age_by_pclass[1])\n",
    "\n",
    "#create a series with guessed age for each unknown\n",
    "age_guess = df[df['unknown_age']]['Pclass'].apply(lambda x: avg_age_by_pclass[x])\n",
    "#pass this series to the fillna() function\n",
    "df['Age'].fillna(age_guess)\n",
    "```\n",
    "    \n",
    "</p>\n",
    "</details>"
   ]
  },
  {
   "cell_type": "markdown",
   "metadata": {},
   "source": [
    "## Final exercise\n",
    "\n",
    "Pick **one** of the following problems and create a figure. Upload only a **single figure as a pdf** to Moodle, do not upload your code. Successfully completing this task counts as attendance.\n",
    "\n",
    "The lottery craze is sweaping the nation! Calculate some statistics from the historical winning numbers and prizes!\n",
    "Load the file `hun_lotto.csv` containing data of all draws of the Hungarian 5-out-of-90 lotto. Investigate the output of `df.head()`, what do the columns mean?\n",
    "\n",
    "Data concerning the prize and number of winners is missing before 1998 and substituted by 0. So for plots involving these fields, you should subset the data so only 1998 and the years after are included.\n",
    "\n",
    "1. The simplest option: plot a histogram of the number of winners with x matches where you select x.\n",
    "2. Plot the histogram of prize money for one of the winning categories (Prize_match_x).\n",
    "    * The prize money is stored as a string. Use `apply()` and string operations to convert it to a number.\n",
    "    * Plot the histogram.\n",
    "3. Which year was the most lucky?\n",
    "    * Use `groupby()` and `sum()` to calculate the total number of jackpots in each year\n",
    "    * Plot this using a bar chart.\n",
    "4. Do they cheat when drawing the numbers? Plot the histogram of winning numbers! This is a bit tricky:\n",
    "    * Select the last five columns, for example using `iloc[]` and slicing.\n",
    "    * Use `unstack()` to create a series that contains all winning numbers.\n",
    "    * Plot!\n",
    "5. Come up with an interesting plot yourself!\n",
    "6. Find an interesting csv file that you have **not** worked with before and plot something interesting!"
   ]
  }
 ],
 "metadata": {
  "anaconda-cloud": {},
  "kernelspec": {
   "display_name": "Python 3",
   "language": "python",
   "name": "python3"
  },
  "language_info": {
   "codemirror_mode": {
    "name": "ipython",
    "version": 3
   },
   "file_extension": ".py",
   "mimetype": "text/x-python",
   "name": "python",
   "nbconvert_exporter": "python",
   "pygments_lexer": "ipython3",
   "version": "3.7.4"
  }
 },
 "nbformat": 4,
 "nbformat_minor": 1
}
